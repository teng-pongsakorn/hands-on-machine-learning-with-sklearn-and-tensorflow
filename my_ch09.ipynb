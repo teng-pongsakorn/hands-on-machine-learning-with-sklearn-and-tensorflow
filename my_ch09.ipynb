{
 "cells": [
  {
   "cell_type": "code",
   "execution_count": 1,
   "metadata": {},
   "outputs": [],
   "source": [
    "import numpy as np\n",
    "import pandas as pd\n",
    "import matplotlib.pyplot as plt\n",
    "%matplotlib inline\n"
   ]
  },
  {
   "cell_type": "code",
   "execution_count": 2,
   "metadata": {},
   "outputs": [
    {
     "data": {
      "text/plain": [
       "'1.10.0-dev20180722'"
      ]
     },
     "execution_count": 2,
     "metadata": {},
     "output_type": "execute_result"
    }
   ],
   "source": [
    "import tensorflow as tf\n",
    "tf.__version__"
   ]
  },
  {
   "cell_type": "code",
   "execution_count": 3,
   "metadata": {},
   "outputs": [],
   "source": [
    "def reset_graph(seed=42):\n",
    "    tf.reset_default_graph()\n",
    "    tf.set_random_seed(seed)\n",
    "    np.random.seed(seed)"
   ]
  },
  {
   "cell_type": "markdown",
   "metadata": {},
   "source": [
    "#### Creating First Graph and Running it in a Session"
   ]
  },
  {
   "cell_type": "code",
   "execution_count": 9,
   "metadata": {},
   "outputs": [],
   "source": [
    "reset_graph()\n",
    "\n",
    "x = tf.Variable(3, name='x')\n",
    "y = tf.Variable(4, name='y')\n",
    "z = x*x*y + y + 2\n",
    "\n",
    "init = tf.global_variables_initializer()"
   ]
  },
  {
   "cell_type": "code",
   "execution_count": 10,
   "metadata": {},
   "outputs": [
    {
     "name": "stdout",
     "output_type": "stream",
     "text": [
      "42\n"
     ]
    }
   ],
   "source": [
    "with tf.Session() as sess:\n",
    "    sess.run(init)\n",
    "    print(z.eval())"
   ]
  },
  {
   "cell_type": "markdown",
   "metadata": {},
   "source": [
    "#### Linear regression with tensorflow"
   ]
  },
  {
   "cell_type": "code",
   "execution_count": 4,
   "metadata": {},
   "outputs": [],
   "source": [
    "from sklearn.datasets import fetch_california_housing\n",
    "from sklearn.preprocessing import StandardScaler"
   ]
  },
  {
   "cell_type": "code",
   "execution_count": 5,
   "metadata": {},
   "outputs": [
    {
     "data": {
      "text/plain": [
       "(20640, 8)"
      ]
     },
     "execution_count": 5,
     "metadata": {},
     "output_type": "execute_result"
    }
   ],
   "source": [
    "housing = fetch_california_housing()\n",
    "m, n = housing.data.shape\n",
    "\n",
    "sc = StandardScaler()\n",
    "scaled_housing_data = sc.fit_transform(housing.data)\n",
    "\n",
    "scaled_housing_plus_bias = np.c_[np.ones(m), scaled_housing_data]\n",
    "\n",
    "\n",
    "m, n"
   ]
  },
  {
   "cell_type": "code",
   "execution_count": 32,
   "metadata": {},
   "outputs": [],
   "source": [
    "reset_graph()\n",
    "\n",
    "\n",
    "X = tf.constant(np.c_[np.ones(m), housing.data], name='X', dtype=tf.float32)\n",
    "y = tf.constant(housing.target.reshape((-1, 1)), name='y', dtype=tf.float32)\n",
    "\n",
    "# theta = (XtX)^-1(Xt)(y)\n",
    "theta = tf.matmul(tf.matrix_inverse(tf.matmul(tf.transpose(X), X)), \n",
    "                  tf.matmul(tf.transpose(X), y))\n",
    "\n",
    "with tf.Session() as sess:\n",
    "    theta_value = theta.eval()"
   ]
  },
  {
   "cell_type": "code",
   "execution_count": 33,
   "metadata": {},
   "outputs": [
    {
     "data": {
      "text/plain": [
       "array([[-3.7214844e+01],\n",
       "       [ 4.3628693e-01],\n",
       "       [ 9.3908310e-03],\n",
       "       [-1.0707092e-01],\n",
       "       [ 6.4462280e-01],\n",
       "       [-4.0456653e-06],\n",
       "       [-3.7806034e-03],\n",
       "       [-4.2373657e-01],\n",
       "       [-4.3743896e-01]], dtype=float32)"
      ]
     },
     "execution_count": 33,
     "metadata": {},
     "output_type": "execute_result"
    }
   ],
   "source": [
    "theta_value"
   ]
  },
  {
   "cell_type": "markdown",
   "metadata": {},
   "source": [
    "#### Manually Computing the gradient"
   ]
  },
  {
   "cell_type": "code",
   "execution_count": 76,
   "metadata": {},
   "outputs": [
    {
     "name": "stdout",
     "output_type": "stream",
     "text": [
      "epoch 0: mse: 4.7122\n",
      "epoch 100: mse: 0.6957\n",
      "epoch 200: mse: 0.5984\n",
      "epoch 300: mse: 0.5782\n",
      "epoch 400: mse: 0.5647\n",
      "epoch 500: mse: 0.5547\n",
      "epoch 600: mse: 0.5473\n",
      "epoch 700: mse: 0.5417\n",
      "epoch 800: mse: 0.5376\n",
      "epoch 900: mse: 0.5345\n"
     ]
    }
   ],
   "source": [
    "n_epochs = 1000\n",
    "eta = .01\n",
    "\n",
    "reset_graph(77)\n",
    "\n",
    "\n",
    "X = tf.constant(scaled_housing_plus_bias, dtype=tf.float32, name='X')\n",
    "y = tf.constant(housing.target.reshape((-1, 1)), dtype=tf.float32, name='y')\n",
    "\n",
    "theta = tf.Variable(tf.random_uniform((n+1, 1), minval=-1, maxval=1, seed=42), name='theta')\n",
    "\n",
    "y_pred = tf.matmul(X, theta, name='predictions')\n",
    "\n",
    "error = y_pred - y\n",
    "\n",
    "mse = tf.reduce_mean(tf.square(error), name='mse')\n",
    "\n",
    "gradient = tf.matmul(tf.transpose(X), error) * 2/m\n",
    "\n",
    "train_op = tf.assign(theta, theta - eta*gradient)\n",
    "\n",
    "init = tf.global_variables_initializer()\n",
    "\n",
    "with tf.Session() as sess:\n",
    "    init.run()\n",
    "    \n",
    "    for i in range(n_epochs):        \n",
    "        if (i)%100==0:\n",
    "            print('epoch {}: mse: {:.4f}'.format(i, mse.eval()))\n",
    "        sess.run(train_op)\n",
    "\n",
    "    best_theta = theta.eval()"
   ]
  },
  {
   "cell_type": "code",
   "execution_count": 77,
   "metadata": {},
   "outputs": [
    {
     "data": {
      "text/plain": [
       "array([[ 2.06855226e+00],\n",
       "       [ 7.22149849e-01],\n",
       "       [ 1.24052376e-01],\n",
       "       [-1.48775494e-02],\n",
       "       [ 7.74962232e-02],\n",
       "       [-1.18005706e-03],\n",
       "       [-3.74831147e-02],\n",
       "       [-9.62158740e-01],\n",
       "       [-9.18003082e-01]], dtype=float32)"
      ]
     },
     "execution_count": 77,
     "metadata": {},
     "output_type": "execute_result"
    }
   ],
   "source": [
    "best_theta"
   ]
  },
  {
   "cell_type": "markdown",
   "metadata": {},
   "source": [
    "#### Using autodiff"
   ]
  },
  {
   "cell_type": "code",
   "execution_count": 78,
   "metadata": {},
   "outputs": [
    {
     "name": "stdout",
     "output_type": "stream",
     "text": [
      "epoch 0: mse: 9.1615\n",
      "epoch 100: mse: 0.7145\n",
      "epoch 200: mse: 0.5667\n",
      "epoch 300: mse: 0.5556\n",
      "epoch 400: mse: 0.5488\n",
      "epoch 500: mse: 0.5436\n",
      "epoch 600: mse: 0.5396\n",
      "epoch 700: mse: 0.5365\n",
      "epoch 800: mse: 0.5341\n",
      "epoch 900: mse: 0.5321\n"
     ]
    }
   ],
   "source": [
    "reset_graph()\n",
    "\n",
    "n_epochs = 1000\n",
    "eta = .01\n",
    "\n",
    "X = tf.constant(scaled_housing_plus_bias, dtype=tf.float32, name='X')\n",
    "y = tf.constant(housing.target.reshape((-1, 1)), dtype=tf.float32, name='y')\n",
    "\n",
    "theta = tf.Variable(tf.random_uniform((n+1, 1), -1., 1., seed=42), name='theta')\n",
    "\n",
    "y_pred = tf.matmul(X, theta, name='predictions')\n",
    "\n",
    "error = y_pred - y\n",
    "\n",
    "mse = tf.reduce_mean(tf.square(error), name='mse')\n",
    "\n",
    "gradient = tf.gradients(mse, [theta])[0]\n",
    "\n",
    "train_op = tf.assign(theta, theta - eta*gradient)\n",
    "\n",
    "init = tf.global_variables_initializer()\n",
    "\n",
    "with tf.Session() as sess:\n",
    "    init.run()\n",
    "    \n",
    "    for i in range(n_epochs):        \n",
    "        if (i)%100==0:\n",
    "            print('epoch {}: mse: {:.4f}'.format(i, mse.eval()))\n",
    "        sess.run(train_op)\n",
    "\n",
    "    best_theta = theta.eval()"
   ]
  },
  {
   "cell_type": "code",
   "execution_count": 79,
   "metadata": {},
   "outputs": [
    {
     "data": {
      "text/plain": [
       "array([[ 2.0685523 ],\n",
       "       [ 0.8874027 ],\n",
       "       [ 0.14401656],\n",
       "       [-0.3477088 ],\n",
       "       [ 0.36178365],\n",
       "       [ 0.00393811],\n",
       "       [-0.04269556],\n",
       "       [-0.66145283],\n",
       "       [-0.6375278 ]], dtype=float32)"
      ]
     },
     "execution_count": 79,
     "metadata": {},
     "output_type": "execute_result"
    }
   ],
   "source": [
    "best_theta"
   ]
  },
  {
   "cell_type": "markdown",
   "metadata": {},
   "source": [
    "#### using momentum optimizer"
   ]
  },
  {
   "cell_type": "code",
   "execution_count": 15,
   "metadata": {},
   "outputs": [
    {
     "name": "stdout",
     "output_type": "stream",
     "text": [
      "epoch 0: mse 12.4080\n",
      "epoch 100: mse 0.5252\n",
      "epoch 200: mse 0.5243\n",
      "epoch 300: mse 0.5243\n",
      "epoch 400: mse 0.5243\n",
      "epoch 500: mse 0.5243\n",
      "epoch 600: mse 0.5243\n",
      "epoch 700: mse 0.5243\n",
      "epoch 800: mse 0.5243\n",
      "epoch 900: mse 0.5243\n"
     ]
    }
   ],
   "source": [
    "n_epochs = 1000\n",
    "eta = .01\n",
    "\n",
    "reset_graph()\n",
    "\n",
    "X = tf.constant(scaled_housing_plus_bias, dtype='float32', name='X')\n",
    "y = tf.constant(housing.target.reshape((-1, 1)), dtype='float32', name='y')\n",
    "\n",
    "theta = tf.Variable(tf.random_uniform((n+1, 1), -1.0, 1.0), name='weights')\n",
    "\n",
    "y_pred = tf.matmul(X, theta, name='predictions')\n",
    "\n",
    "error = y_pred - y\n",
    "\n",
    "mse = tf.reduce_mean(tf.square(error), name='mse')\n",
    "\n",
    "optimizer = tf.train.MomentumOptimizer(learning_rate=eta, momentum=.9)\n",
    "\n",
    "training_op = optimizer.minimize(mse)\n",
    "\n",
    "init = tf.global_variables_initializer()\n",
    "\n",
    "with tf.Session() as sess:\n",
    "    sess.run(init)\n",
    "    \n",
    "    for i in range(n_epochs):\n",
    "        \n",
    "        if i%100 == 0:\n",
    "            print(\"epoch {}: mse {:.4f}\".format(i, sess.run(mse)))\n",
    "        sess.run(training_op)\n",
    "        \n",
    "    best_theta = sess.run(theta)"
   ]
  },
  {
   "cell_type": "code",
   "execution_count": 16,
   "metadata": {},
   "outputs": [
    {
     "data": {
      "text/plain": [
       "array([[ 2.068558  ],\n",
       "       [ 0.8296181 ],\n",
       "       [ 0.11875138],\n",
       "       [-0.26552483],\n",
       "       [ 0.30569458],\n",
       "       [-0.00450308],\n",
       "       [-0.03932621],\n",
       "       [-0.89988863],\n",
       "       [-0.87054384]], dtype=float32)"
      ]
     },
     "execution_count": 16,
     "metadata": {},
     "output_type": "execute_result"
    }
   ],
   "source": [
    "best_theta"
   ]
  },
  {
   "cell_type": "markdown",
   "metadata": {},
   "source": [
    "#### feeding data to the training process"
   ]
  },
  {
   "cell_type": "code",
   "execution_count": 60,
   "metadata": {},
   "outputs": [],
   "source": [
    "def fetch_batch(epoch, batch_idx, batch_size):\n",
    "    np.random.seed(epoch*n_batch + batch_idx)\n",
    "    idx = np.random.randint(0, m, size=batch_size)\n",
    "    return scaled_housing_plus_bias[idx], housing.target.reshape((-1, 1))[idx]\n",
    "\n",
    "\n"
   ]
  },
  {
   "cell_type": "code",
   "execution_count": 20,
   "metadata": {},
   "outputs": [
    {
     "name": "stdout",
     "output_type": "stream",
     "text": [
      "best theta:\n",
      "[[ 2.0550535 ]\n",
      " [ 0.827505  ]\n",
      " [ 0.12687908]\n",
      " [-0.248157  ]\n",
      " [ 0.3397136 ]\n",
      " [-0.00387797]\n",
      " [-0.04134053]\n",
      " [-0.8941899 ]\n",
      " [-0.87260014]]\n"
     ]
    }
   ],
   "source": [
    "reset_graph()\n",
    "\n",
    "n_epochs = 10\n",
    "eta = .01\n",
    "batch_size = 100\n",
    "n_batch = int(np.ceil(m/batch_size))\n",
    "\n",
    "X = tf.placeholder(dtype=tf.float32, shape=(None, n+1), name='X')\n",
    "y = tf.placeholder(dtype=tf.float32, shape=(None, 1), name='y')\n",
    "\n",
    "theta = tf.Variable(tf.random_uniform((n+1, 1), -1., 1.), name='theta')\n",
    "\n",
    "y_pred = tf.matmul(X, theta, name='prediction')\n",
    "error = y_pred - y\n",
    "mse = tf.reduce_mean(tf.square(error), name='mse')\n",
    "\n",
    "optim = tf.train.GradientDescentOptimizer(learning_rate=eta)\n",
    "\n",
    "train_op = optim.minimize(mse)\n",
    "\n",
    "init = tf.global_variables_initializer()\n",
    "\n",
    "with tf.Session() as sess:\n",
    "    sess.run(init)\n",
    "    for epoch in range(n_epochs):\n",
    "        for batch in range(n_batch):\n",
    "            X_batch, y_batch = fetch_batch(epoch, batch, batch_size)\n",
    "            sess.run(train_op, feed_dict={X:X_batch, y:y_batch})\n",
    "        best_theta = theta.eval()\n",
    "\n",
    "print('best theta:\\n{}'.format(best_theta))"
   ]
  },
  {
   "cell_type": "markdown",
   "metadata": {},
   "source": [
    "#### Saving and Restoring Models"
   ]
  },
  {
   "cell_type": "code",
   "execution_count": 27,
   "metadata": {},
   "outputs": [],
   "source": [
    "reset_graph()\n",
    "\n",
    "n_epochs = 1000\n",
    "eta = .01\n",
    "\n",
    "X = tf.constant(scaled_housing_plus_bias, dtype=tf.float32, name='X')\n",
    "y = tf.constant(housing.target.reshape((-1, 1)), dtype=tf.float32, name='y')\n",
    "\n",
    "theta = tf.Variable(tf.random_uniform((n+1, 1), -1., 1.), name='theta')\n",
    "\n",
    "y_pred = tf.matmul(X, theta, name='prediction')\n",
    "\n",
    "error = y_pred - y\n",
    "mse = tf.reduce_mean(tf.square(error), name='mse')\n",
    "\n",
    "optim = tf.train.GradientDescentOptimizer(eta)\n",
    "train_op = optim.minimize(mse)\n",
    "\n",
    "init = tf.global_variables_initializer()\n",
    "saver = tf.train.Saver()\n",
    "\n",
    "with tf.Session() as sess:\n",
    "    sess.run(init)\n",
    "    \n",
    "    for epoch in range(n_epochs):\n",
    "        if epoch % 100 == 0:\n",
    "            save_path = saver.save(sess, '/tmp/my_model.ckpt')\n",
    "        \n",
    "        sess.run(train_op)\n",
    "    \n",
    "    best_theta = theta.eval()\n",
    "    save_path = saver.save(sess, '/tmp/final_model.ckpt')"
   ]
  },
  {
   "cell_type": "code",
   "execution_count": 28,
   "metadata": {},
   "outputs": [
    {
     "data": {
      "text/plain": [
       "array([[ 2.0685523e+00],\n",
       "       [ 8.1063598e-01],\n",
       "       [ 1.2685774e-01],\n",
       "       [-2.0784084e-01],\n",
       "       [ 2.4839848e-01],\n",
       "       [-1.3083928e-03],\n",
       "       [-3.9607048e-02],\n",
       "       [-8.5861272e-01],\n",
       "       [-8.2600278e-01]], dtype=float32)"
      ]
     },
     "execution_count": 28,
     "metadata": {},
     "output_type": "execute_result"
    }
   ],
   "source": [
    "best_theta"
   ]
  },
  {
   "cell_type": "code",
   "execution_count": 47,
   "metadata": {},
   "outputs": [
    {
     "data": {
      "text/plain": [
       "'/tmp/final_model.ckpt'"
      ]
     },
     "execution_count": 47,
     "metadata": {},
     "output_type": "execute_result"
    }
   ],
   "source": [
    "save_path"
   ]
  },
  {
   "cell_type": "code",
   "execution_count": 29,
   "metadata": {},
   "outputs": [
    {
     "name": "stdout",
     "output_type": "stream",
     "text": [
      "INFO:tensorflow:Restoring parameters from /tmp/final_model.ckpt\n",
      "[[ 2.0685523e+00]\n",
      " [ 8.1063598e-01]\n",
      " [ 1.2685774e-01]\n",
      " [-2.0784084e-01]\n",
      " [ 2.4839848e-01]\n",
      " [-1.3083928e-03]\n",
      " [-3.9607048e-02]\n",
      " [-8.5861272e-01]\n",
      " [-8.2600278e-01]]\n"
     ]
    }
   ],
   "source": [
    "with tf.Session() as sess:\n",
    "    saver.restore(sess, save_path)\n",
    "    \n",
    "    theta_save = sess.run(theta)\n",
    "    \n",
    "print(theta_save)"
   ]
  },
  {
   "cell_type": "code",
   "execution_count": 46,
   "metadata": {},
   "outputs": [
    {
     "name": "stdout",
     "output_type": "stream",
     "text": [
      "INFO:tensorflow:Restoring parameters from /tmp/final_model.ckpt\n",
      "[[ 2.0685523e+00]\n",
      " [ 8.1063598e-01]\n",
      " [ 1.2685774e-01]\n",
      " [-2.0784084e-01]\n",
      " [ 2.4839848e-01]\n",
      " [-1.3083928e-03]\n",
      " [-3.9607048e-02]\n",
      " [-8.5861272e-01]\n",
      " [-8.2600278e-01]]\n"
     ]
    }
   ],
   "source": [
    "reset_graph()\n",
    "\n",
    "# reconstruct the graph\n",
    "saver = tf.train.import_meta_graph(save_path + '.meta')\n",
    "\n",
    "g = tf.get_default_graph()\n",
    "theta = g.get_tensor_by_name('theta:0')\n",
    "\n",
    "with tf.Session() as sess:\n",
    "    # restore variable state\n",
    "    saver.restore(sess, save_path)\n",
    "    \n",
    "    print(theta.eval())"
   ]
  },
  {
   "cell_type": "markdown",
   "metadata": {},
   "source": [
    "#### Using TensorBoard"
   ]
  },
  {
   "cell_type": "code",
   "execution_count": 48,
   "metadata": {},
   "outputs": [],
   "source": [
    "# always use new log directory for different model\n",
    "from datetime import datetime"
   ]
  },
  {
   "cell_type": "code",
   "execution_count": 61,
   "metadata": {},
   "outputs": [
    {
     "name": "stdout",
     "output_type": "stream",
     "text": [
      "tf_logs/run-20180805075131/\n"
     ]
    }
   ],
   "source": [
    "now = datetime.utcnow().strftime('%Y%m%d%H%M%S')\n",
    "root_logdir = 'tf_logs'\n",
    "logdir = \"{}/run-{}/\".format(root_logdir, now)\n",
    "\n",
    "print(logdir)\n",
    "\n",
    "n_epochs = 1000\n",
    "eta = .01\n",
    "batch_size = 100\n",
    "n_batch = int(np.ceil(m/batch_size))\n",
    "\n",
    "reset_graph()\n",
    "\n",
    "g = tf.Graph()\n",
    "with g.as_default():\n",
    "\n",
    "    X = tf.placeholder(shape=(None, n+1), dtype=tf.float32, name='X')\n",
    "    y = tf.placeholder(shape=(None, 1), dtype=tf.float32, name='y')\n",
    "\n",
    "    theta = tf.Variable(tf.random_uniform((n+1, 1), -1., 1.), name='theta')\n",
    "\n",
    "    y_pred = tf.matmul(X, theta, name='prediction')\n",
    "\n",
    "    error = y_pred - y\n",
    "    mse = tf.reduce_mean(tf.square(error), name='mse')\n",
    "\n",
    "    optim = tf.train.GradientDescentOptimizer(eta)\n",
    "    train_op = optim.minimize(mse)\n",
    "\n",
    "    init = tf.global_variables_initializer()\n",
    "    saver = tf.train.Saver()\n",
    "    \n",
    "    # for recording training progression\n",
    "    mse_summary = tf.summary.scalar('MSE', mse)\n",
    "    file_writer = tf.summary.FileWriter(logdir, graph=g)\n",
    "    "
   ]
  },
  {
   "cell_type": "code",
   "execution_count": 62,
   "metadata": {},
   "outputs": [],
   "source": [
    "with tf.Session(graph=g) as sess:\n",
    "    sess.run(init)\n",
    "    \n",
    "    for epoch in range(n_epochs):\n",
    "        for batch_idx in range(n_batch):\n",
    "            X_batch, y_batch = fetch_batch(epoch, batch_idx, batch_size)\n",
    "            \n",
    "            if batch_idx % 10 == 0:\n",
    "                summary_str = mse_summary.eval(feed_dict={X:X_batch, y:y_batch})\n",
    "                step = epoch*n_batch + batch_idx\n",
    "                file_writer.add_summary(summary_str, step)\n",
    "            \n",
    "            sess.run(train_op, feed_dict={X:X_batch, y:y_batch})\n",
    "            \n",
    "    best_theta = theta.eval()\n",
    "    \n",
    "    \n",
    "file_writer.close()"
   ]
  },
  {
   "cell_type": "code",
   "execution_count": null,
   "metadata": {},
   "outputs": [],
   "source": [
    "# activate deep_learning env\n",
    "# go to directory that has logdir folder\n",
    "# run python -m tensorboard.main --logdir=\"{logdir_name}\""
   ]
  },
  {
   "cell_type": "markdown",
   "metadata": {},
   "source": [
    "#### Name Scopes"
   ]
  },
  {
   "cell_type": "code",
   "execution_count": 67,
   "metadata": {},
   "outputs": [],
   "source": [
    "# to group related nodes under the same name scope\n",
    "eta = .01\n",
    "n_epochs = 10\n",
    "batch_size = 100\n",
    "n_batch = int(np.ceil(m/batch_size))\n",
    "\n",
    "now = datetime.utcnow().strftime(\"%Y%m%d%H%M%S\")\n",
    "logdir = \"{}/{}/\".format(root_logdir, now)\n",
    "\n",
    "reset_graph()\n",
    "\n",
    "g = tf.Graph()\n",
    "with g.as_default():\n",
    "    \n",
    "    X = tf.placeholder(shape=(None, n+1), dtype=tf.float32, name='X')\n",
    "    y = tf.placeholder(shape=(None, 1), dtype=tf.float32, name='y')\n",
    "    \n",
    "    theta = tf.Variable(tf.random_uniform((n+1, 1), -1., 1.), name='theta')\n",
    "    \n",
    "    y_pred = tf.matmul(X, theta, name='prediction')\n",
    "    \n",
    "    with tf.name_scope('loss') as scope:\n",
    "        error = y_pred - y\n",
    "        mse = tf.reduce_mean(tf.square(error), name='mse')\n",
    "        \n",
    "    optim = tf.train.GradientDescentOptimizer(eta)\n",
    "    train_op = optim.minimize(mse)\n",
    "    \n",
    "    init = tf.global_variables_initializer()\n",
    "    \n",
    "    mse_summary = tf.summary.scalar('MSE', mse)\n",
    "    file_writer = tf.summary.FileWriter(logdir, graph=g)\n",
    "    \n",
    "    \n",
    "    \n",
    "with tf.Session(graph=g) as sess:\n",
    "    sess.run(init)\n",
    "    \n",
    "    for epoch in range(n_epochs):\n",
    "        for batch_idx in range(n_batch):\n",
    "            x_batch, y_batch = fetch_batch(epoch, batch_idx, batch_size)\n",
    "            \n",
    "            if batch_idx%10==0:\n",
    "                summary_str = mse_summary.eval(feed_dict={X:x_batch, y:y_batch})\n",
    "                step = epoch*n_batch + batch_idx\n",
    "                file_writer.add_summary(summary_str, step)\n",
    "            \n",
    "            sess.run(train_op, feed_dict={X:x_batch, y:y_batch})\n",
    "            \n",
    "    best_theta = theta.eval()\n",
    "    \n",
    "file_writer.close()"
   ]
  },
  {
   "cell_type": "code",
   "execution_count": 69,
   "metadata": {},
   "outputs": [
    {
     "data": {
      "text/plain": [
       "'tf_logs/20180805083621/'"
      ]
     },
     "execution_count": 69,
     "metadata": {},
     "output_type": "execute_result"
    }
   ],
   "source": [
    "logdir"
   ]
  },
  {
   "cell_type": "code",
   "execution_count": 68,
   "metadata": {},
   "outputs": [
    {
     "data": {
      "text/plain": [
       "array([[ 2.0702631 ],\n",
       "       [ 0.851317  ],\n",
       "       [ 0.12008709],\n",
       "       [-0.28977212],\n",
       "       [ 0.36668813],\n",
       "       [ 0.00371597],\n",
       "       [-0.01169568],\n",
       "       [-0.8651085 ],\n",
       "       [-0.8327053 ]], dtype=float32)"
      ]
     },
     "execution_count": 68,
     "metadata": {},
     "output_type": "execute_result"
    }
   ],
   "source": [
    "best_theta"
   ]
  },
  {
   "cell_type": "code",
   "execution_count": 74,
   "metadata": {},
   "outputs": [
    {
     "data": {
      "text/plain": [
       "('loss/sub', 'loss/mse')"
      ]
     },
     "execution_count": 74,
     "metadata": {},
     "output_type": "execute_result"
    }
   ],
   "source": [
    "error.op.name, mse.op.name"
   ]
  },
  {
   "cell_type": "code",
   "execution_count": 71,
   "metadata": {},
   "outputs": [
    {
     "data": {
      "text/plain": [
       "'theta'"
      ]
     },
     "execution_count": 71,
     "metadata": {},
     "output_type": "execute_result"
    }
   ],
   "source": [
    "theta.op.name"
   ]
  },
  {
   "cell_type": "markdown",
   "metadata": {},
   "source": [
    "#### Modularity"
   ]
  },
  {
   "cell_type": "code",
   "execution_count": 88,
   "metadata": {},
   "outputs": [],
   "source": [
    "reset_graph()\n",
    "\n",
    "\n",
    "def relu(X):\n",
    "    with tf.name_scope('relu'):\n",
    "        w_shape = int(X.get_shape()[1]), 1\n",
    "        w = tf.Variable(tf.random_uniform(w_shape, -1., 1.), dtype=tf.float32, name='weights')\n",
    "        b = tf.Variable(0, name='bias', dtype=tf.float32)\n",
    "        z = tf.add(tf.matmul(X, w), b, name='z')\n",
    "        return tf.maximum(z, 0, name='relu')"
   ]
  },
  {
   "cell_type": "code",
   "execution_count": 89,
   "metadata": {},
   "outputs": [],
   "source": [
    "reset_graph()\n",
    "\n",
    "X = tf.placeholder(shape=(None, 3), dtype=tf.float32, name='X')\n",
    "relus = [relu(X) for _ in range(5)]\n",
    "output = tf.add_n(relus, name='output')\n",
    "\n",
    "file_writer = tf.summary.FileWriter('tf_logs/5relus/', graph=tf.get_default_graph())\n",
    "file_writer.close()"
   ]
  },
  {
   "cell_type": "code",
   "execution_count": 94,
   "metadata": {},
   "outputs": [],
   "source": [
    "reset_graph()\n",
    "\n",
    "def relu2(X):\n",
    "    with tf.variable_scope('relu', reuse=True):\n",
    "        threshold = tf.get_variable('threshold', shape=(), \n",
    "                                    initializer=tf.constant_initializer(0.0))\n",
    "        w_shape = int(X.get_shape()[1]), 1\n",
    "        w = tf.Variable(tf.random_uniform(w_shape, -1., 1.), name='weights')\n",
    "        b = tf.Variable(0, name='bias', dtype=tf.float32)\n",
    "        z = tf.add(tf.matmul(X, w), b, name='z')\n",
    "        return tf.maximum(z, threshold, name='relu')"
   ]
  },
  {
   "cell_type": "code",
   "execution_count": 96,
   "metadata": {},
   "outputs": [],
   "source": [
    "reset_graph()\n",
    "with tf.variable_scope('relu'):\n",
    "    threshold = tf.get_variable('threshold', shape=(), \n",
    "                                initializer=tf.constant_initializer(0.0))\n",
    "\n",
    "X = tf.placeholder(dtype=tf.float32, shape=(None, 3), name='X')\n",
    "relus = [relu2(X) for _ in range(5)]\n",
    "output = tf.add_n(relus, name='output')\n",
    "\n",
    "\n",
    "file_writer = tf.summary.FileWriter('tf_logs/relu2/', graph=tf.get_default_graph())\n",
    "file_writer.close()"
   ]
  },
  {
   "cell_type": "code",
   "execution_count": 99,
   "metadata": {},
   "outputs": [],
   "source": [
    "reset_graph()\n",
    "\n",
    "def relu3(X):\n",
    "    threshold = tf.get_variable('threshold', shape=(), \n",
    "                                initializer=tf.constant_initializer(0.0))\n",
    "    w_shape = int(X.get_shape()[1]), 1\n",
    "    w = tf.Variable(tf.random_uniform(w_shape, -1., 1.), name='weights')\n",
    "    b = tf.Variable(0.0, dtype=tf.float32, name='bias')\n",
    "    z = tf.add(tf.matmul(X, w), b, name='z')\n",
    "    return tf.maximum(z, threshold, name='relu')\n",
    "\n",
    "\n",
    "X = tf.placeholder(dtype=tf.float32, shape=(None, 3), name='X')\n",
    "relus = []\n",
    "for i in range(5):\n",
    "    with tf.variable_scope('relu', reuse=i>0):\n",
    "        relus.append(relu3(X))\n",
    "output = tf.add_n(relus, name='output')\n",
    "\n",
    "file_writer = tf.summary.FileWriter('tf_logs/relu3/', tf.get_default_graph())\n",
    "file_writer.close()"
   ]
  },
  {
   "cell_type": "code",
   "execution_count": null,
   "metadata": {},
   "outputs": [],
   "source": []
  },
  {
   "cell_type": "markdown",
   "metadata": {},
   "source": [
    "#### toy graph: forward-mode autodiff"
   ]
  },
  {
   "cell_type": "code",
   "execution_count": 114,
   "metadata": {},
   "outputs": [],
   "source": [
    "\n",
    "class Const:\n",
    "    def __init__(self, value):\n",
    "        self.value = value\n",
    "        \n",
    "    def evaluate(self):\n",
    "        return self.value\n",
    "    \n",
    "    def __str__(self):\n",
    "        return str(self.value)\n",
    "    \n",
    "    def gradients(self, var):\n",
    "        return Const(0)\n",
    "\n",
    "class Var:\n",
    "    def __init__(self, name, init_value=0.0):\n",
    "        self.name = name\n",
    "        self.value = init_value\n",
    "        \n",
    "    def evaluate(self):\n",
    "        return self.value\n",
    "    \n",
    "    def __str__(self):\n",
    "        return str(self.name)\n",
    "    \n",
    "    def gradients(self, var):\n",
    "        if self is var:\n",
    "            return Const(1)\n",
    "        else:\n",
    "            return Const(0)\n",
    "    \n",
    "    \n",
    "class BinaryOp:\n",
    "    def __init__(self, a, b):\n",
    "        self.a = a\n",
    "        self.b = b\n",
    "\n",
    "class Add(BinaryOp):\n",
    "    \n",
    "    def evaluate(self):\n",
    "        return self.a.evaluate() + self.b.evaluate()\n",
    "    \n",
    "    def gradients(self, var):\n",
    "        return Add(self.a.gradients(var), self.b.gradients(var))\n",
    "    \n",
    "    def __str__(self):\n",
    "        return \"{} + {}\".format(self.a, self.b)\n",
    "\n",
    "class Mul(BinaryOp):\n",
    "    \n",
    "    def evaluate(self):\n",
    "        return self.a.evaluate() * self.b.evaluate()\n",
    "    \n",
    "    def gradients(self, var):\n",
    "        return Add(Mul(self.b, self.a.gradients(var)), Mul(self.a, self.b.gradients(var)))\n",
    "    \n",
    "    def __str__(self):\n",
    "        return \"{} * {}\".format(self.a, self.b)"
   ]
  },
  {
   "cell_type": "code",
   "execution_count": 115,
   "metadata": {},
   "outputs": [],
   "source": [
    "# f:x^2*y + y + 2\n",
    "# x=3, y=4\n",
    "\n",
    "x = Var('x', init_value=3.0)\n",
    "y = Var('y', init_value=4.0)\n",
    "f = Add(Mul(x, Mul(x, y)), Add(y, Const(2.0)))"
   ]
  },
  {
   "cell_type": "code",
   "execution_count": 117,
   "metadata": {},
   "outputs": [
    {
     "data": {
      "text/plain": [
       "'x * x * y + y + 2.0'"
      ]
     },
     "execution_count": 117,
     "metadata": {},
     "output_type": "execute_result"
    }
   ],
   "source": [
    "str(f)"
   ]
  },
  {
   "cell_type": "code",
   "execution_count": 118,
   "metadata": {},
   "outputs": [],
   "source": [
    "dfdx = f.gradients(x)\n",
    "dfdy = f.gradients(y)"
   ]
  },
  {
   "cell_type": "code",
   "execution_count": 120,
   "metadata": {},
   "outputs": [
    {
     "data": {
      "text/plain": [
       "(24.0, 10.0)"
      ]
     },
     "execution_count": 120,
     "metadata": {},
     "output_type": "execute_result"
    }
   ],
   "source": [
    "dfdx.evaluate(), dfdy.evaluate()"
   ]
  },
  {
   "cell_type": "code",
   "execution_count": 121,
   "metadata": {},
   "outputs": [],
   "source": [
    "d2fdxdx = dfdx.gradients(x)\n",
    "d2fdxdy = dfdx.gradients(y)\n",
    "d2fdydx = dfdy.gradients(x)\n",
    "d2fdydy = dfdy.gradients(y)"
   ]
  },
  {
   "cell_type": "code",
   "execution_count": 123,
   "metadata": {},
   "outputs": [
    {
     "data": {
      "text/plain": [
       "(8.0, 6.0)"
      ]
     },
     "execution_count": 123,
     "metadata": {},
     "output_type": "execute_result"
    }
   ],
   "source": [
    "d2fdxdx.evaluate(), d2fdxdy.evaluate()"
   ]
  },
  {
   "cell_type": "code",
   "execution_count": 124,
   "metadata": {},
   "outputs": [
    {
     "data": {
      "text/plain": [
       "(6.0, 0.0)"
      ]
     },
     "execution_count": 124,
     "metadata": {},
     "output_type": "execute_result"
    }
   ],
   "source": [
    "d2fdydx.evaluate(), d2fdydy.evaluate()"
   ]
  },
  {
   "cell_type": "code",
   "execution_count": 132,
   "metadata": {},
   "outputs": [],
   "source": [
    "class DualNumber:\n",
    "    \n",
    "    def __init__(self, value=0.0, eps=0.0):\n",
    "        self.value = value\n",
    "        self.eps = eps\n",
    "        \n",
    "    def __add__(self, other):\n",
    "        return DualNumber(self.value + self.to_dual(other).value,\n",
    "                          self.eps + self.to_dual(other).eps)\n",
    "    \n",
    "    def __radd__(self, other):\n",
    "        return self.to_dual(other).__add__(self)\n",
    "    \n",
    "    def __mul__(self, other):\n",
    "        return DualNumber(self.value * self.to_dual(other).value,\n",
    "                          self.value*self.to_dual(other).eps + self.eps*self.to_dual(other).value)\n",
    "    \n",
    "    def __rmul__(self, other):\n",
    "        return self.to_dual(other).__mul__(self)\n",
    "        \n",
    "    def __str__(self):\n",
    "        if self.eps:\n",
    "            return \"{:.1f} + {:.1f}ε\".format(self.value, self.eps)\n",
    "        else:\n",
    "            return \"{:.1f}\".format(self.value)\n",
    "        \n",
    "    def __repr__(self):\n",
    "        return str(self)\n",
    "    \n",
    "    @classmethod\n",
    "    def to_dual(cls, number):\n",
    "        if isinstance(number, cls):\n",
    "            return number\n",
    "        else:\n",
    "            return cls(number)"
   ]
  },
  {
   "cell_type": "code",
   "execution_count": 133,
   "metadata": {},
   "outputs": [],
   "source": [
    "d = DualNumber()\n",
    "e = DualNumber(1, 2)\n",
    "g = DualNumber(2, 2)"
   ]
  },
  {
   "cell_type": "code",
   "execution_count": 127,
   "metadata": {},
   "outputs": [
    {
     "data": {
      "text/plain": [
       "0.0"
      ]
     },
     "execution_count": 127,
     "metadata": {},
     "output_type": "execute_result"
    }
   ],
   "source": [
    "d"
   ]
  },
  {
   "cell_type": "code",
   "execution_count": 130,
   "metadata": {},
   "outputs": [
    {
     "data": {
      "text/plain": [
       "(1.0 + 2.0ε, 2.0 + 2.0ε)"
      ]
     },
     "execution_count": 130,
     "metadata": {},
     "output_type": "execute_result"
    }
   ],
   "source": [
    "e, g"
   ]
  },
  {
   "cell_type": "code",
   "execution_count": 134,
   "metadata": {},
   "outputs": [
    {
     "data": {
      "text/plain": [
       "1.0 + 2.0ε"
      ]
     },
     "execution_count": 134,
     "metadata": {},
     "output_type": "execute_result"
    }
   ],
   "source": [
    "d + e"
   ]
  },
  {
   "cell_type": "code",
   "execution_count": 135,
   "metadata": {},
   "outputs": [
    {
     "data": {
      "text/plain": [
       "0.0"
      ]
     },
     "execution_count": 135,
     "metadata": {},
     "output_type": "execute_result"
    }
   ],
   "source": [
    "d * e"
   ]
  },
  {
   "cell_type": "code",
   "execution_count": 142,
   "metadata": {},
   "outputs": [
    {
     "data": {
      "text/plain": [
       "(1.0 + 2.0ε, 1.0 + 2.0ε)"
      ]
     },
     "execution_count": 142,
     "metadata": {},
     "output_type": "execute_result"
    }
   ],
   "source": [
    "e * 1, 1*e"
   ]
  },
  {
   "cell_type": "code",
   "execution_count": 141,
   "metadata": {},
   "outputs": [
    {
     "data": {
      "text/plain": [
       "(2.0 + 2.0ε, 2.0 + 2.0ε)"
      ]
     },
     "execution_count": 141,
     "metadata": {},
     "output_type": "execute_result"
    }
   ],
   "source": [
    "e + 1, 1 + e"
   ]
  },
  {
   "cell_type": "code",
   "execution_count": 138,
   "metadata": {},
   "outputs": [
    {
     "data": {
      "text/plain": [
       "3.0 + 4.0ε"
      ]
     },
     "execution_count": 138,
     "metadata": {},
     "output_type": "execute_result"
    }
   ],
   "source": [
    "e + g"
   ]
  },
  {
   "cell_type": "code",
   "execution_count": 139,
   "metadata": {},
   "outputs": [
    {
     "data": {
      "text/plain": [
       "2.0 + 6.0ε"
      ]
     },
     "execution_count": 139,
     "metadata": {},
     "output_type": "execute_result"
    }
   ],
   "source": [
    "e * g"
   ]
  },
  {
   "cell_type": "code",
   "execution_count": 140,
   "metadata": {},
   "outputs": [
    {
     "data": {
      "text/plain": [
       "2.0 + 2.0ε"
      ]
     },
     "execution_count": 140,
     "metadata": {},
     "output_type": "execute_result"
    }
   ],
   "source": [
    "1 + e"
   ]
  },
  {
   "cell_type": "code",
   "execution_count": 144,
   "metadata": {},
   "outputs": [
    {
     "data": {
      "text/plain": [
       "42.0"
      ]
     },
     "execution_count": 144,
     "metadata": {},
     "output_type": "execute_result"
    }
   ],
   "source": [
    "x.value = DualNumber(3.0)\n",
    "y.value = DualNumber(4.0)\n",
    "\n",
    "f.evaluate()"
   ]
  },
  {
   "cell_type": "code",
   "execution_count": 145,
   "metadata": {},
   "outputs": [
    {
     "data": {
      "text/plain": [
       "24.0"
      ]
     },
     "execution_count": 145,
     "metadata": {},
     "output_type": "execute_result"
    }
   ],
   "source": [
    "x.value = DualNumber(3.0, 1.0)\n",
    "f.evaluate().eps    # dfdx"
   ]
  },
  {
   "cell_type": "code",
   "execution_count": 146,
   "metadata": {},
   "outputs": [
    {
     "data": {
      "text/plain": [
       "10.0"
      ]
     },
     "execution_count": 146,
     "metadata": {},
     "output_type": "execute_result"
    }
   ],
   "source": [
    "x.value = DualNumber(3.0)\n",
    "y.value = DualNumber(4.0, 1.0)\n",
    "f.evaluate().eps    # dfdy"
   ]
  },
  {
   "cell_type": "code",
   "execution_count": 167,
   "metadata": {},
   "outputs": [],
   "source": [
    "class Const:\n",
    "    def __init__(self, value):\n",
    "        self.value = value\n",
    "        \n",
    "    def evaluate(self):\n",
    "        return self.value\n",
    "    \n",
    "    def backpropagation(self, gradient):\n",
    "        return None\n",
    "    \n",
    "    def __str__(self):\n",
    "        return str(self.value)\n",
    "    \n",
    "    \n",
    "class Var:\n",
    "    def __init__(self, name, value=0):\n",
    "        self.name = name\n",
    "        self.value = value\n",
    "        self.gradient = 0\n",
    "        \n",
    "    def evaluate(self):\n",
    "        return self.value\n",
    "    \n",
    "    def backpropagation(self, gradient):\n",
    "        self.gradient += gradient\n",
    "        \n",
    "    def __str__(self):\n",
    "        return self.name\n",
    "    \n",
    "\n",
    "class BinaryOperation:\n",
    "    def __init__(self, a, b):\n",
    "        self.a = a\n",
    "        self.b = b\n",
    "        \n",
    "class Add(BinaryOperation):\n",
    "    \n",
    "    def evaluate(self):\n",
    "        self.value = self.a.evaluate() + self.b.evaluate()\n",
    "        return self.value\n",
    "        \n",
    "    def backpropagation(self, gradient):\n",
    "        self.a.backpropagation(gradient)\n",
    "        self.b.backpropagation(gradient)\n",
    "        \n",
    "    def __str__(self):\n",
    "        return \"{} + {}\".format(str(self.a), str(self.b))\n",
    "    \n",
    "class Mul(BinaryOperation):\n",
    "    def evaluate(self):\n",
    "        self.value = self.a.evaluate() * self.b.evaluate()\n",
    "        return self.value\n",
    "    \n",
    "    def backpropagation(self, gradient):\n",
    "        self.a.backpropagation(gradient*self.b.value)\n",
    "        self.b.backpropagation(gradient*self.a.value)\n",
    "        \n",
    "    def __str__(self):\n",
    "        return \"({}) * ({})\".format(str(self.a), str(self.b))"
   ]
  },
  {
   "cell_type": "code",
   "execution_count": 168,
   "metadata": {},
   "outputs": [
    {
     "data": {
      "text/plain": [
       "42"
      ]
     },
     "execution_count": 168,
     "metadata": {},
     "output_type": "execute_result"
    }
   ],
   "source": [
    "x = Var(\"x\", value=3)\n",
    "y = Var(\"y\", value=4)\n",
    "f = Add(Mul(Mul(x, x), y), Add(y, Const(2))) # f(x,y) = x²y + y + 2\n",
    "\n",
    "result = f.evaluate()\n",
    "result"
   ]
  },
  {
   "cell_type": "code",
   "execution_count": 169,
   "metadata": {},
   "outputs": [
    {
     "data": {
      "text/plain": [
       "'((x) * (x)) * (y) + y + 2'"
      ]
     },
     "execution_count": 169,
     "metadata": {},
     "output_type": "execute_result"
    }
   ],
   "source": [
    "str(f)"
   ]
  },
  {
   "cell_type": "code",
   "execution_count": 164,
   "metadata": {},
   "outputs": [],
   "source": [
    "f.backpropagation(1.0)"
   ]
  },
  {
   "cell_type": "code",
   "execution_count": 165,
   "metadata": {},
   "outputs": [
    {
     "data": {
      "text/plain": [
       "(24.0, 10.0)"
      ]
     },
     "execution_count": 165,
     "metadata": {},
     "output_type": "execute_result"
    }
   ],
   "source": [
    "x.gradient, y.gradient"
   ]
  },
  {
   "cell_type": "markdown",
   "metadata": {},
   "source": [
    "#### Ex.12\n",
    "#### 12. Logistic Regression with Mini-Batch Gradient Descent using TensorFlow"
   ]
  },
  {
   "cell_type": "code",
   "execution_count": 170,
   "metadata": {},
   "outputs": [],
   "source": [
    "from sklearn.datasets import make_moons"
   ]
  },
  {
   "cell_type": "code",
   "execution_count": 175,
   "metadata": {},
   "outputs": [],
   "source": [
    "m = 1000\n",
    "X_moon, y_moon = make_moons(n_samples=m, noise=.1, random_state=42)"
   ]
  },
  {
   "cell_type": "code",
   "execution_count": 176,
   "metadata": {},
   "outputs": [
    {
     "data": {
      "text/plain": [
       "<matplotlib.collections.PathCollection at 0x13694df7dd8>"
      ]
     },
     "execution_count": 176,
     "metadata": {},
     "output_type": "execute_result"
    },
    {
     "data": {
      "image/png": "[encoded data removed]",
      "text/plain": [
       "<Figure size 432x288 with 1 Axes>"
      ]
     },
     "metadata": {},
     "output_type": "display_data"
    }
   ],
   "source": [
    "plt.scatter(X_moon[:, 0], X_moon[:, 1], c=y_moon)"
   ]
  },
  {
   "cell_type": "code",
   "execution_count": 183,
   "metadata": {},
   "outputs": [
    {
     "data": {
      "text/plain": [
       "((1000, 3), (1000, 1))"
      ]
     },
     "execution_count": 183,
     "metadata": {},
     "output_type": "execute_result"
    }
   ],
   "source": [
    "X_moon_with_bias = np.c_[np.ones(len(X_moon)), X_moon]\n",
    "y_moon = y_moon.reshape((-1, 1))\n",
    "X_moon_with_bias.shape, y_moon.shape"
   ]
  },
  {
   "cell_type": "code",
   "execution_count": 179,
   "metadata": {},
   "outputs": [
    {
     "data": {
      "text/plain": [
       "array([[ 1.        , -0.05146968,  0.44419863],\n",
       "       [ 1.        ,  1.03201691, -0.41974116],\n",
       "       [ 1.        ,  0.86789186, -0.25482711],\n",
       "       ...,\n",
       "       [ 1.        ,  1.68425911, -0.34822268],\n",
       "       [ 1.        , -0.9672013 ,  0.26367208],\n",
       "       [ 1.        ,  0.78758971,  0.61660945]])"
      ]
     },
     "execution_count": 179,
     "metadata": {},
     "output_type": "execute_result"
    }
   ],
   "source": [
    "X_moon_with_bias"
   ]
  },
  {
   "cell_type": "code",
   "execution_count": 194,
   "metadata": {},
   "outputs": [
    {
     "data": {
      "text/plain": [
       "((800, 3), (800, 1), (200, 3), (200, 1))"
      ]
     },
     "execution_count": 194,
     "metadata": {},
     "output_type": "execute_result"
    }
   ],
   "source": [
    "test_size = .2\n",
    "n_test = int(test_size * m)\n",
    "\n",
    "X_moon_train = X_moon_with_bias[:-n_test]\n",
    "y_moon_train = y_moon[:-n_test]\n",
    "X_moon_test = X_moon_with_bias[-n_test:]\n",
    "y_moon_test = y_moon[-n_test:]\n",
    "\n",
    "X_moon_train.shape, y_moon_train.shape, X_moon_test.shape, y_moon_test.shape"
   ]
  },
  {
   "cell_type": "code",
   "execution_count": 182,
   "metadata": {},
   "outputs": [],
   "source": [
    "def random_batch(X, y, batch_size):\n",
    "    idx = np.random.permutation(len(X))[:batch_size]\n",
    "    return X[idx], y[idx]"
   ]
  },
  {
   "cell_type": "code",
   "execution_count": 191,
   "metadata": {},
   "outputs": [],
   "source": [
    "reset_graph()\n",
    "input_dim = 2\n",
    "eps = 1e-7\n",
    "eta = .01\n",
    "\n",
    "X = tf.placeholder(dtype=tf.float32, shape=(None, input_dim+1), name='X')\n",
    "y = tf.placeholder(dtype=tf.float32, shape=(None, 1), name='y') \n",
    "\n",
    "w_shape = input_dim+1, 1\n",
    "w = tf.Variable(tf.random_uniform(w_shape, -1., 1.), name='weights')\n",
    "b = tf.Variable(0.0, dtype=tf.float32, name='bias')\n",
    "\n",
    "logit = tf.add(tf.matmul(X, w), b)\n",
    "y_proba = 1./(1. + tf.exp(-logit))\n",
    "\n",
    "cost = -tf.reduce_mean(y*tf.log(y_proba+eps) + (1-y)*tf.log(1-y_proba+eps))\n",
    "\n",
    "optim = tf.train.GradientDescentOptimizer(eta)\n",
    "train_op = optim.minimize(cost)\n",
    "\n",
    "init = tf.global_variables_initializer()\n",
    "\n",
    "\n",
    "# add saver => \n",
    "# add summary => tensorboard\n",
    "# name variable scope appropriately\n"
   ]
  },
  {
   "cell_type": "code",
   "execution_count": 195,
   "metadata": {},
   "outputs": [
    {
     "name": "stdout",
     "output_type": "stream",
     "text": [
      "epoch  0: loss: 0.7135\n",
      "epoch 100: loss: 0.3386\n",
      "epoch 200: loss: 0.2212\n",
      "epoch 300: loss: 0.3152\n",
      "epoch 400: loss: 0.3728\n",
      "epoch 500: loss: 0.2103\n",
      "epoch 600: loss: 0.2031\n",
      "epoch 700: loss: 0.2714\n",
      "epoch 800: loss: 0.2421\n",
      "epoch 900: loss: 0.2633\n"
     ]
    }
   ],
   "source": [
    "n_epochs = 1000\n",
    "batch_size = 50\n",
    "n_batch = int(np.ceil(m/batch_size))\n",
    "\n",
    "with tf.Session() as sess:\n",
    "    init.run()\n",
    "    \n",
    "    for epoch in range(n_epochs):\n",
    "        for batch in range(n_batch):\n",
    "            X_batch, y_batch = random_batch(X_moon_train, y_moon_train, batch_size)\n",
    "            sess.run(train_op, feed_dict={X:X_batch, y:y_batch})\n",
    "        \n",
    "        if (epoch % 100) == 0:\n",
    "            print('epoch {:2d}: loss: {:.4f}'.format(epoch, sess.run(cost,feed_dict={X:X_batch, y:y_batch})))\n",
    "            \n",
    "    best_w, best_b = sess.run([w, b])\n",
    "    \n",
    "    y_pred = sess.run(y_proba, feed_dict={X:X_moon_test, y:y_moon_test})"
   ]
  },
  {
   "cell_type": "code",
   "execution_count": 193,
   "metadata": {},
   "outputs": [
    {
     "data": {
      "text/plain": [
       "(array([[-0.12807973],\n",
       "        [ 1.1938304 ],\n",
       "        [-5.071616  ]], dtype=float32), 0.8194999)"
      ]
     },
     "execution_count": 193,
     "metadata": {},
     "output_type": "execute_result"
    }
   ],
   "source": [
    "best_w, best_b"
   ]
  },
  {
   "cell_type": "code",
   "execution_count": 197,
   "metadata": {},
   "outputs": [
    {
     "data": {
      "text/plain": [
       "0.875"
      ]
     },
     "execution_count": 197,
     "metadata": {},
     "output_type": "execute_result"
    }
   ],
   "source": [
    "((y_pred > .5) == y_moon_test).mean()"
   ]
  },
  {
   "cell_type": "markdown",
   "metadata": {},
   "source": [
    "\n",
    "\n",
    "Now let's start over, but this time we will add all the bells and whistles, as listed in the exercise:\n",
    "\n",
    "* Define the graph within a logistic_regression() function that can be reused easily.\n",
    "* Save checkpoints using a Saver at regular intervals during training, and save the final model at the end of training.\n",
    "* Restore the last checkpoint upon startup if training was interrupted.\n",
    "* Define the graph using nice scopes so the graph looks good in TensorBoard.\n",
    "* Add summaries to visualize the learning curves in TensorBoard.\n",
    "* Try tweaking some hyperparameters such as the learning rate or the mini-batch size and look at the shape of the learning curve.\n",
    "\n"
   ]
  },
  {
   "cell_type": "code",
   "execution_count": 202,
   "metadata": {},
   "outputs": [
    {
     "data": {
      "text/plain": [
       "((800, 7), (200, 7))"
      ]
     },
     "execution_count": 202,
     "metadata": {},
     "output_type": "execute_result"
    }
   ],
   "source": [
    "X_moon_poly_train = np.c_[X_moon_train, X_moon_train[:, 1:]**2, X_moon_train[:, 1:]**3]\n",
    "X_moon_poly_test = np.c_[X_moon_test, X_moon_test[:, 1:]**2, X_moon_test[:, 1:]**3]\n",
    "\n",
    "X_moon_poly_train.shape, X_moon_poly_test.shape"
   ]
  },
  {
   "cell_type": "code",
   "execution_count": 203,
   "metadata": {},
   "outputs": [
    {
     "data": {
      "text/plain": [
       "array([[ 1.00000000e+00, -5.14696757e-02,  4.44198631e-01, ...,\n",
       "         1.97312424e-01, -1.36349734e-04,  8.76459084e-02],\n",
       "       [ 1.00000000e+00,  1.03201691e+00, -4.19741157e-01, ...,\n",
       "         1.76182639e-01,  1.09915879e+00, -7.39511049e-02],\n",
       "       [ 1.00000000e+00,  8.67891864e-01, -2.54827114e-01, ...,\n",
       "         6.49368582e-02,  6.53727646e-01, -1.65476722e-02],\n",
       "       ...,\n",
       "       [ 1.00000000e+00,  1.26427820e+00, -5.03589882e-01, ...,\n",
       "         2.53602769e-01,  2.02082148e+00, -1.27711789e-01],\n",
       "       [ 1.00000000e+00,  4.22418073e-01, -3.90690735e-01, ...,\n",
       "         1.52639250e-01,  7.53750255e-02, -5.96347407e-02],\n",
       "       [ 1.00000000e+00,  1.61017834e+00, -1.79753906e-01, ...,\n",
       "         3.23114669e-02,  4.17466800e+00, -5.80811239e-03]])"
      ]
     },
     "execution_count": 203,
     "metadata": {},
     "output_type": "execute_result"
    }
   ],
   "source": [
    "X_moon_poly_train"
   ]
  },
  {
   "cell_type": "code",
   "execution_count": 205,
   "metadata": {},
   "outputs": [],
   "source": [
    "reset_graph()\n",
    "\n",
    "\n",
    "def logistic_regression(X, y, learning_rate=.01, random_state=None):\n",
    "    \n",
    "    with tf.name_scope('logistic_regression'):\n",
    "        # build model\n",
    "        with tf.name_scope('model'):\n",
    "            theta = tf.Variable(tf.random_uniform((int(X.get_shape()[1]), 1), -1., 1., seed=random_state), \n",
    "                                name='theta')\n",
    "            logits = tf.matmul(X, theta, name='logits')\n",
    "            y_proba = tf.sigmoid(logits, name='y_proba')\n",
    "\n",
    "        # train model\n",
    "        with tf.name_scope('train'):\n",
    "            loss = tf.losses.log_loss(y, y_proba, scope='loss')\n",
    "            optim = tf.train.GradientDescentOptimizer(learning_rate)\n",
    "            training_op = optim.minimize(loss)\n",
    "            loss_summary = tf.summary.scalar('log_loss', loss)\n",
    "        # init variable\n",
    "        with tf.name_scope('init'):\n",
    "            init = tf.global_variables_initializer()\n",
    "        # save model\n",
    "        with tf.name_scope('save'):\n",
    "            saver = tf.train.Saver()\n",
    "            \n",
    "    return y_proba, loss, training_op, loss_summary, init, saver"
   ]
  },
  {
   "cell_type": "code",
   "execution_count": 214,
   "metadata": {},
   "outputs": [],
   "source": [
    "from datetime import datetime\n",
    "import os"
   ]
  },
  {
   "cell_type": "code",
   "execution_count": 209,
   "metadata": {},
   "outputs": [],
   "source": [
    "def make_logdir(prefix=''):\n",
    "    base = 'tf_logs/'\n",
    "    if prefix:\n",
    "        prefix += '-'\n",
    "    when = 'run-' + datetime.utcnow().strftime('%Y%m%d%H%M%S') + '/'\n",
    "    return base + prefix + when"
   ]
  },
  {
   "cell_type": "code",
   "execution_count": 212,
   "metadata": {},
   "outputs": [
    {
     "data": {
      "text/plain": [
       "'tf_logs/logreg-run-20180809080415/'"
      ]
     },
     "execution_count": 212,
     "metadata": {},
     "output_type": "execute_result"
    }
   ],
   "source": [
    "lr_logdir = make_logdir('logreg')\n",
    "lr_logdir"
   ]
  },
  {
   "cell_type": "code",
   "execution_count": 213,
   "metadata": {},
   "outputs": [],
   "source": [
    "reset_graph()\n",
    "n_dim = X_moon_poly_train.shape[1]\n",
    "\n",
    "X = tf.placeholder(shape=(None, n_dim), dtype=tf.float32, name='X')\n",
    "y = tf.placeholder(shape=(None, 1), dtype=tf.float32, name='y')\n",
    "\n",
    "y_proba, loss, training_op, loss_summary, init, saver = logistic_regression(X, y, random_state=42)\n",
    "\n",
    "file_writer = tf.summary.FileWriter(lr_logdir, graph=tf.get_default_graph())"
   ]
  },
  {
   "cell_type": "code",
   "execution_count": 218,
   "metadata": {},
   "outputs": [
    {
     "name": "stdout",
     "output_type": "stream",
     "text": [
      "Start a new training\n",
      "Epoch 1: Loss 0.6326\n",
      "Epoch 501: Loss 0.1756\n",
      "Epoch 1001: Loss 0.1320\n",
      "Epoch 1501: Loss 0.1089\n",
      "Epoch 2001: Loss 0.0941\n",
      "Epoch 2501: Loss 0.0837\n",
      "Epoch 3001: Loss 0.0760\n",
      "Epoch 3501: Loss 0.0701\n",
      "Epoch 4001: Loss 0.0653\n",
      "Epoch 4501: Loss 0.0614\n",
      "Epoch 5001: Loss 0.0580\n",
      "Epoch 5501: Loss 0.0552\n",
      "Epoch 6001: Loss 0.0528\n",
      "Epoch 6501: Loss 0.0507\n",
      "Epoch 7001: Loss 0.0489\n",
      "Epoch 7501: Loss 0.0472\n",
      "Epoch 8001: Loss 0.0458\n",
      "Epoch 8501: Loss 0.0444\n",
      "Epoch 9001: Loss 0.0432\n",
      "Epoch 9501: Loss 0.0422\n",
      "Epoch 10001: Loss 0.0412\n",
      "Finish training.=\n"
     ]
    }
   ],
   "source": [
    "n_epochs = 10001\n",
    "batch_size = 50\n",
    "n_batches = int(np.ceil(len(X_moon_poly_train)/batch_size))\n",
    "\n",
    "checkpoint_path = 'tmp/my_logreg_model.ckpt'\n",
    "checkpoint_epoch = checkpoint_path + '.epoch'\n",
    "final_path = './my_logreg_model'\n",
    "\n",
    "with tf.Session() as sess:\n",
    "    \n",
    "    # check if re-train from current epoch\n",
    "    if os.path.isfile(checkpoint_epoch):\n",
    "        \n",
    "        with open(checkpoint_epoch, 'r') as f:\n",
    "            start_epoch = int(f.read())\n",
    "            print('Restart training from {} epoch'.format(start_epoch))\n",
    "        saver.restore(sess, checkpoint_path)\n",
    "    else:\n",
    "        print('Start a new training')\n",
    "        start_epoch = 0\n",
    "        sess.run(init)\n",
    "    \n",
    "    for epoch in range(start_epoch, n_epochs):\n",
    "        for batch in range(n_batches):\n",
    "            X_batch, y_batch = random_batch(X_moon_poly_train, y_moon_train, batch_size)\n",
    "            sess.run(training_op, feed_dict={X:X_batch, y:y_batch})\n",
    "        \n",
    "        loss_val, loss_str = sess.run([loss, loss_summary], \n",
    "                                      feed_dict={X:X_moon_poly_test, y:y_moon_test})\n",
    "        file_writer.add_summary(loss_str, global_step=epoch)\n",
    "        \n",
    "        # save checkpoint every 500 epochs\n",
    "        if epoch%500 == 0:\n",
    "            print(\"Epoch {}: Loss {:.4f}\".format(epoch+1, loss_val))\n",
    "            saver.save(sess, checkpoint_path, global_step=epoch)\n",
    "            with open(checkpoint_epoch, 'w') as f:\n",
    "                f.write(str(epoch+1))\n",
    "                \n",
    "    print(\"Finish training.\")\n",
    "    saver.save(sess, final_path, global_step=epoch)\n",
    "    os.remove(checkpoint_epoch)\n",
    "    \n",
    "    y_prob_pred = sess.run(y_proba, feed_dict={X:X_moon_poly_test, y:y_moon_test})"
   ]
  },
  {
   "cell_type": "code",
   "execution_count": 220,
   "metadata": {},
   "outputs": [
    {
     "data": {
      "text/plain": [
       "0.98"
      ]
     },
     "execution_count": 220,
     "metadata": {},
     "output_type": "execute_result"
    }
   ],
   "source": [
    "((y_prob_pred >= 0.5) == y_moon_test).mean()"
   ]
  },
  {
   "cell_type": "code",
   "execution_count": 225,
   "metadata": {},
   "outputs": [],
   "source": [
    "y_pred = (y_prob_pred >= 0.5).astype(int).ravel()"
   ]
  },
  {
   "cell_type": "code",
   "execution_count": 226,
   "metadata": {},
   "outputs": [
    {
     "data": {
      "text/plain": [
       "<matplotlib.collections.PathCollection at 0x13692860cf8>"
      ]
     },
     "execution_count": 226,
     "metadata": {},
     "output_type": "execute_result"
    },
    {
     "data": {
      "image/png": "[encoded data removed]",
      "text/plain": [
       "<Figure size 432x288 with 1 Axes>"
      ]
     },
     "metadata": {},
     "output_type": "display_data"
    }
   ],
   "source": [
    "plt.scatter(X_moon_test[:, 1], X_moon_test[:, 2], c=y_pred)"
   ]
  },
  {
   "cell_type": "code",
   "execution_count": 234,
   "metadata": {},
   "outputs": [],
   "source": [
    "from scipy.stats import reciprocal\n",
    "from sklearn.metrics import precision_score, recall_score, accuracy_score"
   ]
  },
  {
   "cell_type": "code",
   "execution_count": 238,
   "metadata": {},
   "outputs": [
    {
     "name": "stdout",
     "output_type": "stream",
     "text": [
      "Iteration: 1\n",
      "logdir: tf_logs/logreg-run-20180809122412/\n",
      "batch size: 83\n",
      "learning rate: 0.0070\n",
      "training: ....................\n",
      "precision: 0.9798\n",
      "recall: 0.9798\n",
      "accuracy: 0.9800\n",
      "----------------------------------------\n",
      "Iteration: 2\n",
      "logdir: tf_logs/logreg-run-20180809122730/\n",
      "batch size: 2\n",
      "learning rate: 0.0045\n",
      "training: ....................\n",
      "precision: 0.9798\n",
      "recall: 0.9798\n",
      "accuracy: 0.9800\n",
      "----------------------------------------\n",
      "Iteration: 3\n",
      "logdir: tf_logs/logreg-run-20180809123045/\n",
      "batch size: 47\n",
      "learning rate: 0.0422\n",
      "training: ....................\n",
      "precision: 0.9798\n",
      "recall: 0.9798\n",
      "accuracy: 0.9800\n",
      "----------------------------------------\n",
      "Iteration: 4\n",
      "logdir: tf_logs/logreg-run-20180809123400/\n",
      "batch size: 4\n",
      "learning rate: 0.0004\n",
      "training: ....................\n",
      "precision: 0.9798\n",
      "recall: 0.9798\n",
      "accuracy: 0.9800\n",
      "----------------------------------------\n",
      "Iteration: 5\n",
      "logdir: tf_logs/logreg-run-20180809123707/\n",
      "batch size: 85\n",
      "learning rate: 0.0004\n",
      "training: ....................\n",
      "precision: 0.9798\n",
      "recall: 0.9798\n",
      "accuracy: 0.9800\n",
      "----------------------------------------\n",
      "Iteration: 6\n",
      "logdir: tf_logs/logreg-run-20180809124014/\n",
      "batch size: 45\n",
      "learning rate: 0.0054\n",
      "training: ....................\n",
      "precision: 0.9798\n",
      "recall: 0.9798\n",
      "accuracy: 0.9800\n",
      "----------------------------------------\n",
      "Iteration: 7\n",
      "logdir: tf_logs/logreg-run-20180809124327/\n",
      "batch size: 8\n",
      "learning rate: 0.0003\n",
      "training: ....................\n",
      "precision: 0.9798\n",
      "recall: 0.9798\n",
      "accuracy: 0.9800\n",
      "----------------------------------------\n",
      "Iteration: 8\n",
      "logdir: tf_logs/logreg-run-20180809124639/\n",
      "batch size: 90\n",
      "learning rate: 0.0026\n",
      "training: ....................\n",
      "precision: 0.9798\n",
      "recall: 0.9798\n",
      "accuracy: 0.9800\n",
      "----------------------------------------\n",
      "Iteration: 9\n",
      "logdir: tf_logs/logreg-run-20180809124959/\n",
      "batch size: 46\n",
      "learning rate: 0.0708\n",
      "training: ....................\n",
      "precision: 0.9798\n",
      "recall: 0.9798\n",
      "accuracy: 0.9800\n",
      "----------------------------------------\n",
      "Iteration: 10\n",
      "logdir: tf_logs/logreg-run-20180809125326/\n",
      "batch size: 53\n",
      "learning rate: 0.0167\n",
      "training: ....................\n",
      "precision: 0.9798\n",
      "recall: 0.9798\n",
      "accuracy: 0.9800\n",
      "----------------------------------------\n"
     ]
    }
   ],
   "source": [
    "n_search = 10\n",
    "n_dim = X_moon_poly_train.shape[1]\n",
    "n_epochs = 10000\n",
    "\n",
    "for i in range(n_search):\n",
    "    \n",
    "    # init random parameter\n",
    "    #np.random.seed()\n",
    "    eta = reciprocal(.0001, .1).rvs()\n",
    "    batch_size = np.random.randint(1, 100)\n",
    "    logdir = make_logdir('logreg')\n",
    "    final_model_path = './my_logreg_model_{}'.format(i)\n",
    "    \n",
    "    print(\"Iteration:\", i+1)\n",
    "    print(\"logdir: {}\".format(logdir))\n",
    "    print(\"batch size: {}\".format(batch_size))\n",
    "    print(\"learning rate: {:.4f}\".format(eta))\n",
    "    print(\"training: \", end='')\n",
    "    \n",
    "    # build model\n",
    "    reset_graph(seed=i)\n",
    "    X = tf.placeholder(shape=(None, n_dim), dtype=tf.float32, name='X')\n",
    "    y = tf.placeholder(shape=(None, 1), dtype=tf.float32, name='y')\n",
    "    \n",
    "    y_proba, loss, training_op, loss_summary, init, saver = logistic_regression(X, y, learning_rate=eta, random_state=i)\n",
    "    file_write = tf.summary.FileWriter(logdir, graph=tf.get_default_graph())\n",
    "    \n",
    "    # training\n",
    "    n_batch = int(np.ceil(len(X_moon_poly_train)/batch_size))\n",
    "    \n",
    "    with tf.Session() as sess:\n",
    "        sess.run(init)\n",
    "        \n",
    "        for epoch in range(n_epochs):\n",
    "            for batch_idx in range(n_batches):\n",
    "                X_batch, y_batch = random_batch(X_moon_poly_train, y_moon_train, batch_size)\n",
    "                sess.run(training_op, feed_dict={X:X_batch, y:y_batch})\n",
    "            \n",
    "            loss_str = sess.run(loss_summary, feed_dict={X:X_moon_poly_test, y:y_moon_test})\n",
    "            file_writer.add_summary(loss_str, global_step=epoch)\n",
    "            if epoch % 500 == 0:\n",
    "                print('.', end='')\n",
    "        \n",
    "        # final evaluation\n",
    "        y_proba_pred = sess.run(y_proba, feed_dict={X:X_moon_poly_test})\n",
    "        y_pred = (y_prob_pred >= 0.5).ravel()\n",
    "        \n",
    "        print()\n",
    "        print(\"precision: {:.4f}\".format(precision_score(y_moon_test, y_pred)))\n",
    "        print(\"recall: {:.4f}\".format(recall_score(y_moon_test, y_pred)))\n",
    "        print('accuracy: {:.4f}'.format(accuracy_score(y_moon_test, y_pred)))\n",
    "        print('--'*20)\n",
    "        \n",
    "        # save final model\n",
    "        saver.save(sess, final_model_path)"
   ]
  },
  {
   "cell_type": "code",
   "execution_count": null,
   "metadata": {},
   "outputs": [],
   "source": []
  },
  {
   "cell_type": "code",
   "execution_count": 240,
   "metadata": {},
   "outputs": [
    {
     "name": "stdout",
     "output_type": "stream",
     "text": [
      "Iteration: 1\n",
      "logdir: tf_logs/logreg-run-20180809193716/\n",
      "batch size: 43\n",
      "learning rate: 0.0003\n",
      "training: ....................\n",
      "precision: 0.9798\n",
      "recall: 0.9798\n",
      "accuracy: 0.9800\n",
      "----------------------------------------\n",
      "Iteration: 2\n",
      "logdir: tf_logs/logreg-run-20180809194036/\n",
      "batch size: 2\n",
      "learning rate: 0.0045\n",
      "training: ....................\n",
      "precision: 0.9798\n",
      "recall: 0.9798\n",
      "accuracy: 0.9800\n",
      "----------------------------------------\n",
      "Iteration: 3\n",
      "logdir: tf_logs/logreg-run-20180809194354/\n",
      "batch size: 47\n",
      "learning rate: 0.0422\n",
      "training: ....................\n",
      "precision: 0.9798\n",
      "recall: 0.9798\n",
      "accuracy: 0.9800\n",
      "----------------------------------------\n",
      "Iteration: 4\n",
      "logdir: tf_logs/logreg-run-20180809194712/\n",
      "batch size: 4\n",
      "learning rate: 0.0004\n",
      "training: ....................\n",
      "precision: 0.9798\n",
      "recall: 0.9798\n",
      "accuracy: 0.9800\n",
      "----------------------------------------\n",
      "Iteration: 5\n",
      "logdir: tf_logs/logreg-run-20180809195029/\n",
      "batch size: 85\n",
      "learning rate: 0.0004\n",
      "training: ....................\n",
      "precision: 0.9798\n",
      "recall: 0.9798\n",
      "accuracy: 0.9800\n",
      "----------------------------------------\n",
      "Iteration: 6\n",
      "logdir: tf_logs/logreg-run-20180809195347/\n",
      "batch size: 45\n",
      "learning rate: 0.0054\n",
      "training: ....................\n",
      "precision: 0.9798\n",
      "recall: 0.9798\n",
      "accuracy: 0.9800\n",
      "----------------------------------------\n",
      "Iteration: 7\n",
      "logdir: tf_logs/logreg-run-20180809195652/\n",
      "batch size: 8\n",
      "learning rate: 0.0003\n",
      "training: ....................\n",
      "precision: 0.9798\n",
      "recall: 0.9798\n",
      "accuracy: 0.9800\n",
      "----------------------------------------\n",
      "Iteration: 8\n",
      "logdir: tf_logs/logreg-run-20180809195956/\n",
      "batch size: 90\n",
      "learning rate: 0.0026\n",
      "training: ....................\n",
      "precision: 0.9798\n",
      "recall: 0.9798\n",
      "accuracy: 0.9800\n",
      "----------------------------------------\n",
      "Iteration: 9\n",
      "logdir: tf_logs/logreg-run-20180809200305/\n",
      "batch size: 46\n",
      "learning rate: 0.0708\n",
      "training: ....................\n",
      "precision: 0.9798\n",
      "recall: 0.9798\n",
      "accuracy: 0.9800\n",
      "----------------------------------------\n",
      "Iteration: 10\n",
      "logdir: tf_logs/logreg-run-20180809200618/\n",
      "batch size: 53\n",
      "learning rate: 0.0167\n",
      "training: ....................\n",
      "precision: 0.9798\n",
      "recall: 0.9798\n",
      "accuracy: 0.9800\n",
      "----------------------------------------\n"
     ]
    }
   ],
   "source": [
    "n_search = 10\n",
    "n_dim = X_moon_poly_train.shape[1]\n",
    "n_epochs = 10000\n",
    "\n",
    "for i in range(n_search):\n",
    "    \n",
    "    # init random parameter\n",
    "    #np.random.seed()\n",
    "    eta = reciprocal(.0001, .1).rvs()\n",
    "    batch_size = np.random.randint(1, 100)\n",
    "    logdir = make_logdir('logreg')\n",
    "    final_model_path = './my_logreg_model_{}'.format(i)\n",
    "    \n",
    "    print(\"Iteration:\", i+1)\n",
    "    print(\"logdir: {}\".format(logdir))\n",
    "    print(\"batch size: {}\".format(batch_size))\n",
    "    print(\"learning rate: {:.4f}\".format(eta))\n",
    "    print(\"training: \", end='')\n",
    "    \n",
    "    # build model\n",
    "    reset_graph(seed=i)\n",
    "    X = tf.placeholder(shape=(None, n_dim), dtype=tf.float32, name='X')\n",
    "    y = tf.placeholder(shape=(None, 1), dtype=tf.float32, name='y')\n",
    "    \n",
    "    y_proba, loss, training_op, loss_summary, init, saver = logistic_regression(X, y, learning_rate=eta, random_state=i)\n",
    "    file_write = tf.summary.FileWriter(logdir, graph=tf.get_default_graph())\n",
    "    \n",
    "    # training\n",
    "    n_batch = int(np.ceil(len(X_moon_poly_train)/batch_size))\n",
    "    \n",
    "    with tf.Session() as sess:\n",
    "        sess.run(init)\n",
    "        \n",
    "        for epoch in range(n_epochs):\n",
    "            for batch_idx in range(n_batches):\n",
    "                X_batch, y_batch = random_batch(X_moon_poly_train, y_moon_train, batch_size)\n",
    "                sess.run(training_op, feed_dict={X:X_batch, y:y_batch})\n",
    "            \n",
    "            loss_str = sess.run(loss_summary, feed_dict={X:X_moon_poly_test, y:y_moon_test})\n",
    "            file_writer.add_summary(loss_str, global_step=epoch)\n",
    "            if epoch % 500 == 0:\n",
    "                print('.', end='')\n",
    "        \n",
    "        # final evaluation\n",
    "        y_proba_pred = sess.run(y_proba, feed_dict={X:X_moon_poly_test})\n",
    "        y_pred = (y_prob_pred >= 0.5).ravel()\n",
    "        \n",
    "        print()\n",
    "        print(\"precision: {:.4f}\".format(precision_score(y_moon_test, y_pred)))\n",
    "        print(\"recall: {:.4f}\".format(recall_score(y_moon_test, y_pred)))\n",
    "        print('accuracy: {:.4f}'.format(accuracy_score(y_moon_test, y_pred)))\n",
    "        print('--'*20)\n",
    "        \n",
    "        # save final model\n",
    "        saver.save(sess, final_model_path)"
   ]
  },
  {
   "cell_type": "code",
   "execution_count": null,
   "metadata": {},
   "outputs": [],
   "source": []
  },
  {
   "cell_type": "code",
   "execution_count": null,
   "metadata": {},
   "outputs": [],
   "source": []
  }
 ],
 "metadata": {
  "kernelspec": {
   "display_name": "Python [conda env:deep_learning]",
   "language": "python",
   "name": "conda-env-deep_learning-py"
  },
  "language_info": {
   "codemirror_mode": {
    "name": "ipython",
    "version": 3
   },
   "file_extension": ".py",
   "mimetype": "text/x-python",
   "name": "python",
   "nbconvert_exporter": "python",
   "pygments_lexer": "ipython3",
   "version": "3.5.5"
  }
 },
 "nbformat": 4,
 "nbformat_minor": 2
}
