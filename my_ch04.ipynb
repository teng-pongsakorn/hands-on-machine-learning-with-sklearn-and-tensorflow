{
 "cells": [
  {
   "cell_type": "code",
   "execution_count": 1,
   "metadata": {},
   "outputs": [],
   "source": [
    "import numpy as np\n",
    "import pandas as pd\n",
    "\n",
    "import matplotlib.pyplot as plt\n",
    "%matplotlib inline"
   ]
  },
  {
   "cell_type": "code",
   "execution_count": 2,
   "metadata": {},
   "outputs": [],
   "source": [
    "from sklearn.linear_model import LinearRegression, SGDRegressor, Ridge, Lasso, ElasticNet, LogisticRegression\n",
    "from sklearn.preprocessing import PolynomialFeatures, StandardScaler\n",
    "from sklearn.model_selection import train_test_split\n",
    "from sklearn.metrics import mean_squared_error\n",
    "from sklearn.pipeline import Pipeline\n",
    "from sklearn.base import clone"
   ]
  },
  {
   "cell_type": "markdown",
   "metadata": {},
   "source": [
    "#### The Normal Equation"
   ]
  },
  {
   "cell_type": "code",
   "execution_count": 13,
   "metadata": {},
   "outputs": [],
   "source": [
    "X = 2 * np.random.rand(100, 1)\n",
    "theta_true = np.array([4, 3])\n",
    "\n",
    "y = np.dot(np.c_[np.ones_like(X), X], theta_true) + np.random.rand(100)"
   ]
  },
  {
   "cell_type": "code",
   "execution_count": 15,
   "metadata": {},
   "outputs": [
    {
     "data": {
      "text/plain": [
       "Text(0,0.5,'y')"
      ]
     },
     "execution_count": 15,
     "metadata": {},
     "output_type": "execute_result"
    },
    {
     "data": {
      "image/png": "[encoded data removed]",
      "text/plain": [
       "<matplotlib.figure.Figure at 0x25398127c18>"
      ]
     },
     "metadata": {},
     "output_type": "display_data"
    }
   ],
   "source": [
    "plt.plot(X, y, 'o', alpha=.5)\n",
    "plt.xlabel('x1')\n",
    "plt.ylabel('y')"
   ]
  },
  {
   "cell_type": "code",
   "execution_count": 17,
   "metadata": {},
   "outputs": [],
   "source": [
    "X_b = np.c_[np.ones_like(X), X]   # add x0=1 in first columns"
   ]
  },
  {
   "cell_type": "code",
   "execution_count": 19,
   "metadata": {},
   "outputs": [],
   "source": [
    "theta_best = np.linalg.inv(np.dot(X_b.T, X_b)).dot(np.dot(X_b.T, y))"
   ]
  },
  {
   "cell_type": "code",
   "execution_count": 20,
   "metadata": {},
   "outputs": [
    {
     "data": {
      "text/plain": [
       "array([4.54410984, 2.97059987])"
      ]
     },
     "execution_count": 20,
     "metadata": {},
     "output_type": "execute_result"
    }
   ],
   "source": [
    "theta_best"
   ]
  },
  {
   "cell_type": "code",
   "execution_count": 34,
   "metadata": {},
   "outputs": [
    {
     "data": {
      "text/plain": [
       "<matplotlib.legend.Legend at 0x253997bb400>"
      ]
     },
     "execution_count": 34,
     "metadata": {},
     "output_type": "execute_result"
    },
    {
     "data": {
      "image/png": "[encoded data removed]",
      "text/plain": [
       "<matplotlib.figure.Figure at 0x2539999cf60>"
      ]
     },
     "metadata": {},
     "output_type": "display_data"
    }
   ],
   "source": [
    "X_new = np.array([[1, 0], \n",
    "                  [1, 2]])\n",
    "y_pred = np.dot(X_new, theta_best)\n",
    "\n",
    "plt.plot(X, y, 'o', alpha=.5)\n",
    "plt.plot(X_new[:, 1], y_pred, '--', label='predictions')\n",
    "plt.xlabel('X1')\n",
    "plt.ylabel('y')\n",
    "plt.legend()"
   ]
  },
  {
   "cell_type": "code",
   "execution_count": 25,
   "metadata": {},
   "outputs": [
    {
     "data": {
      "text/plain": [
       "LinearRegression(copy_X=True, fit_intercept=True, n_jobs=1, normalize=False)"
      ]
     },
     "execution_count": 25,
     "metadata": {},
     "output_type": "execute_result"
    }
   ],
   "source": [
    "lr = LinearRegression()\n",
    "lr.fit(X, y)"
   ]
  },
  {
   "cell_type": "code",
   "execution_count": 27,
   "metadata": {},
   "outputs": [
    {
     "data": {
      "text/plain": [
       "(array([2.97059987]), 4.544109842307926)"
      ]
     },
     "execution_count": 27,
     "metadata": {},
     "output_type": "execute_result"
    }
   ],
   "source": [
    "lr.coef_, lr.intercept_"
   ]
  },
  {
   "cell_type": "code",
   "execution_count": 28,
   "metadata": {},
   "outputs": [
    {
     "data": {
      "text/plain": [
       "array([4.54410984, 2.97059987])"
      ]
     },
     "execution_count": 28,
     "metadata": {},
     "output_type": "execute_result"
    }
   ],
   "source": [
    "theta_best"
   ]
  },
  {
   "cell_type": "code",
   "execution_count": 35,
   "metadata": {},
   "outputs": [],
   "source": [
    "lr_pred = lr.predict(X_new[:, 1].reshape(-1, 1))"
   ]
  },
  {
   "cell_type": "code",
   "execution_count": 36,
   "metadata": {},
   "outputs": [
    {
     "data": {
      "text/plain": [
       "(array([ 4.54410984, 10.48530959]), array([ 4.54410984, 10.48530959]))"
      ]
     },
     "execution_count": 36,
     "metadata": {},
     "output_type": "execute_result"
    }
   ],
   "source": [
    "y_pred, lr_pred"
   ]
  },
  {
   "cell_type": "markdown",
   "metadata": {},
   "source": [
    "#### Gradient Descent"
   ]
  },
  {
   "cell_type": "code",
   "execution_count": 51,
   "metadata": {},
   "outputs": [],
   "source": [
    "eta = .1\n",
    "n_iterations = 1000\n",
    "m = 100\n",
    "\n",
    "theta = np.random.rand(2)\n",
    "for _ in range(n_iterations):\n",
    "    y_hat = np.dot(X_b, theta)\n",
    "    error = y_hat - y\n",
    "    d_theta = 2*np.dot(error, X_b)/m\n",
    "    \n",
    "    theta -= eta * d_theta"
   ]
  },
  {
   "cell_type": "code",
   "execution_count": 52,
   "metadata": {},
   "outputs": [
    {
     "data": {
      "text/plain": [
       "array([4.54410984, 2.97059987])"
      ]
     },
     "execution_count": 52,
     "metadata": {},
     "output_type": "execute_result"
    }
   ],
   "source": [
    "theta"
   ]
  },
  {
   "cell_type": "markdown",
   "metadata": {},
   "source": [
    "#### Stochastic Gradient Descent"
   ]
  },
  {
   "cell_type": "code",
   "execution_count": 55,
   "metadata": {},
   "outputs": [],
   "source": [
    "n_epochs = 50\n",
    "t0, t1 = 5, 50\n",
    "\n",
    "def leanring_rate(t):\n",
    "    '''adaptive learning rate'''\n",
    "    return t0/(t + t1)\n",
    "\n",
    "theta_sgd = np.random.rand(2)\n",
    "for n in range(n_epochs):\n",
    "    for i, rand_i in enumerate(np.random.permutation(m)):\n",
    "        X_i = X_b[rand_i:rand_i+1]\n",
    "        y_i = y[rand_i:rand_i+1]\n",
    "        y_hat_i = np.dot(X_i, theta_sgd)\n",
    "        error_i = y_hat_i - y_i\n",
    "        \n",
    "        d_theta = 2*np.dot(error_i, X_i)\n",
    "        theta_sgd -= leanring_rate(n*m + i)*d_theta"
   ]
  },
  {
   "cell_type": "code",
   "execution_count": 56,
   "metadata": {},
   "outputs": [
    {
     "data": {
      "text/plain": [
       "array([4.54384596, 2.97128314])"
      ]
     },
     "execution_count": 56,
     "metadata": {},
     "output_type": "execute_result"
    }
   ],
   "source": [
    "theta_sgd"
   ]
  },
  {
   "cell_type": "code",
   "execution_count": 68,
   "metadata": {},
   "outputs": [
    {
     "data": {
      "text/plain": [
       "SGDRegressor(alpha=0.0001, average=False, epsilon=0.1, eta0=0.1,\n",
       "       fit_intercept=True, l1_ratio=0.15, learning_rate='invscaling',\n",
       "       loss='squared_loss', max_iter=None, n_iter=50, penalty=None,\n",
       "       power_t=0.25, random_state=None, shuffle=True, tol=None, verbose=0,\n",
       "       warm_start=False)"
      ]
     },
     "execution_count": 68,
     "metadata": {},
     "output_type": "execute_result"
    }
   ],
   "source": [
    "sgd = SGDRegressor(eta0=.1, n_iter=50, penalty=None)\n",
    "sgd.fit(X, y)"
   ]
  },
  {
   "cell_type": "code",
   "execution_count": 69,
   "metadata": {},
   "outputs": [
    {
     "data": {
      "text/plain": [
       "(array([2.97327383]), array([4.54966265]))"
      ]
     },
     "execution_count": 69,
     "metadata": {},
     "output_type": "execute_result"
    }
   ],
   "source": [
    "sgd.coef_, sgd.intercept_"
   ]
  },
  {
   "cell_type": "markdown",
   "metadata": {},
   "source": [
    "#### Polynomial Regression"
   ]
  },
  {
   "cell_type": "code",
   "execution_count": 3,
   "metadata": {},
   "outputs": [],
   "source": [
    "m = 100\n",
    "X = 6 * np.random.rand(m, 1) - 3\n",
    "y = 0.5*X**2 + X + 2 + np.random.randn(m, 1)"
   ]
  },
  {
   "cell_type": "code",
   "execution_count": 72,
   "metadata": {},
   "outputs": [
    {
     "data": {
      "text/plain": [
       "Text(0,0.5,'y')"
      ]
     },
     "execution_count": 72,
     "metadata": {},
     "output_type": "execute_result"
    },
    {
     "data": {
      "image/png": "[encoded data removed]",
      "text/plain": [
       "<matplotlib.figure.Figure at 0x25399adfb00>"
      ]
     },
     "metadata": {},
     "output_type": "display_data"
    }
   ],
   "source": [
    "plt.plot(X, y, 'o', alpha=.5)\n",
    "plt.xlabel('X1')\n",
    "plt.ylabel('y')"
   ]
  },
  {
   "cell_type": "code",
   "execution_count": 5,
   "metadata": {},
   "outputs": [
    {
     "data": {
      "text/plain": [
       "LinearRegression(copy_X=True, fit_intercept=True, n_jobs=1, normalize=False)"
      ]
     },
     "execution_count": 5,
     "metadata": {},
     "output_type": "execute_result"
    }
   ],
   "source": [
    "lr = LinearRegression()\n",
    "lr.fit(X, y)"
   ]
  },
  {
   "cell_type": "code",
   "execution_count": 6,
   "metadata": {},
   "outputs": [],
   "source": [
    "X_new = np.arange(-3, 3, .1)[:, None]\n",
    "pred_lr = lr.predict(X_new)"
   ]
  },
  {
   "cell_type": "code",
   "execution_count": 87,
   "metadata": {},
   "outputs": [
    {
     "data": {
      "text/plain": [
       "<matplotlib.legend.Legend at 0x2539b202c18>"
      ]
     },
     "execution_count": 87,
     "metadata": {},
     "output_type": "execute_result"
    },
    {
     "data": {
      "image/png": "[encoded data removed]",
      "text/plain": [
       "<matplotlib.figure.Figure at 0x2539b4d1588>"
      ]
     },
     "metadata": {},
     "output_type": "display_data"
    }
   ],
   "source": [
    "plt.plot(X, y, 'o', alpha=.5)\n",
    "plt.plot(X_new, pred_lr, '--', label='linear predictions')\n",
    "plt.xlabel('X1')\n",
    "plt.ylabel('y')\n",
    "plt.legend()"
   ]
  },
  {
   "cell_type": "code",
   "execution_count": 7,
   "metadata": {},
   "outputs": [],
   "source": [
    "poly_d2 = PolynomialFeatures(degree=2, include_bias=False)\n",
    "X_poly = poly_d2.fit_transform(X)"
   ]
  },
  {
   "cell_type": "code",
   "execution_count": 83,
   "metadata": {},
   "outputs": [],
   "source": [
    "lr_poly = LinearRegression().fit(X_poly, y)"
   ]
  },
  {
   "cell_type": "code",
   "execution_count": 88,
   "metadata": {},
   "outputs": [],
   "source": [
    "y_poly_pred = lr_poly.predict(poly_d2.transform(X_new))"
   ]
  },
  {
   "cell_type": "code",
   "execution_count": 89,
   "metadata": {},
   "outputs": [
    {
     "data": {
      "text/plain": [
       "<matplotlib.legend.Legend at 0x2539b0f8d68>"
      ]
     },
     "execution_count": 89,
     "metadata": {},
     "output_type": "execute_result"
    },
    {
     "data": {
      "image/png": "[encoded data removed]",
      "text/plain": [
       "<matplotlib.figure.Figure at 0x2539afc54e0>"
      ]
     },
     "metadata": {},
     "output_type": "display_data"
    }
   ],
   "source": [
    "plt.plot(X, y, 'o', alpha=.5)\n",
    "plt.plot(X_new, y_poly_pred, '--', label='linear+polynomial')\n",
    "plt.xlabel('X1')\n",
    "plt.ylabel('y')\n",
    "plt.legend()"
   ]
  },
  {
   "cell_type": "code",
   "execution_count": 91,
   "metadata": {},
   "outputs": [
    {
     "data": {
      "text/plain": [
       "(array([[1.0157131 , 0.45408101]]), array([2.15885792]))"
      ]
     },
     "execution_count": 91,
     "metadata": {},
     "output_type": "execute_result"
    }
   ],
   "source": [
    "lr_poly.coef_, lr_poly.intercept_"
   ]
  },
  {
   "cell_type": "code",
   "execution_count": 8,
   "metadata": {},
   "outputs": [],
   "source": [
    "def plot_learning_curve(model, X, y):\n",
    "    X_train, X_test, y_train, y_test = train_test_split(X, y, test_size=.2)\n",
    "    train_errors, val_erros = [], []\n",
    "    xs = range(1, len(X_train), 2)\n",
    "    for i in xs:\n",
    "        clf = model.fit(X_train[:i], y_train[:i])\n",
    "        train_errors.append(mean_squared_error(y_train[:i], clf.predict(X_train[:i])))\n",
    "        val_erros.append(mean_squared_error(y_test, clf.predict(X_test)))\n",
    "    \n",
    "    plt.plot(xs, np.sqrt(train_errors), '--', label='train')\n",
    "    plt.plot(xs, np.sqrt(val_erros), '-', label='val')\n",
    "    plt.xlabel('sample size')\n",
    "    plt.ylabel('rmse')\n",
    "    plt.legend()"
   ]
  },
  {
   "cell_type": "code",
   "execution_count": 109,
   "metadata": {},
   "outputs": [
    {
     "data": {
      "image/png": "[encoded data removed]",
      "text/plain": [
       "<matplotlib.figure.Figure at 0x2539b8ec860>"
      ]
     },
     "metadata": {},
     "output_type": "display_data"
    }
   ],
   "source": [
    "plot_learning_curve(LinearRegression(), X, y)"
   ]
  },
  {
   "cell_type": "code",
   "execution_count": 116,
   "metadata": {},
   "outputs": [
    {
     "data": {
      "image/png": "[encoded data removed]",
      "text/plain": [
       "<matplotlib.figure.Figure at 0x2539cbd47f0>"
      ]
     },
     "metadata": {},
     "output_type": "display_data"
    }
   ],
   "source": [
    "plot_learning_curve(LinearRegression(), X_poly, y)"
   ]
  },
  {
   "cell_type": "code",
   "execution_count": 122,
   "metadata": {},
   "outputs": [
    {
     "data": {
      "text/plain": [
       "(0, 5)"
      ]
     },
     "execution_count": 122,
     "metadata": {},
     "output_type": "execute_result"
    },
    {
     "data": {
      "image/png": "[encoded data removed]",
      "text/plain": [
       "<matplotlib.figure.Figure at 0x2539b0de6a0>"
      ]
     },
     "metadata": {},
     "output_type": "display_data"
    }
   ],
   "source": [
    "pipe_poly = Pipeline([\n",
    "    ('poly', PolynomialFeatures(degree=10, include_bias=False)),\n",
    "    ('lr', LinearRegression())\n",
    "])\n",
    "\n",
    "plot_learning_curve(pipe_poly, X, y)\n",
    "plt.ylim([0, 5])"
   ]
  },
  {
   "cell_type": "markdown",
   "metadata": {},
   "source": [
    "#### Regularized Linear Models"
   ]
  },
  {
   "cell_type": "markdown",
   "metadata": {},
   "source": [
    "#### Ridge Regression"
   ]
  },
  {
   "cell_type": "code",
   "execution_count": 9,
   "metadata": {},
   "outputs": [
    {
     "data": {
      "text/plain": [
       "Ridge(alpha=1.0, copy_X=True, fit_intercept=True, max_iter=None,\n",
       "   normalize=False, random_state=None, solver='auto', tol=0.001)"
      ]
     },
     "execution_count": 9,
     "metadata": {},
     "output_type": "execute_result"
    }
   ],
   "source": [
    "ridge_reg = Ridge(alpha=1.0)\n",
    "ridge_reg.fit(X, y)"
   ]
  },
  {
   "cell_type": "code",
   "execution_count": 10,
   "metadata": {},
   "outputs": [
    {
     "data": {
      "text/plain": [
       "array([[5.17056847]])"
      ]
     },
     "execution_count": 10,
     "metadata": {},
     "output_type": "execute_result"
    }
   ],
   "source": [
    "ridge_reg.predict([[1.5]])"
   ]
  },
  {
   "cell_type": "code",
   "execution_count": 13,
   "metadata": {},
   "outputs": [
    {
     "data": {
      "text/plain": [
       "SGDRegressor(alpha=0.0001, average=False, epsilon=0.1, eta0=0.01,\n",
       "       fit_intercept=True, l1_ratio=0.15, learning_rate='invscaling',\n",
       "       loss='squared_loss', max_iter=50, n_iter=None, penalty='l2',\n",
       "       power_t=0.25, random_state=None, shuffle=True, tol=None, verbose=0,\n",
       "       warm_start=False)"
      ]
     },
     "execution_count": 13,
     "metadata": {},
     "output_type": "execute_result"
    }
   ],
   "source": [
    "sgd_reg = SGDRegressor(penalty='l2', max_iter=50)\n",
    "sgd_reg.fit(X, y.ravel())"
   ]
  },
  {
   "cell_type": "code",
   "execution_count": 14,
   "metadata": {},
   "outputs": [
    {
     "data": {
      "text/plain": [
       "array([5.15629881])"
      ]
     },
     "execution_count": 14,
     "metadata": {},
     "output_type": "execute_result"
    }
   ],
   "source": [
    "sgd_reg.predict([[1.5]])"
   ]
  },
  {
   "cell_type": "markdown",
   "metadata": {},
   "source": [
    "#### Lasso Regression"
   ]
  },
  {
   "cell_type": "code",
   "execution_count": 24,
   "metadata": {},
   "outputs": [
    {
     "data": {
      "text/plain": [
       "Lasso(alpha=0.1, copy_X=True, fit_intercept=True, max_iter=1000,\n",
       "   normalize=False, positive=False, precompute=False, random_state=None,\n",
       "   selection='cyclic', tol=0.0001, warm_start=False)"
      ]
     },
     "execution_count": 24,
     "metadata": {},
     "output_type": "execute_result"
    }
   ],
   "source": [
    "lasso_reg = Lasso(alpha=.1)\n",
    "lasso_reg.fit(X, y)"
   ]
  },
  {
   "cell_type": "code",
   "execution_count": 25,
   "metadata": {},
   "outputs": [
    {
     "data": {
      "text/plain": [
       "array([5.12805999])"
      ]
     },
     "execution_count": 25,
     "metadata": {},
     "output_type": "execute_result"
    }
   ],
   "source": [
    "lasso_reg.predict([[1.5]])"
   ]
  },
  {
   "cell_type": "markdown",
   "metadata": {},
   "source": [
    "#### Elastic Net"
   ]
  },
  {
   "cell_type": "code",
   "execution_count": 38,
   "metadata": {},
   "outputs": [
    {
     "data": {
      "text/plain": [
       "ElasticNet(alpha=0.1, copy_X=True, fit_intercept=True, l1_ratio=0.5,\n",
       "      max_iter=1000, normalize=False, positive=False, precompute=False,\n",
       "      random_state=None, selection='cyclic', tol=0.0001, warm_start=False)"
      ]
     },
     "execution_count": 38,
     "metadata": {},
     "output_type": "execute_result"
    }
   ],
   "source": [
    "elastic_net = ElasticNet(alpha=.1, l1_ratio=.5)\n",
    "elastic_net.fit(X, y)"
   ]
  },
  {
   "cell_type": "code",
   "execution_count": 39,
   "metadata": {},
   "outputs": [
    {
     "data": {
      "text/plain": [
       "array([5.12958282])"
      ]
     },
     "execution_count": 39,
     "metadata": {},
     "output_type": "execute_result"
    }
   ],
   "source": [
    "elastic_net.predict([[1.5]])"
   ]
  },
  {
   "cell_type": "markdown",
   "metadata": {},
   "source": [
    "#### Early Stopping"
   ]
  },
  {
   "cell_type": "code",
   "execution_count": 146,
   "metadata": {},
   "outputs": [
    {
     "data": {
      "image/png": "[encoded data removed]",
      "text/plain": [
       "<matplotlib.figure.Figure at 0x1935a51c898>"
      ]
     },
     "metadata": {},
     "output_type": "display_data"
    }
   ],
   "source": [
    "m = 100\n",
    "X = np.random.rand(m, 1) * 6 - 3\n",
    "y = (2*X + 0.5*X**2 + np.random.randn(m, 1)).ravel()\n",
    "\n",
    "X_train, X_val, y_train, y_val = X[:50], X[50:], y[:50], y[50:]\n",
    "\n",
    "plt.plot(X_train, y_train, 'o', alpha=.5, label='train')\n",
    "plt.plot(X_val, y_val, 'o', alpha=.5, label='val')\n",
    "plt.legend()\n",
    "plt.xlabel('X')\n",
    "plt.ylabel('y')\n",
    "plt.show()\n",
    "\n",
    "poly_std_pipe = Pipeline([\n",
    "    ('poly', PolynomialFeatures(degree=90, include_bias=False)),\n",
    "    ('scaler', StandardScaler())\n",
    "])\n",
    "\n",
    "X_train_poly = poly_std_pipe.fit_transform(X_train)\n",
    "X_val_poly = poly_std_pipe.transform(X_val)\n",
    "\n",
    "X_train_poly.shape, X_val_poly.shape\n",
    "\n",
    "sgd_regressor = SGDRegressor(max_iter=1, warm_start=True, penalty=None, \n",
    "                             learning_rate='constant', eta0=.0005)\n",
    "\n",
    "train_errors = []\n",
    "val_errors = []\n",
    "\n",
    "min_val_error = float('inf')\n",
    "best_epoch = None\n",
    "best_model = None\n",
    "for epoch in range(500):\n",
    "    sgd_regressor.fit(X_train_poly, y_train)\n",
    "    y_train_pred = sgd_regressor.predict(X_train_poly)\n",
    "    y_val_pred = sgd_regressor.predict(X_val_poly)\n",
    "    current_val_mse = mean_squared_error(y_val, y_val_pred)\n",
    "    current_train_mse = mean_squared_error(y_train, y_train_pred)\n",
    "    train_errors.append(current_train_mse)\n",
    "    val_errors.append(current_val_mse)\n",
    "    if current_val_mse < min_val_error:\n",
    "        min_val_error = current_val_mse\n",
    "        best_epoch = epoch\n",
    "        best_model = clone(sgd_regressor)"
   ]
  },
  {
   "cell_type": "code",
   "execution_count": 152,
   "metadata": {},
   "outputs": [
    {
     "data": {
      "text/plain": [
       "<matplotlib.collections.LineCollection at 0x19358a08320>"
      ]
     },
     "execution_count": 152,
     "metadata": {},
     "output_type": "execute_result"
    },
    {
     "data": {
      "image/png": "[encoded data removed]",
      "text/plain": [
       "<matplotlib.figure.Figure at 0x19358a13748>"
      ]
     },
     "metadata": {},
     "output_type": "display_data"
    }
   ],
   "source": [
    "xs = range(500)\n",
    "plt.plot(xs, np.sqrt(train_errors), '-', label='train')\n",
    "plt.plot(xs, np.sqrt(val_errors), '--', label='val')\n",
    "plt.xlabel('epochs')\n",
    "plt.ylabel('rmse')\n",
    "plt.legend()\n",
    "\n",
    "min_rmse = np.sqrt(np.min(val_errors))\n",
    "plt.hlines(min_rmse, 0, 500, linestyles=':')"
   ]
  },
  {
   "cell_type": "markdown",
   "metadata": {},
   "source": [
    "#### Logistic Regression"
   ]
  },
  {
   "cell_type": "code",
   "execution_count": 157,
   "metadata": {},
   "outputs": [
    {
     "data": {
      "text/plain": [
       "0.47712125471966244"
      ]
     },
     "execution_count": 157,
     "metadata": {},
     "output_type": "execute_result"
    }
   ],
   "source": [
    "-np.log10(1/3)"
   ]
  },
  {
   "cell_type": "code",
   "execution_count": 158,
   "metadata": {},
   "outputs": [],
   "source": [
    "from sklearn import datasets\n",
    "iris = datasets.load_iris()"
   ]
  },
  {
   "cell_type": "code",
   "execution_count": 159,
   "metadata": {},
   "outputs": [
    {
     "data": {
      "text/plain": [
       "dict_keys(['data', 'target', 'target_names', 'DESCR', 'feature_names'])"
      ]
     },
     "execution_count": 159,
     "metadata": {},
     "output_type": "execute_result"
    }
   ],
   "source": [
    "iris.keys()"
   ]
  },
  {
   "cell_type": "code",
   "execution_count": 161,
   "metadata": {},
   "outputs": [
    {
     "data": {
      "text/plain": [
       "array(['setosa', 'versicolor', 'virginica'], dtype='<U10')"
      ]
     },
     "execution_count": 161,
     "metadata": {},
     "output_type": "execute_result"
    }
   ],
   "source": [
    "iris.target_names"
   ]
  },
  {
   "cell_type": "code",
   "execution_count": 160,
   "metadata": {},
   "outputs": [
    {
     "data": {
      "text/plain": [
       "['sepal length (cm)',\n",
       " 'sepal width (cm)',\n",
       " 'petal length (cm)',\n",
       " 'petal width (cm)']"
      ]
     },
     "execution_count": 160,
     "metadata": {},
     "output_type": "execute_result"
    }
   ],
   "source": [
    "iris.feature_names"
   ]
  },
  {
   "cell_type": "code",
   "execution_count": 163,
   "metadata": {},
   "outputs": [
    {
     "data": {
      "text/plain": [
       "((150, 1), (150,))"
      ]
     },
     "execution_count": 163,
     "metadata": {},
     "output_type": "execute_result"
    }
   ],
   "source": [
    "X = iris['data'][:, 3:]     # petal width feature\n",
    "y = (iris['target'] == 2).astype(int)    # [is virginica]\n",
    "\n",
    "X.shape, y.shape"
   ]
  },
  {
   "cell_type": "code",
   "execution_count": 164,
   "metadata": {},
   "outputs": [
    {
     "data": {
      "text/plain": [
       "(0.1, 2.5)"
      ]
     },
     "execution_count": 164,
     "metadata": {},
     "output_type": "execute_result"
    }
   ],
   "source": [
    "X.min(), X.max()"
   ]
  },
  {
   "cell_type": "code",
   "execution_count": 166,
   "metadata": {},
   "outputs": [
    {
     "data": {
      "text/plain": [
       "LogisticRegression(C=1.0, class_weight=None, dual=False, fit_intercept=True,\n",
       "          intercept_scaling=1, max_iter=100, multi_class='ovr', n_jobs=1,\n",
       "          penalty='l2', random_state=None, solver='liblinear', tol=0.0001,\n",
       "          verbose=0, warm_start=False)"
      ]
     },
     "execution_count": 166,
     "metadata": {},
     "output_type": "execute_result"
    }
   ],
   "source": [
    "log_reg = LogisticRegression()\n",
    "log_reg.fit(X, y)"
   ]
  },
  {
   "cell_type": "code",
   "execution_count": 174,
   "metadata": {},
   "outputs": [],
   "source": [
    "X_new = np.linspace(0, 3, 1000)[:, None]\n",
    "y_prob = log_reg.predict_proba(X_new)"
   ]
  },
  {
   "cell_type": "code",
   "execution_count": 186,
   "metadata": {},
   "outputs": [
    {
     "data": {
      "text/plain": [
       "Text(0,0.5,'probability')"
      ]
     },
     "execution_count": 186,
     "metadata": {},
     "output_type": "execute_result"
    },
    {
     "data": {
      "image/png": "[encoded data removed]",
      "text/plain": [
       "<matplotlib.figure.Figure at 0x1935be49b70>"
      ]
     },
     "metadata": {},
     "output_type": "display_data"
    }
   ],
   "source": [
    "plt.figure(figsize=(8, 4))\n",
    "plt.plot(X_new, y_prob[:, 1], '--', label='Virginica')\n",
    "plt.plot(X_new, y_prob[:, 0], '-', label='Not Virginica')\n",
    "plt.legend(loc='best')\n",
    "plt.hlines(0.5, 0, 3)\n",
    "\n",
    "i_decision = np.argmin(np.abs((y_prob[:, 1] - 0.5)))\n",
    "plt.vlines(X_new[i_decision], 0, 1)\n",
    "\n",
    "plt.plot(X[y==1], y[y==1], 'gs')\n",
    "plt.plot(X[y==0], y[y==0], 'b^')\n",
    "plt.xlabel('patal width [cm]')\n",
    "plt.ylabel('probability')"
   ]
  },
  {
   "cell_type": "code",
   "execution_count": 187,
   "metadata": {},
   "outputs": [
    {
     "data": {
      "text/plain": [
       "['sepal length (cm)',\n",
       " 'sepal width (cm)',\n",
       " 'petal length (cm)',\n",
       " 'petal width (cm)']"
      ]
     },
     "execution_count": 187,
     "metadata": {},
     "output_type": "execute_result"
    }
   ],
   "source": [
    "iris.feature_names"
   ]
  },
  {
   "cell_type": "code",
   "execution_count": 188,
   "metadata": {},
   "outputs": [],
   "source": [
    "X = iris.data[:, 2:]"
   ]
  },
  {
   "cell_type": "code",
   "execution_count": 201,
   "metadata": {},
   "outputs": [
    {
     "data": {
      "text/plain": [
       "(0.9, 7.0, 0.0, 2.6)"
      ]
     },
     "execution_count": 201,
     "metadata": {},
     "output_type": "execute_result"
    }
   ],
   "source": [
    "d1_min, d1_max, d2_min, d2_max"
   ]
  },
  {
   "cell_type": "code",
   "execution_count": 207,
   "metadata": {},
   "outputs": [
    {
     "data": {
      "text/plain": [
       "(0.8, 2.6)"
      ]
     },
     "execution_count": 207,
     "metadata": {},
     "output_type": "execute_result"
    },
    {
     "data": {
      "image/png": "[encoded data removed]",
      "text/plain": [
       "<matplotlib.figure.Figure at 0x1935cfab080>"
      ]
     },
     "metadata": {},
     "output_type": "display_data"
    }
   ],
   "source": [
    "model = LogisticRegression(C=1e6).fit(X, y)\n",
    "d1_min, d1_max = 3, 7\n",
    "d2_min, d2_max = .8, 2.6\n",
    "\n",
    "d1_space = np.linspace(d1_min, d1_max, num=500)\n",
    "d2_space = np.linspace(d2_min, d2_max, num=200)\n",
    "\n",
    "D1, D2 = np.meshgrid(d1_space, d2_space)\n",
    "\n",
    "Z = model.predict_proba(np.c_[D1.ravel(), D2.ravel()])[:, 1].reshape(D1.shape)\n",
    "\n",
    "plt.figure(figsize=(10, 4))\n",
    "plt.plot(X[y==0, 0], X[y==0, 1], 'b^')\n",
    "plt.plot(X[y==1, 0], X[y==1, 1], 'gs')\n",
    "contour = plt.contour(D1, D2, Z, cmap=plt.cm.brg)\n",
    "plt.clabel(contour)\n",
    "plt.xlim(d1_min, d1_max)\n",
    "plt.ylim(d2_min, d2_max)"
   ]
  },
  {
   "cell_type": "markdown",
   "metadata": {},
   "source": [
    "#### Softmax Regression"
   ]
  },
  {
   "cell_type": "code",
   "execution_count": 209,
   "metadata": {},
   "outputs": [
    {
     "data": {
      "text/plain": [
       "((150, 2), (150,))"
      ]
     },
     "execution_count": 209,
     "metadata": {},
     "output_type": "execute_result"
    }
   ],
   "source": [
    "X = iris.data[:, 2:]\n",
    "y = iris.target\n",
    "\n",
    "X.shape, y.shape"
   ]
  },
  {
   "cell_type": "code",
   "execution_count": null,
   "metadata": {},
   "outputs": [],
   "source": [
    "softmax_reg = LogisticRegression(solver='lbfgs', C=10, multi_class='multinomial')\n",
    "\n",
    "softmax_reg.fit(X, y)\n",
    "\n",
    "\n",
    "x0_min, x0_max = X[:, 0].min()*.9, X[:, 0].max()*1.1\n",
    "x1_min, x1_max = X[:, 1].min()*.9, X[:, 1].max()*1.1\n",
    "\n",
    "x0_space = np.linspace(x0_min, x0_max, 500)\n",
    "x1_space = np.linspace(x1_min, x1_max, 300)\n",
    "\n",
    "X0, X1 = np.meshgrid(x0_space, x1_space)\n",
    "Z_prob = softmax_reg.predict_proba(np.c_[X0.ravel(), X1.ravel()])[:, 1].reshape(X0.shape)\n",
    "Z_label = softmax_reg.predict(np.c_[X0.ravel(), X1.ravel()]).reshape(X0.shape)\n",
    "\n",
    "plt.figure(figsize=(10, 4))\n",
    "for label, marker, name in zip(np.unique(y), 'ro gx bs'.split(), iris.target_names):\n",
    "    plt.plot(X[y==label, 0], X[y==label, 1], marker, label=name)\n",
    "    \n",
    "plt.legend()\n",
    "plt.contourf(X0, X1, Z_label, cmap=plt.cm.RdYlBu, alpha=.5)\n",
    "contour = plt.contour(X0, X1, Z_prob)\n",
    "plt.clabel(contour)\n",
    "plt.xlabel(iris.feature_names[2])\n",
    "plt.ylabel(iris.feature_names[3])"
   ]
  },
  {
   "cell_type": "code",
   "execution_count": 232,
   "metadata": {},
   "outputs": [
    {
     "data": {
      "text/plain": [
       "array(['setosa', 'versicolor', 'virginica'], dtype='<U10')"
      ]
     },
     "execution_count": 232,
     "metadata": {},
     "output_type": "execute_result"
    }
   ],
   "source": [
    "iris.target_names"
   ]
  },
  {
   "cell_type": "code",
   "execution_count": null,
   "metadata": {},
   "outputs": [],
   "source": []
  },
  {
   "cell_type": "code",
   "execution_count": null,
   "metadata": {},
   "outputs": [],
   "source": []
  },
  {
   "cell_type": "markdown",
   "metadata": {},
   "source": [
    "#### Problem 12.\n",
    "* Implement Batch Gradient Descent with early stoppong for Softmax Regression"
   ]
  },
  {
   "cell_type": "markdown",
   "metadata": {},
   "source": [
    "##### Softmax function\n",
    "$\\sigma\\left(\\mathbf{s}(\\mathbf{x})\\right)_k = \\dfrac{\\exp\\left(s_k(\\mathbf{x})\\right)}{\\sum\\limits_{j=1}^{K}{\\exp\\left(s_j(\\mathbf{x})\\right)}}$"
   ]
  },
  {
   "cell_type": "markdown",
   "metadata": {},
   "source": [
    "#### Cross Entropy Cost function\n",
    "$J(\\Theta) = -\\dfrac{1}{m}\\sum\\limits_{i=1}^{m} \\sum\\limits_{k=1}^{K}{y_k^{(i)}\\log\\left(\\hat{p}_k^{(i)}\\right)}$\n"
   ]
  },
  {
   "cell_type": "markdown",
   "metadata": {},
   "source": [
    "#### Gradient Vector\n",
    "$\\nabla_{\\mathbf{\\theta}^{(k)}} \\, J(\\mathbf{\\Theta}) = \\dfrac{1}{m} \\sum\\limits_{i=1}^{m}{ \\left ( \\hat{p}^{(i)}_k - y_k^{(i)} \\right ) \\mathbf{x}^{(i)}}$"
   ]
  },
  {
   "cell_type": "code",
   "execution_count": 4,
   "metadata": {},
   "outputs": [],
   "source": [
    "# load library\n",
    "import numpy as np\n",
    "import pandas as pd\n",
    "from sklearn import datasets\n",
    "\n",
    "# load data\n",
    "iris = datasets.load_iris()"
   ]
  },
  {
   "cell_type": "code",
   "execution_count": 5,
   "metadata": {},
   "outputs": [],
   "source": [
    "# prepare data\n",
    "\n",
    "X = iris.data[:, 2:]\n",
    "y = iris.target"
   ]
  },
  {
   "cell_type": "code",
   "execution_count": 6,
   "metadata": {},
   "outputs": [
    {
     "data": {
      "text/plain": [
       "((150, 2), (150,))"
      ]
     },
     "execution_count": 6,
     "metadata": {},
     "output_type": "execute_result"
    }
   ],
   "source": [
    "X.shape, y.shape"
   ]
  },
  {
   "cell_type": "code",
   "execution_count": 7,
   "metadata": {},
   "outputs": [
    {
     "data": {
      "text/plain": [
       "(150, 3)"
      ]
     },
     "execution_count": 7,
     "metadata": {},
     "output_type": "execute_result"
    }
   ],
   "source": [
    "# add bias column to X\n",
    "X = np.c_[np.ones(len(X)), X]\n",
    "X.shape"
   ]
  },
  {
   "cell_type": "code",
   "execution_count": 10,
   "metadata": {},
   "outputs": [
    {
     "data": {
      "text/plain": [
       "((90, 3), (90,), (30, 3), (30,), (30, 3), (30,))"
      ]
     },
     "execution_count": 10,
     "metadata": {},
     "output_type": "execute_result"
    }
   ],
   "source": [
    "total_size = len(X)\n",
    "test_size = .2\n",
    "val_size = .2\n",
    "\n",
    "n_test = int(total_size*test_size)\n",
    "n_val = int(total_size*val_size)\n",
    "n_train = total_size - n_test - n_val\n",
    "\n",
    "\n",
    "np.random.seed(2042)\n",
    "rand_idx = np.random.permutation(total_size)\n",
    "X, y = X[rand_idx], y[rand_idx]\n",
    "\n",
    "X_train, y_train = X[:n_train], y[:n_train]\n",
    "X_val, y_val = X[n_train:n_train+n_val], y[n_train:n_train+n_val]\n",
    "X_test, y_test = X[n_train+n_val:], y[n_train+n_val:]\n",
    "\n",
    "X_train.shape, y_train.shape, X_val.shape, y_val.shape, X_test.shape, y_test.shape"
   ]
  },
  {
   "cell_type": "code",
   "execution_count": 16,
   "metadata": {},
   "outputs": [
    {
     "data": {
      "text/html": [
       "<div>\n",
       "<style scoped>\n",
       "    .dataframe tbody tr th:only-of-type {\n",
       "        vertical-align: middle;\n",
       "    }\n",
       "\n",
       "    .dataframe tbody tr th {\n",
       "        vertical-align: top;\n",
       "    }\n",
       "\n",
       "    .dataframe thead th {\n",
       "        text-align: right;\n",
       "    }\n",
       "</style>\n",
       "<table border=\"1\" class=\"dataframe\">\n",
       "  <thead>\n",
       "    <tr style=\"text-align: right;\">\n",
       "      <th></th>\n",
       "      <th>train</th>\n",
       "      <th>val</th>\n",
       "      <th>test</th>\n",
       "    </tr>\n",
       "  </thead>\n",
       "  <tbody>\n",
       "    <tr>\n",
       "      <th>0</th>\n",
       "      <td>31</td>\n",
       "      <td>9</td>\n",
       "      <td>10</td>\n",
       "    </tr>\n",
       "    <tr>\n",
       "      <th>1</th>\n",
       "      <td>29</td>\n",
       "      <td>11</td>\n",
       "      <td>10</td>\n",
       "    </tr>\n",
       "    <tr>\n",
       "      <th>2</th>\n",
       "      <td>30</td>\n",
       "      <td>10</td>\n",
       "      <td>10</td>\n",
       "    </tr>\n",
       "  </tbody>\n",
       "</table>\n",
       "</div>"
      ],
      "text/plain": [
       "   train  val  test\n",
       "0     31    9    10\n",
       "1     29   11    10\n",
       "2     30   10    10"
      ]
     },
     "execution_count": 16,
     "metadata": {},
     "output_type": "execute_result"
    }
   ],
   "source": [
    "pd.DataFrame([pd.value_counts(y_train), \n",
    "              pd.value_counts(y_val), \n",
    "              pd.value_counts(y_test)], index=['train', 'val', 'test']).T"
   ]
  },
  {
   "cell_type": "code",
   "execution_count": 17,
   "metadata": {},
   "outputs": [],
   "source": [
    "def to_one_hot(y):\n",
    "    n_class = y.max()+1\n",
    "    y_onehot = np.zeros((len(y), n_class))\n",
    "    y_onehot[range(len(y)), y] = 1\n",
    "    return y_onehot"
   ]
  },
  {
   "cell_type": "code",
   "execution_count": 21,
   "metadata": {},
   "outputs": [
    {
     "data": {
      "text/plain": [
       "array([[1., 0., 0.],\n",
       "       [0., 1., 0.],\n",
       "       [0., 0., 1.],\n",
       "       [0., 1., 0.],\n",
       "       [0., 1., 0.]])"
      ]
     },
     "execution_count": 21,
     "metadata": {},
     "output_type": "execute_result"
    }
   ],
   "source": [
    "to_one_hot(y_train)[:5]"
   ]
  },
  {
   "cell_type": "code",
   "execution_count": 22,
   "metadata": {},
   "outputs": [
    {
     "data": {
      "text/plain": [
       "array([0, 1, 2, 1, 1])"
      ]
     },
     "execution_count": 22,
     "metadata": {},
     "output_type": "execute_result"
    }
   ],
   "source": [
    "y_train[:5]"
   ]
  },
  {
   "cell_type": "code",
   "execution_count": 23,
   "metadata": {},
   "outputs": [
    {
     "data": {
      "text/plain": [
       "((90, 3), (30, 3), (30, 3))"
      ]
     },
     "execution_count": 23,
     "metadata": {},
     "output_type": "execute_result"
    }
   ],
   "source": [
    "y_train_onehot = to_one_hot(y_train)\n",
    "y_val_onehot = to_one_hot(y_val)\n",
    "y_test_onehot = to_one_hot(y_test)\n",
    "\n",
    "y_train_onehot.shape, y_val_onehot.shape, y_test_onehot.shape"
   ]
  },
  {
   "cell_type": "code",
   "execution_count": 26,
   "metadata": {},
   "outputs": [],
   "source": [
    "def softmax(logits):\n",
    "    exps = np.exp(logits)\n",
    "    sum_exps = exps.sum(axis=1, keepdims=True)\n",
    "    return exps / sum_exps"
   ]
  },
  {
   "cell_type": "code",
   "execution_count": 29,
   "metadata": {},
   "outputs": [
    {
     "data": {
      "text/plain": [
       "array([[0.23484058, 0.26054705, 0.50461238],\n",
       "       [0.37623141, 0.27972236, 0.34404623],\n",
       "       [0.24866501, 0.33451877, 0.41681622],\n",
       "       [0.30039804, 0.3806741 , 0.31892786]])"
      ]
     },
     "execution_count": 29,
     "metadata": {},
     "output_type": "execute_result"
    }
   ],
   "source": [
    "softmax(np.random.rand(4, 3))"
   ]
  },
  {
   "cell_type": "code",
   "execution_count": 31,
   "metadata": {},
   "outputs": [
    {
     "data": {
      "text/plain": [
       "(3, 3, 90)"
      ]
     },
     "execution_count": 31,
     "metadata": {},
     "output_type": "execute_result"
    }
   ],
   "source": [
    "n_features = X_train.shape[1]\n",
    "n_class = len(np.unique(y_train))\n",
    "m = len(X_train)\n",
    "n_features, n_class, m"
   ]
  },
  {
   "cell_type": "code",
   "execution_count": 34,
   "metadata": {},
   "outputs": [
    {
     "name": "stdout",
     "output_type": "stream",
     "text": [
      "iter: 500, cost: 0.3973\n",
      "iter: 1000, cost: 0.3050\n",
      "iter: 1500, cost: 0.2599\n",
      "iter: 2000, cost: 0.2311\n",
      "iter: 2500, cost: 0.2105\n",
      "iter: 3000, cost: 0.1949\n",
      "iter: 3500, cost: 0.1825\n",
      "iter: 4000, cost: 0.1724\n",
      "iter: 4500, cost: 0.1640\n",
      "iter: 5000, cost: 0.1569\n"
     ]
    }
   ],
   "source": [
    "# Gradient descent with softmax\n",
    "\n",
    "eta = .1\n",
    "n_iters = 5001\n",
    "epsilon = 1e-7\n",
    "\n",
    "Theta = np.random.randn(n_features, n_class)\n",
    "for i in range(n_iters):\n",
    "    \n",
    "    logits = np.dot(X_train, Theta)\n",
    "    y_probs = softmax(logits)\n",
    "    cost = -(y_train_onehot * np.log(y_probs + epsilon)).sum(axis=1).mean()\n",
    "    errors = y_probs - y_train_onehot\n",
    "    d_theta = np.dot(X_train.T, errors) / m\n",
    "    \n",
    "    Theta -= eta*d_theta\n",
    "    if (i+1)%500 == 0:\n",
    "        print('iter: {}, cost: {:.4f}'.format(i+1, cost))"
   ]
  },
  {
   "cell_type": "code",
   "execution_count": 40,
   "metadata": {},
   "outputs": [
    {
     "data": {
      "text/plain": [
       "array([[ 9.12361186,  1.89668981, -9.10871028],\n",
       "       [-1.02681869,  1.0570057 ,  1.63237383],\n",
       "       [-3.09658701, -0.93802336,  4.04210016]])"
      ]
     },
     "execution_count": 40,
     "metadata": {},
     "output_type": "execute_result"
    }
   ],
   "source": [
    "Theta"
   ]
  },
  {
   "cell_type": "code",
   "execution_count": 38,
   "metadata": {},
   "outputs": [
    {
     "data": {
      "text/plain": [
       "0.9666666666666667"
      ]
     },
     "execution_count": 38,
     "metadata": {},
     "output_type": "execute_result"
    }
   ],
   "source": [
    "# train accuracy\n",
    "y_pred = np.argmax(np.dot(X_train, Theta), axis=1)\n",
    "(y_pred == y_train).mean()"
   ]
  },
  {
   "cell_type": "code",
   "execution_count": 39,
   "metadata": {},
   "outputs": [
    {
     "data": {
      "text/plain": [
       "0.9666666666666667"
      ]
     },
     "execution_count": 39,
     "metadata": {},
     "output_type": "execute_result"
    }
   ],
   "source": [
    "# val accuracy\n",
    "y_pred = np.argmax(np.dot(X_val, Theta), axis=1)\n",
    "(y_pred == y_val).mean()"
   ]
  },
  {
   "cell_type": "code",
   "execution_count": 106,
   "metadata": {},
   "outputs": [
    {
     "name": "stdout",
     "output_type": "stream",
     "text": [
      "iter: 500, cost: 0.4476\n",
      "iter: 1000, cost: 0.3963\n",
      "iter: 1500, cost: 0.3742\n",
      "iter: 2000, cost: 0.3611\n",
      "iter: 2500, cost: 0.3523\n",
      "iter: 3000, cost: 0.3461\n",
      "iter: 3500, cost: 0.3416\n",
      "iter: 4000, cost: 0.3381\n",
      "iter: 4500, cost: 0.3355\n",
      "iter: 5000, cost: 0.3333\n",
      "iter: 5500, cost: 0.3316\n",
      "iter: 6000, cost: 0.3302\n",
      "iter: 6500, cost: 0.3291\n",
      "iter: 7000, cost: 0.3281\n",
      "iter: 7500, cost: 0.3272\n",
      "iter: 8000, cost: 0.3265\n",
      "iter: 8500, cost: 0.3259\n",
      "iter: 9000, cost: 0.3253\n",
      "iter: 9500, cost: 0.3248\n",
      "iter: 10000, cost: 0.3244\n"
     ]
    }
   ],
   "source": [
    "# Batch Gradient Descent with L2-regularization\n",
    "eta = .1          # learning rate\n",
    "n_iters = 10001\n",
    "epsilon = 1e-7\n",
    "alpha = .01         # l2 parameter\n",
    "\n",
    "Theta = np.random.randn(n_features, n_class)\n",
    "for i in range(n_iters):\n",
    "    logits = np.dot(X_train, Theta)\n",
    "    y_probs = softmax(logits)\n",
    "    entropy_cost = -(y_train_onehot*np.log(y_probs + epsilon)).sum(axis=1).mean()\n",
    "    l2_cost = 0.5 * (Theta[:, 1:]**2).sum()\n",
    "    total_cost = entropy_cost + alpha*l2_cost\n",
    "    \n",
    "    errors = y_probs - y_train_onehot\n",
    "    d_theta = np.dot(X_train.T, errors) / m + np.c_[np.zeros(len(Theta)), alpha*Theta[:, 1:]]\n",
    "    Theta -= eta*d_theta\n",
    "    \n",
    "    if (i+1) % 500 == 0:\n",
    "        print(\"iter: {}, cost: {:.4f}\".format(i+1, total_cost))\n",
    "    "
   ]
  },
  {
   "cell_type": "code",
   "execution_count": 86,
   "metadata": {},
   "outputs": [
    {
     "data": {
      "text/plain": [
       "array([[10.64829802,  1.95846704, -2.26383416],\n",
       "       [-2.29731089,  0.01935585,  0.0595123 ],\n",
       "       [-4.25009554, -1.19715112,  1.30247416]])"
      ]
     },
     "execution_count": 86,
     "metadata": {},
     "output_type": "execute_result"
    }
   ],
   "source": [
    "Theta"
   ]
  },
  {
   "cell_type": "code",
   "execution_count": 87,
   "metadata": {},
   "outputs": [
    {
     "data": {
      "text/plain": [
       "0.9666666666666667"
      ]
     },
     "execution_count": 87,
     "metadata": {},
     "output_type": "execute_result"
    }
   ],
   "source": [
    "# train accuracy\n",
    "y_pred = np.argmax(np.dot(X_train, Theta), axis=1)\n",
    "(y_train==y_pred).mean()"
   ]
  },
  {
   "cell_type": "code",
   "execution_count": 88,
   "metadata": {},
   "outputs": [
    {
     "data": {
      "text/plain": [
       "0.9666666666666667"
      ]
     },
     "execution_count": 88,
     "metadata": {},
     "output_type": "execute_result"
    }
   ],
   "source": [
    "# val accuracy\n",
    "y_pred = np.argmax(np.dot(X_val, Theta), axis=1)\n",
    "(y_pred==y_val).mean()"
   ]
  },
  {
   "cell_type": "code",
   "execution_count": 108,
   "metadata": {},
   "outputs": [
    {
     "name": "stdout",
     "output_type": "stream",
     "text": [
      "iter: 500, cost: 0.4036\n",
      "iter: 1000, cost: 0.3250\n",
      "iter: 1500, cost: 0.2876\n",
      "iter: 2000, cost: 0.2650\n",
      "iter: 2500, cost: 0.2498\n",
      "iter: 3000, cost: 0.2389\n",
      "iter: 3500, cost: 0.2308\n",
      "iter: 4000, cost: 0.2246\n",
      "iter: 4500, cost: 0.2197\n",
      "iter: 5000, cost: 0.2157\n"
     ]
    }
   ],
   "source": [
    "# Batch Gradient Descent with L2-regularizer and Early-stop\n",
    "eta = .1\n",
    "n_iters = 5001\n",
    "alpha = .001\n",
    "epsilon = 1e-7\n",
    "best_cost = np.infty\n",
    "\n",
    "\n",
    "Theta = np.random.randn(n_features, n_class)\n",
    "for i in range(n_iters):\n",
    "    logits = np.dot(X_train, Theta)\n",
    "    y_probs = softmax(logits)\n",
    "    \n",
    "    # compute J(theta)\n",
    "    entropy_cost = -np.sum(y_train_onehot * np.log(y_probs + epsilon), axis=1).mean()\n",
    "    l2_cost = 0.5 * (Theta[:, 1:]**2).sum()\n",
    "    total_cost = entropy_cost + alpha*l2_cost\n",
    "    \n",
    "    # compute dJ(theta)\n",
    "    errors = y_probs - y_train_onehot\n",
    "    d_theta = np.dot(X_train.T, errors)/m + np.c_[np.zeros(len(Theta)), alpha*Theta[:, 1:]]\n",
    "    Theta -= eta*d_theta\n",
    "    \n",
    "    if (i+1)%500==0:\n",
    "        print('iter: {}, cost: {:.4f}'.format(i+1, total_cost))\n",
    "    \n",
    "    if total_cost < best_cost:\n",
    "        best_cost = total_cost\n",
    "    else:\n",
    "        print('iter: {}, cost: {:.4f}, Early stop!!!'.format(i+1, total_cost))\n",
    "        break"
   ]
  },
  {
   "cell_type": "code",
   "execution_count": 109,
   "metadata": {},
   "outputs": [
    {
     "data": {
      "text/plain": [
       "0.9666666666666667"
      ]
     },
     "execution_count": 109,
     "metadata": {},
     "output_type": "execute_result"
    }
   ],
   "source": [
    "# train accuracy\n",
    "y_pred = np.argmax(np.dot(X_train, Theta), axis=1)\n",
    "(y_pred==y_train).mean()"
   ]
  },
  {
   "cell_type": "code",
   "execution_count": 110,
   "metadata": {},
   "outputs": [
    {
     "data": {
      "text/plain": [
       "0.9666666666666667"
      ]
     },
     "execution_count": 110,
     "metadata": {},
     "output_type": "execute_result"
    }
   ],
   "source": [
    "# val accuracy\n",
    "y_pred = np.argmax(np.dot(X_val, Theta), axis=1)\n",
    "(y_pred==y_val).mean()"
   ]
  },
  {
   "cell_type": "code",
   "execution_count": 111,
   "metadata": {},
   "outputs": [
    {
     "data": {
      "text/plain": [
       "0.9666666666666667"
      ]
     },
     "execution_count": 111,
     "metadata": {},
     "output_type": "execute_result"
    }
   ],
   "source": [
    "# test accuracy\n",
    "y_pred = np.argmax(np.dot(X_test, Theta), axis=1)\n",
    "(y_pred == y_test).mean()"
   ]
  },
  {
   "cell_type": "code",
   "execution_count": 114,
   "metadata": {},
   "outputs": [
    {
     "data": {
      "text/plain": [
       "Text(0,0.5,'petal width (cm)')"
      ]
     },
     "execution_count": 114,
     "metadata": {},
     "output_type": "execute_result"
    },
    {
     "data": {
      "image/png": "[encoded data removed]",
      "text/plain": [
       "<matplotlib.figure.Figure at 0x23110d14f28>"
      ]
     },
     "metadata": {},
     "output_type": "display_data"
    }
   ],
   "source": [
    "x0_min, x0_max = X[:, 1].min()*.9, X[:, 1].max()*1.1\n",
    "x1_min, x1_max = X[:, 2].min()*.9, X[:, 2].max()*1.1\n",
    "\n",
    "X0, X1 = np.meshgrid(np.linspace(x0_min, x0_max, 500), \n",
    "                     np.linspace(x1_min, x1_max, 500))\n",
    "\n",
    "Y_probs = softmax(np.dot(np.c_[np.ones(len(X0.ravel())), X0.ravel(), X1.ravel()], Theta))\n",
    "Z_preds = np.argmax(Y_probs, axis=1).reshape(X0.shape)\n",
    "Z_probs = Y_probs[:, 1].reshape(X0.shape)\n",
    "\n",
    "plt.figure(figsize=(10, 6))\n",
    "for l, s in zip(np.unique(y), 'bx ro g^'.split()):\n",
    "    plt.plot(X[y==l, 1], X[y==l, 2], s, label=iris.target_names[l], alpha=.7)\n",
    "    \n",
    "plt.legend()\n",
    "plt.contourf(X0, X1, Z_preds, cmap=plt.cm.brg, alpha=.5)\n",
    "contour = plt.contour(X0, X1, Z_probs)\n",
    "plt.clabel(contour)\n",
    "plt.xlabel(iris.feature_names[2])\n",
    "plt.ylabel(iris.feature_names[3])"
   ]
  },
  {
   "cell_type": "code",
   "execution_count": 103,
   "metadata": {},
   "outputs": [
    {
     "data": {
      "text/plain": [
       "array(['setosa', 'versicolor', 'virginica'], dtype='<U10')"
      ]
     },
     "execution_count": 103,
     "metadata": {},
     "output_type": "execute_result"
    }
   ],
   "source": [
    "iris.target_names"
   ]
  },
  {
   "cell_type": "code",
   "execution_count": null,
   "metadata": {},
   "outputs": [],
   "source": []
  }
 ],
 "metadata": {
  "kernelspec": {
   "display_name": "Python [conda env:anaconda3]",
   "language": "python",
   "name": "conda-env-anaconda3-py"
  },
  "language_info": {
   "codemirror_mode": {
    "name": "ipython",
    "version": 3
   },
   "file_extension": ".py",
   "mimetype": "text/x-python",
   "name": "python",
   "nbconvert_exporter": "python",
   "pygments_lexer": "ipython3",
   "version": "3.6.4"
  }
 },
 "nbformat": 4,
 "nbformat_minor": 2
}
