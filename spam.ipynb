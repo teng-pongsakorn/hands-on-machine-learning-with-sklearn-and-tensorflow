{
 "cells": [
  {
   "cell_type": "code",
   "execution_count": 95,
   "metadata": {},
   "outputs": [],
   "source": [
    "import os\n",
    "import tarfile\n",
    "import urllib\n",
    "from email import policy\n",
    "from email.parser import BytesParser\n",
    "from collections import Counter\n",
    "\n",
    "import numpy as np\n",
    "import pandas as pd\n",
    "from sklearn.model_selection import train_test_split"
   ]
  },
  {
   "cell_type": "code",
   "execution_count": 6,
   "metadata": {},
   "outputs": [],
   "source": [
    "BASE_URL = 'http://spamassassin.apache.org/old/publiccorpus/'\n",
    "HAM_URL = BASE_URL + '20030228_easy_ham.tar.bz2'\n",
    "SPAM_URL = BASE_URL + '20030228_spam.tar.bz2'\n",
    "\n",
    "BASE_DIR = 'datasets/spam'"
   ]
  },
  {
   "cell_type": "code",
   "execution_count": 4,
   "metadata": {},
   "outputs": [
    {
     "data": {
      "text/plain": [
       "'http://spamassassin.apache.org/old/publiccorpus/20030228_easy_ham.tar.bz2'"
      ]
     },
     "execution_count": 4,
     "metadata": {},
     "output_type": "execute_result"
    }
   ],
   "source": [
    "HAM_URL"
   ]
  },
  {
   "cell_type": "code",
   "execution_count": 5,
   "metadata": {},
   "outputs": [
    {
     "data": {
      "text/plain": [
       "'http://spamassassin.apache.org/old/publiccorpus/20030228_spam.tar.bz2'"
      ]
     },
     "execution_count": 5,
     "metadata": {},
     "output_type": "execute_result"
    }
   ],
   "source": [
    "SPAM_URL"
   ]
  },
  {
   "cell_type": "code",
   "execution_count": 46,
   "metadata": {},
   "outputs": [],
   "source": [
    "def fetch_spam_data(download_url, file_dir):\n",
    "    if not os.path.isdir(file_dir):\n",
    "        os.makedirs(file_dir)\n",
    "    filename = os.path.basename(download_url)\n",
    "    file_path = os.path.join(file_dir, filename)\n",
    "    print(\"downloading from:\", download_url)\n",
    "    urllib.request.urlretrieve(download_url, file_path)\n",
    "    print('extracting to:', file_dir)\n",
    "    with tarfile.open(file_path) as tar:\n",
    "        tar.extractall(file_dir)\n",
    "    print('deleting:', file_path)\n",
    "    os.remove(file_path)\n",
    "    \n",
    "def load_email(filename, file_dir):\n",
    "    with open(os.path.join(file_dir, filename), 'rb') as f:\n",
    "        return BytesParser(policy=policy.default).parse(f)"
   ]
  },
  {
   "cell_type": "code",
   "execution_count": 26,
   "metadata": {},
   "outputs": [
    {
     "name": "stdout",
     "output_type": "stream",
     "text": [
      "downloading from: http://spamassassin.apache.org/old/publiccorpus/20030228_easy_ham.tar.bz2\n",
      "extracting to: datasets/spam\n",
      "deleting: datasets/spam\\20030228_easy_ham.tar.bz2\n"
     ]
    }
   ],
   "source": [
    "fetch_spam_data(HAM_URL, BASE_DIR)"
   ]
  },
  {
   "cell_type": "code",
   "execution_count": 27,
   "metadata": {},
   "outputs": [
    {
     "name": "stdout",
     "output_type": "stream",
     "text": [
      "downloading from: http://spamassassin.apache.org/old/publiccorpus/20030228_spam.tar.bz2\n",
      "extracting to: datasets/spam\n",
      "deleting: datasets/spam\\20030228_spam.tar.bz2\n"
     ]
    }
   ],
   "source": [
    "fetch_spam_data(SPAM_URL, BASE_DIR)"
   ]
  },
  {
   "cell_type": "code",
   "execution_count": 29,
   "metadata": {},
   "outputs": [
    {
     "data": {
      "text/plain": [
       "('datasets/spam\\\\spam', 'datasets/spam\\\\easy_ham')"
      ]
     },
     "execution_count": 29,
     "metadata": {},
     "output_type": "execute_result"
    }
   ],
   "source": [
    "spam_dir = os.path.join(BASE_DIR, 'spam')\n",
    "ham_dir = os.path.join(BASE_DIR, 'easy_ham')\n",
    "spam_dir, ham_dir"
   ]
  },
  {
   "cell_type": "code",
   "execution_count": 47,
   "metadata": {},
   "outputs": [],
   "source": [
    "spam_files = [doc for doc in sorted(os.listdir(spam_dir)) if not doc.startswith('cmd')]\n",
    "ham_files = [doc for doc in sorted(os.listdir(ham_dir)) if not doc.startswith('cmd')]"
   ]
  },
  {
   "cell_type": "code",
   "execution_count": 49,
   "metadata": {},
   "outputs": [
    {
     "data": {
      "text/plain": [
       "(500, 2500)"
      ]
     },
     "execution_count": 49,
     "metadata": {},
     "output_type": "execute_result"
    }
   ],
   "source": [
    "len(spam_files), len(ham_files)"
   ]
  },
  {
   "cell_type": "code",
   "execution_count": 50,
   "metadata": {},
   "outputs": [],
   "source": [
    "spam_docs = [load_email(email, spam_dir) for email in spam_files]"
   ]
  },
  {
   "cell_type": "code",
   "execution_count": 53,
   "metadata": {},
   "outputs": [],
   "source": [
    "ham_docs = [load_email(email, ham_dir) for email in ham_files]"
   ]
  },
  {
   "cell_type": "code",
   "execution_count": 52,
   "metadata": {},
   "outputs": [
    {
     "data": {
      "text/plain": [
       "'<!DOCTYPE HTML PUBLIC \"-//W3C//DTD HTML 4.0 Transitional//EN\">\\n<HTML><HEAD>\\n<META content=\"text/html; charset=windows-1252\" http-equiv=Content-Type>\\n<META content=\"MSHTML 5.00.2314.1000\" name=GENERATOR></HEAD>\\n<BODY><!-- Inserted by Calypso -->\\n<TABLE border=0 cellPadding=0 cellSpacing=2 id=_CalyPrintHeader_ rules=none \\nstyle=\"COLOR: black; DISPLAY: none\" width=\"100%\">\\n  <TBODY>\\n  <TR>\\n    <TD colSpan=3>\\n      <HR color=black noShade SIZE=1>\\n    </TD></TR></TD></TR>\\n  <TR>\\n    <TD colSpan=3>\\n      <HR color=black noShade SIZE=1>\\n    </TD></TR></TBODY></TABLE><!-- End Calypso --><!-- Inserted by Calypso --><FONT \\ncolor=#000000 face=VERDANA,ARIAL,HELVETICA size=-2><BR></FONT></TD></TR></TABLE><!-- End Calypso --><FONT color=#ff0000 \\nface=\"Copperplate Gothic Bold\" size=5 PTSIZE=\"10\">\\n<CENTER>Save up to 70% on Life Insurance.</CENTER></FONT><FONT color=#ff0000 \\nface=\"Copperplate Gothic Bold\" size=5 PTSIZE=\"10\">\\n<CENTER>Why Spend More Than You Have To?\\n<CENTER><FONT color=#ff0000 face=\"Copperplate Gothic Bold\" size=5 PTSIZE=\"10\">\\n<CENTER>Life Quote Savings\\n<CENTER>\\n<P align=left></P>\\n<P align=left></P></FONT></U></I></B><BR></FONT></U></B></U></I>\\n<P></P>\\n<CENTER>\\n<TABLE border=0 borderColor=#111111 cellPadding=0 cellSpacing=0 width=650>\\n  <TBODY></TBODY></TABLE>\\n<TABLE border=0 borderColor=#111111 cellPadding=5 cellSpacing=0 width=650>\\n  <TBODY>\\n  <TR>\\n    <TD colSpan=2 width=\"35%\"><B><FONT face=Verdana size=4>Ensuring your \\n      family\\'s financial security is very important. Life Quote Savings makes \\n      buying life insurance simple and affordable. We Provide FREE Access to The \\n      Very Best Companies and The Lowest Rates.</FONT></B></TD></TR>\\n  <TR>\\n    <TD align=middle vAlign=top width=\"18%\">\\n      <TABLE borderColor=#111111 width=\"100%\">\\n        <TBODY>\\n        <TR>\\n          <TD style=\"PADDING-LEFT: 5px; PADDING-RIGHT: 5px\" width=\"100%\"><FONT \\n            face=Verdana size=4><B>Life Quote Savings</B> is FAST, EASY and \\n            SAVES you money! Let us help you get started with the best values in \\n            the country on new coverage. You can SAVE hundreds or even thousands \\n            of dollars by requesting a FREE quote from Lifequote Savings. Our \\n            service will take you less than 5 minutes to complete. Shop and \\n            compare. SAVE up to 70% on all types of Life insurance! \\n</FONT></TD></TR>\\n        <TR><BR><BR>\\n          <TD height=50 style=\"PADDING-LEFT: 5px; PADDING-RIGHT: 5px\" \\n          width=\"100%\">\\n            <P align=center><B><FONT face=Verdana size=5><A \\n            href=\"http://website.e365.cc/savequote/\">Click Here For Your \\n            Free Quote!</A></FONT></B></P></TD>\\n          <P><FONT face=Verdana size=4><STRONG>\\n          <CENTER>Protecting your family is the best investment you\\'ll ever \\n          make!<BR></B></TD></TR>\\n        <TR><BR><BR></STRONG></FONT></TD></TR></TD></TR>\\n        <TR></TR></TBODY></TABLE>\\n      <P align=left><FONT face=\"Arial, Helvetica, sans-serif\" size=2></FONT></P>\\n      <P></P>\\n      <CENTER><BR><BR><BR>\\n      <P></P>\\n      <P align=left><BR></B><BR><BR><BR><BR></P>\\n      <P align=center><BR></P>\\n      <P align=left><BR></B><BR><BR></FONT>If you are in receipt of this email \\n      in error and/or wish to be removed from our list, <A \\n      href=\"mailto:coins@btamail.net.cn\">PLEASE CLICK HERE</A> AND TYPE REMOVE. If you \\n      reside in any state which prohibits e-mail solicitations for insurance, \\n      please disregard this \\n      email.<BR></FONT><BR><BR><BR><BR><BR><BR><BR><BR><BR><BR><BR><BR><BR><BR><BR><BR></FONT></P></CENTER></CENTER></TR></TBODY></TABLE></CENTER></CENTER></CENTER></CENTER></CENTER></BODY></HTML>\\n\\n\\n\\n'"
      ]
     },
     "execution_count": 52,
     "metadata": {},
     "output_type": "execute_result"
    }
   ],
   "source": [
    "spam_docs[0].get_content()"
   ]
  },
  {
   "cell_type": "code",
   "execution_count": 54,
   "metadata": {},
   "outputs": [
    {
     "data": {
      "text/plain": [
       "'    Date:        Wed, 21 Aug 2002 10:54:46 -0500\\n    From:        Chris Garrigues <cwg-dated-1030377287.06fa6d@DeepEddy.Com>\\n    Message-ID:  <1029945287.4797.TMDA@deepeddy.vircio.com>\\n\\n\\n  | I can\\'t reproduce this error.\\n\\nFor me it is very repeatable... (like every time, without fail).\\n\\nThis is the debug log of the pick happening ...\\n\\n18:19:03 Pick_It {exec pick +inbox -list -lbrace -lbrace -subject ftp -rbrace -rbrace} {4852-4852 -sequence mercury}\\n18:19:03 exec pick +inbox -list -lbrace -lbrace -subject ftp -rbrace -rbrace 4852-4852 -sequence mercury\\n18:19:04 Ftoc_PickMsgs {{1 hit}}\\n18:19:04 Marking 1 hits\\n18:19:04 tkerror: syntax error in expression \"int ...\\n\\nNote, if I run the pick command by hand ...\\n\\ndelta$ pick +inbox -list -lbrace -lbrace -subject ftp -rbrace -rbrace  4852-4852 -sequence mercury\\n1 hit\\n\\nThat\\'s where the \"1 hit\" comes from (obviously).  The version of nmh I\\'m\\nusing is ...\\n\\ndelta$ pick -version\\npick -- nmh-1.0.4 [compiled on fuchsia.cs.mu.OZ.AU at Sun Mar 17 14:55:56 ICT 2002]\\n\\nAnd the relevant part of my .mh_profile ...\\n\\ndelta$ mhparam pick\\n-seq sel -list\\n\\n\\nSince the pick command works, the sequence (actually, both of them, the\\none that\\'s explicit on the command line, from the search popup, and the\\none that comes from .mh_profile) do get created.\\n\\nkre\\n\\nps: this is still using the version of the code form a day ago, I haven\\'t\\nbeen able to reach the cvs repository today (local routing issue I think).\\n\\n\\n\\n_______________________________________________\\nExmh-workers mailing list\\nExmh-workers@redhat.com\\nhttps://listman.redhat.com/mailman/listinfo/exmh-workers\\n\\n'"
      ]
     },
     "execution_count": 54,
     "metadata": {},
     "output_type": "execute_result"
    }
   ],
   "source": [
    "ham_docs[0].get_content()"
   ]
  },
  {
   "cell_type": "code",
   "execution_count": 55,
   "metadata": {},
   "outputs": [
    {
     "data": {
      "text/plain": [
       "'text/plain'"
      ]
     },
     "execution_count": 55,
     "metadata": {},
     "output_type": "execute_result"
    }
   ],
   "source": [
    "ham_docs[0].get_content_type()"
   ]
  },
  {
   "cell_type": "code",
   "execution_count": 58,
   "metadata": {},
   "outputs": [
    {
     "data": {
      "text/plain": [
       "'    Date:        Wed, 21 Aug 2002 10:54:46 -0500\\n    From:        Chris Garrigues <cwg-dated-1030377287.06fa6d@DeepEddy.Com>\\n    Message-ID:  <1029945287.4797.TMDA@deepeddy.vircio.com>\\n\\n\\n  | I can\\'t reproduce this error.\\n\\nFor me it is very repeatable... (like every time, without fail).\\n\\nThis is the debug log of the pick happening ...\\n\\n18:19:03 Pick_It {exec pick +inbox -list -lbrace -lbrace -subject ftp -rbrace -rbrace} {4852-4852 -sequence mercury}\\n18:19:03 exec pick +inbox -list -lbrace -lbrace -subject ftp -rbrace -rbrace 4852-4852 -sequence mercury\\n18:19:04 Ftoc_PickMsgs {{1 hit}}\\n18:19:04 Marking 1 hits\\n18:19:04 tkerror: syntax error in expression \"int ...\\n\\nNote, if I run the pick command by hand ...\\n\\ndelta$ pick +inbox -list -lbrace -lbrace -subject ftp -rbrace -rbrace  4852-4852 -sequence mercury\\n1 hit\\n\\nThat\\'s where the \"1 hit\" comes from (obviously).  The version of nmh I\\'m\\nusing is ...\\n\\ndelta$ pick -version\\npick -- nmh-1.0.4 [compiled on fuchsia.cs.mu.OZ.AU at Sun Mar 17 14:55:56 ICT 2002]\\n\\nAnd the relevant part of my .mh_profile ...\\n\\ndelta$ mhparam pick\\n-seq sel -list\\n\\n\\nSince the pick command works, the sequence (actually, both of them, the\\none that\\'s explicit on the command line, from the search popup, and the\\none that comes from .mh_profile) do get created.\\n\\nkre\\n\\nps: this is still using the version of the code form a day ago, I haven\\'t\\nbeen able to reach the cvs repository today (local routing issue I think).\\n\\n\\n\\n_______________________________________________\\nExmh-workers mailing list\\nExmh-workers@redhat.com\\nhttps://listman.redhat.com/mailman/listinfo/exmh-workers\\n\\n'"
      ]
     },
     "execution_count": 58,
     "metadata": {},
     "output_type": "execute_result"
    }
   ],
   "source": [
    "ham_docs[0].get_payload()"
   ]
  },
  {
   "cell_type": "code",
   "execution_count": 73,
   "metadata": {},
   "outputs": [
    {
     "data": {
      "text/plain": [
       "'Mr Fork writes:\\n  Jim Whitehead writes:\\n> > For toddlers, pressing play must cause the music to start immediately,\\n> > within half a second, for the toddler to get the causality and not press\\n> the\\n> > button multiple times.\\n> Or some sound indicating that the music will start real soon now.\\n\\nA tonal countdown would be nice.\\n\\n> > What would the ideal toddler CD player be like? It would immediately start\\n> > playing a CD after it was loaded.\\n> It\\'d be an MP3 player with solid state storage... instant on.\\n\\nHmm. Seems like every CD player should include the\\ncapability to rip, encode, and cache the last few CDs \\ninserted. \\n\\nPlayback would then never need to face seek delays... \\nafter the initial ripping, the only use of the laser \\npickup would be recognizing which CD is inserted --\\nwhich might be doable faster than a seek-and-start-at-\\nfirst-track operation.\\n\\nYou could also take the CD out while it is \"playing\".\\n\\nHmm. If the CD is still in the cache, maybe you don\\'t\\neven have to insert it. Or choose it from a step-through\\nUI. Instead, you just wave it at an electronic eye of\\nsome sort... and the player recognizes it from the \\nsilkscreening. Kids would like that. \"Play this,\" they\\'d\\nsay, facing the CD at the player, and the player would\\nstart immediately.\\n\\n- Gordon\\n\\n\\n\\n'"
      ]
     },
     "execution_count": 73,
     "metadata": {},
     "output_type": "execute_result"
    }
   ],
   "source": [
    "i = np.random.randint(500)\n",
    "ham_docs[i].get_payload()"
   ]
  },
  {
   "cell_type": "code",
   "execution_count": 74,
   "metadata": {},
   "outputs": [
    {
     "data": {
      "text/plain": [
       "{'multipart/alternative',\n",
       " 'multipart/mixed',\n",
       " 'multipart/related',\n",
       " 'text/html',\n",
       " 'text/plain'}"
      ]
     },
     "execution_count": 74,
     "metadata": {},
     "output_type": "execute_result"
    }
   ],
   "source": [
    "{mail.get_content_type() for mail in spam_docs}"
   ]
  },
  {
   "cell_type": "code",
   "execution_count": 78,
   "metadata": {},
   "outputs": [],
   "source": [
    "a = [mail for mail in spam_docs if isinstance(mail.get_payload(), list)]"
   ]
  },
  {
   "cell_type": "code",
   "execution_count": 81,
   "metadata": {},
   "outputs": [
    {
     "data": {
      "text/plain": [
       "'URGENT PRIVATE & EXTREMELY CONFIDENTIAL\\n\\n\\n\\nDear =2C\\n\\nWith profound interest and in utmost confidence=2C I am\\nsoliciting your immediate assistance or co-operation\\nas to enable us round up an opportunity within my\\ncapability as a result of the death of one of our\\ncontractor =28Beneficiary=29=2E You should not be surprised\\nas to how I got your contact=2C you were highly\\nrecommended to me with the believe that you are\\ncompetent=2C reliable=2C Trustworthy and confident=2E\\n\\nI am  Dr=2E Bello Ahmed=2C Chief Auditor=2C Special Project\\nand Foreign Contract Regularization and Disbursement=2C\\nin the Office of the Auditor General of the Federation\\nof Federal Republic of Nigeria=2E We work in hand with\\nthe Senate Committee on Foreign Contract Payment=2E Our\\nduty is to ensure that all contractors are paid their\\ncontract sum in due time=2E\\n\\nThis last payment quarter=2C a total of 30 contractors\\nwere short listed for payment and about 25 of them\\nhave been paid remaining about 5 =28Five=29=2C information\\nreaching this office indicates that one among the\\nremaining has been reported dead=2E His name is Mr=2E\\nGerrand Schwartz from Sweden=2C he died in the last Air\\nFrance Concorde plane crash=2E Meanwhile he finished the\\nexecution of his contract December 19th 1999=2E But\\nsince his death=2C nobody has come forward to put a\\nclaim to his contract fund which is about\\nUS$15=2C500=2C000=2E00 Million =28fifteen Million Five\\nHundred Thousand U=2ES Dollars=29 that is why I need your\\nimmediate assistance to expedite the transfer of the\\ncontract amount=2E\\n\\nWith my position as a Director  in the Department of\\nContract Regularisation and Disbursement=2C I will\\nregularize all the necessary documents and present\\nyour company as the bona-fide beneficiary of this fund\\nin as   much as you respond within 48 hours for\\nrespect of this important message=2E Your unreserved\\ncooperation in this business is just what we require\\nfor a successful and hitch =96 free transaction=2E\\nNecessary measures to ensure a risk =96 free and fool\\nproof transaction and confidentiality has been taken=2E\\n\\n\\nKindly signify your interest by replying via my\\npersonal e =96mail address above=2E Upon receipt of your\\npositive reply we shall discuss on =281=29 Basic Program\\nfor Operation =282=29 Financial Status as to ascertain\\nyour capability=2E  Upon completion of this transaction\\nI have decided to give you 30% of the total sum=2C 60%\\nof the fund which is our share will be used for\\ninvestment in your company or in any other company of\\nour choice=2E While10% has been mapped out to take care\\nof any minor expenses incurred=2E Take note that this\\nproject will last for only 21 working days=2E\\n\\nI expect your response in time =28within 48 hours=29 as\\ntime is of great essence in this transaction=2E\\n\\nGod Bless and Kind Regards=2C\\n\\nDr=2E Bello Ahmed\\n\\n'"
      ]
     },
     "execution_count": 81,
     "metadata": {},
     "output_type": "execute_result"
    }
   ],
   "source": [
    "a[0].get_payload()[0].get_payload()"
   ]
  },
  {
   "cell_type": "code",
   "execution_count": 82,
   "metadata": {},
   "outputs": [
    {
     "data": {
      "text/plain": [
       "{email.message.EmailMessage}"
      ]
     },
     "execution_count": 82,
     "metadata": {},
     "output_type": "execute_result"
    }
   ],
   "source": [
    "{type(mail) for mail in ham_docs}"
   ]
  },
  {
   "cell_type": "code",
   "execution_count": 87,
   "metadata": {},
   "outputs": [],
   "source": [
    "def get_email_structure(email):\n",
    "    if isinstance(email, str):\n",
    "        return email\n",
    "    payload = email.get_payload()\n",
    "    if isinstance(payload, list):\n",
    "        return \"multipart({})\".format(', '.join(get_email_structure(subemail) \n",
    "                                                for subemail in payload))\n",
    "    else:\n",
    "        return email.get_content_type()\n",
    "    \n",
    "def structures_counters(emails):\n",
    "    c = Counter([get_email_structure(email) for email in emails])\n",
    "    return c"
   ]
  },
  {
   "cell_type": "code",
   "execution_count": 84,
   "metadata": {},
   "outputs": [
    {
     "data": {
      "text/plain": [
       "{'multipart(multipart(text/html))',\n",
       " 'multipart(multipart(text/html), application/octet-stream, image/jpeg)',\n",
       " 'multipart(multipart(text/plain, text/html), image/gif)',\n",
       " 'multipart(text/html)',\n",
       " 'multipart(text/html, application/octet-stream)',\n",
       " 'multipart(text/html, text/plain)',\n",
       " 'multipart(text/plain)',\n",
       " 'multipart(text/plain, application/octet-stream)',\n",
       " 'multipart(text/plain, image/jpeg)',\n",
       " 'multipart(text/plain, text/html)',\n",
       " 'multipart/alternative',\n",
       " 'text/html',\n",
       " 'text/plain'}"
      ]
     },
     "execution_count": 84,
     "metadata": {},
     "output_type": "execute_result"
    }
   ],
   "source": [
    "{get_email_structure(email) for email in spam_docs}"
   ]
  },
  {
   "cell_type": "code",
   "execution_count": 91,
   "metadata": {},
   "outputs": [
    {
     "data": {
      "text/plain": [
       "[('text/plain', 2408),\n",
       " ('multipart(text/plain, application/pgp-signature)', 66),\n",
       " ('multipart(text/plain, text/html)', 8),\n",
       " ('multipart(text/plain, text/plain)', 4),\n",
       " ('multipart(text/plain)', 3),\n",
       " ('multipart(text/plain, application/octet-stream)', 2),\n",
       " ('multipart(text/plain, text/enriched)', 1),\n",
       " ('multipart(text/plain, application/ms-tnef, text/plain)', 1),\n",
       " ('multipart(text/plain, multipart(text/plain, text/plain), text/rfc822-headers)',\n",
       "  1),\n",
       " ('multipart(text/plain, application/x-java-applet)', 1),\n",
       " ('multipart(text/plain, application/x-pkcs7-signature)', 1),\n",
       " ('multipart(text/plain, video/mng)', 1),\n",
       " ('multipart(text/plain, multipart(text/plain, text/plain), multipart(multipart(text/plain, application/x-pkcs7-signature)))',\n",
       "  1),\n",
       " ('multipart(multipart(text/plain, text/plain, text/plain), application/pgp-signature)',\n",
       "  1),\n",
       " ('multipart(text/plain, multipart(text/plain))', 1)]"
      ]
     },
     "execution_count": 91,
     "metadata": {},
     "output_type": "execute_result"
    }
   ],
   "source": [
    "structures_counters(ham_docs).most_common()"
   ]
  },
  {
   "cell_type": "code",
   "execution_count": 90,
   "metadata": {},
   "outputs": [
    {
     "data": {
      "text/plain": [
       "[('text/plain', 218),\n",
       " ('text/html', 183),\n",
       " ('multipart(text/plain, text/html)', 45),\n",
       " ('multipart(text/html)', 20),\n",
       " ('multipart(text/plain)', 19),\n",
       " ('multipart(multipart(text/html))', 5),\n",
       " ('multipart(text/plain, image/jpeg)', 3),\n",
       " ('multipart(text/html, application/octet-stream)', 2),\n",
       " ('multipart(text/plain, application/octet-stream)', 1),\n",
       " ('multipart(text/html, text/plain)', 1),\n",
       " ('multipart(multipart(text/html), application/octet-stream, image/jpeg)', 1),\n",
       " ('multipart/alternative', 1),\n",
       " ('multipart(multipart(text/plain, text/html), image/gif)', 1)]"
      ]
     },
     "execution_count": 90,
     "metadata": {},
     "output_type": "execute_result"
    }
   ],
   "source": [
    "structures_counters(spam_docs).most_common()"
   ]
  },
  {
   "cell_type": "code",
   "execution_count": 92,
   "metadata": {},
   "outputs": [
    {
     "data": {
      "text/plain": [
       "<email.message.EmailMessage at 0x2916330c0b8>"
      ]
     },
     "execution_count": 92,
     "metadata": {},
     "output_type": "execute_result"
    }
   ],
   "source": [
    "email = a[10]\n",
    "email"
   ]
  },
  {
   "cell_type": "code",
   "execution_count": 94,
   "metadata": {},
   "outputs": [
    {
     "name": "stdout",
     "output_type": "stream",
     "text": [
      "Return-Path ::: <mando@insiq.us>\n",
      "Delivered-To ::: zzzz@localhost.spamassassin.taint.org\n",
      "Received ::: from localhost (localhost [127.0.0.1])\tby phobos.labs.spamassassin.taint.org (Postfix) with ESMTP id 1B07847CCA\tfor <zzzz@localhost>; Mon, 26 Aug 2002 10:42:12 -0400 (EDT)\n",
      "Received ::: from phobos [127.0.0.1]\tby localhost with IMAP (fetchmail-5.9.0)\tfor zzzz@localhost (single-drop); Mon, 26 Aug 2002 15:42:12 +0100 (IST)\n",
      "Received ::: from mail1.insuranceiq.com (host66.insuranceiq.com    [65.217.159.66] (may be forged)) by dogma.slashnull.org (8.11.6/8.11.6)    with ESMTP id g7PNukZ31378 for <zzzz@jmason.org>; Mon, 26 Aug 2002 00:56:47    +0100\n",
      "Received ::: from mail pickup service by mail1.insuranceiq.com with Microsoft    SMTPSVC; Sun, 25 Aug 2002 19:57:34 -0400\n",
      "Subject ::: More cash for the business you already write - IMMEDIATELY\n",
      "To ::: zzzz@spamassassin.taint.org\n",
      "Date ::: Sun, 25 Aug 2002 19:57:34 -0400\n",
      "From ::: IQ - M&O Marketing <mando@insiq.us>\n",
      "Message-Id ::: <3c317101c24c93$2e9d9d20$6b01a8c0@insuranceiq.com>\n",
      "X-Mailer ::: Microsoft CDO for Windows 2000\n",
      "MIME-Version ::: 1.0\n",
      "Thread-Index ::: AcJMfzp1BA79ts+WS2KwLJFJwR7QiQ==\n",
      "X-Mimeole ::: Produced By Microsoft MimeOLE V5.50.4522.1200\n",
      "Content-Class ::: urn:content-classes:message\n",
      "X-Originalarrivaltime ::: 25 Aug 2002 23:57:34.0781 (UTC) FILETIME=[2EBC96D0:01C24C93]\n",
      "Content-Type ::: multipart/alternative; boundary=\"----=_NextPart_000_3A5886_01C24C5D.B368E220\"\n"
     ]
    }
   ],
   "source": [
    "for k,v in email.items():\n",
    "    print(\"{} ::: {}\".format(k, v))"
   ]
  },
  {
   "cell_type": "code",
   "execution_count": 96,
   "metadata": {},
   "outputs": [
    {
     "data": {
      "text/plain": [
       "((3000,), (3000,))"
      ]
     },
     "execution_count": 96,
     "metadata": {},
     "output_type": "execute_result"
    }
   ],
   "source": [
    "X = np.asarray(ham_docs + spam_docs)\n",
    "y = np.asarray([0]*len(ham_docs) + [1]*len(spam_docs))\n",
    "\n",
    "X.shape, y.shape"
   ]
  },
  {
   "cell_type": "code",
   "execution_count": 97,
   "metadata": {},
   "outputs": [],
   "source": [
    "X_train, X_test, y_train, y_test = train_test_split(X, y, test_size=.2, random_state=42)"
   ]
  },
  {
   "cell_type": "code",
   "execution_count": 98,
   "metadata": {},
   "outputs": [
    {
     "data": {
      "text/plain": [
       "((2400,), (2400,), (600,), (600,))"
      ]
     },
     "execution_count": 98,
     "metadata": {},
     "output_type": "execute_result"
    }
   ],
   "source": [
    "X_train.shape, y_train.shape, X_test.shape, y_test.shape"
   ]
  },
  {
   "cell_type": "code",
   "execution_count": 100,
   "metadata": {},
   "outputs": [
    {
     "data": {
      "text/plain": [
       "0    0.83125\n",
       "1    0.16875\n",
       "dtype: float64"
      ]
     },
     "execution_count": 100,
     "metadata": {},
     "output_type": "execute_result"
    }
   ],
   "source": [
    "pd.value_counts(y_train, normalize=True)"
   ]
  },
  {
   "cell_type": "code",
   "execution_count": 101,
   "metadata": {},
   "outputs": [
    {
     "data": {
      "text/plain": [
       "0    0.841667\n",
       "1    0.158333\n",
       "dtype: float64"
      ]
     },
     "execution_count": 101,
     "metadata": {},
     "output_type": "execute_result"
    }
   ],
   "source": [
    "pd.value_counts(y_test, normalize=True)"
   ]
  },
  {
   "cell_type": "code",
   "execution_count": 106,
   "metadata": {},
   "outputs": [
    {
     "data": {
      "text/plain": [
       "[<email.message.EmailMessage at 0x2916373b240>,\n",
       " <email.message.EmailMessage at 0x29162453278>]"
      ]
     },
     "execution_count": 106,
     "metadata": {},
     "output_type": "execute_result"
    }
   ],
   "source": [
    "list(a[8].walk())"
   ]
  },
  {
   "cell_type": "code",
   "execution_count": 109,
   "metadata": {},
   "outputs": [],
   "source": [
    "html_doc = spam_docs[0].get_content()"
   ]
  },
  {
   "cell_type": "code",
   "execution_count": 110,
   "metadata": {},
   "outputs": [],
   "source": [
    "from bs4 import BeautifulSoup"
   ]
  },
  {
   "cell_type": "code",
   "execution_count": 116,
   "metadata": {},
   "outputs": [],
   "source": [
    "soup = BeautifulSoup(html_doc, 'html.parser')"
   ]
  },
  {
   "cell_type": "code",
   "execution_count": 144,
   "metadata": {},
   "outputs": [],
   "source": [
    "def email_to_text(email):\n",
    "    for part in email.walk():\n",
    "        content_type = part.get_content_type()\n",
    "        if content_type not in {'text/plain', 'text/html'}:\n",
    "            continue\n",
    "        try:\n",
    "            content = part.get_content()\n",
    "        except:\n",
    "            content = str(part.get_payload())\n",
    "        \n",
    "        if content_type == 'text/plain':\n",
    "            return content.strip().replace('\\n', ' ')\n",
    "        elif content_type=='text/html':\n",
    "            soup = BeautifulSoup(content, 'html.parser')\n",
    "            return soup.get_text().strip().replace('\\n', ' ')"
   ]
  },
  {
   "cell_type": "code",
   "execution_count": 145,
   "metadata": {},
   "outputs": [
    {
     "data": {
      "text/plain": [
       "'ATTN: President,  From: Mrs.Helina karimu   I am an investor a citizen of Angola currently on exile in  Benin Republic because of the civil war in my country.I  wish to invest in a country with political stability,  reliable, dependable infrastructure and security of life  and property.   I was given your contact address by a foriegner who was on  a working visit in Cotonou. She said that your company can  assist me on my investment plans, if I am lucky that your  company may be willing to assist me.It may interest you to  know that I am having $30.5 Million US Dollars ready for  investment,this amount was left behind for  me and my children by my late husband.  I am willing to invest in a company with potentials for  growth and stability including your company if your bye-  laws allows for foreign investors or any other good and  profitable business that you may suggest.I will be very  happy if this enquiry receive urgent attention.  You should mail your acceptance by sending to me your  personal and company profile as I will also send to you all  required information about myself and the help that I need  from you about my investment plans.  You can also reach me at:helinakarimu@ecplaza.net and  hk_hk@post.com.  Hoping for a very successful business relationship with you.  Yours Truly,  Mrs.Helina Karimu. (Investor) ______________________________________________________ Boîte aux lettres - Caramail - http://www.caramail.com'"
      ]
     },
     "execution_count": 145,
     "metadata": {},
     "output_type": "execute_result"
    }
   ],
   "source": [
    "email_to_text(a[8])"
   ]
  },
  {
   "cell_type": "code",
   "execution_count": 146,
   "metadata": {},
   "outputs": [
    {
     "data": {
      "text/plain": [
       "\"Save up to 70% on Life Insurance. Why Spend More Than You Have To?  Life Quote Savings           Ensuring your        family's financial security is very important. Life Quote Savings makes        buying life insurance simple and affordable. We Provide FREE Access to The        Very Best Companies and The Lowest Rates.      Life Quote Savings is FAST, EASY and              SAVES you money! Let us help you get started with the best values in              the country on new coverage. You can SAVE hundreds or even thousands              of dollars by requesting a FREE quote from Lifequote Savings. Our              service will take you less than 5 minutes to complete. Shop and              compare. SAVE up to 70% on all types of Life insurance!     Click Here For Your              Free Quote!  Protecting your family is the best investment you'll ever            make!         If you are in receipt of this email        in error and/or wish to be removed from our list, PLEASE CLICK HERE AND TYPE REMOVE. If you        reside in any state which prohibits e-mail solicitations for insurance,        please disregard this        email.\""
      ]
     },
     "execution_count": 146,
     "metadata": {},
     "output_type": "execute_result"
    }
   ],
   "source": [
    "email_to_text(spam_docs[0])"
   ]
  },
  {
   "cell_type": "code",
   "execution_count": 148,
   "metadata": {},
   "outputs": [
    {
     "name": "stdout",
     "output_type": "stream",
     "text": [
      "compute => comput\n",
      "computer => comput\n",
      "computation => comput\n",
      "computes => comput\n",
      "computed => comput\n"
     ]
    }
   ],
   "source": [
    "try:\n",
    "    import nltk\n",
    "    stemmer = nltk.stem.PorterStemmer()\n",
    "    for w in ['compute', 'computer', 'computation', 'computes', 'computed']:\n",
    "        print(\"{} => {}\".format(w, stemmer.stem(w)))\n",
    "except ImportError:\n",
    "    stemmer = None"
   ]
  },
  {
   "cell_type": "code",
   "execution_count": null,
   "metadata": {},
   "outputs": [],
   "source": []
  },
  {
   "cell_type": "code",
   "execution_count": null,
   "metadata": {},
   "outputs": [],
   "source": []
  }
 ],
 "metadata": {
  "kernelspec": {
   "display_name": "Python [conda env:deep_learning]",
   "language": "python",
   "name": "conda-env-deep_learning-py"
  },
  "language_info": {
   "codemirror_mode": {
    "name": "ipython",
    "version": 3
   },
   "file_extension": ".py",
   "mimetype": "text/x-python",
   "name": "python",
   "nbconvert_exporter": "python",
   "pygments_lexer": "ipython3",
   "version": "3.5.5"
  }
 },
 "nbformat": 4,
 "nbformat_minor": 2
}
