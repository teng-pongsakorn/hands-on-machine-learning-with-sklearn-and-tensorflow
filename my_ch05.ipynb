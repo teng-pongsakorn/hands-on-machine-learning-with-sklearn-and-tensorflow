{
 "cells": [
  {
   "cell_type": "code",
   "execution_count": 1,
   "metadata": {},
   "outputs": [],
   "source": [
    "import numpy as np\n",
    "import pandas as pd\n",
    "import matplotlib.pyplot as plt\n",
    "%matplotlib inline"
   ]
  },
  {
   "cell_type": "code",
   "execution_count": 2,
   "metadata": {},
   "outputs": [],
   "source": [
    "from sklearn import datasets\n",
    "from sklearn.preprocessing import StandardScaler, PolynomialFeatures\n",
    "from sklearn.pipeline import Pipeline\n",
    "from sklearn.svm import LinearSVC, SVC\n",
    "from sklearn.linear_model import SGDClassifier"
   ]
  },
  {
   "cell_type": "code",
   "execution_count": 3,
   "metadata": {},
   "outputs": [],
   "source": [
    "iris = datasets.load_iris()"
   ]
  },
  {
   "cell_type": "code",
   "execution_count": 4,
   "metadata": {},
   "outputs": [],
   "source": [
    "X = iris.data[:, 2:]     # petal lenght, petal width\n",
    "y = (iris.target == 2).astype(float)    # is Iris-Virginica"
   ]
  },
  {
   "cell_type": "code",
   "execution_count": 47,
   "metadata": {},
   "outputs": [],
   "source": [
    "std = StandardScaler()\n",
    "\n",
    "X_std = std.fit_transform(X)"
   ]
  },
  {
   "cell_type": "code",
   "execution_count": 49,
   "metadata": {},
   "outputs": [],
   "source": [
    "def plot_decision(clf, X, y):\n",
    "    \n",
    "    assert X.shape[1] == 2\n",
    "    x0_min, x0_max = X[:, 0].min() - .1, X[:, 0].max() + .1\n",
    "    x1_min, x1_max = X[:, 1].min() - .1, X[:, 1].max() + .1\n",
    "    \n",
    "    X0, X1 = np.meshgrid(np.linspace(x0_min, x0_max, 500), np.linspace(x1_min, x1_max, 500))\n",
    "    clf.fit(X, y)\n",
    "    Y_pred = clf.predict(np.c_[X0.ravel(), X1.ravel()]).reshape(X0.shape)\n",
    "    \n",
    "    for cls, mark in zip(np.unique(y), 'bs go r^'.split()):\n",
    "        plt.plot(X[y==cls, 0], X[y==cls, 1], mark, alpha=.7, label=cls)\n",
    "    \n",
    "    plt.contourf(X0, X1, Y_pred, alpha=.3, cmap=plt.cm.brg)\n",
    "    plt.xlabel('x0')\n",
    "    plt.ylabel('x1')\n",
    "    plt.legend(loc='best')"
   ]
  },
  {
   "cell_type": "markdown",
   "metadata": {},
   "source": [
    "#### Softmargin Classification"
   ]
  },
  {
   "cell_type": "code",
   "execution_count": 25,
   "metadata": {},
   "outputs": [],
   "source": [
    "std_svc_pipe = Pipeline([\n",
    "    ('scaler', StandardScaler()),\n",
    "    ('clf', LinearSVC(C=1., loss='squared_hinge', dual=False))\n",
    "])"
   ]
  },
  {
   "cell_type": "code",
   "execution_count": 26,
   "metadata": {},
   "outputs": [
    {
     "data": {
      "text/plain": [
       "Pipeline(memory=None,\n",
       "     steps=[('scaler', StandardScaler(copy=True, with_mean=True, with_std=True)), ('clf', LinearSVC(C=1.0, class_weight=None, dual=False, fit_intercept=True,\n",
       "     intercept_scaling=1, loss='squared_hinge', max_iter=1000,\n",
       "     multi_class='ovr', penalty='l2', random_state=None, tol=0.0001,\n",
       "     verbose=0))])"
      ]
     },
     "execution_count": 26,
     "metadata": {},
     "output_type": "execute_result"
    }
   ],
   "source": [
    "std_svc_pipe.fit(X, y)"
   ]
  },
  {
   "cell_type": "code",
   "execution_count": 27,
   "metadata": {},
   "outputs": [
    {
     "data": {
      "text/plain": [
       "0.96"
      ]
     },
     "execution_count": 27,
     "metadata": {},
     "output_type": "execute_result"
    }
   ],
   "source": [
    "(y == std_svc_pipe.predict(X)).mean()"
   ]
  },
  {
   "cell_type": "code",
   "execution_count": 84,
   "metadata": {},
   "outputs": [
    {
     "data": {
      "image/png": "[encoded data removed]",
      "text/plain": [
       "<matplotlib.figure.Figure at 0x2cd07aed438>"
      ]
     },
     "metadata": {},
     "output_type": "display_data"
    }
   ],
   "source": [
    "plot_decision(std_svc_pipe, X, y)"
   ]
  },
  {
   "cell_type": "markdown",
   "metadata": {},
   "source": [
    "#### NonLinear SVM Classification"
   ]
  },
  {
   "cell_type": "code",
   "execution_count": 59,
   "metadata": {},
   "outputs": [],
   "source": [
    "X_moon, y_moon = datasets.make_moons(n_samples=100, noise=.2)"
   ]
  },
  {
   "cell_type": "code",
   "execution_count": 60,
   "metadata": {},
   "outputs": [
    {
     "data": {
      "text/plain": [
       "[<matplotlib.lines.Line2D at 0x2cd7a586e80>]"
      ]
     },
     "execution_count": 60,
     "metadata": {},
     "output_type": "execute_result"
    },
    {
     "data": {
      "image/png": "[encoded data removed]",
      "text/plain": [
       "<matplotlib.figure.Figure at 0x2cd7a586e48>"
      ]
     },
     "metadata": {},
     "output_type": "display_data"
    }
   ],
   "source": [
    "plt.plot(X_moon[y_moon==0, 0], X_moon[y_moon==0, 1], 'ro')\n",
    "plt.plot(X_moon[y_moon==1, 0], X_moon[y_moon==1, 1], 'bx')"
   ]
  },
  {
   "cell_type": "code",
   "execution_count": 29,
   "metadata": {},
   "outputs": [],
   "source": [
    "poly_std_svc_pipe = Pipeline([\n",
    "    ('poly', PolynomialFeatures(degree=3)),\n",
    "    ('scaler', StandardScaler()),\n",
    "    ('svc', LinearSVC(C=1.0, loss='squared_hinge', dual=False))\n",
    "])"
   ]
  },
  {
   "cell_type": "code",
   "execution_count": 30,
   "metadata": {},
   "outputs": [
    {
     "data": {
      "text/plain": [
       "Pipeline(memory=None,\n",
       "     steps=[('poly', PolynomialFeatures(degree=3, include_bias=True, interaction_only=False)), ('scaler', StandardScaler(copy=True, with_mean=True, with_std=True)), ('svc', LinearSVC(C=1.0, class_weight=None, dual=False, fit_intercept=True,\n",
       "     intercept_scaling=1, loss='squared_hinge', max_iter=1000,\n",
       "     multi_class='ovr', penalty='l2', random_state=None, tol=0.0001,\n",
       "     verbose=0))])"
      ]
     },
     "execution_count": 30,
     "metadata": {},
     "output_type": "execute_result"
    }
   ],
   "source": [
    "poly_std_svc_pipe.fit(X, y)"
   ]
  },
  {
   "cell_type": "code",
   "execution_count": 31,
   "metadata": {},
   "outputs": [
    {
     "data": {
      "text/plain": [
       "0.96"
      ]
     },
     "execution_count": 31,
     "metadata": {},
     "output_type": "execute_result"
    }
   ],
   "source": [
    "(y == poly_std_svc_pipe.predict(X)).mean()"
   ]
  },
  {
   "cell_type": "code",
   "execution_count": 81,
   "metadata": {},
   "outputs": [
    {
     "data": {
      "image/png": "[encoded data removed]",
      "text/plain": [
       "<matplotlib.figure.Figure at 0x2cd0bb905c0>"
      ]
     },
     "metadata": {},
     "output_type": "display_data"
    }
   ],
   "source": [
    "plot_decision(poly_std_svc_pipe, X_moon, y_moon)"
   ]
  },
  {
   "cell_type": "code",
   "execution_count": 62,
   "metadata": {},
   "outputs": [
    {
     "data": {
      "text/plain": [
       "Text(0.5,1,'Linear SVM + Polynomial features')"
      ]
     },
     "execution_count": 62,
     "metadata": {},
     "output_type": "execute_result"
    },
    {
     "data": {
      "image/png": "[encoded data removed]",
      "text/plain": [
       "<matplotlib.figure.Figure at 0x2cd7a59fb70>"
      ]
     },
     "metadata": {},
     "output_type": "display_data"
    }
   ],
   "source": [
    "plot_decision(poly_std_svc_pipe, X_moon, y_moon)\n",
    "plt.title('Linear SVM + Polynomial features')"
   ]
  },
  {
   "cell_type": "markdown",
   "metadata": {},
   "source": [
    "#### Polynomial Kernel"
   ]
  },
  {
   "cell_type": "code",
   "execution_count": 66,
   "metadata": {},
   "outputs": [
    {
     "data": {
      "text/plain": [
       "Text(0.5,1,'Poly-kernel SVC')"
      ]
     },
     "execution_count": 66,
     "metadata": {},
     "output_type": "execute_result"
    },
    {
     "data": {
      "image/png": "[encoded data removed]",
      "text/plain": [
       "<matplotlib.figure.Figure at 0x2cd00c840b8>"
      ]
     },
     "metadata": {},
     "output_type": "display_data"
    }
   ],
   "source": [
    "poly_kernel_svm_pipe = Pipeline([\n",
    "    ('scaler', StandardScaler()),\n",
    "    ('svm', SVC(C=5.0, kernel='poly', degree=3, coef0=1))\n",
    "])\n",
    "\n",
    "plot_decision(poly_kernel_svm_pipe, X_moon, y_moon)\n",
    "plt.title('Poly-kernel SVC')"
   ]
  },
  {
   "cell_type": "markdown",
   "metadata": {},
   "source": [
    "#### Gaussian RBF Kernel"
   ]
  },
  {
   "cell_type": "code",
   "execution_count": 80,
   "metadata": {},
   "outputs": [
    {
     "data": {
      "image/png": "[encoded data removed]",
      "text/plain": [
       "<matplotlib.figure.Figure at 0x2cd07bdc278>"
      ]
     },
     "metadata": {},
     "output_type": "display_data"
    }
   ],
   "source": [
    "std_rbf_kernel_svc_pipe = Pipeline([\n",
    "    ('scaler', StandardScaler()),\n",
    "    ('svc', SVC(kernel='rbf', C=10.0, gamma='auto'))\n",
    "])\n",
    "\n",
    "plot_decision(std_rbf_kernel_svc_pipe, X_moon, y_moon)"
   ]
  },
  {
   "cell_type": "markdown",
   "metadata": {},
   "source": [
    "#### SVM Regression"
   ]
  },
  {
   "cell_type": "code",
   "execution_count": 90,
   "metadata": {},
   "outputs": [],
   "source": [
    "from sklearn.svm import SVR, LinearSVR"
   ]
  },
  {
   "cell_type": "code",
   "execution_count": 88,
   "metadata": {},
   "outputs": [],
   "source": [
    "# Linear dataset\n",
    "np.random.seed(42)\n",
    "m = 50\n",
    "X = 2 * np.random.rand(m, 1)\n",
    "y = (4 + 3 * X + np.random.randn(m, 1)).ravel()"
   ]
  },
  {
   "cell_type": "code",
   "execution_count": 89,
   "metadata": {},
   "outputs": [
    {
     "data": {
      "text/plain": [
       "[<matplotlib.lines.Line2D at 0x2cd0e1bd588>]"
      ]
     },
     "execution_count": 89,
     "metadata": {},
     "output_type": "execute_result"
    },
    {
     "data": {
      "image/png": "[encoded data removed]",
      "text/plain": [
       "<matplotlib.figure.Figure at 0x2cd0e1414e0>"
      ]
     },
     "metadata": {},
     "output_type": "display_data"
    }
   ],
   "source": [
    "plt.plot(X, y, 'ob', alpha=.7)"
   ]
  },
  {
   "cell_type": "code",
   "execution_count": 105,
   "metadata": {},
   "outputs": [
    {
     "data": {
      "text/plain": [
       "LinearSVR(C=1.0, dual=True, epsilon=0.5, fit_intercept=True,\n",
       "     intercept_scaling=1.0, loss='epsilon_insensitive', max_iter=1000,\n",
       "     random_state=None, tol=0.0001, verbose=0)"
      ]
     },
     "execution_count": 105,
     "metadata": {},
     "output_type": "execute_result"
    }
   ],
   "source": [
    "svm_reg1 = LinearSVR(epsilon=1.5)\n",
    "svm_reg1.fit(X, y)\n",
    "\n",
    "svm_reg2 = LinearSVR(epsilon=0.5)\n",
    "svm_reg2.fit(X, y)"
   ]
  },
  {
   "cell_type": "code",
   "execution_count": 115,
   "metadata": {},
   "outputs": [],
   "source": [
    "def find_support_index(svm, X, y):\n",
    "    y_pred = svm.predict(X)\n",
    "    off_margin = np.abs(y - y_pred) >= svm.epsilon\n",
    "    return np.argwhere(off_margin)\n",
    "\n",
    "def plot_svm_regressor(svm, X, y, xlim=[0, 1]):\n",
    "    xs = np.linspace(xlim[0], xlim[1], 100)[:, None]\n",
    "    y_pred = svm.predict(xs)\n",
    "\n",
    "    plt.plot(xs, y_pred, 'k-')\n",
    "    plt.plot(xs, y_pred + svm.epsilon, 'k--')\n",
    "    plt.plot(xs, y_pred - svm.epsilon, 'k--')\n",
    "    plt.plot(X, y, 'bo', alpha=.7)\n",
    "    plt.scatter(X[svm.support_], y[svm.support_], s=100, facecolors='#ffaaaa')\n",
    "    plt.xlabel('x')\n",
    "    plt.ylabel('y')"
   ]
  },
  {
   "cell_type": "code",
   "execution_count": 107,
   "metadata": {},
   "outputs": [],
   "source": [
    "svm_reg1.support_ = find_support_index(svm_reg1, X, y)\n",
    "svm_reg2.support_ = find_support_index(svm_reg2, X, y)"
   ]
  },
  {
   "cell_type": "code",
   "execution_count": 118,
   "metadata": {},
   "outputs": [
    {
     "data": {
      "text/plain": [
       "Text(0.5,1,'epsilon: 0.5')"
      ]
     },
     "execution_count": 118,
     "metadata": {},
     "output_type": "execute_result"
    },
    {
     "data": {
      "image/png": "[encoded data removed]",
      "text/plain": [
       "<matplotlib.figure.Figure at 0x2cd0bc35390>"
      ]
     },
     "metadata": {},
     "output_type": "display_data"
    }
   ],
   "source": [
    "plt.figure(figsize=(10, 4))\n",
    "\n",
    "plt.subplot(121)\n",
    "plot_svm_regressor(svm_reg1, X, y, [0, 2])\n",
    "plt.title('epsilon: {}'.format(svm_reg1.epsilon))\n",
    "\n",
    "plt.subplot(122)\n",
    "plot_svm_regressor(svm_reg2, X, y, [0, 2])\n",
    "plt.title('epsilon: {}'.format(svm_reg2.epsilon))"
   ]
  },
  {
   "cell_type": "code",
   "execution_count": 119,
   "metadata": {},
   "outputs": [],
   "source": [
    "# non-linear dataset\n",
    "np.random.seed(42)\n",
    "m = 100\n",
    "X = 2 * np.random.rand(m, 1) - 1\n",
    "y = (0.2 + 0.1 * X + 0.5 * X**2 + np.random.randn(m, 1)/10).ravel()"
   ]
  },
  {
   "cell_type": "code",
   "execution_count": 125,
   "metadata": {},
   "outputs": [
    {
     "data": {
      "text/plain": [
       "SVR(C=100, cache_size=200, coef0=0.0, degree=2, epsilon=0.1, gamma='auto',\n",
       "  kernel='poly', max_iter=-1, shrinking=True, tol=0.001, verbose=False)"
      ]
     },
     "execution_count": 125,
     "metadata": {},
     "output_type": "execute_result"
    }
   ],
   "source": [
    "svr_C001 = SVR(kernel='poly', degree=2, epsilon=.1, C=.01)\n",
    "svr_C100 = SVR(kernel='poly', degree=2, epsilon=.1, C=100)\n",
    "\n",
    "svr_C001.fit(X, y)\n",
    "svr_C100.fit(X, y)"
   ]
  },
  {
   "cell_type": "code",
   "execution_count": 130,
   "metadata": {},
   "outputs": [
    {
     "data": {
      "text/plain": [
       "Text(0.5,1,'degree=2, C=100, epsilon=0.1')"
      ]
     },
     "execution_count": 130,
     "metadata": {},
     "output_type": "execute_result"
    },
    {
     "data": {
      "image/png": "[encoded data removed]",
      "text/plain": [
       "<matplotlib.figure.Figure at 0x2cd07c17320>"
      ]
     },
     "metadata": {},
     "output_type": "display_data"
    }
   ],
   "source": [
    "plt.figure(figsize=(12, 4))\n",
    "\n",
    "plt.subplot(121)\n",
    "plot_svm_regressor(svr_C001, X, y, [-1, 1])\n",
    "plt.title(\"degree={degree}, C={C}, epsilon={epsilon}\".format(**svr_C001.get_params()))\n",
    "\n",
    "plt.subplot(122)\n",
    "plot_svm_regressor(svr_C100, X, y, [-1, 1])\n",
    "plt.title(\"degree={degree}, C={C}, epsilon={epsilon}\".format(**svr_C100.get_params()))"
   ]
  },
  {
   "cell_type": "code",
   "execution_count": 127,
   "metadata": {},
   "outputs": [
    {
     "data": {
      "text/plain": [
       "(2, 0.1, 0.01)"
      ]
     },
     "execution_count": 127,
     "metadata": {},
     "output_type": "execute_result"
    }
   ],
   "source": [
    "svr_C001.degree, svr_C001.epsilon, svr_C001.C"
   ]
  },
  {
   "cell_type": "code",
   "execution_count": 128,
   "metadata": {},
   "outputs": [
    {
     "data": {
      "text/plain": [
       "{'C': 0.01,\n",
       " 'cache_size': 200,\n",
       " 'coef0': 0.0,\n",
       " 'degree': 2,\n",
       " 'epsilon': 0.1,\n",
       " 'gamma': 'auto',\n",
       " 'kernel': 'poly',\n",
       " 'max_iter': -1,\n",
       " 'shrinking': True,\n",
       " 'tol': 0.001,\n",
       " 'verbose': False}"
      ]
     },
     "execution_count": 128,
     "metadata": {},
     "output_type": "execute_result"
    }
   ],
   "source": [
    "svr_C001.get_params()"
   ]
  },
  {
   "cell_type": "markdown",
   "metadata": {},
   "source": [
    "#### Exercises"
   ]
  },
  {
   "cell_type": "code",
   "execution_count": 35,
   "metadata": {},
   "outputs": [],
   "source": [
    "from sklearn.datasets import load_iris\n",
    "from sklearn.linear_model import SGDClassifier\n",
    "from sklearn.svm import LinearSVC, SVC\n",
    "from sklearn.preprocessing import StandardScaler"
   ]
  },
  {
   "cell_type": "markdown",
   "metadata": {},
   "source": [
    "#### Ex8."
   ]
  },
  {
   "cell_type": "code",
   "execution_count": 48,
   "metadata": {},
   "outputs": [],
   "source": [
    "iris = load_iris()"
   ]
  },
  {
   "cell_type": "code",
   "execution_count": 49,
   "metadata": {},
   "outputs": [],
   "source": [
    "X = iris.data[:, 2:]\n",
    "y = iris.target \n",
    "\n",
    "serosa_or_vesicolor = np.logical_or(y==0, y==1)"
   ]
  },
  {
   "cell_type": "code",
   "execution_count": 50,
   "metadata": {},
   "outputs": [
    {
     "data": {
      "text/plain": [
       "((100, 2), (100,))"
      ]
     },
     "execution_count": 50,
     "metadata": {},
     "output_type": "execute_result"
    }
   ],
   "source": [
    "X = X[serosa_or_vesicolor]\n",
    "y = y[serosa_or_vesicolor]\n",
    "\n",
    "X.shape, y.shape"
   ]
  },
  {
   "cell_type": "code",
   "execution_count": 51,
   "metadata": {},
   "outputs": [
    {
     "data": {
      "text/plain": [
       "[<matplotlib.lines.Line2D at 0x1c1c1cfb400>]"
      ]
     },
     "execution_count": 51,
     "metadata": {},
     "output_type": "execute_result"
    },
    {
     "data": {
      "image/png": "[encoded data removed]",
      "text/plain": [
       "<matplotlib.figure.Figure at 0x1c1c1cfb470>"
      ]
     },
     "metadata": {},
     "output_type": "display_data"
    }
   ],
   "source": [
    "plt.plot(X[y==0, 0], X[y==0, 1], 'or')\n",
    "plt.plot(X[y==1, 0], X[y==1, 1], 'gs')"
   ]
  },
  {
   "cell_type": "code",
   "execution_count": 52,
   "metadata": {},
   "outputs": [],
   "source": [
    "sc = StandardScaler()\n",
    "X_std = sc.fit_transform(X)"
   ]
  },
  {
   "cell_type": "code",
   "execution_count": 53,
   "metadata": {},
   "outputs": [],
   "source": [
    "C = 5\n",
    "alpha = 1./(C * len(X))\n",
    "\n",
    "lin_svc = LinearSVC(loss='hinge', C=C)\n",
    "svc = SVC(C=C, kernel='linear')\n",
    "sgd_svc = SGDClassifier(loss='hinge', learning_rate='constant', max_iter=1000, eta0=.01, alpha=alpha)"
   ]
  },
  {
   "cell_type": "code",
   "execution_count": 54,
   "metadata": {},
   "outputs": [
    {
     "data": {
      "text/plain": [
       "SGDClassifier(alpha=0.002, average=False, class_weight=None, epsilon=0.1,\n",
       "       eta0=0.01, fit_intercept=True, l1_ratio=0.15,\n",
       "       learning_rate='constant', loss='hinge', max_iter=1000, n_iter=None,\n",
       "       n_jobs=1, penalty='l2', power_t=0.5, random_state=None,\n",
       "       shuffle=True, tol=None, verbose=0, warm_start=False)"
      ]
     },
     "execution_count": 54,
     "metadata": {},
     "output_type": "execute_result"
    }
   ],
   "source": [
    "lin_svc.fit(X_std, y)\n",
    "svc.fit(X_std, y)\n",
    "sgd_svc.fit(X_std, y)"
   ]
  },
  {
   "cell_type": "code",
   "execution_count": 55,
   "metadata": {},
   "outputs": [
    {
     "data": {
      "text/plain": [
       "(array([[1.05542043, 1.09851643]]), array([0.28481415]))"
      ]
     },
     "execution_count": 55,
     "metadata": {},
     "output_type": "execute_result"
    }
   ],
   "source": [
    "lin_svc.coef_, lin_svc.intercept_"
   ]
  },
  {
   "cell_type": "code",
   "execution_count": 56,
   "metadata": {},
   "outputs": [
    {
     "data": {
      "text/plain": [
       "(array([[1.1223101 , 1.02531081]]), array([0.31933577]))"
      ]
     },
     "execution_count": 56,
     "metadata": {},
     "output_type": "execute_result"
    }
   ],
   "source": [
    "svc.coef_, svc.intercept_"
   ]
  },
  {
   "cell_type": "code",
   "execution_count": 57,
   "metadata": {},
   "outputs": [
    {
     "data": {
      "text/plain": [
       "(array([[1.12172962, 1.02704936]]), array([0.32]))"
      ]
     },
     "execution_count": 57,
     "metadata": {},
     "output_type": "execute_result"
    }
   ],
   "source": [
    "sgd_svc.coef_, sgd_svc.intercept_"
   ]
  },
  {
   "cell_type": "code",
   "execution_count": 71,
   "metadata": {},
   "outputs": [
    {
     "data": {
      "text/plain": [
       "<matplotlib.legend.Legend at 0x1c1c2621a20>"
      ]
     },
     "execution_count": 71,
     "metadata": {},
     "output_type": "execute_result"
    },
    {
     "data": {
      "image/png": "[encoded data removed]",
      "text/plain": [
       "<matplotlib.figure.Figure at 0x1c1c2b7e2e8>"
      ]
     },
     "metadata": {},
     "output_type": "display_data"
    }
   ],
   "source": [
    "plt.figure(figsize=(10, 4))\n",
    "\n",
    "plt.plot(X_std[y==0, 0], X_std[y==0, 1], 'ro', alpha=.7)\n",
    "plt.plot(X_std[y==1, 0], X_std[y==1, 1], 'gs', alpha=.7)\n",
    "\n",
    "xs = np.linspace(-1.3, 1.3, 100)\n",
    "\n",
    "linsvc_decision = -(lin_svc.coef_[0, 0]*xs + lin_svc.intercept_[0] )/ lin_svc.coef_[0, 1]\n",
    "svc_decision = -(svc.coef_[0, 0]*xs + svc.intercept_[0]) / svc.coef_[0, 1]\n",
    "sgd_decision = -(sgd_svc.coef_[0, 0]*xs + sgd_svc.intercept_[0]) / sgd_svc.coef_[0, 1]\n",
    "\n",
    "plt.plot(xs, linsvc_decision, '--', label='linear svc')\n",
    "plt.plot(xs, svc_decision, '-', label='svc')\n",
    "plt.plot(xs, sgd_decision, '-.', label='sgd')\n",
    "plt.legend(loc='best')"
   ]
  },
  {
   "cell_type": "markdown",
   "metadata": {},
   "source": [
    "#### Ex.9"
   ]
  },
  {
   "cell_type": "code",
   "execution_count": 18,
   "metadata": {},
   "outputs": [],
   "source": [
    "from keras.datasets import mnist\n",
    "from sklearn.svm import LinearSVC, SVC\n",
    "from sklearn.linear_model import SGDClassifier\n",
    "from sklearn.preprocessing import StandardScaler\n",
    "from sklearn.metrics import accuracy_score\n",
    "from sklearn.model_selection import RandomizedSearchCV\n",
    "\n",
    "from scipy import stats"
   ]
  },
  {
   "cell_type": "code",
   "execution_count": 2,
   "metadata": {},
   "outputs": [],
   "source": [
    "(X_train, y_train), (X_test, y_test) = mnist.load_data()"
   ]
  },
  {
   "cell_type": "code",
   "execution_count": 3,
   "metadata": {},
   "outputs": [],
   "source": [
    "X_train = X_train.reshape((len(X_train), -1))\n",
    "X_test = X_test.reshape((len(X_test), -1))"
   ]
  },
  {
   "cell_type": "code",
   "execution_count": 4,
   "metadata": {},
   "outputs": [
    {
     "data": {
      "text/plain": [
       "((60000, 784), (60000,), (10000, 784), (10000,))"
      ]
     },
     "execution_count": 4,
     "metadata": {},
     "output_type": "execute_result"
    }
   ],
   "source": [
    "X_train.shape, y_train.shape, X_test.shape, y_test.shape"
   ]
  },
  {
   "cell_type": "code",
   "execution_count": 5,
   "metadata": {},
   "outputs": [
    {
     "data": {
      "text/plain": [
       "LinearSVC(C=1.0, class_weight=None, dual=True, fit_intercept=True,\n",
       "     intercept_scaling=1, loss='squared_hinge', max_iter=1000,\n",
       "     multi_class='ovr', penalty='l2', random_state=42, tol=0.0001,\n",
       "     verbose=0)"
      ]
     },
     "execution_count": 5,
     "metadata": {},
     "output_type": "execute_result"
    }
   ],
   "source": [
    "# linear SVC\n",
    "lin_svc = LinearSVC(random_state=42)\n",
    "lin_svc.fit(X_train[:10000], y_train[:10000])"
   ]
  },
  {
   "cell_type": "code",
   "execution_count": 6,
   "metadata": {},
   "outputs": [
    {
     "data": {
      "text/plain": [
       "0.8518"
      ]
     },
     "execution_count": 6,
     "metadata": {},
     "output_type": "execute_result"
    }
   ],
   "source": [
    "accuracy_score(y_train[10000:], lin_svc.predict(X_train[10000:]))"
   ]
  },
  {
   "cell_type": "code",
   "execution_count": 7,
   "metadata": {},
   "outputs": [],
   "source": [
    "sc = StandardScaler()\n",
    "X_train_std = sc.fit_transform(X_train.astype(float))\n",
    "X_test_std = sc.transform(X_test.astype(float))"
   ]
  },
  {
   "cell_type": "code",
   "execution_count": 8,
   "metadata": {},
   "outputs": [],
   "source": [
    "# scale range [0, 1]\n",
    "X_train_mm = X_train.astype(float) / 255.\n",
    "X_test_mm = X_test.astype(float) / 255."
   ]
  },
  {
   "cell_type": "code",
   "execution_count": 9,
   "metadata": {},
   "outputs": [
    {
     "data": {
      "text/plain": [
       "0.8165818181818182"
      ]
     },
     "execution_count": 9,
     "metadata": {},
     "output_type": "execute_result"
    }
   ],
   "source": [
    "# linear SVC + std\n",
    "lin_svc.fit(X_train_std[:5000], y_train[:5000])\n",
    "accuracy_score(y_train[5000:], lin_svc.predict(X_train_std[5000:]))"
   ]
  },
  {
   "cell_type": "code",
   "execution_count": 10,
   "metadata": {},
   "outputs": [
    {
     "data": {
      "text/plain": [
       "0.8661454545454546"
      ]
     },
     "execution_count": 10,
     "metadata": {},
     "output_type": "execute_result"
    }
   ],
   "source": [
    "# linear SVC + MinMax\n",
    "lin_svc.fit(X_train_mm[:5000], y_train[:5000])\n",
    "accuracy_score(y_train[5000:], lin_svc.predict(X_train_mm[5000:]))"
   ]
  },
  {
   "cell_type": "code",
   "execution_count": 11,
   "metadata": {},
   "outputs": [
    {
     "data": {
      "text/plain": [
       "0.8630338983050847"
      ]
     },
     "execution_count": 11,
     "metadata": {},
     "output_type": "execute_result"
    }
   ],
   "source": [
    "# RBF SVC\n",
    "rbf_svc = SVC(random_state=42)\n",
    "rbf_svc.fit(X_train_std[:1000], y_train[:1000])\n",
    "accuracy_score(y_train[1000:], rbf_svc.predict(X_train_std[1000:]))"
   ]
  },
  {
   "cell_type": "code",
   "execution_count": 32,
   "metadata": {},
   "outputs": [],
   "source": [
    "gamma = stats.reciprocal(0.001, 0.1)\n",
    "C = stats.uniform(1, 20)"
   ]
  },
  {
   "cell_type": "code",
   "execution_count": 17,
   "metadata": {},
   "outputs": [
    {
     "data": {
      "image/png": "[encoded data removed]",
      "text/plain": [
       "<matplotlib.figure.Figure at 0x27d1e70d400>"
      ]
     },
     "metadata": {},
     "output_type": "display_data"
    }
   ],
   "source": [
    "plt.hist(gamma.rvs(size=1000), bins=30, rwidth=.8)\n",
    "plt.show()"
   ]
  },
  {
   "cell_type": "code",
   "execution_count": 40,
   "metadata": {},
   "outputs": [
    {
     "data": {
      "image/png": "[encoded data removed]",
      "text/plain": [
       "<matplotlib.figure.Figure at 0x27d1e9f9518>"
      ]
     },
     "metadata": {},
     "output_type": "display_data"
    }
   ],
   "source": [
    "plt.hist(C.rvs(1000), bins=30, rwidth=.8)\n",
    "plt.show()"
   ]
  },
  {
   "cell_type": "code",
   "execution_count": 41,
   "metadata": {},
   "outputs": [],
   "source": [
    "params = {\n",
    "    'gamma': stats.reciprocal(.001, .1),\n",
    "    'C': stats.uniform(1, 20),\n",
    "}\n",
    "\n",
    "\n",
    "svc_rnd_grid = RandomizedSearchCV(SVC(kernel='rbf'), params, n_iter=30, \n",
    "                                  cv=3, verbose=2, return_train_score=True)"
   ]
  },
  {
   "cell_type": "code",
   "execution_count": 42,
   "metadata": {},
   "outputs": [
    {
     "name": "stdout",
     "output_type": "stream",
     "text": [
      "Fitting 3 folds for each of 30 candidates, totalling 90 fits\n",
      "[CV] gamma=0.030297230589296384, C=6.435037836571275 .................\n",
      "[CV] .. gamma=0.030297230589296384, C=6.435037836571275, total=   0.9s\n",
      "[CV] gamma=0.030297230589296384, C=6.435037836571275 .................\n"
     ]
    },
    {
     "name": "stderr",
     "output_type": "stream",
     "text": [
      "[Parallel(n_jobs=1)]: Done   1 out of   1 | elapsed:    1.4s remaining:    0.0s\n"
     ]
    },
    {
     "name": "stdout",
     "output_type": "stream",
     "text": [
      "[CV] .. gamma=0.030297230589296384, C=6.435037836571275, total=   0.9s\n",
      "[CV] gamma=0.030297230589296384, C=6.435037836571275 .................\n",
      "[CV] .. gamma=0.030297230589296384, C=6.435037836571275, total=   0.9s\n",
      "[CV] gamma=0.05589691075855566, C=1.862695779130056 ..................\n",
      "[CV] ... gamma=0.05589691075855566, C=1.862695779130056, total=   0.9s\n",
      "[CV] gamma=0.05589691075855566, C=1.862695779130056 ..................\n",
      "[CV] ... gamma=0.05589691075855566, C=1.862695779130056, total=   0.9s\n",
      "[CV] gamma=0.05589691075855566, C=1.862695779130056 ..................\n",
      "[CV] ... gamma=0.05589691075855566, C=1.862695779130056, total=   1.1s\n",
      "[CV] gamma=0.002349675521454126, C=17.80783559585079 .................\n",
      "[CV] .. gamma=0.002349675521454126, C=17.80783559585079, total=   0.8s\n",
      "[CV] gamma=0.002349675521454126, C=17.80783559585079 .................\n",
      "[CV] .. gamma=0.002349675521454126, C=17.80783559585079, total=   0.8s\n",
      "[CV] gamma=0.002349675521454126, C=17.80783559585079 .................\n",
      "[CV] .. gamma=0.002349675521454126, C=17.80783559585079, total=   0.8s\n",
      "[CV] gamma=0.009880052624902436, C=14.485847941065018 ................\n",
      "[CV] . gamma=0.009880052624902436, C=14.485847941065018, total=   1.0s\n",
      "[CV] gamma=0.009880052624902436, C=14.485847941065018 ................\n",
      "[CV] . gamma=0.009880052624902436, C=14.485847941065018, total=   1.0s\n",
      "[CV] gamma=0.009880052624902436, C=14.485847941065018 ................\n",
      "[CV] . gamma=0.009880052624902436, C=14.485847941065018, total=   1.0s\n",
      "[CV] gamma=0.004358776804207333, C=10.07948190805044 .................\n",
      "[CV] .. gamma=0.004358776804207333, C=10.07948190805044, total=   1.0s\n",
      "[CV] gamma=0.004358776804207333, C=10.07948190805044 .................\n",
      "[CV] .. gamma=0.004358776804207333, C=10.07948190805044, total=   0.9s\n",
      "[CV] gamma=0.004358776804207333, C=10.07948190805044 .................\n",
      "[CV] .. gamma=0.004358776804207333, C=10.07948190805044, total=   0.9s\n",
      "[CV] gamma=0.0021472449624881326, C=18.528636032497708 ...............\n",
      "[CV]  gamma=0.0021472449624881326, C=18.528636032497708, total=   0.8s\n",
      "[CV] gamma=0.0021472449624881326, C=18.528636032497708 ...............\n",
      "[CV]  gamma=0.0021472449624881326, C=18.528636032497708, total=   0.8s\n",
      "[CV] gamma=0.0021472449624881326, C=18.528636032497708 ...............\n",
      "[CV]  gamma=0.0021472449624881326, C=18.528636032497708, total=   0.8s\n",
      "[CV] gamma=0.04552175452382846, C=15.747735299375579 .................\n",
      "[CV] .. gamma=0.04552175452382846, C=15.747735299375579, total=   0.9s\n",
      "[CV] gamma=0.04552175452382846, C=15.747735299375579 .................\n",
      "[CV] .. gamma=0.04552175452382846, C=15.747735299375579, total=   0.9s\n",
      "[CV] gamma=0.04552175452382846, C=15.747735299375579 .................\n",
      "[CV] .. gamma=0.04552175452382846, C=15.747735299375579, total=   1.0s\n",
      "[CV] gamma=0.001409732308315698, C=12.941714223184917 ................\n",
      "[CV] . gamma=0.001409732308315698, C=12.941714223184917, total=   0.7s\n",
      "[CV] gamma=0.001409732308315698, C=12.941714223184917 ................\n",
      "[CV] . gamma=0.001409732308315698, C=12.941714223184917, total=   0.7s\n",
      "[CV] gamma=0.001409732308315698, C=12.941714223184917 ................\n",
      "[CV] . gamma=0.001409732308315698, C=12.941714223184917, total=   0.7s\n",
      "[CV] gamma=0.014911075009884133, C=2.9473005561550227 ................\n",
      "[CV] . gamma=0.014911075009884133, C=2.9473005561550227, total=   1.0s\n",
      "[CV] gamma=0.014911075009884133, C=2.9473005561550227 ................\n",
      "[CV] . gamma=0.014911075009884133, C=2.9473005561550227, total=   1.0s\n",
      "[CV] gamma=0.014911075009884133, C=2.9473005561550227 ................\n",
      "[CV] . gamma=0.014911075009884133, C=2.9473005561550227, total=   1.0s\n",
      "[CV] gamma=0.016307502027061715, C=7.63946893457914 ..................\n",
      "[CV] ... gamma=0.016307502027061715, C=7.63946893457914, total=   1.0s\n",
      "[CV] gamma=0.016307502027061715, C=7.63946893457914 ..................\n",
      "[CV] ... gamma=0.016307502027061715, C=7.63946893457914, total=   1.0s\n",
      "[CV] gamma=0.016307502027061715, C=7.63946893457914 ..................\n",
      "[CV] ... gamma=0.016307502027061715, C=7.63946893457914, total=   1.0s\n",
      "[CV] gamma=0.0080279985546748, C=15.589720278596856 ..................\n",
      "[CV] ... gamma=0.0080279985546748, C=15.589720278596856, total=   1.0s\n",
      "[CV] gamma=0.0080279985546748, C=15.589720278596856 ..................\n",
      "[CV] ... gamma=0.0080279985546748, C=15.589720278596856, total=   1.0s\n",
      "[CV] gamma=0.0080279985546748, C=15.589720278596856 ..................\n",
      "[CV] ... gamma=0.0080279985546748, C=15.589720278596856, total=   1.0s\n",
      "[CV] gamma=0.08395717653135638, C=13.64237011148019 ..................\n",
      "[CV] ... gamma=0.08395717653135638, C=13.64237011148019, total=   1.0s\n",
      "[CV] gamma=0.08395717653135638, C=13.64237011148019 ..................\n",
      "[CV] ... gamma=0.08395717653135638, C=13.64237011148019, total=   1.0s\n",
      "[CV] gamma=0.08395717653135638, C=13.64237011148019 ..................\n",
      "[CV] ... gamma=0.08395717653135638, C=13.64237011148019, total=   1.1s\n",
      "[CV] gamma=0.02295640824465052, C=19.852035625247034 .................\n",
      "[CV] .. gamma=0.02295640824465052, C=19.852035625247034, total=   1.0s\n",
      "[CV] gamma=0.02295640824465052, C=19.852035625247034 .................\n",
      "[CV] .. gamma=0.02295640824465052, C=19.852035625247034, total=   1.0s\n",
      "[CV] gamma=0.02295640824465052, C=19.852035625247034 .................\n",
      "[CV] .. gamma=0.02295640824465052, C=19.852035625247034, total=   1.0s\n",
      "[CV] gamma=0.00847735153748884, C=12.543353345342567 .................\n",
      "[CV] .. gamma=0.00847735153748884, C=12.543353345342567, total=   1.0s\n",
      "[CV] gamma=0.00847735153748884, C=12.543353345342567 .................\n",
      "[CV] .. gamma=0.00847735153748884, C=12.543353345342567, total=   1.0s\n",
      "[CV] gamma=0.00847735153748884, C=12.543353345342567 .................\n",
      "[CV] .. gamma=0.00847735153748884, C=12.543353345342567, total=   1.0s\n",
      "[CV] gamma=0.006784036248414888, C=6.333712515694867 .................\n",
      "[CV] .. gamma=0.006784036248414888, C=6.333712515694867, total=   1.0s\n",
      "[CV] gamma=0.006784036248414888, C=6.333712515694867 .................\n",
      "[CV] .. gamma=0.006784036248414888, C=6.333712515694867, total=   1.0s\n",
      "[CV] gamma=0.006784036248414888, C=6.333712515694867 .................\n",
      "[CV] .. gamma=0.006784036248414888, C=6.333712515694867, total=   1.0s\n",
      "[CV] gamma=0.00752902639848454, C=20.30841175347404 ..................\n",
      "[CV] ... gamma=0.00752902639848454, C=20.30841175347404, total=   1.0s\n",
      "[CV] gamma=0.00752902639848454, C=20.30841175347404 ..................\n",
      "[CV] ... gamma=0.00752902639848454, C=20.30841175347404, total=   1.0s\n",
      "[CV] gamma=0.00752902639848454, C=20.30841175347404 ..................\n",
      "[CV] ... gamma=0.00752902639848454, C=20.30841175347404, total=   1.0s\n",
      "[CV] gamma=0.012048079801332112, C=20.844393192527836 ................\n",
      "[CV] . gamma=0.012048079801332112, C=20.844393192527836, total=   1.0s\n",
      "[CV] gamma=0.012048079801332112, C=20.844393192527836 ................\n",
      "[CV] . gamma=0.012048079801332112, C=20.844393192527836, total=   1.0s\n",
      "[CV] gamma=0.012048079801332112, C=20.844393192527836 ................\n",
      "[CV] . gamma=0.012048079801332112, C=20.844393192527836, total=   1.0s\n",
      "[CV] gamma=0.0643396887703228, C=17.047043034024206 ..................\n",
      "[CV] ... gamma=0.0643396887703228, C=17.047043034024206, total=   1.0s\n",
      "[CV] gamma=0.0643396887703228, C=17.047043034024206 ..................\n",
      "[CV] ... gamma=0.0643396887703228, C=17.047043034024206, total=   1.0s\n",
      "[CV] gamma=0.0643396887703228, C=17.047043034024206 ..................\n",
      "[CV] ... gamma=0.0643396887703228, C=17.047043034024206, total=   1.0s\n",
      "[CV] gamma=0.009094355517164893, C=1.8193027685051568 ................\n",
      "[CV] . gamma=0.009094355517164893, C=1.8193027685051568, total=   1.0s\n",
      "[CV] gamma=0.009094355517164893, C=1.8193027685051568 ................\n",
      "[CV] . gamma=0.009094355517164893, C=1.8193027685051568, total=   0.9s\n",
      "[CV] gamma=0.009094355517164893, C=1.8193027685051568 ................\n",
      "[CV] . gamma=0.009094355517164893, C=1.8193027685051568, total=   1.0s\n",
      "[CV] gamma=0.0016966239715960217, C=3.160830749624769 ................\n",
      "[CV] . gamma=0.0016966239715960217, C=3.160830749624769, total=   0.7s\n",
      "[CV] gamma=0.0016966239715960217, C=3.160830749624769 ................\n",
      "[CV] . gamma=0.0016966239715960217, C=3.160830749624769, total=   0.7s\n",
      "[CV] gamma=0.0016966239715960217, C=3.160830749624769 ................\n"
     ]
    },
    {
     "name": "stdout",
     "output_type": "stream",
     "text": [
      "[CV] . gamma=0.0016966239715960217, C=3.160830749624769, total=   0.7s\n",
      "[CV] gamma=0.03177132618930142, C=5.044875594662722 ..................\n",
      "[CV] ... gamma=0.03177132618930142, C=5.044875594662722, total=   1.0s\n",
      "[CV] gamma=0.03177132618930142, C=5.044875594662722 ..................\n",
      "[CV] ... gamma=0.03177132618930142, C=5.044875594662722, total=   1.0s\n",
      "[CV] gamma=0.03177132618930142, C=5.044875594662722 ..................\n",
      "[CV] ... gamma=0.03177132618930142, C=5.044875594662722, total=   1.0s\n",
      "[CV] gamma=0.05368650000183819, C=2.6761056060923196 .................\n",
      "[CV] .. gamma=0.05368650000183819, C=2.6761056060923196, total=   1.0s\n",
      "[CV] gamma=0.05368650000183819, C=2.6761056060923196 .................\n",
      "[CV] .. gamma=0.05368650000183819, C=2.6761056060923196, total=   1.0s\n",
      "[CV] gamma=0.05368650000183819, C=2.6761056060923196 .................\n",
      "[CV] .. gamma=0.05368650000183819, C=2.6761056060923196, total=   1.0s\n",
      "[CV] gamma=0.0037057223072968666, C=10.346009936612196 ...............\n",
      "[CV]  gamma=0.0037057223072968666, C=10.346009936612196, total=   0.9s\n",
      "[CV] gamma=0.0037057223072968666, C=10.346009936612196 ...............\n",
      "[CV]  gamma=0.0037057223072968666, C=10.346009936612196, total=   0.9s\n",
      "[CV] gamma=0.0037057223072968666, C=10.346009936612196 ...............\n",
      "[CV]  gamma=0.0037057223072968666, C=10.346009936612196, total=   0.9s\n",
      "[CV] gamma=0.0052937356237675315, C=8.939182840777212 ................\n",
      "[CV] . gamma=0.0052937356237675315, C=8.939182840777212, total=   1.0s\n",
      "[CV] gamma=0.0052937356237675315, C=8.939182840777212 ................\n",
      "[CV] . gamma=0.0052937356237675315, C=8.939182840777212, total=   0.9s\n",
      "[CV] gamma=0.0052937356237675315, C=8.939182840777212 ................\n",
      "[CV] . gamma=0.0052937356237675315, C=8.939182840777212, total=   1.0s\n",
      "[CV] gamma=0.011749036358599958, C=15.246382615777849 ................\n",
      "[CV] . gamma=0.011749036358599958, C=15.246382615777849, total=   1.0s\n",
      "[CV] gamma=0.011749036358599958, C=15.246382615777849 ................\n",
      "[CV] . gamma=0.011749036358599958, C=15.246382615777849, total=   0.9s\n",
      "[CV] gamma=0.011749036358599958, C=15.246382615777849 ................\n",
      "[CV] . gamma=0.011749036358599958, C=15.246382615777849, total=   1.0s\n",
      "[CV] gamma=0.018770833105535636, C=16.013459277729673 ................\n",
      "[CV] . gamma=0.018770833105535636, C=16.013459277729673, total=   1.0s\n",
      "[CV] gamma=0.018770833105535636, C=16.013459277729673 ................\n",
      "[CV] . gamma=0.018770833105535636, C=16.013459277729673, total=   1.0s\n",
      "[CV] gamma=0.018770833105535636, C=16.013459277729673 ................\n",
      "[CV] . gamma=0.018770833105535636, C=16.013459277729673, total=   1.0s\n",
      "[CV] gamma=0.0019438563953624612, C=7.247261115039324 ................\n",
      "[CV] . gamma=0.0019438563953624612, C=7.247261115039324, total=   0.7s\n",
      "[CV] gamma=0.0019438563953624612, C=7.247261115039324 ................\n",
      "[CV] . gamma=0.0019438563953624612, C=7.247261115039324, total=   0.8s\n",
      "[CV] gamma=0.0019438563953624612, C=7.247261115039324 ................\n",
      "[CV] . gamma=0.0019438563953624612, C=7.247261115039324, total=   0.7s\n",
      "[CV] gamma=0.023783486299905125, C=13.568950558630952 ................\n",
      "[CV] . gamma=0.023783486299905125, C=13.568950558630952, total=   1.0s\n",
      "[CV] gamma=0.023783486299905125, C=13.568950558630952 ................\n",
      "[CV] . gamma=0.023783486299905125, C=13.568950558630952, total=   0.9s\n",
      "[CV] gamma=0.023783486299905125, C=13.568950558630952 ................\n",
      "[CV] . gamma=0.023783486299905125, C=13.568950558630952, total=   0.9s\n",
      "[CV] gamma=0.0012886902781679291, C=1.4645167430498187 ...............\n",
      "[CV]  gamma=0.0012886902781679291, C=1.4645167430498187, total=   0.6s\n",
      "[CV] gamma=0.0012886902781679291, C=1.4645167430498187 ...............\n",
      "[CV]  gamma=0.0012886902781679291, C=1.4645167430498187, total=   0.6s\n",
      "[CV] gamma=0.0012886902781679291, C=1.4645167430498187 ...............\n",
      "[CV]  gamma=0.0012886902781679291, C=1.4645167430498187, total=   0.6s\n",
      "[CV] gamma=0.01146597758003436, C=15.215023334022696 .................\n",
      "[CV] .. gamma=0.01146597758003436, C=15.215023334022696, total=   0.9s\n",
      "[CV] gamma=0.01146597758003436, C=15.215023334022696 .................\n",
      "[CV] .. gamma=0.01146597758003436, C=15.215023334022696, total=   0.9s\n",
      "[CV] gamma=0.01146597758003436, C=15.215023334022696 .................\n",
      "[CV] .. gamma=0.01146597758003436, C=15.215023334022696, total=   0.9s\n"
     ]
    },
    {
     "name": "stderr",
     "output_type": "stream",
     "text": [
      "[Parallel(n_jobs=1)]: Done  90 out of  90 | elapsed:  2.2min finished\n"
     ]
    },
    {
     "data": {
      "text/plain": [
       "RandomizedSearchCV(cv=3, error_score='raise',\n",
       "          estimator=SVC(C=1.0, cache_size=200, class_weight=None, coef0=0.0,\n",
       "  decision_function_shape='ovr', degree=3, gamma='auto', kernel='rbf',\n",
       "  max_iter=-1, probability=False, random_state=None, shrinking=True,\n",
       "  tol=0.001, verbose=False),\n",
       "          fit_params=None, iid=True, n_iter=30, n_jobs=1,\n",
       "          param_distributions={'gamma': <scipy.stats._distn_infrastructure.rv_frozen object at 0x0000027D27699128>, 'C': <scipy.stats._distn_infrastructure.rv_frozen object at 0x0000027D27699390>},\n",
       "          pre_dispatch='2*n_jobs', random_state=None, refit=True,\n",
       "          return_train_score=True, scoring=None, verbose=2)"
      ]
     },
     "execution_count": 42,
     "metadata": {},
     "output_type": "execute_result"
    }
   ],
   "source": [
    "svc_rnd_grid.fit(X_train_std[:1000], y_train[:1000])"
   ]
  },
  {
   "cell_type": "code",
   "execution_count": 43,
   "metadata": {},
   "outputs": [
    {
     "data": {
      "text/plain": [
       "({'C': 12.941714223184917, 'gamma': 0.001409732308315698}, 0.863)"
      ]
     },
     "execution_count": 43,
     "metadata": {},
     "output_type": "execute_result"
    }
   ],
   "source": [
    "svc_rnd_grid.best_params_, svc_rnd_grid.best_score_"
   ]
  },
  {
   "cell_type": "code",
   "execution_count": 44,
   "metadata": {},
   "outputs": [],
   "source": [
    "cv_result = pd.DataFrame(svc_rnd_grid.cv_results_)"
   ]
  },
  {
   "cell_type": "code",
   "execution_count": 45,
   "metadata": {},
   "outputs": [
    {
     "data": {
      "text/html": [
       "<div>\n",
       "<style scoped>\n",
       "    .dataframe tbody tr th:only-of-type {\n",
       "        vertical-align: middle;\n",
       "    }\n",
       "\n",
       "    .dataframe tbody tr th {\n",
       "        vertical-align: top;\n",
       "    }\n",
       "\n",
       "    .dataframe thead th {\n",
       "        text-align: right;\n",
       "    }\n",
       "</style>\n",
       "<table border=\"1\" class=\"dataframe\">\n",
       "  <thead>\n",
       "    <tr style=\"text-align: right;\">\n",
       "      <th></th>\n",
       "      <th>mean_fit_time</th>\n",
       "      <th>mean_score_time</th>\n",
       "      <th>mean_test_score</th>\n",
       "      <th>mean_train_score</th>\n",
       "      <th>param_C</th>\n",
       "      <th>param_gamma</th>\n",
       "      <th>params</th>\n",
       "      <th>rank_test_score</th>\n",
       "      <th>split0_test_score</th>\n",
       "      <th>split0_train_score</th>\n",
       "      <th>split1_test_score</th>\n",
       "      <th>split1_train_score</th>\n",
       "      <th>split2_test_score</th>\n",
       "      <th>split2_train_score</th>\n",
       "      <th>std_fit_time</th>\n",
       "      <th>std_score_time</th>\n",
       "      <th>std_test_score</th>\n",
       "      <th>std_train_score</th>\n",
       "    </tr>\n",
       "  </thead>\n",
       "  <tbody>\n",
       "    <tr>\n",
       "      <th>7</th>\n",
       "      <td>0.613602</td>\n",
       "      <td>0.188031</td>\n",
       "      <td>0.863</td>\n",
       "      <td>1.000000</td>\n",
       "      <td>12.9417</td>\n",
       "      <td>0.00140973</td>\n",
       "      <td>{'gamma': 0.001409732308315698, 'C': 12.941714...</td>\n",
       "      <td>1</td>\n",
       "      <td>0.872024</td>\n",
       "      <td>1.000000</td>\n",
       "      <td>0.858859</td>\n",
       "      <td>1.000000</td>\n",
       "      <td>0.858006</td>\n",
       "      <td>1.000000</td>\n",
       "      <td>0.003773</td>\n",
       "      <td>0.008431</td>\n",
       "      <td>0.006429</td>\n",
       "      <td>0.000000</td>\n",
       "    </tr>\n",
       "    <tr>\n",
       "      <th>19</th>\n",
       "      <td>0.631484</td>\n",
       "      <td>0.193235</td>\n",
       "      <td>0.858</td>\n",
       "      <td>1.000000</td>\n",
       "      <td>3.16083</td>\n",
       "      <td>0.00169662</td>\n",
       "      <td>{'gamma': 0.0016966239715960217, 'C': 3.160830...</td>\n",
       "      <td>2</td>\n",
       "      <td>0.869048</td>\n",
       "      <td>1.000000</td>\n",
       "      <td>0.849850</td>\n",
       "      <td>1.000000</td>\n",
       "      <td>0.854985</td>\n",
       "      <td>1.000000</td>\n",
       "      <td>0.008989</td>\n",
       "      <td>0.004233</td>\n",
       "      <td>0.008132</td>\n",
       "      <td>0.000000</td>\n",
       "    </tr>\n",
       "    <tr>\n",
       "      <th>28</th>\n",
       "      <td>0.535491</td>\n",
       "      <td>0.184782</td>\n",
       "      <td>0.853</td>\n",
       "      <td>0.987496</td>\n",
       "      <td>1.46452</td>\n",
       "      <td>0.00128869</td>\n",
       "      <td>{'gamma': 0.0012886902781679291, 'C': 1.464516...</td>\n",
       "      <td>3</td>\n",
       "      <td>0.857143</td>\n",
       "      <td>0.986446</td>\n",
       "      <td>0.849850</td>\n",
       "      <td>0.986507</td>\n",
       "      <td>0.851964</td>\n",
       "      <td>0.989537</td>\n",
       "      <td>0.014539</td>\n",
       "      <td>0.002550</td>\n",
       "      <td>0.003070</td>\n",
       "      <td>0.001443</td>\n",
       "    </tr>\n",
       "    <tr>\n",
       "      <th>26</th>\n",
       "      <td>0.654218</td>\n",
       "      <td>0.189677</td>\n",
       "      <td>0.852</td>\n",
       "      <td>1.000000</td>\n",
       "      <td>7.24726</td>\n",
       "      <td>0.00194386</td>\n",
       "      <td>{'gamma': 0.0019438563953624612, 'C': 7.247261...</td>\n",
       "      <td>4</td>\n",
       "      <td>0.866071</td>\n",
       "      <td>1.000000</td>\n",
       "      <td>0.840841</td>\n",
       "      <td>1.000000</td>\n",
       "      <td>0.848943</td>\n",
       "      <td>1.000000</td>\n",
       "      <td>0.021163</td>\n",
       "      <td>0.001208</td>\n",
       "      <td>0.010540</td>\n",
       "      <td>0.000000</td>\n",
       "    </tr>\n",
       "    <tr>\n",
       "      <th>5</th>\n",
       "      <td>0.678994</td>\n",
       "      <td>0.199107</td>\n",
       "      <td>0.851</td>\n",
       "      <td>1.000000</td>\n",
       "      <td>18.5286</td>\n",
       "      <td>0.00214724</td>\n",
       "      <td>{'gamma': 0.0021472449624881326, 'C': 18.52863...</td>\n",
       "      <td>5</td>\n",
       "      <td>0.863095</td>\n",
       "      <td>1.000000</td>\n",
       "      <td>0.837838</td>\n",
       "      <td>1.000000</td>\n",
       "      <td>0.851964</td>\n",
       "      <td>1.000000</td>\n",
       "      <td>0.004372</td>\n",
       "      <td>0.003490</td>\n",
       "      <td>0.010351</td>\n",
       "      <td>0.000000</td>\n",
       "    </tr>\n",
       "    <tr>\n",
       "      <th>2</th>\n",
       "      <td>0.724275</td>\n",
       "      <td>0.211647</td>\n",
       "      <td>0.847</td>\n",
       "      <td>1.000000</td>\n",
       "      <td>17.8078</td>\n",
       "      <td>0.00234968</td>\n",
       "      <td>{'gamma': 0.002349675521454126, 'C': 17.807835...</td>\n",
       "      <td>6</td>\n",
       "      <td>0.857143</td>\n",
       "      <td>1.000000</td>\n",
       "      <td>0.843844</td>\n",
       "      <td>1.000000</td>\n",
       "      <td>0.839879</td>\n",
       "      <td>1.000000</td>\n",
       "      <td>0.007477</td>\n",
       "      <td>0.004106</td>\n",
       "      <td>0.007394</td>\n",
       "      <td>0.000000</td>\n",
       "    </tr>\n",
       "    <tr>\n",
       "      <th>22</th>\n",
       "      <td>0.778848</td>\n",
       "      <td>0.211807</td>\n",
       "      <td>0.792</td>\n",
       "      <td>1.000000</td>\n",
       "      <td>10.346</td>\n",
       "      <td>0.00370572</td>\n",
       "      <td>{'gamma': 0.0037057223072968666, 'C': 10.34600...</td>\n",
       "      <td>7</td>\n",
       "      <td>0.800595</td>\n",
       "      <td>1.000000</td>\n",
       "      <td>0.786787</td>\n",
       "      <td>1.000000</td>\n",
       "      <td>0.788520</td>\n",
       "      <td>1.000000</td>\n",
       "      <td>0.008396</td>\n",
       "      <td>0.004996</td>\n",
       "      <td>0.006155</td>\n",
       "      <td>0.000000</td>\n",
       "    </tr>\n",
       "    <tr>\n",
       "      <th>4</th>\n",
       "      <td>0.816276</td>\n",
       "      <td>0.219587</td>\n",
       "      <td>0.772</td>\n",
       "      <td>1.000000</td>\n",
       "      <td>10.0795</td>\n",
       "      <td>0.00435878</td>\n",
       "      <td>{'gamma': 0.004358776804207333, 'C': 10.079481...</td>\n",
       "      <td>8</td>\n",
       "      <td>0.785714</td>\n",
       "      <td>1.000000</td>\n",
       "      <td>0.756757</td>\n",
       "      <td>1.000000</td>\n",
       "      <td>0.773414</td>\n",
       "      <td>1.000000</td>\n",
       "      <td>0.010989</td>\n",
       "      <td>0.009060</td>\n",
       "      <td>0.011884</td>\n",
       "      <td>0.000000</td>\n",
       "    </tr>\n",
       "    <tr>\n",
       "      <th>23</th>\n",
       "      <td>0.820827</td>\n",
       "      <td>0.219589</td>\n",
       "      <td>0.747</td>\n",
       "      <td>1.000000</td>\n",
       "      <td>8.93918</td>\n",
       "      <td>0.00529374</td>\n",
       "      <td>{'gamma': 0.0052937356237675315, 'C': 8.939182...</td>\n",
       "      <td>9</td>\n",
       "      <td>0.770833</td>\n",
       "      <td>1.000000</td>\n",
       "      <td>0.732733</td>\n",
       "      <td>1.000000</td>\n",
       "      <td>0.737160</td>\n",
       "      <td>1.000000</td>\n",
       "      <td>0.017806</td>\n",
       "      <td>0.004424</td>\n",
       "      <td>0.017050</td>\n",
       "      <td>0.000000</td>\n",
       "    </tr>\n",
       "    <tr>\n",
       "      <th>14</th>\n",
       "      <td>0.869616</td>\n",
       "      <td>0.225782</td>\n",
       "      <td>0.704</td>\n",
       "      <td>1.000000</td>\n",
       "      <td>6.33371</td>\n",
       "      <td>0.00678404</td>\n",
       "      <td>{'gamma': 0.006784036248414888, 'C': 6.3337125...</td>\n",
       "      <td>10</td>\n",
       "      <td>0.741071</td>\n",
       "      <td>1.000000</td>\n",
       "      <td>0.711712</td>\n",
       "      <td>1.000000</td>\n",
       "      <td>0.658610</td>\n",
       "      <td>1.000000</td>\n",
       "      <td>0.019568</td>\n",
       "      <td>0.003931</td>\n",
       "      <td>0.034110</td>\n",
       "      <td>0.000000</td>\n",
       "    </tr>\n",
       "    <tr>\n",
       "      <th>15</th>\n",
       "      <td>0.876773</td>\n",
       "      <td>0.233621</td>\n",
       "      <td>0.683</td>\n",
       "      <td>1.000000</td>\n",
       "      <td>20.3084</td>\n",
       "      <td>0.00752903</td>\n",
       "      <td>{'gamma': 0.00752902639848454, 'C': 20.3084117...</td>\n",
       "      <td>11</td>\n",
       "      <td>0.714286</td>\n",
       "      <td>1.000000</td>\n",
       "      <td>0.696697</td>\n",
       "      <td>1.000000</td>\n",
       "      <td>0.637462</td>\n",
       "      <td>1.000000</td>\n",
       "      <td>0.010848</td>\n",
       "      <td>0.002439</td>\n",
       "      <td>0.032829</td>\n",
       "      <td>0.000000</td>\n",
       "    </tr>\n",
       "    <tr>\n",
       "      <th>10</th>\n",
       "      <td>0.861824</td>\n",
       "      <td>0.227744</td>\n",
       "      <td>0.677</td>\n",
       "      <td>1.000000</td>\n",
       "      <td>15.5897</td>\n",
       "      <td>0.008028</td>\n",
       "      <td>{'gamma': 0.0080279985546748, 'C': 15.58972027...</td>\n",
       "      <td>12</td>\n",
       "      <td>0.711310</td>\n",
       "      <td>1.000000</td>\n",
       "      <td>0.687688</td>\n",
       "      <td>1.000000</td>\n",
       "      <td>0.631420</td>\n",
       "      <td>1.000000</td>\n",
       "      <td>0.018009</td>\n",
       "      <td>0.001835</td>\n",
       "      <td>0.033485</td>\n",
       "      <td>0.000000</td>\n",
       "    </tr>\n",
       "    <tr>\n",
       "      <th>13</th>\n",
       "      <td>0.856945</td>\n",
       "      <td>0.225121</td>\n",
       "      <td>0.660</td>\n",
       "      <td>1.000000</td>\n",
       "      <td>12.5434</td>\n",
       "      <td>0.00847735</td>\n",
       "      <td>{'gamma': 0.00847735153748884, 'C': 12.5433533...</td>\n",
       "      <td>13</td>\n",
       "      <td>0.690476</td>\n",
       "      <td>1.000000</td>\n",
       "      <td>0.678679</td>\n",
       "      <td>1.000000</td>\n",
       "      <td>0.610272</td>\n",
       "      <td>1.000000</td>\n",
       "      <td>0.002775</td>\n",
       "      <td>0.008077</td>\n",
       "      <td>0.035310</td>\n",
       "      <td>0.000000</td>\n",
       "    </tr>\n",
       "    <tr>\n",
       "      <th>18</th>\n",
       "      <td>0.846201</td>\n",
       "      <td>0.225127</td>\n",
       "      <td>0.644</td>\n",
       "      <td>1.000000</td>\n",
       "      <td>1.8193</td>\n",
       "      <td>0.00909436</td>\n",
       "      <td>{'gamma': 0.009094355517164893, 'C': 1.8193027...</td>\n",
       "      <td>14</td>\n",
       "      <td>0.684524</td>\n",
       "      <td>1.000000</td>\n",
       "      <td>0.651652</td>\n",
       "      <td>1.000000</td>\n",
       "      <td>0.595166</td>\n",
       "      <td>1.000000</td>\n",
       "      <td>0.016332</td>\n",
       "      <td>0.004624</td>\n",
       "      <td>0.036887</td>\n",
       "      <td>0.000000</td>\n",
       "    </tr>\n",
       "    <tr>\n",
       "      <th>3</th>\n",
       "      <td>0.857306</td>\n",
       "      <td>0.233037</td>\n",
       "      <td>0.623</td>\n",
       "      <td>1.000000</td>\n",
       "      <td>14.4858</td>\n",
       "      <td>0.00988005</td>\n",
       "      <td>{'gamma': 0.009880052624902436, 'C': 14.485847...</td>\n",
       "      <td>15</td>\n",
       "      <td>0.642857</td>\n",
       "      <td>1.000000</td>\n",
       "      <td>0.645646</td>\n",
       "      <td>1.000000</td>\n",
       "      <td>0.580060</td>\n",
       "      <td>1.000000</td>\n",
       "      <td>0.021415</td>\n",
       "      <td>0.005827</td>\n",
       "      <td>0.030225</td>\n",
       "      <td>0.000000</td>\n",
       "    </tr>\n",
       "    <tr>\n",
       "      <th>29</th>\n",
       "      <td>0.817256</td>\n",
       "      <td>0.211775</td>\n",
       "      <td>0.588</td>\n",
       "      <td>1.000000</td>\n",
       "      <td>15.215</td>\n",
       "      <td>0.011466</td>\n",
       "      <td>{'gamma': 0.01146597758003436, 'C': 15.2150233...</td>\n",
       "      <td>16</td>\n",
       "      <td>0.571429</td>\n",
       "      <td>1.000000</td>\n",
       "      <td>0.621622</td>\n",
       "      <td>1.000000</td>\n",
       "      <td>0.570997</td>\n",
       "      <td>1.000000</td>\n",
       "      <td>0.014801</td>\n",
       "      <td>0.004835</td>\n",
       "      <td>0.023757</td>\n",
       "      <td>0.000000</td>\n",
       "    </tr>\n",
       "    <tr>\n",
       "      <th>24</th>\n",
       "      <td>0.845874</td>\n",
       "      <td>0.230338</td>\n",
       "      <td>0.581</td>\n",
       "      <td>1.000000</td>\n",
       "      <td>15.2464</td>\n",
       "      <td>0.011749</td>\n",
       "      <td>{'gamma': 0.011749036358599958, 'C': 15.246382...</td>\n",
       "      <td>17</td>\n",
       "      <td>0.550595</td>\n",
       "      <td>1.000000</td>\n",
       "      <td>0.624625</td>\n",
       "      <td>1.000000</td>\n",
       "      <td>0.567976</td>\n",
       "      <td>1.000000</td>\n",
       "      <td>0.022780</td>\n",
       "      <td>0.010543</td>\n",
       "      <td>0.031631</td>\n",
       "      <td>0.000000</td>\n",
       "    </tr>\n",
       "    <tr>\n",
       "      <th>16</th>\n",
       "      <td>0.859522</td>\n",
       "      <td>0.229693</td>\n",
       "      <td>0.571</td>\n",
       "      <td>1.000000</td>\n",
       "      <td>20.8444</td>\n",
       "      <td>0.0120481</td>\n",
       "      <td>{'gamma': 0.012048079801332112, 'C': 20.844393...</td>\n",
       "      <td>18</td>\n",
       "      <td>0.532738</td>\n",
       "      <td>1.000000</td>\n",
       "      <td>0.627628</td>\n",
       "      <td>1.000000</td>\n",
       "      <td>0.552870</td>\n",
       "      <td>1.000000</td>\n",
       "      <td>0.008290</td>\n",
       "      <td>0.002557</td>\n",
       "      <td>0.040848</td>\n",
       "      <td>0.000000</td>\n",
       "    </tr>\n",
       "    <tr>\n",
       "      <th>8</th>\n",
       "      <td>0.849782</td>\n",
       "      <td>0.229678</td>\n",
       "      <td>0.436</td>\n",
       "      <td>1.000000</td>\n",
       "      <td>2.9473</td>\n",
       "      <td>0.0149111</td>\n",
       "      <td>{'gamma': 0.014911075009884133, 'C': 2.9473005...</td>\n",
       "      <td>19</td>\n",
       "      <td>0.416667</td>\n",
       "      <td>1.000000</td>\n",
       "      <td>0.480480</td>\n",
       "      <td>1.000000</td>\n",
       "      <td>0.410876</td>\n",
       "      <td>1.000000</td>\n",
       "      <td>0.011196</td>\n",
       "      <td>0.006787</td>\n",
       "      <td>0.031518</td>\n",
       "      <td>0.000000</td>\n",
       "    </tr>\n",
       "    <tr>\n",
       "      <th>9</th>\n",
       "      <td>0.850438</td>\n",
       "      <td>0.227407</td>\n",
       "      <td>0.390</td>\n",
       "      <td>1.000000</td>\n",
       "      <td>7.63947</td>\n",
       "      <td>0.0163075</td>\n",
       "      <td>{'gamma': 0.016307502027061715, 'C': 7.6394689...</td>\n",
       "      <td>20</td>\n",
       "      <td>0.375000</td>\n",
       "      <td>1.000000</td>\n",
       "      <td>0.435435</td>\n",
       "      <td>1.000000</td>\n",
       "      <td>0.359517</td>\n",
       "      <td>1.000000</td>\n",
       "      <td>0.015808</td>\n",
       "      <td>0.001381</td>\n",
       "      <td>0.032720</td>\n",
       "      <td>0.000000</td>\n",
       "    </tr>\n",
       "    <tr>\n",
       "      <th>25</th>\n",
       "      <td>0.840024</td>\n",
       "      <td>0.225789</td>\n",
       "      <td>0.322</td>\n",
       "      <td>1.000000</td>\n",
       "      <td>16.0135</td>\n",
       "      <td>0.0187708</td>\n",
       "      <td>{'gamma': 0.018770833105535636, 'C': 16.013459...</td>\n",
       "      <td>21</td>\n",
       "      <td>0.324405</td>\n",
       "      <td>1.000000</td>\n",
       "      <td>0.360360</td>\n",
       "      <td>1.000000</td>\n",
       "      <td>0.280967</td>\n",
       "      <td>1.000000</td>\n",
       "      <td>0.008534</td>\n",
       "      <td>0.003755</td>\n",
       "      <td>0.032392</td>\n",
       "      <td>0.000000</td>\n",
       "    </tr>\n",
       "    <tr>\n",
       "      <th>12</th>\n",
       "      <td>0.860506</td>\n",
       "      <td>0.230360</td>\n",
       "      <td>0.262</td>\n",
       "      <td>1.000000</td>\n",
       "      <td>19.852</td>\n",
       "      <td>0.0229564</td>\n",
       "      <td>{'gamma': 0.02295640824465052, 'C': 19.8520356...</td>\n",
       "      <td>22</td>\n",
       "      <td>0.273810</td>\n",
       "      <td>1.000000</td>\n",
       "      <td>0.276276</td>\n",
       "      <td>1.000000</td>\n",
       "      <td>0.235650</td>\n",
       "      <td>1.000000</td>\n",
       "      <td>0.008780</td>\n",
       "      <td>0.000020</td>\n",
       "      <td>0.018562</td>\n",
       "      <td>0.000000</td>\n",
       "    </tr>\n",
       "    <tr>\n",
       "      <th>27</th>\n",
       "      <td>0.817888</td>\n",
       "      <td>0.219631</td>\n",
       "      <td>0.253</td>\n",
       "      <td>1.000000</td>\n",
       "      <td>13.569</td>\n",
       "      <td>0.0237835</td>\n",
       "      <td>{'gamma': 0.023783486299905125, 'C': 13.568950...</td>\n",
       "      <td>23</td>\n",
       "      <td>0.267857</td>\n",
       "      <td>1.000000</td>\n",
       "      <td>0.258258</td>\n",
       "      <td>1.000000</td>\n",
       "      <td>0.232628</td>\n",
       "      <td>1.000000</td>\n",
       "      <td>0.012388</td>\n",
       "      <td>0.006269</td>\n",
       "      <td>0.014857</td>\n",
       "      <td>0.000000</td>\n",
       "    </tr>\n",
       "    <tr>\n",
       "      <th>0</th>\n",
       "      <td>0.818141</td>\n",
       "      <td>0.217659</td>\n",
       "      <td>0.217</td>\n",
       "      <td>1.000000</td>\n",
       "      <td>6.43504</td>\n",
       "      <td>0.0302972</td>\n",
       "      <td>{'gamma': 0.030297230589296384, 'C': 6.4350378...</td>\n",
       "      <td>24</td>\n",
       "      <td>0.214286</td>\n",
       "      <td>1.000000</td>\n",
       "      <td>0.216216</td>\n",
       "      <td>1.000000</td>\n",
       "      <td>0.220544</td>\n",
       "      <td>1.000000</td>\n",
       "      <td>0.004340</td>\n",
       "      <td>0.001419</td>\n",
       "      <td>0.002615</td>\n",
       "      <td>0.000000</td>\n",
       "    </tr>\n",
       "    <tr>\n",
       "      <th>20</th>\n",
       "      <td>0.840026</td>\n",
       "      <td>0.232256</td>\n",
       "      <td>0.215</td>\n",
       "      <td>1.000000</td>\n",
       "      <td>5.04488</td>\n",
       "      <td>0.0317713</td>\n",
       "      <td>{'gamma': 0.03177132618930142, 'C': 5.04487559...</td>\n",
       "      <td>25</td>\n",
       "      <td>0.214286</td>\n",
       "      <td>1.000000</td>\n",
       "      <td>0.213213</td>\n",
       "      <td>1.000000</td>\n",
       "      <td>0.217523</td>\n",
       "      <td>1.000000</td>\n",
       "      <td>0.018202</td>\n",
       "      <td>0.004443</td>\n",
       "      <td>0.001828</td>\n",
       "      <td>0.000000</td>\n",
       "    </tr>\n",
       "    <tr>\n",
       "      <th>6</th>\n",
       "      <td>0.825070</td>\n",
       "      <td>0.223474</td>\n",
       "      <td>0.184</td>\n",
       "      <td>1.000000</td>\n",
       "      <td>15.7477</td>\n",
       "      <td>0.0455218</td>\n",
       "      <td>{'gamma': 0.04552175452382846, 'C': 15.7477352...</td>\n",
       "      <td>26</td>\n",
       "      <td>0.181548</td>\n",
       "      <td>1.000000</td>\n",
       "      <td>0.177177</td>\n",
       "      <td>1.000000</td>\n",
       "      <td>0.193353</td>\n",
       "      <td>1.000000</td>\n",
       "      <td>0.018436</td>\n",
       "      <td>0.001399</td>\n",
       "      <td>0.006818</td>\n",
       "      <td>0.000000</td>\n",
       "    </tr>\n",
       "    <tr>\n",
       "      <th>21</th>\n",
       "      <td>0.852709</td>\n",
       "      <td>0.235203</td>\n",
       "      <td>0.175</td>\n",
       "      <td>1.000000</td>\n",
       "      <td>2.67611</td>\n",
       "      <td>0.0536865</td>\n",
       "      <td>{'gamma': 0.05368650000183819, 'C': 2.67610560...</td>\n",
       "      <td>27</td>\n",
       "      <td>0.169643</td>\n",
       "      <td>1.000000</td>\n",
       "      <td>0.168168</td>\n",
       "      <td>1.000000</td>\n",
       "      <td>0.187311</td>\n",
       "      <td>1.000000</td>\n",
       "      <td>0.000440</td>\n",
       "      <td>0.001397</td>\n",
       "      <td>0.008681</td>\n",
       "      <td>0.000000</td>\n",
       "    </tr>\n",
       "    <tr>\n",
       "      <th>1</th>\n",
       "      <td>0.847568</td>\n",
       "      <td>0.227685</td>\n",
       "      <td>0.170</td>\n",
       "      <td>1.000000</td>\n",
       "      <td>1.8627</td>\n",
       "      <td>0.0558969</td>\n",
       "      <td>{'gamma': 0.05589691075855566, 'C': 1.86269577...</td>\n",
       "      <td>28</td>\n",
       "      <td>0.166667</td>\n",
       "      <td>1.000000</td>\n",
       "      <td>0.162162</td>\n",
       "      <td>1.000000</td>\n",
       "      <td>0.181269</td>\n",
       "      <td>1.000000</td>\n",
       "      <td>0.049027</td>\n",
       "      <td>0.012312</td>\n",
       "      <td>0.008138</td>\n",
       "      <td>0.000000</td>\n",
       "    </tr>\n",
       "    <tr>\n",
       "      <th>17</th>\n",
       "      <td>0.877415</td>\n",
       "      <td>0.243358</td>\n",
       "      <td>0.163</td>\n",
       "      <td>1.000000</td>\n",
       "      <td>17.047</td>\n",
       "      <td>0.0643397</td>\n",
       "      <td>{'gamma': 0.0643396887703228, 'C': 17.04704303...</td>\n",
       "      <td>29</td>\n",
       "      <td>0.154762</td>\n",
       "      <td>1.000000</td>\n",
       "      <td>0.159159</td>\n",
       "      <td>1.000000</td>\n",
       "      <td>0.175227</td>\n",
       "      <td>1.000000</td>\n",
       "      <td>0.006027</td>\n",
       "      <td>0.005050</td>\n",
       "      <td>0.008786</td>\n",
       "      <td>0.000000</td>\n",
       "    </tr>\n",
       "    <tr>\n",
       "      <th>11</th>\n",
       "      <td>0.885894</td>\n",
       "      <td>0.237829</td>\n",
       "      <td>0.149</td>\n",
       "      <td>1.000000</td>\n",
       "      <td>13.6424</td>\n",
       "      <td>0.0839572</td>\n",
       "      <td>{'gamma': 0.08395717653135638, 'C': 13.6423701...</td>\n",
       "      <td>30</td>\n",
       "      <td>0.136905</td>\n",
       "      <td>1.000000</td>\n",
       "      <td>0.150150</td>\n",
       "      <td>1.000000</td>\n",
       "      <td>0.160121</td>\n",
       "      <td>1.000000</td>\n",
       "      <td>0.022913</td>\n",
       "      <td>0.002276</td>\n",
       "      <td>0.009515</td>\n",
       "      <td>0.000000</td>\n",
       "    </tr>\n",
       "  </tbody>\n",
       "</table>\n",
       "</div>"
      ],
      "text/plain": [
       "    mean_fit_time  mean_score_time  mean_test_score  mean_train_score  \\\n",
       "7        0.613602         0.188031            0.863          1.000000   \n",
       "19       0.631484         0.193235            0.858          1.000000   \n",
       "28       0.535491         0.184782            0.853          0.987496   \n",
       "26       0.654218         0.189677            0.852          1.000000   \n",
       "5        0.678994         0.199107            0.851          1.000000   \n",
       "2        0.724275         0.211647            0.847          1.000000   \n",
       "22       0.778848         0.211807            0.792          1.000000   \n",
       "4        0.816276         0.219587            0.772          1.000000   \n",
       "23       0.820827         0.219589            0.747          1.000000   \n",
       "14       0.869616         0.225782            0.704          1.000000   \n",
       "15       0.876773         0.233621            0.683          1.000000   \n",
       "10       0.861824         0.227744            0.677          1.000000   \n",
       "13       0.856945         0.225121            0.660          1.000000   \n",
       "18       0.846201         0.225127            0.644          1.000000   \n",
       "3        0.857306         0.233037            0.623          1.000000   \n",
       "29       0.817256         0.211775            0.588          1.000000   \n",
       "24       0.845874         0.230338            0.581          1.000000   \n",
       "16       0.859522         0.229693            0.571          1.000000   \n",
       "8        0.849782         0.229678            0.436          1.000000   \n",
       "9        0.850438         0.227407            0.390          1.000000   \n",
       "25       0.840024         0.225789            0.322          1.000000   \n",
       "12       0.860506         0.230360            0.262          1.000000   \n",
       "27       0.817888         0.219631            0.253          1.000000   \n",
       "0        0.818141         0.217659            0.217          1.000000   \n",
       "20       0.840026         0.232256            0.215          1.000000   \n",
       "6        0.825070         0.223474            0.184          1.000000   \n",
       "21       0.852709         0.235203            0.175          1.000000   \n",
       "1        0.847568         0.227685            0.170          1.000000   \n",
       "17       0.877415         0.243358            0.163          1.000000   \n",
       "11       0.885894         0.237829            0.149          1.000000   \n",
       "\n",
       "    param_C param_gamma                                             params  \\\n",
       "7   12.9417  0.00140973  {'gamma': 0.001409732308315698, 'C': 12.941714...   \n",
       "19  3.16083  0.00169662  {'gamma': 0.0016966239715960217, 'C': 3.160830...   \n",
       "28  1.46452  0.00128869  {'gamma': 0.0012886902781679291, 'C': 1.464516...   \n",
       "26  7.24726  0.00194386  {'gamma': 0.0019438563953624612, 'C': 7.247261...   \n",
       "5   18.5286  0.00214724  {'gamma': 0.0021472449624881326, 'C': 18.52863...   \n",
       "2   17.8078  0.00234968  {'gamma': 0.002349675521454126, 'C': 17.807835...   \n",
       "22   10.346  0.00370572  {'gamma': 0.0037057223072968666, 'C': 10.34600...   \n",
       "4   10.0795  0.00435878  {'gamma': 0.004358776804207333, 'C': 10.079481...   \n",
       "23  8.93918  0.00529374  {'gamma': 0.0052937356237675315, 'C': 8.939182...   \n",
       "14  6.33371  0.00678404  {'gamma': 0.006784036248414888, 'C': 6.3337125...   \n",
       "15  20.3084  0.00752903  {'gamma': 0.00752902639848454, 'C': 20.3084117...   \n",
       "10  15.5897    0.008028  {'gamma': 0.0080279985546748, 'C': 15.58972027...   \n",
       "13  12.5434  0.00847735  {'gamma': 0.00847735153748884, 'C': 12.5433533...   \n",
       "18   1.8193  0.00909436  {'gamma': 0.009094355517164893, 'C': 1.8193027...   \n",
       "3   14.4858  0.00988005  {'gamma': 0.009880052624902436, 'C': 14.485847...   \n",
       "29   15.215    0.011466  {'gamma': 0.01146597758003436, 'C': 15.2150233...   \n",
       "24  15.2464    0.011749  {'gamma': 0.011749036358599958, 'C': 15.246382...   \n",
       "16  20.8444   0.0120481  {'gamma': 0.012048079801332112, 'C': 20.844393...   \n",
       "8    2.9473   0.0149111  {'gamma': 0.014911075009884133, 'C': 2.9473005...   \n",
       "9   7.63947   0.0163075  {'gamma': 0.016307502027061715, 'C': 7.6394689...   \n",
       "25  16.0135   0.0187708  {'gamma': 0.018770833105535636, 'C': 16.013459...   \n",
       "12   19.852   0.0229564  {'gamma': 0.02295640824465052, 'C': 19.8520356...   \n",
       "27   13.569   0.0237835  {'gamma': 0.023783486299905125, 'C': 13.568950...   \n",
       "0   6.43504   0.0302972  {'gamma': 0.030297230589296384, 'C': 6.4350378...   \n",
       "20  5.04488   0.0317713  {'gamma': 0.03177132618930142, 'C': 5.04487559...   \n",
       "6   15.7477   0.0455218  {'gamma': 0.04552175452382846, 'C': 15.7477352...   \n",
       "21  2.67611   0.0536865  {'gamma': 0.05368650000183819, 'C': 2.67610560...   \n",
       "1    1.8627   0.0558969  {'gamma': 0.05589691075855566, 'C': 1.86269577...   \n",
       "17   17.047   0.0643397  {'gamma': 0.0643396887703228, 'C': 17.04704303...   \n",
       "11  13.6424   0.0839572  {'gamma': 0.08395717653135638, 'C': 13.6423701...   \n",
       "\n",
       "    rank_test_score  split0_test_score  split0_train_score  split1_test_score  \\\n",
       "7                 1           0.872024            1.000000           0.858859   \n",
       "19                2           0.869048            1.000000           0.849850   \n",
       "28                3           0.857143            0.986446           0.849850   \n",
       "26                4           0.866071            1.000000           0.840841   \n",
       "5                 5           0.863095            1.000000           0.837838   \n",
       "2                 6           0.857143            1.000000           0.843844   \n",
       "22                7           0.800595            1.000000           0.786787   \n",
       "4                 8           0.785714            1.000000           0.756757   \n",
       "23                9           0.770833            1.000000           0.732733   \n",
       "14               10           0.741071            1.000000           0.711712   \n",
       "15               11           0.714286            1.000000           0.696697   \n",
       "10               12           0.711310            1.000000           0.687688   \n",
       "13               13           0.690476            1.000000           0.678679   \n",
       "18               14           0.684524            1.000000           0.651652   \n",
       "3                15           0.642857            1.000000           0.645646   \n",
       "29               16           0.571429            1.000000           0.621622   \n",
       "24               17           0.550595            1.000000           0.624625   \n",
       "16               18           0.532738            1.000000           0.627628   \n",
       "8                19           0.416667            1.000000           0.480480   \n",
       "9                20           0.375000            1.000000           0.435435   \n",
       "25               21           0.324405            1.000000           0.360360   \n",
       "12               22           0.273810            1.000000           0.276276   \n",
       "27               23           0.267857            1.000000           0.258258   \n",
       "0                24           0.214286            1.000000           0.216216   \n",
       "20               25           0.214286            1.000000           0.213213   \n",
       "6                26           0.181548            1.000000           0.177177   \n",
       "21               27           0.169643            1.000000           0.168168   \n",
       "1                28           0.166667            1.000000           0.162162   \n",
       "17               29           0.154762            1.000000           0.159159   \n",
       "11               30           0.136905            1.000000           0.150150   \n",
       "\n",
       "    split1_train_score  split2_test_score  split2_train_score  std_fit_time  \\\n",
       "7             1.000000           0.858006            1.000000      0.003773   \n",
       "19            1.000000           0.854985            1.000000      0.008989   \n",
       "28            0.986507           0.851964            0.989537      0.014539   \n",
       "26            1.000000           0.848943            1.000000      0.021163   \n",
       "5             1.000000           0.851964            1.000000      0.004372   \n",
       "2             1.000000           0.839879            1.000000      0.007477   \n",
       "22            1.000000           0.788520            1.000000      0.008396   \n",
       "4             1.000000           0.773414            1.000000      0.010989   \n",
       "23            1.000000           0.737160            1.000000      0.017806   \n",
       "14            1.000000           0.658610            1.000000      0.019568   \n",
       "15            1.000000           0.637462            1.000000      0.010848   \n",
       "10            1.000000           0.631420            1.000000      0.018009   \n",
       "13            1.000000           0.610272            1.000000      0.002775   \n",
       "18            1.000000           0.595166            1.000000      0.016332   \n",
       "3             1.000000           0.580060            1.000000      0.021415   \n",
       "29            1.000000           0.570997            1.000000      0.014801   \n",
       "24            1.000000           0.567976            1.000000      0.022780   \n",
       "16            1.000000           0.552870            1.000000      0.008290   \n",
       "8             1.000000           0.410876            1.000000      0.011196   \n",
       "9             1.000000           0.359517            1.000000      0.015808   \n",
       "25            1.000000           0.280967            1.000000      0.008534   \n",
       "12            1.000000           0.235650            1.000000      0.008780   \n",
       "27            1.000000           0.232628            1.000000      0.012388   \n",
       "0             1.000000           0.220544            1.000000      0.004340   \n",
       "20            1.000000           0.217523            1.000000      0.018202   \n",
       "6             1.000000           0.193353            1.000000      0.018436   \n",
       "21            1.000000           0.187311            1.000000      0.000440   \n",
       "1             1.000000           0.181269            1.000000      0.049027   \n",
       "17            1.000000           0.175227            1.000000      0.006027   \n",
       "11            1.000000           0.160121            1.000000      0.022913   \n",
       "\n",
       "    std_score_time  std_test_score  std_train_score  \n",
       "7         0.008431        0.006429         0.000000  \n",
       "19        0.004233        0.008132         0.000000  \n",
       "28        0.002550        0.003070         0.001443  \n",
       "26        0.001208        0.010540         0.000000  \n",
       "5         0.003490        0.010351         0.000000  \n",
       "2         0.004106        0.007394         0.000000  \n",
       "22        0.004996        0.006155         0.000000  \n",
       "4         0.009060        0.011884         0.000000  \n",
       "23        0.004424        0.017050         0.000000  \n",
       "14        0.003931        0.034110         0.000000  \n",
       "15        0.002439        0.032829         0.000000  \n",
       "10        0.001835        0.033485         0.000000  \n",
       "13        0.008077        0.035310         0.000000  \n",
       "18        0.004624        0.036887         0.000000  \n",
       "3         0.005827        0.030225         0.000000  \n",
       "29        0.004835        0.023757         0.000000  \n",
       "24        0.010543        0.031631         0.000000  \n",
       "16        0.002557        0.040848         0.000000  \n",
       "8         0.006787        0.031518         0.000000  \n",
       "9         0.001381        0.032720         0.000000  \n",
       "25        0.003755        0.032392         0.000000  \n",
       "12        0.000020        0.018562         0.000000  \n",
       "27        0.006269        0.014857         0.000000  \n",
       "0         0.001419        0.002615         0.000000  \n",
       "20        0.004443        0.001828         0.000000  \n",
       "6         0.001399        0.006818         0.000000  \n",
       "21        0.001397        0.008681         0.000000  \n",
       "1         0.012312        0.008138         0.000000  \n",
       "17        0.005050        0.008786         0.000000  \n",
       "11        0.002276        0.009515         0.000000  "
      ]
     },
     "execution_count": 45,
     "metadata": {},
     "output_type": "execute_result"
    }
   ],
   "source": [
    "cv_result.sort_values(by='rank_test_score')"
   ]
  },
  {
   "cell_type": "code",
   "execution_count": 46,
   "metadata": {},
   "outputs": [],
   "source": [
    "best_svc = svc_rnd_grid.best_estimator_"
   ]
  },
  {
   "cell_type": "code",
   "execution_count": 47,
   "metadata": {},
   "outputs": [
    {
     "data": {
      "text/plain": [
       "SVC(C=12.941714223184917, cache_size=200, class_weight=None, coef0=0.0,\n",
       "  decision_function_shape='ovr', degree=3, gamma=0.001409732308315698,\n",
       "  kernel='rbf', max_iter=-1, probability=False, random_state=None,\n",
       "  shrinking=True, tol=0.001, verbose=False)"
      ]
     },
     "execution_count": 47,
     "metadata": {},
     "output_type": "execute_result"
    }
   ],
   "source": [
    "best_svc.fit(X_train_std, y_train)"
   ]
  },
  {
   "cell_type": "code",
   "execution_count": 48,
   "metadata": {},
   "outputs": [
    {
     "data": {
      "text/plain": [
       "0.99965"
      ]
     },
     "execution_count": 48,
     "metadata": {},
     "output_type": "execute_result"
    }
   ],
   "source": [
    "# train score\n",
    "accuracy_score(y_train, best_svc.predict(X_train_std))"
   ]
  },
  {
   "cell_type": "code",
   "execution_count": 49,
   "metadata": {},
   "outputs": [
    {
     "data": {
      "text/plain": [
       "0.9727"
      ]
     },
     "execution_count": 49,
     "metadata": {},
     "output_type": "execute_result"
    }
   ],
   "source": [
    "# test score\n",
    "accuracy_score(y_test, best_svc.predict(X_test_std))"
   ]
  },
  {
   "cell_type": "code",
   "execution_count": 50,
   "metadata": {},
   "outputs": [],
   "source": [
    "from sklearn.externals.joblib import dump"
   ]
  },
  {
   "cell_type": "code",
   "execution_count": 52,
   "metadata": {},
   "outputs": [
    {
     "data": {
      "text/plain": [
       "['best_svc_mnist.pkl']"
      ]
     },
     "execution_count": 52,
     "metadata": {},
     "output_type": "execute_result"
    }
   ],
   "source": [
    "dump(best_svc, 'best_svc_mnist.pkl')"
   ]
  },
  {
   "cell_type": "markdown",
   "metadata": {},
   "source": [
    "#### Ex.10"
   ]
  },
  {
   "cell_type": "code",
   "execution_count": 31,
   "metadata": {},
   "outputs": [],
   "source": [
    "from sklearn.model_selection import train_test_split\n",
    "from sklearn.svm import LinearSVR, SVR\n",
    "from sklearn.metrics import mean_squared_error\n",
    "from sklearn.model_selection import RandomizedSearchCV\n",
    "\n",
    "from scipy.stats import reciprocal, uniform"
   ]
  },
  {
   "cell_type": "code",
   "execution_count": 3,
   "metadata": {},
   "outputs": [
    {
     "name": "stderr",
     "output_type": "stream",
     "text": [
      "Downloading Cal. housing from https://ndownloader.figshare.com/files/5976036 to C:\\Users\\LENOVO\\scikit_learn_data\n"
     ]
    }
   ],
   "source": [
    "housing = datasets.fetch_california_housing()"
   ]
  },
  {
   "cell_type": "code",
   "execution_count": 7,
   "metadata": {},
   "outputs": [
    {
     "data": {
      "text/plain": [
       "((20640, 8), (20640,))"
      ]
     },
     "execution_count": 7,
     "metadata": {},
     "output_type": "execute_result"
    }
   ],
   "source": [
    "X = housing.data\n",
    "y = housing.target\n",
    "\n",
    "X.shape, y.shape"
   ]
  },
  {
   "cell_type": "code",
   "execution_count": 25,
   "metadata": {},
   "outputs": [
    {
     "data": {
      "text/plain": [
       "((16512, 8), (16512,), (4128, 8), (4128,))"
      ]
     },
     "execution_count": 25,
     "metadata": {},
     "output_type": "execute_result"
    }
   ],
   "source": [
    "X_train, X_test, y_train, y_test = train_test_split(X, y, test_size=.2, random_state=42)\n",
    "\n",
    "X_train.shape, y_train.shape, X_test.shape, y_test.shape"
   ]
  },
  {
   "cell_type": "code",
   "execution_count": null,
   "metadata": {},
   "outputs": [],
   "source": []
  },
  {
   "cell_type": "code",
   "execution_count": 10,
   "metadata": {},
   "outputs": [
    {
     "data": {
      "image/png": "[encoded data removed]",
      "text/plain": [
       "<matplotlib.figure.Figure at 0x20814a06a20>"
      ]
     },
     "metadata": {},
     "output_type": "display_data"
    }
   ],
   "source": [
    "plt.hist(y, bins=30, rwidth=.8)\n",
    "plt.title('housing price')\n",
    "plt.show()"
   ]
  },
  {
   "cell_type": "code",
   "execution_count": 12,
   "metadata": {},
   "outputs": [],
   "source": [
    "X_df = pd.DataFrame(X, columns=housing.feature_names)"
   ]
  },
  {
   "cell_type": "code",
   "execution_count": 13,
   "metadata": {},
   "outputs": [
    {
     "data": {
      "text/html": [
       "<div>\n",
       "<style scoped>\n",
       "    .dataframe tbody tr th:only-of-type {\n",
       "        vertical-align: middle;\n",
       "    }\n",
       "\n",
       "    .dataframe tbody tr th {\n",
       "        vertical-align: top;\n",
       "    }\n",
       "\n",
       "    .dataframe thead th {\n",
       "        text-align: right;\n",
       "    }\n",
       "</style>\n",
       "<table border=\"1\" class=\"dataframe\">\n",
       "  <thead>\n",
       "    <tr style=\"text-align: right;\">\n",
       "      <th></th>\n",
       "      <th>MedInc</th>\n",
       "      <th>HouseAge</th>\n",
       "      <th>AveRooms</th>\n",
       "      <th>AveBedrms</th>\n",
       "      <th>Population</th>\n",
       "      <th>AveOccup</th>\n",
       "      <th>Latitude</th>\n",
       "      <th>Longitude</th>\n",
       "    </tr>\n",
       "  </thead>\n",
       "  <tbody>\n",
       "    <tr>\n",
       "      <th>0</th>\n",
       "      <td>8.3252</td>\n",
       "      <td>41.0</td>\n",
       "      <td>6.984127</td>\n",
       "      <td>1.023810</td>\n",
       "      <td>322.0</td>\n",
       "      <td>2.555556</td>\n",
       "      <td>37.88</td>\n",
       "      <td>-122.23</td>\n",
       "    </tr>\n",
       "    <tr>\n",
       "      <th>1</th>\n",
       "      <td>8.3014</td>\n",
       "      <td>21.0</td>\n",
       "      <td>6.238137</td>\n",
       "      <td>0.971880</td>\n",
       "      <td>2401.0</td>\n",
       "      <td>2.109842</td>\n",
       "      <td>37.86</td>\n",
       "      <td>-122.22</td>\n",
       "    </tr>\n",
       "    <tr>\n",
       "      <th>2</th>\n",
       "      <td>7.2574</td>\n",
       "      <td>52.0</td>\n",
       "      <td>8.288136</td>\n",
       "      <td>1.073446</td>\n",
       "      <td>496.0</td>\n",
       "      <td>2.802260</td>\n",
       "      <td>37.85</td>\n",
       "      <td>-122.24</td>\n",
       "    </tr>\n",
       "    <tr>\n",
       "      <th>3</th>\n",
       "      <td>5.6431</td>\n",
       "      <td>52.0</td>\n",
       "      <td>5.817352</td>\n",
       "      <td>1.073059</td>\n",
       "      <td>558.0</td>\n",
       "      <td>2.547945</td>\n",
       "      <td>37.85</td>\n",
       "      <td>-122.25</td>\n",
       "    </tr>\n",
       "    <tr>\n",
       "      <th>4</th>\n",
       "      <td>3.8462</td>\n",
       "      <td>52.0</td>\n",
       "      <td>6.281853</td>\n",
       "      <td>1.081081</td>\n",
       "      <td>565.0</td>\n",
       "      <td>2.181467</td>\n",
       "      <td>37.85</td>\n",
       "      <td>-122.25</td>\n",
       "    </tr>\n",
       "  </tbody>\n",
       "</table>\n",
       "</div>"
      ],
      "text/plain": [
       "   MedInc  HouseAge  AveRooms  AveBedrms  Population  AveOccup  Latitude  \\\n",
       "0  8.3252      41.0  6.984127   1.023810       322.0  2.555556     37.88   \n",
       "1  8.3014      21.0  6.238137   0.971880      2401.0  2.109842     37.86   \n",
       "2  7.2574      52.0  8.288136   1.073446       496.0  2.802260     37.85   \n",
       "3  5.6431      52.0  5.817352   1.073059       558.0  2.547945     37.85   \n",
       "4  3.8462      52.0  6.281853   1.081081       565.0  2.181467     37.85   \n",
       "\n",
       "   Longitude  \n",
       "0    -122.23  \n",
       "1    -122.22  \n",
       "2    -122.24  \n",
       "3    -122.25  \n",
       "4    -122.25  "
      ]
     },
     "execution_count": 13,
     "metadata": {},
     "output_type": "execute_result"
    }
   ],
   "source": [
    "X_df.head()"
   ]
  },
  {
   "cell_type": "code",
   "execution_count": 14,
   "metadata": {},
   "outputs": [
    {
     "data": {
      "text/html": [
       "<div>\n",
       "<style scoped>\n",
       "    .dataframe tbody tr th:only-of-type {\n",
       "        vertical-align: middle;\n",
       "    }\n",
       "\n",
       "    .dataframe tbody tr th {\n",
       "        vertical-align: top;\n",
       "    }\n",
       "\n",
       "    .dataframe thead th {\n",
       "        text-align: right;\n",
       "    }\n",
       "</style>\n",
       "<table border=\"1\" class=\"dataframe\">\n",
       "  <thead>\n",
       "    <tr style=\"text-align: right;\">\n",
       "      <th></th>\n",
       "      <th>MedInc</th>\n",
       "      <th>HouseAge</th>\n",
       "      <th>AveRooms</th>\n",
       "      <th>AveBedrms</th>\n",
       "      <th>Population</th>\n",
       "      <th>AveOccup</th>\n",
       "      <th>Latitude</th>\n",
       "      <th>Longitude</th>\n",
       "    </tr>\n",
       "  </thead>\n",
       "  <tbody>\n",
       "    <tr>\n",
       "      <th>count</th>\n",
       "      <td>20640.000000</td>\n",
       "      <td>20640.000000</td>\n",
       "      <td>20640.000000</td>\n",
       "      <td>20640.000000</td>\n",
       "      <td>20640.000000</td>\n",
       "      <td>20640.000000</td>\n",
       "      <td>20640.000000</td>\n",
       "      <td>20640.000000</td>\n",
       "    </tr>\n",
       "    <tr>\n",
       "      <th>mean</th>\n",
       "      <td>3.870671</td>\n",
       "      <td>28.639486</td>\n",
       "      <td>5.429000</td>\n",
       "      <td>1.096675</td>\n",
       "      <td>1425.476744</td>\n",
       "      <td>3.070655</td>\n",
       "      <td>35.631861</td>\n",
       "      <td>-119.569704</td>\n",
       "    </tr>\n",
       "    <tr>\n",
       "      <th>std</th>\n",
       "      <td>1.899822</td>\n",
       "      <td>12.585558</td>\n",
       "      <td>2.474173</td>\n",
       "      <td>0.473911</td>\n",
       "      <td>1132.462122</td>\n",
       "      <td>10.386050</td>\n",
       "      <td>2.135952</td>\n",
       "      <td>2.003532</td>\n",
       "    </tr>\n",
       "    <tr>\n",
       "      <th>min</th>\n",
       "      <td>0.499900</td>\n",
       "      <td>1.000000</td>\n",
       "      <td>0.846154</td>\n",
       "      <td>0.333333</td>\n",
       "      <td>3.000000</td>\n",
       "      <td>0.692308</td>\n",
       "      <td>32.540000</td>\n",
       "      <td>-124.350000</td>\n",
       "    </tr>\n",
       "    <tr>\n",
       "      <th>25%</th>\n",
       "      <td>2.563400</td>\n",
       "      <td>18.000000</td>\n",
       "      <td>4.440716</td>\n",
       "      <td>1.006079</td>\n",
       "      <td>787.000000</td>\n",
       "      <td>2.429741</td>\n",
       "      <td>33.930000</td>\n",
       "      <td>-121.800000</td>\n",
       "    </tr>\n",
       "    <tr>\n",
       "      <th>50%</th>\n",
       "      <td>3.534800</td>\n",
       "      <td>29.000000</td>\n",
       "      <td>5.229129</td>\n",
       "      <td>1.048780</td>\n",
       "      <td>1166.000000</td>\n",
       "      <td>2.818116</td>\n",
       "      <td>34.260000</td>\n",
       "      <td>-118.490000</td>\n",
       "    </tr>\n",
       "    <tr>\n",
       "      <th>75%</th>\n",
       "      <td>4.743250</td>\n",
       "      <td>37.000000</td>\n",
       "      <td>6.052381</td>\n",
       "      <td>1.099526</td>\n",
       "      <td>1725.000000</td>\n",
       "      <td>3.282261</td>\n",
       "      <td>37.710000</td>\n",
       "      <td>-118.010000</td>\n",
       "    </tr>\n",
       "    <tr>\n",
       "      <th>max</th>\n",
       "      <td>15.000100</td>\n",
       "      <td>52.000000</td>\n",
       "      <td>141.909091</td>\n",
       "      <td>34.066667</td>\n",
       "      <td>35682.000000</td>\n",
       "      <td>1243.333333</td>\n",
       "      <td>41.950000</td>\n",
       "      <td>-114.310000</td>\n",
       "    </tr>\n",
       "  </tbody>\n",
       "</table>\n",
       "</div>"
      ],
      "text/plain": [
       "             MedInc      HouseAge      AveRooms     AveBedrms    Population  \\\n",
       "count  20640.000000  20640.000000  20640.000000  20640.000000  20640.000000   \n",
       "mean       3.870671     28.639486      5.429000      1.096675   1425.476744   \n",
       "std        1.899822     12.585558      2.474173      0.473911   1132.462122   \n",
       "min        0.499900      1.000000      0.846154      0.333333      3.000000   \n",
       "25%        2.563400     18.000000      4.440716      1.006079    787.000000   \n",
       "50%        3.534800     29.000000      5.229129      1.048780   1166.000000   \n",
       "75%        4.743250     37.000000      6.052381      1.099526   1725.000000   \n",
       "max       15.000100     52.000000    141.909091     34.066667  35682.000000   \n",
       "\n",
       "           AveOccup      Latitude     Longitude  \n",
       "count  20640.000000  20640.000000  20640.000000  \n",
       "mean       3.070655     35.631861   -119.569704  \n",
       "std       10.386050      2.135952      2.003532  \n",
       "min        0.692308     32.540000   -124.350000  \n",
       "25%        2.429741     33.930000   -121.800000  \n",
       "50%        2.818116     34.260000   -118.490000  \n",
       "75%        3.282261     37.710000   -118.010000  \n",
       "max     1243.333333     41.950000   -114.310000  "
      ]
     },
     "execution_count": 14,
     "metadata": {},
     "output_type": "execute_result"
    }
   ],
   "source": [
    "X_df.describe()"
   ]
  },
  {
   "cell_type": "markdown",
   "metadata": {},
   "source": [
    "#### [data type]: (Norminal, Ordinal, Interval, Ratio) \n",
    "\n",
    "* MedInc - ratio\n",
    "* HouseAge - ratio\n",
    "* AveRooms - ratio\n",
    "* Population - ratio\n",
    "* AveOccup - ratio\n",
    "* Latitude - interval\n",
    "* Longitude - interval"
   ]
  },
  {
   "cell_type": "code",
   "execution_count": 18,
   "metadata": {},
   "outputs": [
    {
     "data": {
      "image/png": "[encoded data removed]",
      "text/plain": [
       "<matplotlib.figure.Figure at 0x20815973e80>"
      ]
     },
     "metadata": {},
     "output_type": "display_data"
    }
   ],
   "source": [
    "_ = X_df.hist(figsize=(12, 9), bins=20, rwidth=.8)"
   ]
  },
  {
   "cell_type": "code",
   "execution_count": 26,
   "metadata": {},
   "outputs": [],
   "source": [
    "sc = StandardScaler()\n",
    "X_train_std = sc.fit_transform(X_train)\n",
    "X_test_std = sc.transform(X_test)"
   ]
  },
  {
   "cell_type": "code",
   "execution_count": 28,
   "metadata": {},
   "outputs": [
    {
     "data": {
      "text/plain": [
       "LinearSVR(C=1.0, dual=True, epsilon=0.0, fit_intercept=True,\n",
       "     intercept_scaling=1.0, loss='epsilon_insensitive', max_iter=1000,\n",
       "     random_state=42, tol=0.0001, verbose=0)"
      ]
     },
     "execution_count": 28,
     "metadata": {},
     "output_type": "execute_result"
    }
   ],
   "source": [
    "# linear svm\n",
    "lin_svr = LinearSVR(random_state=42)\n",
    "lin_svr.fit(X_train_std, y_train)"
   ]
  },
  {
   "cell_type": "code",
   "execution_count": 29,
   "metadata": {},
   "outputs": [
    {
     "data": {
      "text/plain": [
       "0.9612806653297273"
      ]
     },
     "execution_count": 29,
     "metadata": {},
     "output_type": "execute_result"
    }
   ],
   "source": [
    "lin_tr_mse = mean_squared_error(y_train, lin_svr.predict(X_train_std))\n",
    "lin_tr_mse"
   ]
  },
  {
   "cell_type": "code",
   "execution_count": 30,
   "metadata": {},
   "outputs": [
    {
     "data": {
      "text/plain": [
       "0.9804492160890983"
      ]
     },
     "execution_count": 30,
     "metadata": {},
     "output_type": "execute_result"
    }
   ],
   "source": [
    "# rmse\n",
    "np.sqrt(lin_tr_mse)"
   ]
  },
  {
   "cell_type": "code",
   "execution_count": 38,
   "metadata": {},
   "outputs": [
    {
     "name": "stdout",
     "output_type": "stream",
     "text": [
      "Fitting 3 folds for each of 10 candidates, totalling 30 fits\n",
      "[CV] gamma=0.07969454818643928, C=8.49080237694725 ...................\n",
      "[CV] .... gamma=0.07969454818643928, C=8.49080237694725, total=  14.4s\n",
      "[CV] gamma=0.07969454818643928, C=8.49080237694725 ...................\n"
     ]
    },
    {
     "name": "stderr",
     "output_type": "stream",
     "text": [
      "[Parallel(n_jobs=1)]: Done   1 out of   1 | elapsed:   18.5s remaining:    0.0s\n"
     ]
    },
    {
     "name": "stdout",
     "output_type": "stream",
     "text": [
      "[CV] .... gamma=0.07969454818643928, C=8.49080237694725, total=  14.7s\n",
      "[CV] gamma=0.07969454818643928, C=8.49080237694725 ...................\n",
      "[CV] .... gamma=0.07969454818643928, C=8.49080237694725, total=  12.5s\n",
      "[CV] gamma=0.015751320499779724, C=15.639878836228101 ................\n",
      "[CV] . gamma=0.015751320499779724, C=15.639878836228101, total=  14.0s\n",
      "[CV] gamma=0.015751320499779724, C=15.639878836228101 ................\n",
      "[CV] . gamma=0.015751320499779724, C=15.639878836228101, total=  12.2s\n",
      "[CV] gamma=0.015751320499779724, C=15.639878836228101 ................\n",
      "[CV] . gamma=0.015751320499779724, C=15.639878836228101, total=  13.9s\n",
      "[CV] gamma=0.002051110418843397, C=4.12037280884873 ..................\n",
      "[CV] ... gamma=0.002051110418843397, C=4.12037280884873, total=  11.1s\n",
      "[CV] gamma=0.002051110418843397, C=4.12037280884873 ..................\n",
      "[CV] ... gamma=0.002051110418843397, C=4.12037280884873, total=  10.9s\n",
      "[CV] gamma=0.002051110418843397, C=4.12037280884873 ..................\n",
      "[CV] ... gamma=0.002051110418843397, C=4.12037280884873, total=  10.7s\n",
      "[CV] gamma=0.05399484409787431, C=2.161672243363989 ..................\n",
      "[CV] ... gamma=0.05399484409787431, C=2.161672243363989, total=  10.8s\n",
      "[CV] gamma=0.05399484409787431, C=2.161672243363989 ..................\n",
      "[CV] ... gamma=0.05399484409787431, C=2.161672243363989, total=  11.1s\n",
      "[CV] gamma=0.05399484409787431, C=2.161672243363989 ..................\n",
      "[CV] ... gamma=0.05399484409787431, C=2.161672243363989, total=  10.8s\n",
      "[CV] gamma=0.026070247583707663, C=13.022300234864176 ................\n",
      "[CV] . gamma=0.026070247583707663, C=13.022300234864176, total=  13.2s\n",
      "[CV] gamma=0.026070247583707663, C=13.022300234864176 ................\n",
      "[CV] . gamma=0.026070247583707663, C=13.022300234864176, total=  13.9s\n",
      "[CV] gamma=0.026070247583707663, C=13.022300234864176 ................\n",
      "[CV] . gamma=0.026070247583707663, C=13.022300234864176, total=  12.7s\n",
      "[CV] gamma=0.0870602087830485, C=1.411689885916049 ...................\n",
      "[CV] .... gamma=0.0870602087830485, C=1.411689885916049, total=  10.5s\n",
      "[CV] gamma=0.0870602087830485, C=1.411689885916049 ...................\n",
      "[CV] .... gamma=0.0870602087830485, C=1.411689885916049, total=  10.7s\n",
      "[CV] gamma=0.0870602087830485, C=1.411689885916049 ...................\n",
      "[CV] .... gamma=0.0870602087830485, C=1.411689885916049, total=  11.0s\n",
      "[CV] gamma=0.0026587543983272693, C=17.648852816008436 ...............\n",
      "[CV]  gamma=0.0026587543983272693, C=17.648852816008436, total=  11.1s\n",
      "[CV] gamma=0.0026587543983272693, C=17.648852816008436 ...............\n",
      "[CV]  gamma=0.0026587543983272693, C=17.648852816008436, total=  11.4s\n",
      "[CV] gamma=0.0026587543983272693, C=17.648852816008436 ...............\n",
      "[CV]  gamma=0.0026587543983272693, C=17.648852816008436, total=  11.1s\n",
      "[CV] gamma=0.0023270677083837795, C=4.636499344142012 ................\n",
      "[CV] . gamma=0.0023270677083837795, C=4.636499344142012, total=  10.9s\n",
      "[CV] gamma=0.0023270677083837795, C=4.636499344142012 ................\n",
      "[CV] . gamma=0.0023270677083837795, C=4.636499344142012, total=  10.6s\n",
      "[CV] gamma=0.0023270677083837795, C=4.636499344142012 ................\n",
      "[CV] . gamma=0.0023270677083837795, C=4.636499344142012, total=  10.6s\n",
      "[CV] gamma=0.011207606211860567, C=7.0848448591907545 ................\n",
      "[CV] . gamma=0.011207606211860567, C=7.0848448591907545, total=  11.3s\n",
      "[CV] gamma=0.011207606211860567, C=7.0848448591907545 ................\n",
      "[CV] . gamma=0.011207606211860567, C=7.0848448591907545, total=  11.4s\n",
      "[CV] gamma=0.011207606211860567, C=7.0848448591907545 ................\n",
      "[CV] . gamma=0.011207606211860567, C=7.0848448591907545, total=  11.1s\n",
      "[CV] gamma=0.003823475224675185, C=9.638900372842315 .................\n",
      "[CV] .. gamma=0.003823475224675185, C=9.638900372842315, total=  11.0s\n",
      "[CV] gamma=0.003823475224675185, C=9.638900372842315 .................\n",
      "[CV] .. gamma=0.003823475224675185, C=9.638900372842315, total=  11.1s\n",
      "[CV] gamma=0.003823475224675185, C=9.638900372842315 .................\n",
      "[CV] .. gamma=0.003823475224675185, C=9.638900372842315, total=  10.8s\n"
     ]
    },
    {
     "name": "stderr",
     "output_type": "stream",
     "text": [
      "[Parallel(n_jobs=1)]: Done  30 out of  30 | elapsed:  8.0min finished\n"
     ]
    },
    {
     "data": {
      "text/plain": [
       "RandomizedSearchCV(cv=3, error_score='raise',\n",
       "          estimator=SVR(C=1.0, cache_size=200, coef0=0.0, degree=3, epsilon=0.1, gamma='auto',\n",
       "  kernel='rbf', max_iter=-1, shrinking=True, tol=0.001, verbose=False),\n",
       "          fit_params=None, iid=True, n_iter=10, n_jobs=1,\n",
       "          param_distributions={'gamma': <scipy.stats._distn_infrastructure.rv_frozen object at 0x0000020812BCCF98>, 'C': <scipy.stats._distn_infrastructure.rv_frozen object at 0x00000208135970F0>},\n",
       "          pre_dispatch='2*n_jobs', random_state=42, refit=True,\n",
       "          return_train_score='warn', scoring=None, verbose=2)"
      ]
     },
     "execution_count": 38,
     "metadata": {},
     "output_type": "execute_result"
    }
   ],
   "source": [
    "# SVR: tuning C and gamma\n",
    "svr = SVR(kernel='rbf')\n",
    "\n",
    "gamma = reciprocal(.001, .1)\n",
    "C = uniform(1, 20)\n",
    "\n",
    "params = {\n",
    "    'gamma': gamma,\n",
    "    'C': C,\n",
    "}\n",
    "\n",
    "svr_grid = RandomizedSearchCV(svr, params, cv=3, n_iter=10, \n",
    "                              random_state=42, verbose=2)\n",
    "\n",
    "svr_grid.fit(X_train_std, y_train)"
   ]
  },
  {
   "cell_type": "code",
   "execution_count": 39,
   "metadata": {},
   "outputs": [
    {
     "data": {
      "text/plain": [
       "({'C': 8.49080237694725, 'gamma': 0.07969454818643928}, 0.7439503411121666)"
      ]
     },
     "execution_count": 39,
     "metadata": {},
     "output_type": "execute_result"
    }
   ],
   "source": [
    "svr_grid.best_params_, svr_grid.best_score_"
   ]
  },
  {
   "cell_type": "code",
   "execution_count": 40,
   "metadata": {},
   "outputs": [
    {
     "data": {
      "text/plain": [
       "(0.31856709704690617, 0.5644174847104811)"
      ]
     },
     "execution_count": 40,
     "metadata": {},
     "output_type": "execute_result"
    }
   ],
   "source": [
    "# train mse\n",
    "best_mse = mean_squared_error(y_train, svr_grid.predict(X_train_std))\n",
    "best_mse, np.sqrt(best_mse)"
   ]
  },
  {
   "cell_type": "code",
   "execution_count": 41,
   "metadata": {},
   "outputs": [
    {
     "data": {
      "text/plain": [
       "(0.34397170626566426, 0.5864910112402953)"
      ]
     },
     "execution_count": 41,
     "metadata": {},
     "output_type": "execute_result"
    }
   ],
   "source": [
    "# test mse\n",
    "test_mse = mean_squared_error(y_test, svr_grid.best_estimator_.predict(X_test_std))\n",
    "test_mse, np.sqrt(test_mse)"
   ]
  },
  {
   "cell_type": "code",
   "execution_count": 43,
   "metadata": {},
   "outputs": [
    {
     "data": {
      "text/plain": [
       "(12778,)"
      ]
     },
     "execution_count": 43,
     "metadata": {},
     "output_type": "execute_result"
    }
   ],
   "source": [
    "# number of support vectors\n",
    "svr_grid.best_estimator_.support_.shape"
   ]
  },
  {
   "cell_type": "code",
   "execution_count": 35,
   "metadata": {},
   "outputs": [
    {
     "data": {
      "image/png": "[encoded data removed]",
      "text/plain": [
       "<matplotlib.figure.Figure at 0x2081860aeb8>"
      ]
     },
     "metadata": {},
     "output_type": "display_data"
    }
   ],
   "source": [
    "plt.hist(gamma.rvs(1000), bins=30, rwidth=.8)\n",
    "plt.show()"
   ]
  },
  {
   "cell_type": "code",
   "execution_count": 36,
   "metadata": {},
   "outputs": [
    {
     "data": {
      "image/png": "[encoded data removed]",
      "text/plain": [
       "<matplotlib.figure.Figure at 0x20819f2a978>"
      ]
     },
     "metadata": {},
     "output_type": "display_data"
    }
   ],
   "source": [
    "plt.hist(C.rvs(1000), bins=30, rwidth=.8)\n",
    "plt.show()"
   ]
  },
  {
   "cell_type": "code",
   "execution_count": null,
   "metadata": {},
   "outputs": [],
   "source": []
  }
 ],
 "metadata": {
  "kernelspec": {
   "display_name": "Python [conda env:deep_learning]",
   "language": "python",
   "name": "conda-env-deep_learning-py"
  },
  "language_info": {
   "codemirror_mode": {
    "name": "ipython",
    "version": 3
   },
   "file_extension": ".py",
   "mimetype": "text/x-python",
   "name": "python",
   "nbconvert_exporter": "python",
   "pygments_lexer": "ipython3",
   "version": "3.5.5"
  }
 },
 "nbformat": 4,
 "nbformat_minor": 2
}
