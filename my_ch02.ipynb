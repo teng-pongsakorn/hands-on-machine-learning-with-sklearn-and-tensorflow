{
 "cells": [
  {
   "cell_type": "code",
   "execution_count": 1,
   "metadata": {},
   "outputs": [],
   "source": [
    "import numpy as np\n",
    "import pandas as pd\n",
    "import matplotlib.pyplot as plt\n",
    "import seaborn as sns\n",
    "\n",
    "%matplotlib inline"
   ]
  },
  {
   "cell_type": "code",
   "execution_count": 2,
   "metadata": {},
   "outputs": [],
   "source": [
    "import hashlib\n",
    "import os\n",
    "import tarfile\n",
    "from six.moves import urllib\n",
    "from scipy.stats import reciprocal, expon\n",
    "from scipy import stats"
   ]
  },
  {
   "cell_type": "code",
   "execution_count": 3,
   "metadata": {},
   "outputs": [],
   "source": [
    "from sklearn.model_selection import train_test_split, StratifiedShuffleSplit\n",
    "from pandas.plotting import scatter_matrix\n",
    "from sklearn.preprocessing import LabelEncoder, OneHotEncoder, Imputer, LabelBinarizer\n",
    "from sklearn.base import BaseEstimator, TransformerMixin\n",
    "from sklearn.pipeline import Pipeline, FeatureUnion\n",
    "from sklearn.preprocessing import StandardScaler, MinMaxScaler\n",
    "\n",
    "from sklearn.linear_model import LinearRegression\n",
    "from sklearn.tree import DecisionTreeRegressor\n",
    "from sklearn.ensemble import RandomForestRegressor\n",
    "from sklearn.svm import SVR\n",
    "from sklearn.neighbors import KNeighborsRegressor\n",
    "\n",
    "from sklearn.metrics import mean_squared_error\n",
    "from sklearn.model_selection import cross_val_score, GridSearchCV, RandomizedSearchCV"
   ]
  },
  {
   "cell_type": "markdown",
   "metadata": {},
   "source": [
    "* Frame the Problem\n",
    "* Select a Performance Measure\n",
    "* Check the assumptions"
   ]
  },
  {
   "cell_type": "code",
   "execution_count": 4,
   "metadata": {},
   "outputs": [],
   "source": [
    "HOUSING_PATH = 'datasets/housing'\n",
    "DOWNLOAD_ROOT = 'https://raw.githubusercontent.com/ageron/handson-ml/master/'\n",
    "HOUSING_URL = DOWNLOAD_ROOT + HOUSING_PATH + '/housing.tgz'\n",
    "\n",
    "def fetch_housing_data(url=HOUSING_URL, path=HOUSING_PATH):\n",
    "    if not os.path.isdir(path):\n",
    "        os.makedirs(path)\n",
    "    tgz_path = os.path.join(path, 'housing.tgz')\n",
    "    urllib.request.urlretrieve(url, tgz_path)\n",
    "    with tarfile.open(tgz_path) as tar:\n",
    "        tar.extractall(path=HOUSING_PATH)\n",
    "        \n",
    "\n",
    "def load_housing_data(path=HOUSING_PATH):\n",
    "    csv_path = os.path.join(path, 'housing.csv')\n",
    "    return pd.read_csv(csv_path)"
   ]
  },
  {
   "cell_type": "code",
   "execution_count": null,
   "metadata": {},
   "outputs": [],
   "source": [
    "fetch_housing_data()"
   ]
  },
  {
   "cell_type": "code",
   "execution_count": null,
   "metadata": {},
   "outputs": [],
   "source": [
    "housing = load_housing_data()"
   ]
  },
  {
   "cell_type": "code",
   "execution_count": null,
   "metadata": {},
   "outputs": [],
   "source": [
    "housing.head()"
   ]
  },
  {
   "cell_type": "code",
   "execution_count": null,
   "metadata": {},
   "outputs": [],
   "source": [
    "housing.info()"
   ]
  },
  {
   "cell_type": "code",
   "execution_count": null,
   "metadata": {},
   "outputs": [],
   "source": [
    "housing.ocean_proximity.value_counts()"
   ]
  },
  {
   "cell_type": "code",
   "execution_count": null,
   "metadata": {},
   "outputs": [],
   "source": [
    "housing.describe()"
   ]
  },
  {
   "cell_type": "code",
   "execution_count": null,
   "metadata": {},
   "outputs": [],
   "source": [
    "housing.hist(bins=50, figsize=(20, 15))\n",
    "plt.show()"
   ]
  },
  {
   "cell_type": "markdown",
   "metadata": {},
   "source": [
    "#### Create a Test Set"
   ]
  },
  {
   "cell_type": "code",
   "execution_count": null,
   "metadata": {},
   "outputs": [],
   "source": [
    "def split_train_test(data, test_ratio, random_state=0):\n",
    "    np.random.seed(random_state)\n",
    "    shuffled_idx = np.random.permutation(len(data))\n",
    "    n_test = int(len(data) * test_ratio)\n",
    "    test_idx = shuffled_idx[:n_test]\n",
    "    train_idx = shuffled_idx[n_test:]\n",
    "    return data.iloc[train_idx, :], data.iloc[test_idx, :]"
   ]
  },
  {
   "cell_type": "code",
   "execution_count": null,
   "metadata": {},
   "outputs": [],
   "source": [
    "train_set, test_set = split_train_test(housing, test_ratio=.2)\n",
    "\n",
    "train_set.shape, test_set.shape"
   ]
  },
  {
   "cell_type": "code",
   "execution_count": null,
   "metadata": {},
   "outputs": [],
   "source": [
    "def test_set_check(identifier, test_ratio, hash_func):\n",
    "    return hash_func(np.int64(identifier)).digest()[-1] < 256*test_ratio\n",
    "\n",
    "def split_train_test_by_id(data, test_ratio, id_column, hash_func=hashlib.md5):\n",
    "    test_idx = data[id_column].map(lambda id_: test_set_check(id_, test_ratio, hash_func))\n",
    "    return data.loc[~test_idx, :], data.loc[test_idx, :]"
   ]
  },
  {
   "cell_type": "code",
   "execution_count": null,
   "metadata": {},
   "outputs": [],
   "source": [
    "housing = housing.reset_index()"
   ]
  },
  {
   "cell_type": "code",
   "execution_count": null,
   "metadata": {},
   "outputs": [],
   "source": [
    "train_set, test_set = split_train_test_by_id(housing, test_ratio=.2, id_column='index')"
   ]
  },
  {
   "cell_type": "code",
   "execution_count": null,
   "metadata": {},
   "outputs": [],
   "source": [
    "train_set.head()"
   ]
  },
  {
   "cell_type": "code",
   "execution_count": null,
   "metadata": {},
   "outputs": [],
   "source": [
    "train_set.shape, test_set.shape"
   ]
  },
  {
   "cell_type": "markdown",
   "metadata": {},
   "source": [
    "#### Stratified sampling (by median income category)"
   ]
  },
  {
   "cell_type": "code",
   "execution_count": null,
   "metadata": {},
   "outputs": [],
   "source": [
    "pd.value_counts(np.ceil(housing['median_income'] / 1.5)).sort_index()"
   ]
  },
  {
   "cell_type": "code",
   "execution_count": null,
   "metadata": {},
   "outputs": [],
   "source": [
    "housing['income_cat'] = np.ceil(housing['median_income'] / 1.5)"
   ]
  },
  {
   "cell_type": "code",
   "execution_count": null,
   "metadata": {},
   "outputs": [],
   "source": [
    "housing['income_cat'].where(housing['income_cat'] < 5, 5.0, inplace=True)"
   ]
  },
  {
   "cell_type": "code",
   "execution_count": null,
   "metadata": {},
   "outputs": [],
   "source": [
    "housing.income_cat.value_counts()"
   ]
  },
  {
   "cell_type": "code",
   "execution_count": null,
   "metadata": {},
   "outputs": [],
   "source": [
    "split = StratifiedShuffleSplit(n_splits=1, test_size=.2, random_state=42)"
   ]
  },
  {
   "cell_type": "code",
   "execution_count": null,
   "metadata": {},
   "outputs": [],
   "source": [
    "for tr_idx, ts_idx in split.split(housing, housing['income_cat']):\n",
    "    strat_train_set = housing.iloc[tr_idx].copy()\n",
    "    strat_test_set = housing.iloc[ts_idx].copy()"
   ]
  },
  {
   "cell_type": "code",
   "execution_count": null,
   "metadata": {},
   "outputs": [],
   "source": [
    "strat_train_set.shape, strat_test_set.shape"
   ]
  },
  {
   "cell_type": "code",
   "execution_count": null,
   "metadata": {},
   "outputs": [],
   "source": [
    "pd.value_counts(strat_test_set['income_cat'], normalize=True)"
   ]
  },
  {
   "cell_type": "code",
   "execution_count": null,
   "metadata": {},
   "outputs": [],
   "source": [
    "pd.value_counts(strat_train_set['income_cat'], normalize=True)"
   ]
  },
  {
   "cell_type": "code",
   "execution_count": null,
   "metadata": {},
   "outputs": [],
   "source": [
    "for df in (strat_test_set, strat_train_set):\n",
    "    df.drop(['income_cat'], axis=1, inplace=True)"
   ]
  },
  {
   "cell_type": "code",
   "execution_count": null,
   "metadata": {},
   "outputs": [],
   "source": [
    "strat_test_set.columns"
   ]
  },
  {
   "cell_type": "markdown",
   "metadata": {},
   "source": [
    "#### Discover and Visualize"
   ]
  },
  {
   "cell_type": "code",
   "execution_count": null,
   "metadata": {},
   "outputs": [],
   "source": [
    "housing = strat_train_set.copy()"
   ]
  },
  {
   "cell_type": "code",
   "execution_count": null,
   "metadata": {},
   "outputs": [],
   "source": [
    "housing.info()"
   ]
  },
  {
   "cell_type": "code",
   "execution_count": null,
   "metadata": {},
   "outputs": [],
   "source": [
    "housing.plot.scatter(x='longitude', y='latitude', alpha=.1)"
   ]
  },
  {
   "cell_type": "code",
   "execution_count": null,
   "metadata": {},
   "outputs": [],
   "source": [
    "housing.plot.scatter(x='longitude', y='latitude', alpha=.4, \n",
    "                     s=housing['population']/100, \n",
    "                     c='median_house_value',\n",
    "                     cmap=plt.cm.jet, figsize=(15, 12), label='population',\n",
    "                     colorbar=True, )\n",
    "plt.legend()"
   ]
  },
  {
   "cell_type": "code",
   "execution_count": null,
   "metadata": {},
   "outputs": [],
   "source": [
    "pearson_corr = housing.corr()\n",
    "spearman_corr = housing.corr(method='spearman')"
   ]
  },
  {
   "cell_type": "code",
   "execution_count": null,
   "metadata": {},
   "outputs": [],
   "source": [
    "pearson_corr['median_house_value'].sort_values(ascending=False)"
   ]
  },
  {
   "cell_type": "code",
   "execution_count": null,
   "metadata": {},
   "outputs": [],
   "source": [
    "spearman_corr['median_house_value'].sort_values(ascending=False)"
   ]
  },
  {
   "cell_type": "code",
   "execution_count": null,
   "metadata": {},
   "outputs": [],
   "source": [
    "col_names = pearson_corr['median_house_value'].sort_values(ascending=False)[:4].index\n",
    "\n",
    "scatter_matrix(housing[col_names], figsize=(12, 8))\n",
    "plt.show()"
   ]
  },
  {
   "cell_type": "code",
   "execution_count": null,
   "metadata": {},
   "outputs": [],
   "source": [
    "housing.plot.scatter(x='median_income', y='median_house_value', alpha=.4)"
   ]
  },
  {
   "cell_type": "code",
   "execution_count": null,
   "metadata": {},
   "outputs": [],
   "source": [
    "housing.columns"
   ]
  },
  {
   "cell_type": "markdown",
   "metadata": {},
   "source": [
    "#### Experimenting with attribute combinations"
   ]
  },
  {
   "cell_type": "code",
   "execution_count": null,
   "metadata": {},
   "outputs": [],
   "source": [
    "housing['rooms_per_household'] = housing['total_rooms'] / housing['households']\n",
    "housing['bedrooms_per_room'] = housing['total_bedrooms'] / housing['total_rooms']\n",
    "housing['population_per_household'] = housing['population'] / housing['households']"
   ]
  },
  {
   "cell_type": "code",
   "execution_count": null,
   "metadata": {},
   "outputs": [],
   "source": [
    "corr_mat = housing.corr()"
   ]
  },
  {
   "cell_type": "code",
   "execution_count": null,
   "metadata": {},
   "outputs": [],
   "source": [
    "corr_mat['median_house_value'].sort_values(ascending=False)"
   ]
  },
  {
   "cell_type": "markdown",
   "metadata": {},
   "source": [
    "#### Prepare the data for machine learning algorithms\n",
    "* Data Cleaning\n",
    "* Custom Transformers\n",
    "* Feature Scaling"
   ]
  },
  {
   "cell_type": "code",
   "execution_count": null,
   "metadata": {},
   "outputs": [],
   "source": [
    "housing.info()"
   ]
  },
  {
   "cell_type": "code",
   "execution_count": null,
   "metadata": {},
   "outputs": [],
   "source": [
    "ohe = OneHotEncoder(sparse=False)\n",
    "le = LabelEncoder()\n",
    "lb = LabelBinarizer()"
   ]
  },
  {
   "cell_type": "code",
   "execution_count": null,
   "metadata": {},
   "outputs": [],
   "source": [
    "housing_cat = housing['ocean_proximity']\n",
    "housing_cat_encoded = le.fit_transform(housing_cat)"
   ]
  },
  {
   "cell_type": "code",
   "execution_count": null,
   "metadata": {},
   "outputs": [],
   "source": [
    "housing_cat_encoded"
   ]
  },
  {
   "cell_type": "code",
   "execution_count": null,
   "metadata": {},
   "outputs": [],
   "source": [
    "le.classes_"
   ]
  },
  {
   "cell_type": "code",
   "execution_count": null,
   "metadata": {},
   "outputs": [],
   "source": [
    "housing_cat_ohe = ohe.fit_transform(housing_cat_encoded[:, None])"
   ]
  },
  {
   "cell_type": "code",
   "execution_count": null,
   "metadata": {},
   "outputs": [],
   "source": [
    "housing_cat_ohe"
   ]
  },
  {
   "cell_type": "code",
   "execution_count": null,
   "metadata": {},
   "outputs": [],
   "source": [
    "housing_cat_ohe.shape"
   ]
  },
  {
   "cell_type": "code",
   "execution_count": null,
   "metadata": {},
   "outputs": [],
   "source": [
    "housing_cat_ohe = lb.fit_transform(housing['ocean_proximity'])"
   ]
  },
  {
   "cell_type": "code",
   "execution_count": null,
   "metadata": {},
   "outputs": [],
   "source": [
    "housing_cat_ohe"
   ]
  },
  {
   "cell_type": "code",
   "execution_count": null,
   "metadata": {},
   "outputs": [],
   "source": [
    "lb.classes_"
   ]
  },
  {
   "cell_type": "code",
   "execution_count": null,
   "metadata": {},
   "outputs": [],
   "source": [
    "housing.drop(['index', 'median_house_value'], axis=1, inplace=True)"
   ]
  },
  {
   "cell_type": "code",
   "execution_count": null,
   "metadata": {},
   "outputs": [],
   "source": [
    "housing_columns = list(housing.columns)\n",
    "housing_columns"
   ]
  },
  {
   "cell_type": "code",
   "execution_count": null,
   "metadata": {},
   "outputs": [],
   "source": [
    "room_idx = housing_columns.index('total_rooms')\n",
    "bedroom_idx = housing_columns.index('total_bedrooms')\n",
    "population_idx = housing_columns.index('population')\n",
    "households_idx = housing_columns.index('households')\n",
    "\n",
    "class CombineAttributeAdder(BaseEstimator, TransformerMixin):\n",
    "    '''\n",
    "    combined columns:\n",
    "        - population per household\n",
    "        - room per household\n",
    "        - bedroom per total_room\n",
    "    '''\n",
    "    \n",
    "    def __init__(self, add_bedrooms_per_room=True):\n",
    "        self.add_bedrooms_per_room = add_bedrooms_per_room\n",
    "        \n",
    "    def fit(self, X, y=None):\n",
    "        return self\n",
    "    \n",
    "    def transform(self, X, y=None):\n",
    "        population_per_household = X[:, population_idx] / X[:, households_idx]\n",
    "        room_per_house = X[:, room_idx] / X[:, households_idx]\n",
    "        if self.add_bedrooms_per_room:\n",
    "            bedroom_per_room = X[:, bedroom_idx] / X[:, room_idx]\n",
    "            return np.c_[X, room_per_house, population_per_household, bedroom_per_room]\n",
    "        else:\n",
    "            return np.c_[X, room_per_house, population_per_household]\n",
    "        \n",
    "class DataFrameSelector(BaseEstimator, TransformerMixin):\n",
    "    \n",
    "    def __init__(self, column_names):\n",
    "        self.column_names = column_names\n",
    "        \n",
    "    def fit(self, X, y=None):\n",
    "        return self\n",
    "    \n",
    "    def transform(self, X, y=None):\n",
    "        return X[self.column_names].values\n",
    "    \n",
    "class CustomLabelBinarizer(BaseEstimator, TransformerMixin):\n",
    "    \n",
    "    def __init__(self):\n",
    "        self.n_features = None\n",
    "        self.label_binarizers = []\n",
    "    \n",
    "    def fit(self, X, y=None):\n",
    "        self.n_features = X.shape[1]\n",
    "        for feature in X.T:\n",
    "            le = LabelBinarizer(sparse_output=False)\n",
    "            le.fit(feature)\n",
    "            self.label_binarizers.append(le)\n",
    "        return self\n",
    "    \n",
    "    def transform(self, X, y=None):\n",
    "        assert X.shape[1] == self.n_features\n",
    "        if self.n_features == 1:\n",
    "            return self.label_binarizers[0].transform(X)\n",
    "        else:\n",
    "            return np.hstack(le.transform(feature) for le, feature in zip(self.label_binarizers, X.T))"
   ]
  },
  {
   "cell_type": "code",
   "execution_count": null,
   "metadata": {},
   "outputs": [],
   "source": [
    "attr_adder = CombineAttributeAdder(add_bedrooms_per_room=False)\n",
    "housing_extra_attribs = attr_adder.fit_transform(housing.values)"
   ]
  },
  {
   "cell_type": "code",
   "execution_count": null,
   "metadata": {},
   "outputs": [],
   "source": [
    "housing_extra_attribs.shape"
   ]
  },
  {
   "cell_type": "code",
   "execution_count": null,
   "metadata": {},
   "outputs": [],
   "source": [
    "housing.shape"
   ]
  },
  {
   "cell_type": "code",
   "execution_count": null,
   "metadata": {},
   "outputs": [],
   "source": [
    "housing.columns"
   ]
  },
  {
   "cell_type": "markdown",
   "metadata": {},
   "source": [
    "#### Full Pipeline "
   ]
  },
  {
   "cell_type": "code",
   "execution_count": null,
   "metadata": {},
   "outputs": [],
   "source": [
    "housing['ocean_proximity'] = le.fit_transform(housing['ocean_proximity'])"
   ]
  },
  {
   "cell_type": "code",
   "execution_count": null,
   "metadata": {},
   "outputs": [],
   "source": [
    "housing = strat_train_set.copy()"
   ]
  },
  {
   "cell_type": "code",
   "execution_count": null,
   "metadata": {},
   "outputs": [],
   "source": [
    "housing_labels = housing['median_house_value'].values\n",
    "housing.drop(['index', 'median_house_value'], axis=1, inplace=True)"
   ]
  },
  {
   "cell_type": "code",
   "execution_count": null,
   "metadata": {},
   "outputs": [],
   "source": []
  },
  {
   "cell_type": "code",
   "execution_count": null,
   "metadata": {},
   "outputs": [],
   "source": [
    "cat_columns = ['ocean_proximity']\n",
    "num_columns = list(housing.drop('ocean_proximity', axis=1).columns)\n",
    "\n",
    "\n",
    "# num pipeline\n",
    "num_pipe = Pipeline([\n",
    "    ('selector', DataFrameSelector(num_columns)),\n",
    "    ('imputer', Imputer(strategy='median')),\n",
    "    ('attrib_adder', CombineAttributeAdder(add_bedrooms_per_room=True)),\n",
    "    ('scaler', StandardScaler())\n",
    "])\n",
    "\n",
    "# cat pipeline\n",
    "cat_pipe = Pipeline([\n",
    "    ('selector', DataFrameSelector(cat_columns)),\n",
    "    #('label_encoder', LabelEncoder()),\n",
    "    #('onehot_encoder', OneHotEncoder(sparse=False)),\n",
    "    ('onehot_encoder', CustomLabelBinarizer()),\n",
    "    \n",
    "])\n",
    "\n",
    "# combine pipeline\n",
    "\n",
    "full_pipe = FeatureUnion(transformer_list=[\n",
    "    ('num_pipe', num_pipe),\n",
    "    ('cat_pipe', cat_pipe),\n",
    "])"
   ]
  },
  {
   "cell_type": "code",
   "execution_count": 65,
   "metadata": {},
   "outputs": [
    {
     "data": {
      "text/plain": [
       "(16512, 16)"
      ]
     },
     "execution_count": 65,
     "metadata": {},
     "output_type": "execute_result"
    }
   ],
   "source": [
    "housing_prepared = full_pipe.fit_transform(housing)\n",
    "housing_prepared.shape"
   ]
  },
  {
   "cell_type": "code",
   "execution_count": 66,
   "metadata": {},
   "outputs": [
    {
     "data": {
      "text/plain": [
       "array([-1.15604281,  0.77194962,  0.74333089, -0.49323393, -0.44543821,\n",
       "       -0.63621141, -0.42069842, -0.61493744, -0.31205452, -0.08649871,\n",
       "        0.15531753,  1.        ,  0.        ,  0.        ,  0.        ,\n",
       "        0.        ])"
      ]
     },
     "execution_count": 66,
     "metadata": {},
     "output_type": "execute_result"
    }
   ],
   "source": [
    "housing_prepared[0]"
   ]
  },
  {
   "cell_type": "markdown",
   "metadata": {},
   "source": [
    "#### Select and Train Model"
   ]
  },
  {
   "cell_type": "code",
   "execution_count": 67,
   "metadata": {},
   "outputs": [
    {
     "data": {
      "text/plain": [
       "LinearRegression(copy_X=True, fit_intercept=True, n_jobs=1, normalize=False)"
      ]
     },
     "execution_count": 67,
     "metadata": {},
     "output_type": "execute_result"
    }
   ],
   "source": [
    "lin_reg = LinearRegression()\n",
    "lin_reg.fit(housing_prepared, housing_labels)"
   ]
  },
  {
   "cell_type": "code",
   "execution_count": 68,
   "metadata": {},
   "outputs": [],
   "source": [
    "y_pred = lin_reg.predict(housing_prepared)"
   ]
  },
  {
   "cell_type": "code",
   "execution_count": 69,
   "metadata": {},
   "outputs": [
    {
     "data": {
      "text/plain": [
       "Text(0,0.5,'predict')"
      ]
     },
     "execution_count": 69,
     "metadata": {},
     "output_type": "execute_result"
    },
    {
     "data": {
      "image/png": "[encoded data removed]",
      "text/plain": [
       "<matplotlib.figure.Figure at 0x1d2b2c84358>"
      ]
     },
     "metadata": {},
     "output_type": "display_data"
    }
   ],
   "source": [
    "plt.scatter(housing_labels, y_pred, marker='.', alpha=.4)\n",
    "plt.xlabel('actual')\n",
    "plt.ylabel('predict')"
   ]
  },
  {
   "cell_type": "code",
   "execution_count": 70,
   "metadata": {},
   "outputs": [
    {
     "data": {
      "text/plain": [
       "68628.19819848922"
      ]
     },
     "execution_count": 70,
     "metadata": {},
     "output_type": "execute_result"
    }
   ],
   "source": [
    "np.sqrt(mean_squared_error(housing_labels, y_pred))"
   ]
  },
  {
   "cell_type": "code",
   "execution_count": 71,
   "metadata": {},
   "outputs": [
    {
     "data": {
      "text/plain": [
       "count     16512.000000\n",
       "mean     206990.920724\n",
       "std      115703.014830\n",
       "min       14999.000000\n",
       "25%      119800.000000\n",
       "50%      179500.000000\n",
       "75%      263900.000000\n",
       "max      500001.000000\n",
       "Name: median_house_value, dtype: float64"
      ]
     },
     "execution_count": 71,
     "metadata": {},
     "output_type": "execute_result"
    }
   ],
   "source": [
    "strat_train_set['median_house_value'].describe()"
   ]
  },
  {
   "cell_type": "code",
   "execution_count": 72,
   "metadata": {},
   "outputs": [],
   "source": [
    "def display(scores):\n",
    "    print('''scores: {}\\nmean: {:.4f}\\nstdev: {:.4f}'''.format(scores.round(2), \n",
    "                                                               np.mean(scores), \n",
    "                                                               np.std(scores)))"
   ]
  },
  {
   "cell_type": "code",
   "execution_count": 166,
   "metadata": {},
   "outputs": [
    {
     "data": {
      "text/plain": [
       "DecisionTreeRegressor(criterion='mse', max_depth=None, max_features=None,\n",
       "           max_leaf_nodes=None, min_impurity_decrease=0.0,\n",
       "           min_impurity_split=None, min_samples_leaf=1,\n",
       "           min_samples_split=2, min_weight_fraction_leaf=0.0,\n",
       "           presort=False, random_state=None, splitter='best')"
      ]
     },
     "execution_count": 166,
     "metadata": {},
     "output_type": "execute_result"
    }
   ],
   "source": [
    "tree_reg = DecisionTreeRegressor()\n",
    "tree_reg.fit(housing_prepared, housing_labels)"
   ]
  },
  {
   "cell_type": "code",
   "execution_count": 184,
   "metadata": {},
   "outputs": [],
   "source": [
    "scores = cross_val_score(tree_reg, housing_prepared, housing_labels, \n",
    "                         cv=10, scoring='neg_mean_squared_error')"
   ]
  },
  {
   "cell_type": "code",
   "execution_count": 185,
   "metadata": {},
   "outputs": [],
   "source": [
    "rmse_scores = np.sqrt(-scores)"
   ]
  },
  {
   "cell_type": "code",
   "execution_count": 187,
   "metadata": {},
   "outputs": [
    {
     "name": "stdout",
     "output_type": "stream",
     "text": [
      "scores: [67302.54 67610.78 71849.48 69457.92 72649.61 73630.76 70249.05 69953.15\n",
      " 75796.7  70016.08]\n",
      "mean: 70851.6055\n",
      "stdev: 2516.2628\n"
     ]
    }
   ],
   "source": [
    "display(rmse_scores)"
   ]
  },
  {
   "cell_type": "code",
   "execution_count": 188,
   "metadata": {},
   "outputs": [],
   "source": [
    "lin_scores = cross_val_score(lin_reg, housing_prepared, housing_labels, \n",
    "                             scoring='neg_mean_squared_error', cv=10)\n",
    "lin_rmse = np.sqrt(-lin_scores)"
   ]
  },
  {
   "cell_type": "code",
   "execution_count": 189,
   "metadata": {},
   "outputs": [
    {
     "name": "stdout",
     "output_type": "stream",
     "text": [
      "scores: [66782.74 66960.12 70347.95 74739.57 68031.13 71193.84 64969.63 68281.61\n",
      " 71552.92 67665.1 ]\n",
      "mean: 69052.4614\n",
      "stdev: 2731.6740\n"
     ]
    }
   ],
   "source": [
    "display(lin_rmse)"
   ]
  },
  {
   "cell_type": "code",
   "execution_count": 191,
   "metadata": {},
   "outputs": [],
   "source": [
    "rf_reg = RandomForestRegressor()\n",
    "rf_scores = cross_val_score(rf_reg, housing_prepared, housing_labels, \n",
    "                            scoring='neg_mean_squared_error', cv=10)\n",
    "rf_rmse = np.sqrt(-rf_scores)"
   ]
  },
  {
   "cell_type": "code",
   "execution_count": 192,
   "metadata": {},
   "outputs": [
    {
     "name": "stdout",
     "output_type": "stream",
     "text": [
      "scores: [51944.32 50025.68 53606.21 55464.32 52435.12 55824.97 52515.79 50593.46\n",
      " 55498.27 52787.83]\n",
      "mean: 53069.5969\n",
      "stdev: 1922.6214\n"
     ]
    }
   ],
   "source": [
    "display(rf_rmse)"
   ]
  },
  {
   "cell_type": "code",
   "execution_count": 197,
   "metadata": {},
   "outputs": [
    {
     "name": "stdout",
     "output_type": "stream",
     "text": [
      "scores: [111393.33 119546.71 116961.   120449.02 117622.2  122303.77 117640.1\n",
      " 121459.64 120348.51 118025.62]\n",
      "mean: 118574.9902\n",
      "stdev: 2934.1329\n"
     ]
    }
   ],
   "source": [
    "svr = SVR()\n",
    "svr_scores = cross_val_score(svr, housing_prepared, housing_labels, \n",
    "                            scoring='neg_mean_squared_error', cv=10)\n",
    "svr_rmse = np.sqrt(-svr_scores)\n",
    "display(svr_rmse)"
   ]
  },
  {
   "cell_type": "code",
   "execution_count": 195,
   "metadata": {},
   "outputs": [
    {
     "name": "stdout",
     "output_type": "stream",
     "text": [
      "scores: [62101.44 61885.87 63465.55 63103.88 60076.54 63938.88 59220.34 61911.86\n",
      " 63187.08 61093.35]\n",
      "mean: 61998.4789\n",
      "stdev: 1442.7092\n"
     ]
    }
   ],
   "source": [
    "knn = KNeighborsRegressor()\n",
    "knn_scores = cross_val_score(knn, housing_prepared, housing_labels, \n",
    "                            scoring='neg_mean_squared_error', cv=10)\n",
    "knn_rmse = np.sqrt(-knn_scores)\n",
    "display(knn_rmse)"
   ]
  },
  {
   "cell_type": "markdown",
   "metadata": {},
   "source": [
    "#### Fine-Tune model"
   ]
  },
  {
   "cell_type": "code",
   "execution_count": 77,
   "metadata": {},
   "outputs": [],
   "source": [
    "param_grid = [\n",
    "    {'n_estimators': [3, 10, 30], 'max_features': [2, 4, 6, 8]},\n",
    "    {'bootstrap': [False], 'n_estimators': [3, 10], 'max_features': [2, 3, 4]}\n",
    "]\n",
    "\n",
    "rf_reg = RandomForestRegressor()\n",
    "grid_search = GridSearchCV(rf_reg, param_grid, cv=5, scoring='neg_mean_squared_error')"
   ]
  },
  {
   "cell_type": "code",
   "execution_count": 78,
   "metadata": {},
   "outputs": [
    {
     "data": {
      "text/plain": [
       "GridSearchCV(cv=5, error_score='raise',\n",
       "       estimator=RandomForestRegressor(bootstrap=True, criterion='mse', max_depth=None,\n",
       "           max_features='auto', max_leaf_nodes=None,\n",
       "           min_impurity_decrease=0.0, min_impurity_split=None,\n",
       "           min_samples_leaf=1, min_samples_split=2,\n",
       "           min_weight_fraction_leaf=0.0, n_estimators=10, n_jobs=1,\n",
       "           oob_score=False, random_state=None, verbose=0, warm_start=False),\n",
       "       fit_params=None, iid=True, n_jobs=1,\n",
       "       param_grid=[{'max_features': [2, 4, 6, 8], 'n_estimators': [3, 10, 30]}, {'max_features': [2, 3, 4], 'bootstrap': [False], 'n_estimators': [3, 10]}],\n",
       "       pre_dispatch='2*n_jobs', refit=True, return_train_score='warn',\n",
       "       scoring='neg_mean_squared_error', verbose=0)"
      ]
     },
     "execution_count": 78,
     "metadata": {},
     "output_type": "execute_result"
    }
   ],
   "source": [
    "grid_search.fit(housing_prepared, housing_labels)"
   ]
  },
  {
   "cell_type": "code",
   "execution_count": 81,
   "metadata": {},
   "outputs": [
    {
     "data": {
      "text/plain": [
       "(49658.19384669214, {'max_features': 6, 'n_estimators': 30})"
      ]
     },
     "execution_count": 81,
     "metadata": {},
     "output_type": "execute_result"
    }
   ],
   "source": [
    "np.sqrt(-grid_search.best_score_), grid_search.best_params_"
   ]
  },
  {
   "cell_type": "code",
   "execution_count": 82,
   "metadata": {},
   "outputs": [
    {
     "name": "stderr",
     "output_type": "stream",
     "text": [
      "C:\\Users\\LENOVO\\AppData\\Local\\Continuum\\anaconda3\\envs\\deep_learning\\lib\\site-packages\\sklearn\\utils\\deprecation.py:122: FutureWarning: You are accessing a training score ('mean_train_score'), which will not be available by default any more in 0.21. If you need training scores, please set return_train_score=True\n",
      "  warnings.warn(*warn_args, **warn_kwargs)\n",
      "C:\\Users\\LENOVO\\AppData\\Local\\Continuum\\anaconda3\\envs\\deep_learning\\lib\\site-packages\\sklearn\\utils\\deprecation.py:122: FutureWarning: You are accessing a training score ('split0_train_score'), which will not be available by default any more in 0.21. If you need training scores, please set return_train_score=True\n",
      "  warnings.warn(*warn_args, **warn_kwargs)\n",
      "C:\\Users\\LENOVO\\AppData\\Local\\Continuum\\anaconda3\\envs\\deep_learning\\lib\\site-packages\\sklearn\\utils\\deprecation.py:122: FutureWarning: You are accessing a training score ('split1_train_score'), which will not be available by default any more in 0.21. If you need training scores, please set return_train_score=True\n",
      "  warnings.warn(*warn_args, **warn_kwargs)\n",
      "C:\\Users\\LENOVO\\AppData\\Local\\Continuum\\anaconda3\\envs\\deep_learning\\lib\\site-packages\\sklearn\\utils\\deprecation.py:122: FutureWarning: You are accessing a training score ('split2_train_score'), which will not be available by default any more in 0.21. If you need training scores, please set return_train_score=True\n",
      "  warnings.warn(*warn_args, **warn_kwargs)\n",
      "C:\\Users\\LENOVO\\AppData\\Local\\Continuum\\anaconda3\\envs\\deep_learning\\lib\\site-packages\\sklearn\\utils\\deprecation.py:122: FutureWarning: You are accessing a training score ('split3_train_score'), which will not be available by default any more in 0.21. If you need training scores, please set return_train_score=True\n",
      "  warnings.warn(*warn_args, **warn_kwargs)\n",
      "C:\\Users\\LENOVO\\AppData\\Local\\Continuum\\anaconda3\\envs\\deep_learning\\lib\\site-packages\\sklearn\\utils\\deprecation.py:122: FutureWarning: You are accessing a training score ('split4_train_score'), which will not be available by default any more in 0.21. If you need training scores, please set return_train_score=True\n",
      "  warnings.warn(*warn_args, **warn_kwargs)\n",
      "C:\\Users\\LENOVO\\AppData\\Local\\Continuum\\anaconda3\\envs\\deep_learning\\lib\\site-packages\\sklearn\\utils\\deprecation.py:122: FutureWarning: You are accessing a training score ('std_train_score'), which will not be available by default any more in 0.21. If you need training scores, please set return_train_score=True\n",
      "  warnings.warn(*warn_args, **warn_kwargs)\n"
     ]
    }
   ],
   "source": [
    "result_df = pd.DataFrame(grid_search.cv_results_)"
   ]
  },
  {
   "cell_type": "code",
   "execution_count": 83,
   "metadata": {},
   "outputs": [
    {
     "data": {
      "text/html": [
       "<div>\n",
       "<style scoped>\n",
       "    .dataframe tbody tr th:only-of-type {\n",
       "        vertical-align: middle;\n",
       "    }\n",
       "\n",
       "    .dataframe tbody tr th {\n",
       "        vertical-align: top;\n",
       "    }\n",
       "\n",
       "    .dataframe thead th {\n",
       "        text-align: right;\n",
       "    }\n",
       "</style>\n",
       "<table border=\"1\" class=\"dataframe\">\n",
       "  <thead>\n",
       "    <tr style=\"text-align: right;\">\n",
       "      <th></th>\n",
       "      <th>mean_fit_time</th>\n",
       "      <th>mean_score_time</th>\n",
       "      <th>mean_test_score</th>\n",
       "      <th>mean_train_score</th>\n",
       "      <th>param_bootstrap</th>\n",
       "      <th>param_max_features</th>\n",
       "      <th>param_n_estimators</th>\n",
       "      <th>params</th>\n",
       "      <th>rank_test_score</th>\n",
       "      <th>split0_test_score</th>\n",
       "      <th>...</th>\n",
       "      <th>split2_test_score</th>\n",
       "      <th>split2_train_score</th>\n",
       "      <th>split3_test_score</th>\n",
       "      <th>split3_train_score</th>\n",
       "      <th>split4_test_score</th>\n",
       "      <th>split4_train_score</th>\n",
       "      <th>std_fit_time</th>\n",
       "      <th>std_score_time</th>\n",
       "      <th>std_test_score</th>\n",
       "      <th>std_train_score</th>\n",
       "    </tr>\n",
       "  </thead>\n",
       "  <tbody>\n",
       "    <tr>\n",
       "      <th>0</th>\n",
       "      <td>0.137949</td>\n",
       "      <td>0.006356</td>\n",
       "      <td>-4.208946e+09</td>\n",
       "      <td>-1.097016e+09</td>\n",
       "      <td>NaN</td>\n",
       "      <td>2</td>\n",
       "      <td>3</td>\n",
       "      <td>{'max_features': 2, 'n_estimators': 3}</td>\n",
       "      <td>18</td>\n",
       "      <td>-3.911198e+09</td>\n",
       "      <td>...</td>\n",
       "      <td>-4.291377e+09</td>\n",
       "      <td>-1.053189e+09</td>\n",
       "      <td>-4.239213e+09</td>\n",
       "      <td>-1.082697e+09</td>\n",
       "      <td>-4.385881e+09</td>\n",
       "      <td>-1.165328e+09</td>\n",
       "      <td>0.002451</td>\n",
       "      <td>0.000201</td>\n",
       "      <td>1.598435e+08</td>\n",
       "      <td>3.923546e+07</td>\n",
       "    </tr>\n",
       "    <tr>\n",
       "      <th>1</th>\n",
       "      <td>0.451074</td>\n",
       "      <td>0.018354</td>\n",
       "      <td>-3.148739e+09</td>\n",
       "      <td>-5.873382e+08</td>\n",
       "      <td>NaN</td>\n",
       "      <td>2</td>\n",
       "      <td>10</td>\n",
       "      <td>{'max_features': 2, 'n_estimators': 10}</td>\n",
       "      <td>11</td>\n",
       "      <td>-2.969983e+09</td>\n",
       "      <td>...</td>\n",
       "      <td>-3.381782e+09</td>\n",
       "      <td>-5.912354e+08</td>\n",
       "      <td>-2.906483e+09</td>\n",
       "      <td>-5.932375e+08</td>\n",
       "      <td>-3.121113e+09</td>\n",
       "      <td>-5.722285e+08</td>\n",
       "      <td>0.008574</td>\n",
       "      <td>0.000314</td>\n",
       "      <td>1.960557e+08</td>\n",
       "      <td>8.306678e+06</td>\n",
       "    </tr>\n",
       "    <tr>\n",
       "      <th>2</th>\n",
       "      <td>1.331675</td>\n",
       "      <td>0.052623</td>\n",
       "      <td>-2.798720e+09</td>\n",
       "      <td>-4.336493e+08</td>\n",
       "      <td>NaN</td>\n",
       "      <td>2</td>\n",
       "      <td>30</td>\n",
       "      <td>{'max_features': 2, 'n_estimators': 30}</td>\n",
       "      <td>9</td>\n",
       "      <td>-2.640777e+09</td>\n",
       "      <td>...</td>\n",
       "      <td>-2.823113e+09</td>\n",
       "      <td>-4.282650e+08</td>\n",
       "      <td>-2.651335e+09</td>\n",
       "      <td>-4.369904e+08</td>\n",
       "      <td>-2.944253e+09</td>\n",
       "      <td>-4.324310e+08</td>\n",
       "      <td>0.013006</td>\n",
       "      <td>0.000358</td>\n",
       "      <td>1.317431e+08</td>\n",
       "      <td>3.180987e+06</td>\n",
       "    </tr>\n",
       "    <tr>\n",
       "      <th>3</th>\n",
       "      <td>0.220427</td>\n",
       "      <td>0.006055</td>\n",
       "      <td>-3.624002e+09</td>\n",
       "      <td>-9.607986e+08</td>\n",
       "      <td>NaN</td>\n",
       "      <td>4</td>\n",
       "      <td>3</td>\n",
       "      <td>{'max_features': 4, 'n_estimators': 3}</td>\n",
       "      <td>16</td>\n",
       "      <td>-3.292653e+09</td>\n",
       "      <td>...</td>\n",
       "      <td>-3.718897e+09</td>\n",
       "      <td>-9.325385e+08</td>\n",
       "      <td>-3.358965e+09</td>\n",
       "      <td>-9.223599e+08</td>\n",
       "      <td>-3.967746e+09</td>\n",
       "      <td>-1.000366e+09</td>\n",
       "      <td>0.004637</td>\n",
       "      <td>0.000372</td>\n",
       "      <td>2.577217e+08</td>\n",
       "      <td>3.217465e+07</td>\n",
       "    </tr>\n",
       "    <tr>\n",
       "      <th>4</th>\n",
       "      <td>0.731919</td>\n",
       "      <td>0.018451</td>\n",
       "      <td>-2.787909e+09</td>\n",
       "      <td>-5.193525e+08</td>\n",
       "      <td>NaN</td>\n",
       "      <td>4</td>\n",
       "      <td>10</td>\n",
       "      <td>{'max_features': 4, 'n_estimators': 10}</td>\n",
       "      <td>8</td>\n",
       "      <td>-2.656179e+09</td>\n",
       "      <td>...</td>\n",
       "      <td>-2.841763e+09</td>\n",
       "      <td>-4.932609e+08</td>\n",
       "      <td>-2.640974e+09</td>\n",
       "      <td>-5.310075e+08</td>\n",
       "      <td>-2.972465e+09</td>\n",
       "      <td>-5.411767e+08</td>\n",
       "      <td>0.010279</td>\n",
       "      <td>0.000371</td>\n",
       "      <td>1.245170e+08</td>\n",
       "      <td>1.863225e+07</td>\n",
       "    </tr>\n",
       "  </tbody>\n",
       "</table>\n",
       "<p>5 rows × 23 columns</p>\n",
       "</div>"
      ],
      "text/plain": [
       "   mean_fit_time  mean_score_time  mean_test_score  mean_train_score  \\\n",
       "0       0.137949         0.006356    -4.208946e+09     -1.097016e+09   \n",
       "1       0.451074         0.018354    -3.148739e+09     -5.873382e+08   \n",
       "2       1.331675         0.052623    -2.798720e+09     -4.336493e+08   \n",
       "3       0.220427         0.006055    -3.624002e+09     -9.607986e+08   \n",
       "4       0.731919         0.018451    -2.787909e+09     -5.193525e+08   \n",
       "\n",
       "  param_bootstrap param_max_features param_n_estimators  \\\n",
       "0             NaN                  2                  3   \n",
       "1             NaN                  2                 10   \n",
       "2             NaN                  2                 30   \n",
       "3             NaN                  4                  3   \n",
       "4             NaN                  4                 10   \n",
       "\n",
       "                                    params  rank_test_score  \\\n",
       "0   {'max_features': 2, 'n_estimators': 3}               18   \n",
       "1  {'max_features': 2, 'n_estimators': 10}               11   \n",
       "2  {'max_features': 2, 'n_estimators': 30}                9   \n",
       "3   {'max_features': 4, 'n_estimators': 3}               16   \n",
       "4  {'max_features': 4, 'n_estimators': 10}                8   \n",
       "\n",
       "   split0_test_score       ...         split2_test_score  split2_train_score  \\\n",
       "0      -3.911198e+09       ...             -4.291377e+09       -1.053189e+09   \n",
       "1      -2.969983e+09       ...             -3.381782e+09       -5.912354e+08   \n",
       "2      -2.640777e+09       ...             -2.823113e+09       -4.282650e+08   \n",
       "3      -3.292653e+09       ...             -3.718897e+09       -9.325385e+08   \n",
       "4      -2.656179e+09       ...             -2.841763e+09       -4.932609e+08   \n",
       "\n",
       "   split3_test_score  split3_train_score  split4_test_score  \\\n",
       "0      -4.239213e+09       -1.082697e+09      -4.385881e+09   \n",
       "1      -2.906483e+09       -5.932375e+08      -3.121113e+09   \n",
       "2      -2.651335e+09       -4.369904e+08      -2.944253e+09   \n",
       "3      -3.358965e+09       -9.223599e+08      -3.967746e+09   \n",
       "4      -2.640974e+09       -5.310075e+08      -2.972465e+09   \n",
       "\n",
       "   split4_train_score  std_fit_time  std_score_time  std_test_score  \\\n",
       "0       -1.165328e+09      0.002451        0.000201    1.598435e+08   \n",
       "1       -5.722285e+08      0.008574        0.000314    1.960557e+08   \n",
       "2       -4.324310e+08      0.013006        0.000358    1.317431e+08   \n",
       "3       -1.000366e+09      0.004637        0.000372    2.577217e+08   \n",
       "4       -5.411767e+08      0.010279        0.000371    1.245170e+08   \n",
       "\n",
       "   std_train_score  \n",
       "0     3.923546e+07  \n",
       "1     8.306678e+06  \n",
       "2     3.180987e+06  \n",
       "3     3.217465e+07  \n",
       "4     1.863225e+07  \n",
       "\n",
       "[5 rows x 23 columns]"
      ]
     },
     "execution_count": 83,
     "metadata": {},
     "output_type": "execute_result"
    }
   ],
   "source": [
    "result_df.head()"
   ]
  },
  {
   "cell_type": "code",
   "execution_count": 84,
   "metadata": {},
   "outputs": [],
   "source": [
    "result_df['RMSE'] = np.sqrt(-result_df['mean_test_score'])"
   ]
  },
  {
   "cell_type": "code",
   "execution_count": 88,
   "metadata": {},
   "outputs": [
    {
     "data": {
      "text/html": [
       "<div>\n",
       "<style scoped>\n",
       "    .dataframe tbody tr th:only-of-type {\n",
       "        vertical-align: middle;\n",
       "    }\n",
       "\n",
       "    .dataframe tbody tr th {\n",
       "        vertical-align: top;\n",
       "    }\n",
       "\n",
       "    .dataframe thead th {\n",
       "        text-align: right;\n",
       "    }\n",
       "</style>\n",
       "<table border=\"1\" class=\"dataframe\">\n",
       "  <thead>\n",
       "    <tr style=\"text-align: right;\">\n",
       "      <th></th>\n",
       "      <th>RMSE</th>\n",
       "      <th>params</th>\n",
       "    </tr>\n",
       "  </thead>\n",
       "  <tbody>\n",
       "    <tr>\n",
       "      <th>8</th>\n",
       "      <td>49658.193847</td>\n",
       "      <td>{'max_features': 6, 'n_estimators': 30}</td>\n",
       "    </tr>\n",
       "    <tr>\n",
       "      <th>11</th>\n",
       "      <td>50012.151701</td>\n",
       "      <td>{'max_features': 8, 'n_estimators': 30}</td>\n",
       "    </tr>\n",
       "    <tr>\n",
       "      <th>5</th>\n",
       "      <td>50664.124356</td>\n",
       "      <td>{'max_features': 4, 'n_estimators': 30}</td>\n",
       "    </tr>\n",
       "    <tr>\n",
       "      <th>17</th>\n",
       "      <td>51666.778242</td>\n",
       "      <td>{'max_features': 4, 'bootstrap': False, 'n_est...</td>\n",
       "    </tr>\n",
       "    <tr>\n",
       "      <th>10</th>\n",
       "      <td>52228.579422</td>\n",
       "      <td>{'max_features': 8, 'n_estimators': 10}</td>\n",
       "    </tr>\n",
       "    <tr>\n",
       "      <th>15</th>\n",
       "      <td>52419.717677</td>\n",
       "      <td>{'max_features': 3, 'bootstrap': False, 'n_est...</td>\n",
       "    </tr>\n",
       "    <tr>\n",
       "      <th>7</th>\n",
       "      <td>52595.666690</td>\n",
       "      <td>{'max_features': 6, 'n_estimators': 10}</td>\n",
       "    </tr>\n",
       "    <tr>\n",
       "      <th>4</th>\n",
       "      <td>52800.648696</td>\n",
       "      <td>{'max_features': 4, 'n_estimators': 10}</td>\n",
       "    </tr>\n",
       "    <tr>\n",
       "      <th>2</th>\n",
       "      <td>52902.931945</td>\n",
       "      <td>{'max_features': 2, 'n_estimators': 30}</td>\n",
       "    </tr>\n",
       "    <tr>\n",
       "      <th>13</th>\n",
       "      <td>54536.918149</td>\n",
       "      <td>{'max_features': 2, 'bootstrap': False, 'n_est...</td>\n",
       "    </tr>\n",
       "  </tbody>\n",
       "</table>\n",
       "</div>"
      ],
      "text/plain": [
       "            RMSE                                             params\n",
       "8   49658.193847            {'max_features': 6, 'n_estimators': 30}\n",
       "11  50012.151701            {'max_features': 8, 'n_estimators': 30}\n",
       "5   50664.124356            {'max_features': 4, 'n_estimators': 30}\n",
       "17  51666.778242  {'max_features': 4, 'bootstrap': False, 'n_est...\n",
       "10  52228.579422            {'max_features': 8, 'n_estimators': 10}\n",
       "15  52419.717677  {'max_features': 3, 'bootstrap': False, 'n_est...\n",
       "7   52595.666690            {'max_features': 6, 'n_estimators': 10}\n",
       "4   52800.648696            {'max_features': 4, 'n_estimators': 10}\n",
       "2   52902.931945            {'max_features': 2, 'n_estimators': 30}\n",
       "13  54536.918149  {'max_features': 2, 'bootstrap': False, 'n_est..."
      ]
     },
     "execution_count": 88,
     "metadata": {},
     "output_type": "execute_result"
    }
   ],
   "source": [
    "result_df[['RMSE', 'params']].sort_values(by='RMSE').head(10)"
   ]
  },
  {
   "cell_type": "code",
   "execution_count": 89,
   "metadata": {},
   "outputs": [
    {
     "data": {
      "text/plain": [
       "array([7.88229601e-02, 7.59201265e-02, 4.12175828e-02, 1.82426065e-02,\n",
       "       1.64433431e-02, 1.71303991e-02, 1.58508972e-02, 3.37819165e-01,\n",
       "       6.37611916e-02, 1.06958489e-01, 6.61074814e-02, 7.98015809e-03,\n",
       "       1.46132715e-01, 5.39772933e-05, 3.03990750e-03, 4.51900064e-03])"
      ]
     },
     "execution_count": 89,
     "metadata": {},
     "output_type": "execute_result"
    }
   ],
   "source": [
    "grid_search.best_estimator_.feature_importances_"
   ]
  },
  {
   "cell_type": "code",
   "execution_count": 90,
   "metadata": {},
   "outputs": [
    {
     "data": {
      "text/plain": [
       "FeatureUnion(n_jobs=1,\n",
       "       transformer_list=[('num_pipe', Pipeline(memory=None,\n",
       "     steps=[('selector', DataFrameSelector(column_names=['longitude', 'latitude', 'housing_median_age', 'total_rooms', 'total_bedrooms', 'population', 'households', 'median_income'])), ('imputer', Imputer(axis=0, copy=True, missing_values='NaN', s...DataFrameSelector(column_names=['ocean_proximity'])), ('onehot_encoder', CustomLabelBinarizer())]))],\n",
       "       transformer_weights=None)"
      ]
     },
     "execution_count": 90,
     "metadata": {},
     "output_type": "execute_result"
    }
   ],
   "source": [
    "full_pipe"
   ]
  },
  {
   "cell_type": "code",
   "execution_count": 91,
   "metadata": {},
   "outputs": [
    {
     "data": {
      "text/plain": [
       "Pipeline(memory=None,\n",
       "     steps=[('selector', DataFrameSelector(column_names=['longitude', 'latitude', 'housing_median_age', 'total_rooms', 'total_bedrooms', 'population', 'households', 'median_income'])), ('imputer', Imputer(axis=0, copy=True, missing_values='NaN', strategy='median', verbose=0)), ('attrib_adder', CombineAttributeAdder(add_bedrooms_per_room=True)), ('scaler', StandardScaler(copy=True, with_mean=True, with_std=True))])"
      ]
     },
     "execution_count": 91,
     "metadata": {},
     "output_type": "execute_result"
    }
   ],
   "source": [
    "num_pipe"
   ]
  },
  {
   "cell_type": "code",
   "execution_count": 102,
   "metadata": {},
   "outputs": [],
   "source": [
    "cat_ohe_attribs = list(cat_pipe.steps[1][1].label_binarizers[0].classes_)\n",
    "\n",
    "extra_attribs = ['rooms_per_hhold', 'pop_per_hhold', 'bedrooms_per_room']\n",
    "\n",
    "attributes = num_columns + extra_attribs + cat_ohe_attribs"
   ]
  },
  {
   "cell_type": "code",
   "execution_count": 137,
   "metadata": {},
   "outputs": [],
   "source": [
    "feature_importances = grid_search.best_estimator_.feature_importances_"
   ]
  },
  {
   "cell_type": "code",
   "execution_count": 106,
   "metadata": {},
   "outputs": [
    {
     "data": {
      "text/plain": [
       "median_income         0.337819\n",
       "INLAND                0.146133\n",
       "pop_per_hhold         0.106958\n",
       "longitude             0.078823\n",
       "latitude              0.075920\n",
       "bedrooms_per_room     0.066107\n",
       "rooms_per_hhold       0.063761\n",
       "housing_median_age    0.041218\n",
       "total_rooms           0.018243\n",
       "population            0.017130\n",
       "total_bedrooms        0.016443\n",
       "households            0.015851\n",
       "<1H OCEAN             0.007980\n",
       "NEAR OCEAN            0.004519\n",
       "NEAR BAY              0.003040\n",
       "ISLAND                0.000054\n",
       "dtype: float64"
      ]
     },
     "execution_count": 106,
     "metadata": {},
     "output_type": "execute_result"
    }
   ],
   "source": [
    "pd.Series(data=grid_search.best_estimator_.feature_importances_, \n",
    "          index=attributes).sort_values(ascending=False)"
   ]
  },
  {
   "cell_type": "code",
   "execution_count": 107,
   "metadata": {},
   "outputs": [],
   "source": [
    "final_model = grid_search.best_estimator_"
   ]
  },
  {
   "cell_type": "code",
   "execution_count": 109,
   "metadata": {},
   "outputs": [],
   "source": [
    "X_test = strat_test_set.drop(['index', 'median_house_value'], axis=1)\n",
    "y_test = strat_test_set['median_house_value'].copy()"
   ]
  },
  {
   "cell_type": "code",
   "execution_count": 110,
   "metadata": {},
   "outputs": [],
   "source": [
    "X_test_prepared = full_pipe.transform(X_test)"
   ]
  },
  {
   "cell_type": "code",
   "execution_count": 111,
   "metadata": {},
   "outputs": [
    {
     "data": {
      "text/plain": [
       "((4128, 16), (4128,))"
      ]
     },
     "execution_count": 111,
     "metadata": {},
     "output_type": "execute_result"
    }
   ],
   "source": [
    "X_test_prepared.shape, y_test.shape"
   ]
  },
  {
   "cell_type": "code",
   "execution_count": 112,
   "metadata": {},
   "outputs": [],
   "source": [
    "final_preds = final_model.predict(X_test_prepared)\n",
    "final_mse = mean_squared_error(y_test, final_preds)"
   ]
  },
  {
   "cell_type": "code",
   "execution_count": 113,
   "metadata": {},
   "outputs": [
    {
     "data": {
      "text/plain": [
       "47666.87632899844"
      ]
     },
     "execution_count": 113,
     "metadata": {},
     "output_type": "execute_result"
    }
   ],
   "source": [
    "np.sqrt(final_mse)"
   ]
  },
  {
   "cell_type": "code",
   "execution_count": 127,
   "metadata": {},
   "outputs": [],
   "source": [
    "sqr_errors = (final_preds - y_test)**2"
   ]
  },
  {
   "cell_type": "code",
   "execution_count": 133,
   "metadata": {},
   "outputs": [
    {
     "data": {
      "text/plain": [
       "(45672.68259711371, 49580.92639625983)"
      ]
     },
     "execution_count": 133,
     "metadata": {},
     "output_type": "execute_result"
    }
   ],
   "source": [
    "ci = .95\n",
    "mean = np.mean(sqr_errors)\n",
    "tscore = stats.t.ppf((1+ci)/2, len(sqr_errors)-1)\n",
    "margin_error = tscore * np.std(sqr_errors, ddof=1) / np.sqrt(len(sqr_errors))\n",
    "\n",
    "np.sqrt(mean - margin_error), np.sqrt(mean + margin_error)"
   ]
  },
  {
   "cell_type": "code",
   "execution_count": 135,
   "metadata": {},
   "outputs": [
    {
     "data": {
      "text/plain": [
       "array([45672.68259711, 49580.92639626])"
      ]
     },
     "execution_count": 135,
     "metadata": {},
     "output_type": "execute_result"
    }
   ],
   "source": [
    "np.sqrt(stats.t.interval(ci, len(sqr_errors)-1, loc=mean, scale=stats.sem(sqr_errors)))"
   ]
  },
  {
   "cell_type": "code",
   "execution_count": null,
   "metadata": {},
   "outputs": [],
   "source": []
  },
  {
   "cell_type": "code",
   "execution_count": 116,
   "metadata": {},
   "outputs": [],
   "source": [
    "svr_params = [\n",
    "    {'kernel': ['linear', 'rbf'], 'C': [.01, .1, 1, 10, 100]},\n",
    "    {'kernel': ['poly'], 'degree': [2, 3], 'C': [.01, .1, 1, 10, 100]}\n",
    "             ]\n",
    "\n",
    "svr_grid = GridSearchCV(SVR(), svr_params, cv=5, scoring='neg_mean_squared_error', verbose=1)"
   ]
  },
  {
   "cell_type": "code",
   "execution_count": 117,
   "metadata": {},
   "outputs": [
    {
     "name": "stdout",
     "output_type": "stream",
     "text": [
      "Fitting 5 folds for each of 20 candidates, totalling 100 fits\n"
     ]
    },
    {
     "name": "stderr",
     "output_type": "stream",
     "text": [
      "[Parallel(n_jobs=1)]: Done 100 out of 100 | elapsed: 38.8min finished\n"
     ]
    },
    {
     "data": {
      "text/plain": [
       "GridSearchCV(cv=5, error_score='raise',\n",
       "       estimator=SVR(C=1.0, cache_size=200, coef0=0.0, degree=3, epsilon=0.1, gamma='auto',\n",
       "  kernel='rbf', max_iter=-1, shrinking=True, tol=0.001, verbose=False),\n",
       "       fit_params=None, iid=True, n_jobs=1,\n",
       "       param_grid=[{'kernel': ['linear', 'rbf'], 'C': [0.01, 0.1, 1, 10, 100]}, {'degree': [2, 3], 'kernel': ['poly'], 'C': [0.01, 0.1, 1, 10, 100]}],\n",
       "       pre_dispatch='2*n_jobs', refit=True, return_train_score='warn',\n",
       "       scoring='neg_mean_squared_error', verbose=1)"
      ]
     },
     "execution_count": 117,
     "metadata": {},
     "output_type": "execute_result"
    }
   ],
   "source": [
    "svr_grid.fit(housing_prepared, housing_labels)"
   ]
  },
  {
   "cell_type": "code",
   "execution_count": 118,
   "metadata": {},
   "outputs": [
    {
     "data": {
      "text/plain": [
       "{'C': 100, 'kernel': 'linear'}"
      ]
     },
     "execution_count": 118,
     "metadata": {},
     "output_type": "execute_result"
    }
   ],
   "source": [
    "svr_grid.best_params_"
   ]
  },
  {
   "cell_type": "code",
   "execution_count": 119,
   "metadata": {},
   "outputs": [
    {
     "data": {
      "text/plain": [
       "71603.12196479437"
      ]
     },
     "execution_count": 119,
     "metadata": {},
     "output_type": "execute_result"
    }
   ],
   "source": [
    "np.sqrt(-svr_grid.best_score_)"
   ]
  },
  {
   "cell_type": "code",
   "execution_count": 125,
   "metadata": {},
   "outputs": [
    {
     "name": "stdout",
     "output_type": "stream",
     "text": [
      "Fitting 5 folds for each of 50 candidates, totalling 250 fits\n"
     ]
    },
    {
     "ename": "KeyboardInterrupt",
     "evalue": "",
     "output_type": "error",
     "traceback": [
      "\u001b[1;31m---------------------------------------------------------------------------\u001b[0m",
      "\u001b[1;31mKeyboardInterrupt\u001b[0m                         Traceback (most recent call last)",
      "\u001b[1;32m<ipython-input-125-3785ff4be4cf>\u001b[0m in \u001b[0;36m<module>\u001b[1;34m()\u001b[0m\n\u001b[0;32m      8\u001b[0m                                  scoring='neg_mean_squared_error', verbose=2)\n\u001b[0;32m      9\u001b[0m \u001b[1;33m\u001b[0m\u001b[0m\n\u001b[1;32m---> 10\u001b[1;33m \u001b[0mrandom_grid\u001b[0m\u001b[1;33m.\u001b[0m\u001b[0mfit\u001b[0m\u001b[1;33m(\u001b[0m\u001b[0mhousing_prepared\u001b[0m\u001b[1;33m,\u001b[0m \u001b[0mhousing_labels\u001b[0m\u001b[1;33m)\u001b[0m\u001b[1;33m\u001b[0m\u001b[0m\n\u001b[0m",
      "\u001b[1;32m~\\AppData\\Local\\Continuum\\anaconda3\\envs\\deep_learning\\lib\\site-packages\\sklearn\\model_selection\\_search.py\u001b[0m in \u001b[0;36mfit\u001b[1;34m(self, X, y, groups, **fit_params)\u001b[0m\n\u001b[0;32m    637\u001b[0m                                   error_score=self.error_score)\n\u001b[0;32m    638\u001b[0m           for parameters, (train, test) in product(candidate_params,\n\u001b[1;32m--> 639\u001b[1;33m                                                    cv.split(X, y, groups)))\n\u001b[0m\u001b[0;32m    640\u001b[0m \u001b[1;33m\u001b[0m\u001b[0m\n\u001b[0;32m    641\u001b[0m         \u001b[1;31m# if one choose to see train score, \"out\" will contain train score info\u001b[0m\u001b[1;33m\u001b[0m\u001b[1;33m\u001b[0m\u001b[0m\n",
      "\u001b[1;32m~\\AppData\\Local\\Continuum\\anaconda3\\envs\\deep_learning\\lib\\site-packages\\sklearn\\externals\\joblib\\parallel.py\u001b[0m in \u001b[0;36m__call__\u001b[1;34m(self, iterable)\u001b[0m\n\u001b[0;32m    787\u001b[0m                 \u001b[1;31m# consumption.\u001b[0m\u001b[1;33m\u001b[0m\u001b[1;33m\u001b[0m\u001b[0m\n\u001b[0;32m    788\u001b[0m                 \u001b[0mself\u001b[0m\u001b[1;33m.\u001b[0m\u001b[0m_iterating\u001b[0m \u001b[1;33m=\u001b[0m \u001b[1;32mFalse\u001b[0m\u001b[1;33m\u001b[0m\u001b[0m\n\u001b[1;32m--> 789\u001b[1;33m             \u001b[0mself\u001b[0m\u001b[1;33m.\u001b[0m\u001b[0mretrieve\u001b[0m\u001b[1;33m(\u001b[0m\u001b[1;33m)\u001b[0m\u001b[1;33m\u001b[0m\u001b[0m\n\u001b[0m\u001b[0;32m    790\u001b[0m             \u001b[1;31m# Make sure that we get a last message telling us we are done\u001b[0m\u001b[1;33m\u001b[0m\u001b[1;33m\u001b[0m\u001b[0m\n\u001b[0;32m    791\u001b[0m             \u001b[0melapsed_time\u001b[0m \u001b[1;33m=\u001b[0m \u001b[0mtime\u001b[0m\u001b[1;33m.\u001b[0m\u001b[0mtime\u001b[0m\u001b[1;33m(\u001b[0m\u001b[1;33m)\u001b[0m \u001b[1;33m-\u001b[0m \u001b[0mself\u001b[0m\u001b[1;33m.\u001b[0m\u001b[0m_start_time\u001b[0m\u001b[1;33m\u001b[0m\u001b[0m\n",
      "\u001b[1;32m~\\AppData\\Local\\Continuum\\anaconda3\\envs\\deep_learning\\lib\\site-packages\\sklearn\\externals\\joblib\\parallel.py\u001b[0m in \u001b[0;36mretrieve\u001b[1;34m(self)\u001b[0m\n\u001b[0;32m    697\u001b[0m             \u001b[1;32mtry\u001b[0m\u001b[1;33m:\u001b[0m\u001b[1;33m\u001b[0m\u001b[0m\n\u001b[0;32m    698\u001b[0m                 \u001b[1;32mif\u001b[0m \u001b[0mgetattr\u001b[0m\u001b[1;33m(\u001b[0m\u001b[0mself\u001b[0m\u001b[1;33m.\u001b[0m\u001b[0m_backend\u001b[0m\u001b[1;33m,\u001b[0m \u001b[1;34m'supports_timeout'\u001b[0m\u001b[1;33m,\u001b[0m \u001b[1;32mFalse\u001b[0m\u001b[1;33m)\u001b[0m\u001b[1;33m:\u001b[0m\u001b[1;33m\u001b[0m\u001b[0m\n\u001b[1;32m--> 699\u001b[1;33m                     \u001b[0mself\u001b[0m\u001b[1;33m.\u001b[0m\u001b[0m_output\u001b[0m\u001b[1;33m.\u001b[0m\u001b[0mextend\u001b[0m\u001b[1;33m(\u001b[0m\u001b[0mjob\u001b[0m\u001b[1;33m.\u001b[0m\u001b[0mget\u001b[0m\u001b[1;33m(\u001b[0m\u001b[0mtimeout\u001b[0m\u001b[1;33m=\u001b[0m\u001b[0mself\u001b[0m\u001b[1;33m.\u001b[0m\u001b[0mtimeout\u001b[0m\u001b[1;33m)\u001b[0m\u001b[1;33m)\u001b[0m\u001b[1;33m\u001b[0m\u001b[0m\n\u001b[0m\u001b[0;32m    700\u001b[0m                 \u001b[1;32melse\u001b[0m\u001b[1;33m:\u001b[0m\u001b[1;33m\u001b[0m\u001b[0m\n\u001b[0;32m    701\u001b[0m                     \u001b[0mself\u001b[0m\u001b[1;33m.\u001b[0m\u001b[0m_output\u001b[0m\u001b[1;33m.\u001b[0m\u001b[0mextend\u001b[0m\u001b[1;33m(\u001b[0m\u001b[0mjob\u001b[0m\u001b[1;33m.\u001b[0m\u001b[0mget\u001b[0m\u001b[1;33m(\u001b[0m\u001b[1;33m)\u001b[0m\u001b[1;33m)\u001b[0m\u001b[1;33m\u001b[0m\u001b[0m\n",
      "\u001b[1;32m~\\AppData\\Local\\Continuum\\anaconda3\\envs\\deep_learning\\lib\\multiprocessing\\pool.py\u001b[0m in \u001b[0;36mget\u001b[1;34m(self, timeout)\u001b[0m\n\u001b[0;32m    636\u001b[0m \u001b[1;33m\u001b[0m\u001b[0m\n\u001b[0;32m    637\u001b[0m     \u001b[1;32mdef\u001b[0m \u001b[0mget\u001b[0m\u001b[1;33m(\u001b[0m\u001b[0mself\u001b[0m\u001b[1;33m,\u001b[0m \u001b[0mtimeout\u001b[0m\u001b[1;33m=\u001b[0m\u001b[1;32mNone\u001b[0m\u001b[1;33m)\u001b[0m\u001b[1;33m:\u001b[0m\u001b[1;33m\u001b[0m\u001b[0m\n\u001b[1;32m--> 638\u001b[1;33m         \u001b[0mself\u001b[0m\u001b[1;33m.\u001b[0m\u001b[0mwait\u001b[0m\u001b[1;33m(\u001b[0m\u001b[0mtimeout\u001b[0m\u001b[1;33m)\u001b[0m\u001b[1;33m\u001b[0m\u001b[0m\n\u001b[0m\u001b[0;32m    639\u001b[0m         \u001b[1;32mif\u001b[0m \u001b[1;32mnot\u001b[0m \u001b[0mself\u001b[0m\u001b[1;33m.\u001b[0m\u001b[0mready\u001b[0m\u001b[1;33m(\u001b[0m\u001b[1;33m)\u001b[0m\u001b[1;33m:\u001b[0m\u001b[1;33m\u001b[0m\u001b[0m\n\u001b[0;32m    640\u001b[0m             \u001b[1;32mraise\u001b[0m \u001b[0mTimeoutError\u001b[0m\u001b[1;33m\u001b[0m\u001b[0m\n",
      "\u001b[1;32m~\\AppData\\Local\\Continuum\\anaconda3\\envs\\deep_learning\\lib\\multiprocessing\\pool.py\u001b[0m in \u001b[0;36mwait\u001b[1;34m(self, timeout)\u001b[0m\n\u001b[0;32m    633\u001b[0m \u001b[1;33m\u001b[0m\u001b[0m\n\u001b[0;32m    634\u001b[0m     \u001b[1;32mdef\u001b[0m \u001b[0mwait\u001b[0m\u001b[1;33m(\u001b[0m\u001b[0mself\u001b[0m\u001b[1;33m,\u001b[0m \u001b[0mtimeout\u001b[0m\u001b[1;33m=\u001b[0m\u001b[1;32mNone\u001b[0m\u001b[1;33m)\u001b[0m\u001b[1;33m:\u001b[0m\u001b[1;33m\u001b[0m\u001b[0m\n\u001b[1;32m--> 635\u001b[1;33m         \u001b[0mself\u001b[0m\u001b[1;33m.\u001b[0m\u001b[0m_event\u001b[0m\u001b[1;33m.\u001b[0m\u001b[0mwait\u001b[0m\u001b[1;33m(\u001b[0m\u001b[0mtimeout\u001b[0m\u001b[1;33m)\u001b[0m\u001b[1;33m\u001b[0m\u001b[0m\n\u001b[0m\u001b[0;32m    636\u001b[0m \u001b[1;33m\u001b[0m\u001b[0m\n\u001b[0;32m    637\u001b[0m     \u001b[1;32mdef\u001b[0m \u001b[0mget\u001b[0m\u001b[1;33m(\u001b[0m\u001b[0mself\u001b[0m\u001b[1;33m,\u001b[0m \u001b[0mtimeout\u001b[0m\u001b[1;33m=\u001b[0m\u001b[1;32mNone\u001b[0m\u001b[1;33m)\u001b[0m\u001b[1;33m:\u001b[0m\u001b[1;33m\u001b[0m\u001b[0m\n",
      "\u001b[1;32m~\\AppData\\Local\\Continuum\\anaconda3\\envs\\deep_learning\\lib\\threading.py\u001b[0m in \u001b[0;36mwait\u001b[1;34m(self, timeout)\u001b[0m\n\u001b[0;32m    547\u001b[0m             \u001b[0msignaled\u001b[0m \u001b[1;33m=\u001b[0m \u001b[0mself\u001b[0m\u001b[1;33m.\u001b[0m\u001b[0m_flag\u001b[0m\u001b[1;33m\u001b[0m\u001b[0m\n\u001b[0;32m    548\u001b[0m             \u001b[1;32mif\u001b[0m \u001b[1;32mnot\u001b[0m \u001b[0msignaled\u001b[0m\u001b[1;33m:\u001b[0m\u001b[1;33m\u001b[0m\u001b[0m\n\u001b[1;32m--> 549\u001b[1;33m                 \u001b[0msignaled\u001b[0m \u001b[1;33m=\u001b[0m \u001b[0mself\u001b[0m\u001b[1;33m.\u001b[0m\u001b[0m_cond\u001b[0m\u001b[1;33m.\u001b[0m\u001b[0mwait\u001b[0m\u001b[1;33m(\u001b[0m\u001b[0mtimeout\u001b[0m\u001b[1;33m)\u001b[0m\u001b[1;33m\u001b[0m\u001b[0m\n\u001b[0m\u001b[0;32m    550\u001b[0m             \u001b[1;32mreturn\u001b[0m \u001b[0msignaled\u001b[0m\u001b[1;33m\u001b[0m\u001b[0m\n\u001b[0;32m    551\u001b[0m \u001b[1;33m\u001b[0m\u001b[0m\n",
      "\u001b[1;32m~\\AppData\\Local\\Continuum\\anaconda3\\envs\\deep_learning\\lib\\threading.py\u001b[0m in \u001b[0;36mwait\u001b[1;34m(self, timeout)\u001b[0m\n\u001b[0;32m    291\u001b[0m         \u001b[1;32mtry\u001b[0m\u001b[1;33m:\u001b[0m    \u001b[1;31m# restore state no matter what (e.g., KeyboardInterrupt)\u001b[0m\u001b[1;33m\u001b[0m\u001b[0m\n\u001b[0;32m    292\u001b[0m             \u001b[1;32mif\u001b[0m \u001b[0mtimeout\u001b[0m \u001b[1;32mis\u001b[0m \u001b[1;32mNone\u001b[0m\u001b[1;33m:\u001b[0m\u001b[1;33m\u001b[0m\u001b[0m\n\u001b[1;32m--> 293\u001b[1;33m                 \u001b[0mwaiter\u001b[0m\u001b[1;33m.\u001b[0m\u001b[0macquire\u001b[0m\u001b[1;33m(\u001b[0m\u001b[1;33m)\u001b[0m\u001b[1;33m\u001b[0m\u001b[0m\n\u001b[0m\u001b[0;32m    294\u001b[0m                 \u001b[0mgotit\u001b[0m \u001b[1;33m=\u001b[0m \u001b[1;32mTrue\u001b[0m\u001b[1;33m\u001b[0m\u001b[0m\n\u001b[0;32m    295\u001b[0m             \u001b[1;32melse\u001b[0m\u001b[1;33m:\u001b[0m\u001b[1;33m\u001b[0m\u001b[0m\n",
      "\u001b[1;31mKeyboardInterrupt\u001b[0m: "
     ]
    }
   ],
   "source": [
    "random_params = {\n",
    "    'kernel': ['linear', 'rbf'],\n",
    "    'C': reciprocal(20, 200000),\n",
    "    'gamma': expon(scale=1)\n",
    "}\n",
    "\n",
    "random_grid = RandomizedSearchCV(SVR(), random_params, cv=5, n_iter=50, n_jobs=4, \n",
    "                                 scoring='neg_mean_squared_error', verbose=2)\n",
    "\n",
    "random_grid.fit(housing_prepared, housing_labels)"
   ]
  },
  {
   "cell_type": "code",
   "execution_count": 138,
   "metadata": {},
   "outputs": [],
   "source": [
    "def get_top_k_indices(k, values):\n",
    "    return np.argsort(values)[-k:]\n",
    "\n",
    "class FeatureImportanceSelector(BaseEstimator, TransformerMixin):\n",
    "    \n",
    "    def __init__(self, k, feature_importances):\n",
    "        self.k = k\n",
    "        self.feature_importances = feature_importances\n",
    "        self.cols = get_top_k_indices(self.k, self.feature_importances)\n",
    "        \n",
    "    def fit(self, X, y=None):\n",
    "        return self\n",
    "    \n",
    "    def transform(self, X, y=None):\n",
    "        return X[:, self.cols]"
   ]
  },
  {
   "cell_type": "code",
   "execution_count": 140,
   "metadata": {},
   "outputs": [],
   "source": [
    "preparation_and_feature_selection_pipe = Pipeline([\n",
    "    ('full_pipe', full_pipe),\n",
    "    ('select_k', FeatureImportanceSelector(5, feature_importances)),\n",
    "])"
   ]
  },
  {
   "cell_type": "code",
   "execution_count": 148,
   "metadata": {},
   "outputs": [
    {
     "data": {
      "text/plain": [
       "(16512, 5)"
      ]
     },
     "execution_count": 148,
     "metadata": {},
     "output_type": "execute_result"
    }
   ],
   "source": [
    "a = preparation_and_feature_selection_pipe.fit_transform(housing)\n",
    "a.shape"
   ]
  },
  {
   "cell_type": "code",
   "execution_count": 151,
   "metadata": {},
   "outputs": [
    {
     "data": {
      "text/plain": [
       "array([ 1,  0,  9, 12,  7], dtype=int64)"
      ]
     },
     "execution_count": 151,
     "metadata": {},
     "output_type": "execute_result"
    }
   ],
   "source": [
    "top_k = preparation_and_feature_selection_pipe.steps[1][1].cols\n",
    "top_k"
   ]
  },
  {
   "cell_type": "code",
   "execution_count": 153,
   "metadata": {},
   "outputs": [
    {
     "data": {
      "text/plain": [
       "array(['latitude', 'longitude', 'pop_per_hhold', 'INLAND',\n",
       "       'median_income'], dtype='<U18')"
      ]
     },
     "execution_count": 153,
     "metadata": {},
     "output_type": "execute_result"
    }
   ],
   "source": [
    "np.array(attributes)[top_k]"
   ]
  },
  {
   "cell_type": "code",
   "execution_count": 149,
   "metadata": {},
   "outputs": [
    {
     "data": {
      "text/plain": [
       "array([[ 0.77194962, -1.15604281, -0.08649871,  0.        , -0.61493744],\n",
       "       [ 0.6596948 , -1.17602483, -0.03353391,  0.        ,  1.33645936],\n",
       "       [-1.34218285,  1.18684903, -0.09240499,  0.        , -0.5320456 ],\n",
       "       [ 0.31357576, -0.01706767,  0.08973561,  1.        , -1.04556555]])"
      ]
     },
     "execution_count": 149,
     "metadata": {},
     "output_type": "execute_result"
    }
   ],
   "source": [
    "a[:4]"
   ]
  },
  {
   "cell_type": "code",
   "execution_count": 152,
   "metadata": {},
   "outputs": [
    {
     "data": {
      "text/plain": [
       "array([[ 0.77194962, -1.15604281, -0.08649871,  0.        , -0.61493744],\n",
       "       [ 0.6596948 , -1.17602483, -0.03353391,  0.        ,  1.33645936],\n",
       "       [-1.34218285,  1.18684903, -0.09240499,  0.        , -0.5320456 ],\n",
       "       [ 0.31357576, -0.01706767,  0.08973561,  1.        , -1.04556555]])"
      ]
     },
     "execution_count": 152,
     "metadata": {},
     "output_type": "execute_result"
    }
   ],
   "source": [
    "housing_prepared[:4, top_k]"
   ]
  },
  {
   "cell_type": "code",
   "execution_count": 176,
   "metadata": {},
   "outputs": [],
   "source": [
    "prepare_select_predict_pipe = Pipeline([\n",
    "    ('prepare', full_pipe),\n",
    "    ('select', FeatureImportanceSelector(5, feature_importances)),\n",
    "    ('svr', SVR())\n",
    "])\n",
    "\n",
    "params = {\n",
    "    'svr__C': reciprocal(20, 200000),\n",
    "    'svr__gamma': expon(scale=1),\n",
    "    'svr__kernel': ['linear', 'rbf'],\n",
    "    #'select__k': range(3, 16),\n",
    "}\n",
    "\n",
    "rand_grid = RandomizedSearchCV(prepare_select_predict_pipe, params, n_iter=60,\n",
    "                               cv=5, scoring='neg_mean_squared_error', verbose=2, \n",
    "                               n_jobs=1)"
   ]
  },
  {
   "cell_type": "code",
   "execution_count": 177,
   "metadata": {},
   "outputs": [
    {
     "name": "stdout",
     "output_type": "stream",
     "text": [
      "Fitting 5 folds for each of 60 candidates, totalling 300 fits\n",
      "[CV] svr__gamma=0.13317109534674468, svr__kernel=linear, svr__C=29.183451220389443 \n",
      "[CV]  svr__gamma=0.13317109534674468, svr__kernel=linear, svr__C=29.183451220389443, total=   4.2s\n",
      "[CV] svr__gamma=0.13317109534674468, svr__kernel=linear, svr__C=29.183451220389443 \n"
     ]
    },
    {
     "name": "stderr",
     "output_type": "stream",
     "text": [
      "[Parallel(n_jobs=1)]: Done   1 out of   1 | elapsed:    5.3s remaining:    0.0s\n"
     ]
    },
    {
     "name": "stdout",
     "output_type": "stream",
     "text": [
      "[CV]  svr__gamma=0.13317109534674468, svr__kernel=linear, svr__C=29.183451220389443, total=   4.3s\n",
      "[CV] svr__gamma=0.13317109534674468, svr__kernel=linear, svr__C=29.183451220389443 \n",
      "[CV]  svr__gamma=0.13317109534674468, svr__kernel=linear, svr__C=29.183451220389443, total=   4.1s\n",
      "[CV] svr__gamma=0.13317109534674468, svr__kernel=linear, svr__C=29.183451220389443 \n",
      "[CV]  svr__gamma=0.13317109534674468, svr__kernel=linear, svr__C=29.183451220389443, total=   4.1s\n",
      "[CV] svr__gamma=0.13317109534674468, svr__kernel=linear, svr__C=29.183451220389443 \n",
      "[CV]  svr__gamma=0.13317109534674468, svr__kernel=linear, svr__C=29.183451220389443, total=   4.2s\n",
      "[CV] svr__gamma=2.3752145948900507, svr__kernel=rbf, svr__C=44483.14013447289 \n",
      "[CV]  svr__gamma=2.3752145948900507, svr__kernel=rbf, svr__C=44483.14013447289, total=   7.0s\n",
      "[CV] svr__gamma=2.3752145948900507, svr__kernel=rbf, svr__C=44483.14013447289 \n",
      "[CV]  svr__gamma=2.3752145948900507, svr__kernel=rbf, svr__C=44483.14013447289, total=   7.1s\n",
      "[CV] svr__gamma=2.3752145948900507, svr__kernel=rbf, svr__C=44483.14013447289 \n",
      "[CV]  svr__gamma=2.3752145948900507, svr__kernel=rbf, svr__C=44483.14013447289, total=   7.3s\n",
      "[CV] svr__gamma=2.3752145948900507, svr__kernel=rbf, svr__C=44483.14013447289 \n",
      "[CV]  svr__gamma=2.3752145948900507, svr__kernel=rbf, svr__C=44483.14013447289, total=   7.3s\n",
      "[CV] svr__gamma=2.3752145948900507, svr__kernel=rbf, svr__C=44483.14013447289 \n",
      "[CV]  svr__gamma=2.3752145948900507, svr__kernel=rbf, svr__C=44483.14013447289, total=   7.2s\n",
      "[CV] svr__gamma=0.20710794437287444, svr__kernel=rbf, svr__C=40984.21073740434 \n",
      "[CV]  svr__gamma=0.20710794437287444, svr__kernel=rbf, svr__C=40984.21073740434, total=   6.7s\n",
      "[CV] svr__gamma=0.20710794437287444, svr__kernel=rbf, svr__C=40984.21073740434 \n",
      "[CV]  svr__gamma=0.20710794437287444, svr__kernel=rbf, svr__C=40984.21073740434, total=   6.8s\n",
      "[CV] svr__gamma=0.20710794437287444, svr__kernel=rbf, svr__C=40984.21073740434 \n",
      "[CV]  svr__gamma=0.20710794437287444, svr__kernel=rbf, svr__C=40984.21073740434, total=   6.8s\n",
      "[CV] svr__gamma=0.20710794437287444, svr__kernel=rbf, svr__C=40984.21073740434 \n",
      "[CV]  svr__gamma=0.20710794437287444, svr__kernel=rbf, svr__C=40984.21073740434, total=   6.7s\n",
      "[CV] svr__gamma=0.20710794437287444, svr__kernel=rbf, svr__C=40984.21073740434 \n",
      "[CV]  svr__gamma=0.20710794437287444, svr__kernel=rbf, svr__C=40984.21073740434, total=   6.6s\n",
      "[CV] svr__gamma=1.034409505990383, svr__kernel=linear, svr__C=53235.350831450196 \n",
      "[CV]  svr__gamma=1.034409505990383, svr__kernel=linear, svr__C=53235.350831450196, total=   6.6s\n",
      "[CV] svr__gamma=1.034409505990383, svr__kernel=linear, svr__C=53235.350831450196 \n",
      "[CV]  svr__gamma=1.034409505990383, svr__kernel=linear, svr__C=53235.350831450196, total=   7.2s\n",
      "[CV] svr__gamma=1.034409505990383, svr__kernel=linear, svr__C=53235.350831450196 \n",
      "[CV]  svr__gamma=1.034409505990383, svr__kernel=linear, svr__C=53235.350831450196, total=   6.6s\n",
      "[CV] svr__gamma=1.034409505990383, svr__kernel=linear, svr__C=53235.350831450196 \n",
      "[CV]  svr__gamma=1.034409505990383, svr__kernel=linear, svr__C=53235.350831450196, total=   6.8s\n",
      "[CV] svr__gamma=1.034409505990383, svr__kernel=linear, svr__C=53235.350831450196 \n",
      "[CV]  svr__gamma=1.034409505990383, svr__kernel=linear, svr__C=53235.350831450196, total=   6.7s\n",
      "[CV] svr__gamma=0.46307308591595303, svr__kernel=rbf, svr__C=120.45777199595918 \n",
      "[CV]  svr__gamma=0.46307308591595303, svr__kernel=rbf, svr__C=120.45777199595918, total=   6.8s\n",
      "[CV] svr__gamma=0.46307308591595303, svr__kernel=rbf, svr__C=120.45777199595918 \n",
      "[CV]  svr__gamma=0.46307308591595303, svr__kernel=rbf, svr__C=120.45777199595918, total=   6.6s\n",
      "[CV] svr__gamma=0.46307308591595303, svr__kernel=rbf, svr__C=120.45777199595918 \n",
      "[CV]  svr__gamma=0.46307308591595303, svr__kernel=rbf, svr__C=120.45777199595918, total=   6.8s\n",
      "[CV] svr__gamma=0.46307308591595303, svr__kernel=rbf, svr__C=120.45777199595918 \n",
      "[CV]  svr__gamma=0.46307308591595303, svr__kernel=rbf, svr__C=120.45777199595918, total=   6.8s\n",
      "[CV] svr__gamma=0.46307308591595303, svr__kernel=rbf, svr__C=120.45777199595918 \n",
      "[CV]  svr__gamma=0.46307308591595303, svr__kernel=rbf, svr__C=120.45777199595918, total=   6.6s\n",
      "[CV] svr__gamma=1.5680427595416833, svr__kernel=rbf, svr__C=25.8565274714196 \n",
      "[CV]  svr__gamma=1.5680427595416833, svr__kernel=rbf, svr__C=25.8565274714196, total=   7.0s\n",
      "[CV] svr__gamma=1.5680427595416833, svr__kernel=rbf, svr__C=25.8565274714196 \n",
      "[CV]  svr__gamma=1.5680427595416833, svr__kernel=rbf, svr__C=25.8565274714196, total=   6.9s\n",
      "[CV] svr__gamma=1.5680427595416833, svr__kernel=rbf, svr__C=25.8565274714196 \n",
      "[CV]  svr__gamma=1.5680427595416833, svr__kernel=rbf, svr__C=25.8565274714196, total=   6.9s\n",
      "[CV] svr__gamma=1.5680427595416833, svr__kernel=rbf, svr__C=25.8565274714196 \n",
      "[CV]  svr__gamma=1.5680427595416833, svr__kernel=rbf, svr__C=25.8565274714196, total=   6.9s\n",
      "[CV] svr__gamma=1.5680427595416833, svr__kernel=rbf, svr__C=25.8565274714196 \n",
      "[CV]  svr__gamma=1.5680427595416833, svr__kernel=rbf, svr__C=25.8565274714196, total=   6.7s\n",
      "[CV] svr__gamma=0.4946399034605534, svr__kernel=rbf, svr__C=574.7586180344853 \n",
      "[CV]  svr__gamma=0.4946399034605534, svr__kernel=rbf, svr__C=574.7586180344853, total=   6.6s\n",
      "[CV] svr__gamma=0.4946399034605534, svr__kernel=rbf, svr__C=574.7586180344853 \n",
      "[CV]  svr__gamma=0.4946399034605534, svr__kernel=rbf, svr__C=574.7586180344853, total=   6.4s\n",
      "[CV] svr__gamma=0.4946399034605534, svr__kernel=rbf, svr__C=574.7586180344853 \n",
      "[CV]  svr__gamma=0.4946399034605534, svr__kernel=rbf, svr__C=574.7586180344853, total=   6.5s\n",
      "[CV] svr__gamma=0.4946399034605534, svr__kernel=rbf, svr__C=574.7586180344853 \n",
      "[CV]  svr__gamma=0.4946399034605534, svr__kernel=rbf, svr__C=574.7586180344853, total=   6.6s\n",
      "[CV] svr__gamma=0.4946399034605534, svr__kernel=rbf, svr__C=574.7586180344853 \n",
      "[CV]  svr__gamma=0.4946399034605534, svr__kernel=rbf, svr__C=574.7586180344853, total=   6.5s\n",
      "[CV] svr__gamma=1.249352730324887, svr__kernel=linear, svr__C=193489.9331769788 \n",
      "[CV]  svr__gamma=1.249352730324887, svr__kernel=linear, svr__C=193489.9331769788, total=  11.3s\n",
      "[CV] svr__gamma=1.249352730324887, svr__kernel=linear, svr__C=193489.9331769788 \n",
      "[CV]  svr__gamma=1.249352730324887, svr__kernel=linear, svr__C=193489.9331769788, total=  11.0s\n",
      "[CV] svr__gamma=1.249352730324887, svr__kernel=linear, svr__C=193489.9331769788 \n",
      "[CV]  svr__gamma=1.249352730324887, svr__kernel=linear, svr__C=193489.9331769788, total=  11.4s\n",
      "[CV] svr__gamma=1.249352730324887, svr__kernel=linear, svr__C=193489.9331769788 \n",
      "[CV]  svr__gamma=1.249352730324887, svr__kernel=linear, svr__C=193489.9331769788, total=  10.4s\n",
      "[CV] svr__gamma=1.249352730324887, svr__kernel=linear, svr__C=193489.9331769788 \n",
      "[CV]  svr__gamma=1.249352730324887, svr__kernel=linear, svr__C=193489.9331769788, total=  11.7s\n",
      "[CV] svr__gamma=1.134421762707414, svr__kernel=rbf, svr__C=4640.957595506643 \n",
      "[CV]  svr__gamma=1.134421762707414, svr__kernel=rbf, svr__C=4640.957595506643, total=   6.4s\n",
      "[CV] svr__gamma=1.134421762707414, svr__kernel=rbf, svr__C=4640.957595506643 \n",
      "[CV]  svr__gamma=1.134421762707414, svr__kernel=rbf, svr__C=4640.957595506643, total=   6.4s\n",
      "[CV] svr__gamma=1.134421762707414, svr__kernel=rbf, svr__C=4640.957595506643 \n",
      "[CV]  svr__gamma=1.134421762707414, svr__kernel=rbf, svr__C=4640.957595506643, total=   6.5s\n",
      "[CV] svr__gamma=1.134421762707414, svr__kernel=rbf, svr__C=4640.957595506643 \n",
      "[CV]  svr__gamma=1.134421762707414, svr__kernel=rbf, svr__C=4640.957595506643, total=   6.4s\n",
      "[CV] svr__gamma=1.134421762707414, svr__kernel=rbf, svr__C=4640.957595506643 \n",
      "[CV]  svr__gamma=1.134421762707414, svr__kernel=rbf, svr__C=4640.957595506643, total=   6.4s\n",
      "[CV] svr__gamma=0.8293029727507434, svr__kernel=rbf, svr__C=360.6067332909613 \n",
      "[CV]  svr__gamma=0.8293029727507434, svr__kernel=rbf, svr__C=360.6067332909613, total=   6.8s\n",
      "[CV] svr__gamma=0.8293029727507434, svr__kernel=rbf, svr__C=360.6067332909613 \n",
      "[CV]  svr__gamma=0.8293029727507434, svr__kernel=rbf, svr__C=360.6067332909613, total=   6.7s\n",
      "[CV] svr__gamma=0.8293029727507434, svr__kernel=rbf, svr__C=360.6067332909613 \n",
      "[CV]  svr__gamma=0.8293029727507434, svr__kernel=rbf, svr__C=360.6067332909613, total=   6.6s\n",
      "[CV] svr__gamma=0.8293029727507434, svr__kernel=rbf, svr__C=360.6067332909613 \n"
     ]
    },
    {
     "name": "stdout",
     "output_type": "stream",
     "text": [
      "[CV]  svr__gamma=0.8293029727507434, svr__kernel=rbf, svr__C=360.6067332909613, total=   6.6s\n",
      "[CV] svr__gamma=0.8293029727507434, svr__kernel=rbf, svr__C=360.6067332909613 \n",
      "[CV]  svr__gamma=0.8293029727507434, svr__kernel=rbf, svr__C=360.6067332909613, total=   6.6s\n",
      "[CV] svr__gamma=0.06373002138417821, svr__kernel=rbf, svr__C=670.2568118685517 \n",
      "[CV]  svr__gamma=0.06373002138417821, svr__kernel=rbf, svr__C=670.2568118685517, total=   6.8s\n",
      "[CV] svr__gamma=0.06373002138417821, svr__kernel=rbf, svr__C=670.2568118685517 \n",
      "[CV]  svr__gamma=0.06373002138417821, svr__kernel=rbf, svr__C=670.2568118685517, total=   6.8s\n",
      "[CV] svr__gamma=0.06373002138417821, svr__kernel=rbf, svr__C=670.2568118685517 \n",
      "[CV]  svr__gamma=0.06373002138417821, svr__kernel=rbf, svr__C=670.2568118685517, total=   7.0s\n",
      "[CV] svr__gamma=0.06373002138417821, svr__kernel=rbf, svr__C=670.2568118685517 \n",
      "[CV]  svr__gamma=0.06373002138417821, svr__kernel=rbf, svr__C=670.2568118685517, total=   6.8s\n",
      "[CV] svr__gamma=0.06373002138417821, svr__kernel=rbf, svr__C=670.2568118685517 \n",
      "[CV]  svr__gamma=0.06373002138417821, svr__kernel=rbf, svr__C=670.2568118685517, total=   6.7s\n",
      "[CV] svr__gamma=0.9351367230892178, svr__kernel=linear, svr__C=24.249635699059347 \n",
      "[CV]  svr__gamma=0.9351367230892178, svr__kernel=linear, svr__C=24.249635699059347, total=   4.3s\n",
      "[CV] svr__gamma=0.9351367230892178, svr__kernel=linear, svr__C=24.249635699059347 \n",
      "[CV]  svr__gamma=0.9351367230892178, svr__kernel=linear, svr__C=24.249635699059347, total=   4.3s\n",
      "[CV] svr__gamma=0.9351367230892178, svr__kernel=linear, svr__C=24.249635699059347 \n",
      "[CV]  svr__gamma=0.9351367230892178, svr__kernel=linear, svr__C=24.249635699059347, total=   4.2s\n",
      "[CV] svr__gamma=0.9351367230892178, svr__kernel=linear, svr__C=24.249635699059347 \n",
      "[CV]  svr__gamma=0.9351367230892178, svr__kernel=linear, svr__C=24.249635699059347, total=   4.3s\n",
      "[CV] svr__gamma=0.9351367230892178, svr__kernel=linear, svr__C=24.249635699059347 \n",
      "[CV]  svr__gamma=0.9351367230892178, svr__kernel=linear, svr__C=24.249635699059347, total=   4.4s\n",
      "[CV] svr__gamma=1.1251184579106346, svr__kernel=rbf, svr__C=30591.442094913808 \n",
      "[CV]  svr__gamma=1.1251184579106346, svr__kernel=rbf, svr__C=30591.442094913808, total=   6.7s\n",
      "[CV] svr__gamma=1.1251184579106346, svr__kernel=rbf, svr__C=30591.442094913808 \n",
      "[CV]  svr__gamma=1.1251184579106346, svr__kernel=rbf, svr__C=30591.442094913808, total=   6.8s\n",
      "[CV] svr__gamma=1.1251184579106346, svr__kernel=rbf, svr__C=30591.442094913808 \n",
      "[CV]  svr__gamma=1.1251184579106346, svr__kernel=rbf, svr__C=30591.442094913808, total=   6.7s\n",
      "[CV] svr__gamma=1.1251184579106346, svr__kernel=rbf, svr__C=30591.442094913808 \n",
      "[CV]  svr__gamma=1.1251184579106346, svr__kernel=rbf, svr__C=30591.442094913808, total=   6.7s\n",
      "[CV] svr__gamma=1.1251184579106346, svr__kernel=rbf, svr__C=30591.442094913808 \n",
      "[CV]  svr__gamma=1.1251184579106346, svr__kernel=rbf, svr__C=30591.442094913808, total=   6.8s\n",
      "[CV] svr__gamma=2.1965821269859003, svr__kernel=rbf, svr__C=2812.571109750998 \n",
      "[CV]  svr__gamma=2.1965821269859003, svr__kernel=rbf, svr__C=2812.571109750998, total=   6.5s\n",
      "[CV] svr__gamma=2.1965821269859003, svr__kernel=rbf, svr__C=2812.571109750998 \n",
      "[CV]  svr__gamma=2.1965821269859003, svr__kernel=rbf, svr__C=2812.571109750998, total=   6.6s\n",
      "[CV] svr__gamma=2.1965821269859003, svr__kernel=rbf, svr__C=2812.571109750998 \n",
      "[CV]  svr__gamma=2.1965821269859003, svr__kernel=rbf, svr__C=2812.571109750998, total=   6.5s\n",
      "[CV] svr__gamma=2.1965821269859003, svr__kernel=rbf, svr__C=2812.571109750998 \n",
      "[CV]  svr__gamma=2.1965821269859003, svr__kernel=rbf, svr__C=2812.571109750998, total=   6.6s\n",
      "[CV] svr__gamma=2.1965821269859003, svr__kernel=rbf, svr__C=2812.571109750998 \n",
      "[CV]  svr__gamma=2.1965821269859003, svr__kernel=rbf, svr__C=2812.571109750998, total=   6.5s\n",
      "[CV] svr__gamma=0.6252843914508974, svr__kernel=rbf, svr__C=836.4618984209048 \n",
      "[CV]  svr__gamma=0.6252843914508974, svr__kernel=rbf, svr__C=836.4618984209048, total=   6.5s\n",
      "[CV] svr__gamma=0.6252843914508974, svr__kernel=rbf, svr__C=836.4618984209048 \n",
      "[CV]  svr__gamma=0.6252843914508974, svr__kernel=rbf, svr__C=836.4618984209048, total=   6.6s\n",
      "[CV] svr__gamma=0.6252843914508974, svr__kernel=rbf, svr__C=836.4618984209048 \n",
      "[CV]  svr__gamma=0.6252843914508974, svr__kernel=rbf, svr__C=836.4618984209048, total=   6.6s\n",
      "[CV] svr__gamma=0.6252843914508974, svr__kernel=rbf, svr__C=836.4618984209048 \n",
      "[CV]  svr__gamma=0.6252843914508974, svr__kernel=rbf, svr__C=836.4618984209048, total=   6.6s\n",
      "[CV] svr__gamma=0.6252843914508974, svr__kernel=rbf, svr__C=836.4618984209048 \n",
      "[CV]  svr__gamma=0.6252843914508974, svr__kernel=rbf, svr__C=836.4618984209048, total=   6.5s\n",
      "[CV] svr__gamma=0.1522821516605754, svr__kernel=linear, svr__C=30.107463202191557 \n",
      "[CV]  svr__gamma=0.1522821516605754, svr__kernel=linear, svr__C=30.107463202191557, total=   4.2s\n",
      "[CV] svr__gamma=0.1522821516605754, svr__kernel=linear, svr__C=30.107463202191557 \n",
      "[CV]  svr__gamma=0.1522821516605754, svr__kernel=linear, svr__C=30.107463202191557, total=   4.3s\n",
      "[CV] svr__gamma=0.1522821516605754, svr__kernel=linear, svr__C=30.107463202191557 \n",
      "[CV]  svr__gamma=0.1522821516605754, svr__kernel=linear, svr__C=30.107463202191557, total=   4.2s\n",
      "[CV] svr__gamma=0.1522821516605754, svr__kernel=linear, svr__C=30.107463202191557 \n",
      "[CV]  svr__gamma=0.1522821516605754, svr__kernel=linear, svr__C=30.107463202191557, total=   4.2s\n",
      "[CV] svr__gamma=0.1522821516605754, svr__kernel=linear, svr__C=30.107463202191557 \n",
      "[CV]  svr__gamma=0.1522821516605754, svr__kernel=linear, svr__C=30.107463202191557, total=   4.3s\n",
      "[CV] svr__gamma=0.47424392894875367, svr__kernel=linear, svr__C=868.1750616599548 \n",
      "[CV]  svr__gamma=0.47424392894875367, svr__kernel=linear, svr__C=868.1750616599548, total=   4.1s\n",
      "[CV] svr__gamma=0.47424392894875367, svr__kernel=linear, svr__C=868.1750616599548 \n",
      "[CV]  svr__gamma=0.47424392894875367, svr__kernel=linear, svr__C=868.1750616599548, total=   4.2s\n",
      "[CV] svr__gamma=0.47424392894875367, svr__kernel=linear, svr__C=868.1750616599548 \n",
      "[CV]  svr__gamma=0.47424392894875367, svr__kernel=linear, svr__C=868.1750616599548, total=   4.2s\n",
      "[CV] svr__gamma=0.47424392894875367, svr__kernel=linear, svr__C=868.1750616599548 \n",
      "[CV]  svr__gamma=0.47424392894875367, svr__kernel=linear, svr__C=868.1750616599548, total=   4.2s\n",
      "[CV] svr__gamma=0.47424392894875367, svr__kernel=linear, svr__C=868.1750616599548 \n",
      "[CV]  svr__gamma=0.47424392894875367, svr__kernel=linear, svr__C=868.1750616599548, total=   4.0s\n",
      "[CV] svr__gamma=0.9924457765249532, svr__kernel=rbf, svr__C=1160.2740638498196 \n",
      "[CV]  svr__gamma=0.9924457765249532, svr__kernel=rbf, svr__C=1160.2740638498196, total=   6.5s\n",
      "[CV] svr__gamma=0.9924457765249532, svr__kernel=rbf, svr__C=1160.2740638498196 \n",
      "[CV]  svr__gamma=0.9924457765249532, svr__kernel=rbf, svr__C=1160.2740638498196, total=   6.6s\n",
      "[CV] svr__gamma=0.9924457765249532, svr__kernel=rbf, svr__C=1160.2740638498196 \n",
      "[CV]  svr__gamma=0.9924457765249532, svr__kernel=rbf, svr__C=1160.2740638498196, total=   6.5s\n",
      "[CV] svr__gamma=0.9924457765249532, svr__kernel=rbf, svr__C=1160.2740638498196 \n",
      "[CV]  svr__gamma=0.9924457765249532, svr__kernel=rbf, svr__C=1160.2740638498196, total=   6.5s\n",
      "[CV] svr__gamma=0.9924457765249532, svr__kernel=rbf, svr__C=1160.2740638498196 \n",
      "[CV]  svr__gamma=0.9924457765249532, svr__kernel=rbf, svr__C=1160.2740638498196, total=   6.5s\n",
      "[CV] svr__gamma=0.21614055442039537, svr__kernel=rbf, svr__C=2581.8752661837443 \n",
      "[CV]  svr__gamma=0.21614055442039537, svr__kernel=rbf, svr__C=2581.8752661837443, total=   6.4s\n",
      "[CV] svr__gamma=0.21614055442039537, svr__kernel=rbf, svr__C=2581.8752661837443 \n",
      "[CV]  svr__gamma=0.21614055442039537, svr__kernel=rbf, svr__C=2581.8752661837443, total=   6.5s\n",
      "[CV] svr__gamma=0.21614055442039537, svr__kernel=rbf, svr__C=2581.8752661837443 \n",
      "[CV]  svr__gamma=0.21614055442039537, svr__kernel=rbf, svr__C=2581.8752661837443, total=   6.7s\n",
      "[CV] svr__gamma=0.21614055442039537, svr__kernel=rbf, svr__C=2581.8752661837443 \n",
      "[CV]  svr__gamma=0.21614055442039537, svr__kernel=rbf, svr__C=2581.8752661837443, total=   6.3s\n",
      "[CV] svr__gamma=0.21614055442039537, svr__kernel=rbf, svr__C=2581.8752661837443 \n",
      "[CV]  svr__gamma=0.21614055442039537, svr__kernel=rbf, svr__C=2581.8752661837443, total=   6.7s\n",
      "[CV] svr__gamma=4.583997040188518, svr__kernel=linear, svr__C=47612.43187028249 \n"
     ]
    },
    {
     "name": "stdout",
     "output_type": "stream",
     "text": [
      "[CV]  svr__gamma=4.583997040188518, svr__kernel=linear, svr__C=47612.43187028249, total=   6.6s\n",
      "[CV] svr__gamma=4.583997040188518, svr__kernel=linear, svr__C=47612.43187028249 \n",
      "[CV]  svr__gamma=4.583997040188518, svr__kernel=linear, svr__C=47612.43187028249, total=   6.4s\n",
      "[CV] svr__gamma=4.583997040188518, svr__kernel=linear, svr__C=47612.43187028249 \n",
      "[CV]  svr__gamma=4.583997040188518, svr__kernel=linear, svr__C=47612.43187028249, total=   6.4s\n",
      "[CV] svr__gamma=4.583997040188518, svr__kernel=linear, svr__C=47612.43187028249 \n",
      "[CV]  svr__gamma=4.583997040188518, svr__kernel=linear, svr__C=47612.43187028249, total=   6.4s\n",
      "[CV] svr__gamma=4.583997040188518, svr__kernel=linear, svr__C=47612.43187028249 \n",
      "[CV]  svr__gamma=4.583997040188518, svr__kernel=linear, svr__C=47612.43187028249, total=   6.3s\n",
      "[CV] svr__gamma=0.8901205151406341, svr__kernel=rbf, svr__C=5492.195935574784 \n",
      "[CV]  svr__gamma=0.8901205151406341, svr__kernel=rbf, svr__C=5492.195935574784, total=   6.4s\n",
      "[CV] svr__gamma=0.8901205151406341, svr__kernel=rbf, svr__C=5492.195935574784 \n",
      "[CV]  svr__gamma=0.8901205151406341, svr__kernel=rbf, svr__C=5492.195935574784, total=   6.7s\n",
      "[CV] svr__gamma=0.8901205151406341, svr__kernel=rbf, svr__C=5492.195935574784 \n",
      "[CV]  svr__gamma=0.8901205151406341, svr__kernel=rbf, svr__C=5492.195935574784, total=   6.4s\n",
      "[CV] svr__gamma=0.8901205151406341, svr__kernel=rbf, svr__C=5492.195935574784 \n",
      "[CV]  svr__gamma=0.8901205151406341, svr__kernel=rbf, svr__C=5492.195935574784, total=   6.6s\n",
      "[CV] svr__gamma=0.8901205151406341, svr__kernel=rbf, svr__C=5492.195935574784 \n",
      "[CV]  svr__gamma=0.8901205151406341, svr__kernel=rbf, svr__C=5492.195935574784, total=   6.3s\n",
      "[CV] svr__gamma=0.2128707022398437, svr__kernel=rbf, svr__C=173096.5541872363 \n",
      "[CV]  svr__gamma=0.2128707022398437, svr__kernel=rbf, svr__C=173096.5541872363, total=   7.2s\n",
      "[CV] svr__gamma=0.2128707022398437, svr__kernel=rbf, svr__C=173096.5541872363 \n",
      "[CV]  svr__gamma=0.2128707022398437, svr__kernel=rbf, svr__C=173096.5541872363, total=   7.2s\n",
      "[CV] svr__gamma=0.2128707022398437, svr__kernel=rbf, svr__C=173096.5541872363 \n",
      "[CV]  svr__gamma=0.2128707022398437, svr__kernel=rbf, svr__C=173096.5541872363, total=   7.1s\n",
      "[CV] svr__gamma=0.2128707022398437, svr__kernel=rbf, svr__C=173096.5541872363 \n",
      "[CV]  svr__gamma=0.2128707022398437, svr__kernel=rbf, svr__C=173096.5541872363, total=   7.2s\n",
      "[CV] svr__gamma=0.2128707022398437, svr__kernel=rbf, svr__C=173096.5541872363 \n",
      "[CV]  svr__gamma=0.2128707022398437, svr__kernel=rbf, svr__C=173096.5541872363, total=   7.3s\n",
      "[CV] svr__gamma=3.2804591966423313, svr__kernel=rbf, svr__C=3081.3614330436535 \n",
      "[CV]  svr__gamma=3.2804591966423313, svr__kernel=rbf, svr__C=3081.3614330436535, total=   6.5s\n",
      "[CV] svr__gamma=3.2804591966423313, svr__kernel=rbf, svr__C=3081.3614330436535 \n",
      "[CV]  svr__gamma=3.2804591966423313, svr__kernel=rbf, svr__C=3081.3614330436535, total=   6.5s\n",
      "[CV] svr__gamma=3.2804591966423313, svr__kernel=rbf, svr__C=3081.3614330436535 \n",
      "[CV]  svr__gamma=3.2804591966423313, svr__kernel=rbf, svr__C=3081.3614330436535, total=   6.5s\n",
      "[CV] svr__gamma=3.2804591966423313, svr__kernel=rbf, svr__C=3081.3614330436535 \n",
      "[CV]  svr__gamma=3.2804591966423313, svr__kernel=rbf, svr__C=3081.3614330436535, total=   6.6s\n",
      "[CV] svr__gamma=3.2804591966423313, svr__kernel=rbf, svr__C=3081.3614330436535 \n",
      "[CV]  svr__gamma=3.2804591966423313, svr__kernel=rbf, svr__C=3081.3614330436535, total=   6.4s\n",
      "[CV] svr__gamma=1.1995047954694258, svr__kernel=linear, svr__C=16859.967603131667 \n",
      "[CV]  svr__gamma=1.1995047954694258, svr__kernel=linear, svr__C=16859.967603131667, total=   5.1s\n",
      "[CV] svr__gamma=1.1995047954694258, svr__kernel=linear, svr__C=16859.967603131667 \n",
      "[CV]  svr__gamma=1.1995047954694258, svr__kernel=linear, svr__C=16859.967603131667, total=   4.8s\n",
      "[CV] svr__gamma=1.1995047954694258, svr__kernel=linear, svr__C=16859.967603131667 \n",
      "[CV]  svr__gamma=1.1995047954694258, svr__kernel=linear, svr__C=16859.967603131667, total=   5.4s\n",
      "[CV] svr__gamma=1.1995047954694258, svr__kernel=linear, svr__C=16859.967603131667 \n",
      "[CV]  svr__gamma=1.1995047954694258, svr__kernel=linear, svr__C=16859.967603131667, total=   5.1s\n",
      "[CV] svr__gamma=1.1995047954694258, svr__kernel=linear, svr__C=16859.967603131667 \n",
      "[CV]  svr__gamma=1.1995047954694258, svr__kernel=linear, svr__C=16859.967603131667, total=   5.2s\n",
      "[CV] svr__gamma=1.1237324496780932, svr__kernel=linear, svr__C=288.37177831564765 \n",
      "[CV]  svr__gamma=1.1237324496780932, svr__kernel=linear, svr__C=288.37177831564765, total=   4.1s\n",
      "[CV] svr__gamma=1.1237324496780932, svr__kernel=linear, svr__C=288.37177831564765 \n",
      "[CV]  svr__gamma=1.1237324496780932, svr__kernel=linear, svr__C=288.37177831564765, total=   4.2s\n",
      "[CV] svr__gamma=1.1237324496780932, svr__kernel=linear, svr__C=288.37177831564765 \n",
      "[CV]  svr__gamma=1.1237324496780932, svr__kernel=linear, svr__C=288.37177831564765, total=   4.2s\n",
      "[CV] svr__gamma=1.1237324496780932, svr__kernel=linear, svr__C=288.37177831564765 \n",
      "[CV]  svr__gamma=1.1237324496780932, svr__kernel=linear, svr__C=288.37177831564765, total=   4.0s\n",
      "[CV] svr__gamma=1.1237324496780932, svr__kernel=linear, svr__C=288.37177831564765 \n",
      "[CV]  svr__gamma=1.1237324496780932, svr__kernel=linear, svr__C=288.37177831564765, total=   4.0s\n",
      "[CV] svr__gamma=0.17031735932404843, svr__kernel=linear, svr__C=5250.677019997323 \n",
      "[CV]  svr__gamma=0.17031735932404843, svr__kernel=linear, svr__C=5250.677019997323, total=   4.5s\n",
      "[CV] svr__gamma=0.17031735932404843, svr__kernel=linear, svr__C=5250.677019997323 \n",
      "[CV]  svr__gamma=0.17031735932404843, svr__kernel=linear, svr__C=5250.677019997323, total=   4.5s\n",
      "[CV] svr__gamma=0.17031735932404843, svr__kernel=linear, svr__C=5250.677019997323 \n",
      "[CV]  svr__gamma=0.17031735932404843, svr__kernel=linear, svr__C=5250.677019997323, total=   4.4s\n",
      "[CV] svr__gamma=0.17031735932404843, svr__kernel=linear, svr__C=5250.677019997323 \n",
      "[CV]  svr__gamma=0.17031735932404843, svr__kernel=linear, svr__C=5250.677019997323, total=   4.5s\n",
      "[CV] svr__gamma=0.17031735932404843, svr__kernel=linear, svr__C=5250.677019997323 \n",
      "[CV]  svr__gamma=0.17031735932404843, svr__kernel=linear, svr__C=5250.677019997323, total=   4.5s\n",
      "[CV] svr__gamma=0.5039086087456016, svr__kernel=linear, svr__C=6203.53329918118 \n",
      "[CV]  svr__gamma=0.5039086087456016, svr__kernel=linear, svr__C=6203.53329918118, total=   4.5s\n",
      "[CV] svr__gamma=0.5039086087456016, svr__kernel=linear, svr__C=6203.53329918118 \n",
      "[CV]  svr__gamma=0.5039086087456016, svr__kernel=linear, svr__C=6203.53329918118, total=   4.6s\n",
      "[CV] svr__gamma=0.5039086087456016, svr__kernel=linear, svr__C=6203.53329918118 \n",
      "[CV]  svr__gamma=0.5039086087456016, svr__kernel=linear, svr__C=6203.53329918118, total=   4.6s\n",
      "[CV] svr__gamma=0.5039086087456016, svr__kernel=linear, svr__C=6203.53329918118 \n",
      "[CV]  svr__gamma=0.5039086087456016, svr__kernel=linear, svr__C=6203.53329918118, total=   4.4s\n",
      "[CV] svr__gamma=0.5039086087456016, svr__kernel=linear, svr__C=6203.53329918118 \n",
      "[CV]  svr__gamma=0.5039086087456016, svr__kernel=linear, svr__C=6203.53329918118, total=   4.5s\n",
      "[CV] svr__gamma=0.16114538509956924, svr__kernel=linear, svr__C=48.66082244485568 \n",
      "[CV]  svr__gamma=0.16114538509956924, svr__kernel=linear, svr__C=48.66082244485568, total=   4.1s\n",
      "[CV] svr__gamma=0.16114538509956924, svr__kernel=linear, svr__C=48.66082244485568 \n",
      "[CV]  svr__gamma=0.16114538509956924, svr__kernel=linear, svr__C=48.66082244485568, total=   4.1s\n",
      "[CV] svr__gamma=0.16114538509956924, svr__kernel=linear, svr__C=48.66082244485568 \n",
      "[CV]  svr__gamma=0.16114538509956924, svr__kernel=linear, svr__C=48.66082244485568, total=   4.3s\n",
      "[CV] svr__gamma=0.16114538509956924, svr__kernel=linear, svr__C=48.66082244485568 \n",
      "[CV]  svr__gamma=0.16114538509956924, svr__kernel=linear, svr__C=48.66082244485568, total=   4.1s\n",
      "[CV] svr__gamma=0.16114538509956924, svr__kernel=linear, svr__C=48.66082244485568 \n",
      "[CV]  svr__gamma=0.16114538509956924, svr__kernel=linear, svr__C=48.66082244485568, total=   4.0s\n",
      "[CV] svr__gamma=2.0138145947310893, svr__kernel=linear, svr__C=504.62960236237416 \n",
      "[CV]  svr__gamma=2.0138145947310893, svr__kernel=linear, svr__C=504.62960236237416, total=   4.1s\n",
      "[CV] svr__gamma=2.0138145947310893, svr__kernel=linear, svr__C=504.62960236237416 \n",
      "[CV]  svr__gamma=2.0138145947310893, svr__kernel=linear, svr__C=504.62960236237416, total=   4.1s\n",
      "[CV] svr__gamma=2.0138145947310893, svr__kernel=linear, svr__C=504.62960236237416 \n"
     ]
    },
    {
     "name": "stdout",
     "output_type": "stream",
     "text": [
      "[CV]  svr__gamma=2.0138145947310893, svr__kernel=linear, svr__C=504.62960236237416, total=   4.1s\n",
      "[CV] svr__gamma=2.0138145947310893, svr__kernel=linear, svr__C=504.62960236237416 \n",
      "[CV]  svr__gamma=2.0138145947310893, svr__kernel=linear, svr__C=504.62960236237416, total=   4.2s\n",
      "[CV] svr__gamma=2.0138145947310893, svr__kernel=linear, svr__C=504.62960236237416 \n",
      "[CV]  svr__gamma=2.0138145947310893, svr__kernel=linear, svr__C=504.62960236237416, total=   4.0s\n",
      "[CV] svr__gamma=4.288269105212363, svr__kernel=rbf, svr__C=77175.71468030468 \n",
      "[CV]  svr__gamma=4.288269105212363, svr__kernel=rbf, svr__C=77175.71468030468, total=   9.0s\n",
      "[CV] svr__gamma=4.288269105212363, svr__kernel=rbf, svr__C=77175.71468030468 \n",
      "[CV]  svr__gamma=4.288269105212363, svr__kernel=rbf, svr__C=77175.71468030468, total=   9.1s\n",
      "[CV] svr__gamma=4.288269105212363, svr__kernel=rbf, svr__C=77175.71468030468 \n",
      "[CV]  svr__gamma=4.288269105212363, svr__kernel=rbf, svr__C=77175.71468030468, total=   9.1s\n",
      "[CV] svr__gamma=4.288269105212363, svr__kernel=rbf, svr__C=77175.71468030468 \n",
      "[CV]  svr__gamma=4.288269105212363, svr__kernel=rbf, svr__C=77175.71468030468, total=  10.0s\n",
      "[CV] svr__gamma=4.288269105212363, svr__kernel=rbf, svr__C=77175.71468030468 \n",
      "[CV]  svr__gamma=4.288269105212363, svr__kernel=rbf, svr__C=77175.71468030468, total=  10.2s\n",
      "[CV] svr__gamma=1.006971290661737, svr__kernel=linear, svr__C=985.9543496065787 \n",
      "[CV]  svr__gamma=1.006971290661737, svr__kernel=linear, svr__C=985.9543496065787, total=   4.1s\n",
      "[CV] svr__gamma=1.006971290661737, svr__kernel=linear, svr__C=985.9543496065787 \n",
      "[CV]  svr__gamma=1.006971290661737, svr__kernel=linear, svr__C=985.9543496065787, total=   4.1s\n",
      "[CV] svr__gamma=1.006971290661737, svr__kernel=linear, svr__C=985.9543496065787 \n",
      "[CV]  svr__gamma=1.006971290661737, svr__kernel=linear, svr__C=985.9543496065787, total=   4.2s\n",
      "[CV] svr__gamma=1.006971290661737, svr__kernel=linear, svr__C=985.9543496065787 \n",
      "[CV]  svr__gamma=1.006971290661737, svr__kernel=linear, svr__C=985.9543496065787, total=   4.1s\n",
      "[CV] svr__gamma=1.006971290661737, svr__kernel=linear, svr__C=985.9543496065787 \n",
      "[CV]  svr__gamma=1.006971290661737, svr__kernel=linear, svr__C=985.9543496065787, total=   4.1s\n",
      "[CV] svr__gamma=1.2127900013496973, svr__kernel=linear, svr__C=126.5136117935389 \n",
      "[CV]  svr__gamma=1.2127900013496973, svr__kernel=linear, svr__C=126.5136117935389, total=   4.0s\n",
      "[CV] svr__gamma=1.2127900013496973, svr__kernel=linear, svr__C=126.5136117935389 \n",
      "[CV]  svr__gamma=1.2127900013496973, svr__kernel=linear, svr__C=126.5136117935389, total=   4.1s\n",
      "[CV] svr__gamma=1.2127900013496973, svr__kernel=linear, svr__C=126.5136117935389 \n",
      "[CV]  svr__gamma=1.2127900013496973, svr__kernel=linear, svr__C=126.5136117935389, total=   4.2s\n",
      "[CV] svr__gamma=1.2127900013496973, svr__kernel=linear, svr__C=126.5136117935389 \n",
      "[CV]  svr__gamma=1.2127900013496973, svr__kernel=linear, svr__C=126.5136117935389, total=   4.2s\n",
      "[CV] svr__gamma=1.2127900013496973, svr__kernel=linear, svr__C=126.5136117935389 \n",
      "[CV]  svr__gamma=1.2127900013496973, svr__kernel=linear, svr__C=126.5136117935389, total=   4.1s\n",
      "[CV] svr__gamma=0.18853051871167614, svr__kernel=linear, svr__C=86988.0892951312 \n",
      "[CV]  svr__gamma=0.18853051871167614, svr__kernel=linear, svr__C=86988.0892951312, total=   8.1s\n",
      "[CV] svr__gamma=0.18853051871167614, svr__kernel=linear, svr__C=86988.0892951312 \n",
      "[CV]  svr__gamma=0.18853051871167614, svr__kernel=linear, svr__C=86988.0892951312, total=   7.8s\n",
      "[CV] svr__gamma=0.18853051871167614, svr__kernel=linear, svr__C=86988.0892951312 \n",
      "[CV]  svr__gamma=0.18853051871167614, svr__kernel=linear, svr__C=86988.0892951312, total=   8.0s\n",
      "[CV] svr__gamma=0.18853051871167614, svr__kernel=linear, svr__C=86988.0892951312 \n",
      "[CV]  svr__gamma=0.18853051871167614, svr__kernel=linear, svr__C=86988.0892951312, total=   7.7s\n",
      "[CV] svr__gamma=0.18853051871167614, svr__kernel=linear, svr__C=86988.0892951312 \n",
      "[CV]  svr__gamma=0.18853051871167614, svr__kernel=linear, svr__C=86988.0892951312, total=   7.9s\n",
      "[CV] svr__gamma=0.04958227264096838, svr__kernel=rbf, svr__C=1555.0010659501586 \n",
      "[CV]  svr__gamma=0.04958227264096838, svr__kernel=rbf, svr__C=1555.0010659501586, total=   6.7s\n",
      "[CV] svr__gamma=0.04958227264096838, svr__kernel=rbf, svr__C=1555.0010659501586 \n",
      "[CV]  svr__gamma=0.04958227264096838, svr__kernel=rbf, svr__C=1555.0010659501586, total=   6.6s\n",
      "[CV] svr__gamma=0.04958227264096838, svr__kernel=rbf, svr__C=1555.0010659501586 \n",
      "[CV]  svr__gamma=0.04958227264096838, svr__kernel=rbf, svr__C=1555.0010659501586, total=   6.8s\n",
      "[CV] svr__gamma=0.04958227264096838, svr__kernel=rbf, svr__C=1555.0010659501586 \n",
      "[CV]  svr__gamma=0.04958227264096838, svr__kernel=rbf, svr__C=1555.0010659501586, total=   6.5s\n",
      "[CV] svr__gamma=0.04958227264096838, svr__kernel=rbf, svr__C=1555.0010659501586 \n",
      "[CV]  svr__gamma=0.04958227264096838, svr__kernel=rbf, svr__C=1555.0010659501586, total=   6.7s\n",
      "[CV] svr__gamma=0.18054646317983644, svr__kernel=rbf, svr__C=34406.34323794028 \n",
      "[CV]  svr__gamma=0.18054646317983644, svr__kernel=rbf, svr__C=34406.34323794028, total=   6.8s\n",
      "[CV] svr__gamma=0.18054646317983644, svr__kernel=rbf, svr__C=34406.34323794028 \n",
      "[CV]  svr__gamma=0.18054646317983644, svr__kernel=rbf, svr__C=34406.34323794028, total=   6.4s\n",
      "[CV] svr__gamma=0.18054646317983644, svr__kernel=rbf, svr__C=34406.34323794028 \n",
      "[CV]  svr__gamma=0.18054646317983644, svr__kernel=rbf, svr__C=34406.34323794028, total=   6.8s\n",
      "[CV] svr__gamma=0.18054646317983644, svr__kernel=rbf, svr__C=34406.34323794028 \n",
      "[CV]  svr__gamma=0.18054646317983644, svr__kernel=rbf, svr__C=34406.34323794028, total=   6.5s\n",
      "[CV] svr__gamma=0.18054646317983644, svr__kernel=rbf, svr__C=34406.34323794028 \n",
      "[CV]  svr__gamma=0.18054646317983644, svr__kernel=rbf, svr__C=34406.34323794028, total=   6.7s\n",
      "[CV] svr__gamma=1.0164245313586644, svr__kernel=rbf, svr__C=1118.662135573385 \n",
      "[CV]  svr__gamma=1.0164245313586644, svr__kernel=rbf, svr__C=1118.662135573385, total=   6.5s\n",
      "[CV] svr__gamma=1.0164245313586644, svr__kernel=rbf, svr__C=1118.662135573385 \n",
      "[CV]  svr__gamma=1.0164245313586644, svr__kernel=rbf, svr__C=1118.662135573385, total=   6.6s\n",
      "[CV] svr__gamma=1.0164245313586644, svr__kernel=rbf, svr__C=1118.662135573385 \n",
      "[CV]  svr__gamma=1.0164245313586644, svr__kernel=rbf, svr__C=1118.662135573385, total=   6.6s\n",
      "[CV] svr__gamma=1.0164245313586644, svr__kernel=rbf, svr__C=1118.662135573385 \n",
      "[CV]  svr__gamma=1.0164245313586644, svr__kernel=rbf, svr__C=1118.662135573385, total=   6.4s\n",
      "[CV] svr__gamma=1.0164245313586644, svr__kernel=rbf, svr__C=1118.662135573385 \n",
      "[CV]  svr__gamma=1.0164245313586644, svr__kernel=rbf, svr__C=1118.662135573385, total=   6.5s\n",
      "[CV] svr__gamma=0.34110423808377344, svr__kernel=rbf, svr__C=1008.2312890358983 \n",
      "[CV]  svr__gamma=0.34110423808377344, svr__kernel=rbf, svr__C=1008.2312890358983, total=   6.7s\n",
      "[CV] svr__gamma=0.34110423808377344, svr__kernel=rbf, svr__C=1008.2312890358983 \n",
      "[CV]  svr__gamma=0.34110423808377344, svr__kernel=rbf, svr__C=1008.2312890358983, total=   6.6s\n",
      "[CV] svr__gamma=0.34110423808377344, svr__kernel=rbf, svr__C=1008.2312890358983 \n",
      "[CV]  svr__gamma=0.34110423808377344, svr__kernel=rbf, svr__C=1008.2312890358983, total=   6.6s\n",
      "[CV] svr__gamma=0.34110423808377344, svr__kernel=rbf, svr__C=1008.2312890358983 \n",
      "[CV]  svr__gamma=0.34110423808377344, svr__kernel=rbf, svr__C=1008.2312890358983, total=   6.4s\n",
      "[CV] svr__gamma=0.34110423808377344, svr__kernel=rbf, svr__C=1008.2312890358983 \n",
      "[CV]  svr__gamma=0.34110423808377344, svr__kernel=rbf, svr__C=1008.2312890358983, total=   6.7s\n",
      "[CV] svr__gamma=0.8907130943453186, svr__kernel=linear, svr__C=174908.5027645921 \n",
      "[CV]  svr__gamma=0.8907130943453186, svr__kernel=linear, svr__C=174908.5027645921, total=  10.8s\n",
      "[CV] svr__gamma=0.8907130943453186, svr__kernel=linear, svr__C=174908.5027645921 \n",
      "[CV]  svr__gamma=0.8907130943453186, svr__kernel=linear, svr__C=174908.5027645921, total=  10.2s\n",
      "[CV] svr__gamma=0.8907130943453186, svr__kernel=linear, svr__C=174908.5027645921 \n",
      "[CV]  svr__gamma=0.8907130943453186, svr__kernel=linear, svr__C=174908.5027645921, total=  10.7s\n",
      "[CV] svr__gamma=0.8907130943453186, svr__kernel=linear, svr__C=174908.5027645921 \n",
      "[CV]  svr__gamma=0.8907130943453186, svr__kernel=linear, svr__C=174908.5027645921, total=  10.9s\n",
      "[CV] svr__gamma=0.8907130943453186, svr__kernel=linear, svr__C=174908.5027645921 \n"
     ]
    },
    {
     "name": "stdout",
     "output_type": "stream",
     "text": [
      "[CV]  svr__gamma=0.8907130943453186, svr__kernel=linear, svr__C=174908.5027645921, total=  10.9s\n",
      "[CV] svr__gamma=4.903124336417172, svr__kernel=linear, svr__C=56504.27811493766 \n",
      "[CV]  svr__gamma=4.903124336417172, svr__kernel=linear, svr__C=56504.27811493766, total=   6.7s\n",
      "[CV] svr__gamma=4.903124336417172, svr__kernel=linear, svr__C=56504.27811493766 \n",
      "[CV]  svr__gamma=4.903124336417172, svr__kernel=linear, svr__C=56504.27811493766, total=   6.9s\n",
      "[CV] svr__gamma=4.903124336417172, svr__kernel=linear, svr__C=56504.27811493766 \n",
      "[CV]  svr__gamma=4.903124336417172, svr__kernel=linear, svr__C=56504.27811493766, total=   6.6s\n",
      "[CV] svr__gamma=4.903124336417172, svr__kernel=linear, svr__C=56504.27811493766 \n",
      "[CV]  svr__gamma=4.903124336417172, svr__kernel=linear, svr__C=56504.27811493766, total=   7.1s\n",
      "[CV] svr__gamma=4.903124336417172, svr__kernel=linear, svr__C=56504.27811493766 \n",
      "[CV]  svr__gamma=4.903124336417172, svr__kernel=linear, svr__C=56504.27811493766, total=   6.8s\n",
      "[CV] svr__gamma=1.8801278423649053, svr__kernel=linear, svr__C=5954.501971482231 \n",
      "[CV]  svr__gamma=1.8801278423649053, svr__kernel=linear, svr__C=5954.501971482231, total=   4.5s\n",
      "[CV] svr__gamma=1.8801278423649053, svr__kernel=linear, svr__C=5954.501971482231 \n",
      "[CV]  svr__gamma=1.8801278423649053, svr__kernel=linear, svr__C=5954.501971482231, total=   4.6s\n",
      "[CV] svr__gamma=1.8801278423649053, svr__kernel=linear, svr__C=5954.501971482231 \n",
      "[CV]  svr__gamma=1.8801278423649053, svr__kernel=linear, svr__C=5954.501971482231, total=   4.5s\n",
      "[CV] svr__gamma=1.8801278423649053, svr__kernel=linear, svr__C=5954.501971482231 \n",
      "[CV]  svr__gamma=1.8801278423649053, svr__kernel=linear, svr__C=5954.501971482231, total=   4.6s\n",
      "[CV] svr__gamma=1.8801278423649053, svr__kernel=linear, svr__C=5954.501971482231 \n",
      "[CV]  svr__gamma=1.8801278423649053, svr__kernel=linear, svr__C=5954.501971482231, total=   4.4s\n",
      "[CV] svr__gamma=0.7073504677767757, svr__kernel=rbf, svr__C=24217.60861793381 \n",
      "[CV]  svr__gamma=0.7073504677767757, svr__kernel=rbf, svr__C=24217.60861793381, total=   6.6s\n",
      "[CV] svr__gamma=0.7073504677767757, svr__kernel=rbf, svr__C=24217.60861793381 \n",
      "[CV]  svr__gamma=0.7073504677767757, svr__kernel=rbf, svr__C=24217.60861793381, total=   6.5s\n",
      "[CV] svr__gamma=0.7073504677767757, svr__kernel=rbf, svr__C=24217.60861793381 \n",
      "[CV]  svr__gamma=0.7073504677767757, svr__kernel=rbf, svr__C=24217.60861793381, total=   6.7s\n",
      "[CV] svr__gamma=0.7073504677767757, svr__kernel=rbf, svr__C=24217.60861793381 \n",
      "[CV]  svr__gamma=0.7073504677767757, svr__kernel=rbf, svr__C=24217.60861793381, total=   6.5s\n",
      "[CV] svr__gamma=0.7073504677767757, svr__kernel=rbf, svr__C=24217.60861793381 \n",
      "[CV]  svr__gamma=0.7073504677767757, svr__kernel=rbf, svr__C=24217.60861793381, total=   6.6s\n",
      "[CV] svr__gamma=0.056159947972049415, svr__kernel=linear, svr__C=317.7225422354335 \n",
      "[CV]  svr__gamma=0.056159947972049415, svr__kernel=linear, svr__C=317.7225422354335, total=   4.1s\n",
      "[CV] svr__gamma=0.056159947972049415, svr__kernel=linear, svr__C=317.7225422354335 \n",
      "[CV]  svr__gamma=0.056159947972049415, svr__kernel=linear, svr__C=317.7225422354335, total=   4.2s\n",
      "[CV] svr__gamma=0.056159947972049415, svr__kernel=linear, svr__C=317.7225422354335 \n",
      "[CV]  svr__gamma=0.056159947972049415, svr__kernel=linear, svr__C=317.7225422354335, total=   4.1s\n",
      "[CV] svr__gamma=0.056159947972049415, svr__kernel=linear, svr__C=317.7225422354335 \n",
      "[CV]  svr__gamma=0.056159947972049415, svr__kernel=linear, svr__C=317.7225422354335, total=   4.1s\n",
      "[CV] svr__gamma=0.056159947972049415, svr__kernel=linear, svr__C=317.7225422354335 \n",
      "[CV]  svr__gamma=0.056159947972049415, svr__kernel=linear, svr__C=317.7225422354335, total=   4.1s\n",
      "[CV] svr__gamma=1.3400328998616986, svr__kernel=rbf, svr__C=79.47386403384984 \n",
      "[CV]  svr__gamma=1.3400328998616986, svr__kernel=rbf, svr__C=79.47386403384984, total=   6.8s\n",
      "[CV] svr__gamma=1.3400328998616986, svr__kernel=rbf, svr__C=79.47386403384984 \n",
      "[CV]  svr__gamma=1.3400328998616986, svr__kernel=rbf, svr__C=79.47386403384984, total=   6.9s\n",
      "[CV] svr__gamma=1.3400328998616986, svr__kernel=rbf, svr__C=79.47386403384984 \n",
      "[CV]  svr__gamma=1.3400328998616986, svr__kernel=rbf, svr__C=79.47386403384984, total=   6.8s\n",
      "[CV] svr__gamma=1.3400328998616986, svr__kernel=rbf, svr__C=79.47386403384984 \n",
      "[CV]  svr__gamma=1.3400328998616986, svr__kernel=rbf, svr__C=79.47386403384984, total=   6.8s\n",
      "[CV] svr__gamma=1.3400328998616986, svr__kernel=rbf, svr__C=79.47386403384984 \n",
      "[CV]  svr__gamma=1.3400328998616986, svr__kernel=rbf, svr__C=79.47386403384984, total=   6.8s\n",
      "[CV] svr__gamma=0.1921505979461114, svr__kernel=linear, svr__C=3439.503965923341 \n",
      "[CV]  svr__gamma=0.1921505979461114, svr__kernel=linear, svr__C=3439.503965923341, total=   4.4s\n",
      "[CV] svr__gamma=0.1921505979461114, svr__kernel=linear, svr__C=3439.503965923341 \n",
      "[CV]  svr__gamma=0.1921505979461114, svr__kernel=linear, svr__C=3439.503965923341, total=   4.3s\n",
      "[CV] svr__gamma=0.1921505979461114, svr__kernel=linear, svr__C=3439.503965923341 \n",
      "[CV]  svr__gamma=0.1921505979461114, svr__kernel=linear, svr__C=3439.503965923341, total=   4.5s\n",
      "[CV] svr__gamma=0.1921505979461114, svr__kernel=linear, svr__C=3439.503965923341 \n",
      "[CV]  svr__gamma=0.1921505979461114, svr__kernel=linear, svr__C=3439.503965923341, total=   4.3s\n",
      "[CV] svr__gamma=0.1921505979461114, svr__kernel=linear, svr__C=3439.503965923341 \n",
      "[CV]  svr__gamma=0.1921505979461114, svr__kernel=linear, svr__C=3439.503965923341, total=   4.3s\n",
      "[CV] svr__gamma=0.8778117750174099, svr__kernel=rbf, svr__C=1079.2038433019286 \n",
      "[CV]  svr__gamma=0.8778117750174099, svr__kernel=rbf, svr__C=1079.2038433019286, total=   6.6s\n",
      "[CV] svr__gamma=0.8778117750174099, svr__kernel=rbf, svr__C=1079.2038433019286 \n",
      "[CV]  svr__gamma=0.8778117750174099, svr__kernel=rbf, svr__C=1079.2038433019286, total=   6.5s\n",
      "[CV] svr__gamma=0.8778117750174099, svr__kernel=rbf, svr__C=1079.2038433019286 \n",
      "[CV]  svr__gamma=0.8778117750174099, svr__kernel=rbf, svr__C=1079.2038433019286, total=   6.5s\n",
      "[CV] svr__gamma=0.8778117750174099, svr__kernel=rbf, svr__C=1079.2038433019286 \n",
      "[CV]  svr__gamma=0.8778117750174099, svr__kernel=rbf, svr__C=1079.2038433019286, total=   6.6s\n",
      "[CV] svr__gamma=0.8778117750174099, svr__kernel=rbf, svr__C=1079.2038433019286 \n",
      "[CV]  svr__gamma=0.8778117750174099, svr__kernel=rbf, svr__C=1079.2038433019286, total=   6.6s\n",
      "[CV] svr__gamma=2.8913444694294212, svr__kernel=rbf, svr__C=258.40920381879005 \n",
      "[CV]  svr__gamma=2.8913444694294212, svr__kernel=rbf, svr__C=258.40920381879005, total=   6.8s\n",
      "[CV] svr__gamma=2.8913444694294212, svr__kernel=rbf, svr__C=258.40920381879005 \n",
      "[CV]  svr__gamma=2.8913444694294212, svr__kernel=rbf, svr__C=258.40920381879005, total=   6.8s\n",
      "[CV] svr__gamma=2.8913444694294212, svr__kernel=rbf, svr__C=258.40920381879005 \n",
      "[CV]  svr__gamma=2.8913444694294212, svr__kernel=rbf, svr__C=258.40920381879005, total=   6.7s\n",
      "[CV] svr__gamma=2.8913444694294212, svr__kernel=rbf, svr__C=258.40920381879005 \n",
      "[CV]  svr__gamma=2.8913444694294212, svr__kernel=rbf, svr__C=258.40920381879005, total=   6.9s\n",
      "[CV] svr__gamma=2.8913444694294212, svr__kernel=rbf, svr__C=258.40920381879005 \n",
      "[CV]  svr__gamma=2.8913444694294212, svr__kernel=rbf, svr__C=258.40920381879005, total=   6.7s\n",
      "[CV] svr__gamma=0.422507041611078, svr__kernel=linear, svr__C=150.3024705040045 \n",
      "[CV]  svr__gamma=0.422507041611078, svr__kernel=linear, svr__C=150.3024705040045, total=   4.2s\n",
      "[CV] svr__gamma=0.422507041611078, svr__kernel=linear, svr__C=150.3024705040045 \n",
      "[CV]  svr__gamma=0.422507041611078, svr__kernel=linear, svr__C=150.3024705040045, total=   3.9s\n",
      "[CV] svr__gamma=0.422507041611078, svr__kernel=linear, svr__C=150.3024705040045 \n",
      "[CV]  svr__gamma=0.422507041611078, svr__kernel=linear, svr__C=150.3024705040045, total=   4.1s\n",
      "[CV] svr__gamma=0.422507041611078, svr__kernel=linear, svr__C=150.3024705040045 \n",
      "[CV]  svr__gamma=0.422507041611078, svr__kernel=linear, svr__C=150.3024705040045, total=   4.1s\n",
      "[CV] svr__gamma=0.422507041611078, svr__kernel=linear, svr__C=150.3024705040045 \n",
      "[CV]  svr__gamma=0.422507041611078, svr__kernel=linear, svr__C=150.3024705040045, total=   4.1s\n",
      "[CV] svr__gamma=0.19244802492060917, svr__kernel=linear, svr__C=87861.83672792182 \n",
      "[CV]  svr__gamma=0.19244802492060917, svr__kernel=linear, svr__C=87861.83672792182, total=   8.1s\n",
      "[CV] svr__gamma=0.19244802492060917, svr__kernel=linear, svr__C=87861.83672792182 \n"
     ]
    },
    {
     "name": "stdout",
     "output_type": "stream",
     "text": [
      "[CV]  svr__gamma=0.19244802492060917, svr__kernel=linear, svr__C=87861.83672792182, total=   8.0s\n",
      "[CV] svr__gamma=0.19244802492060917, svr__kernel=linear, svr__C=87861.83672792182 \n",
      "[CV]  svr__gamma=0.19244802492060917, svr__kernel=linear, svr__C=87861.83672792182, total=   8.0s\n",
      "[CV] svr__gamma=0.19244802492060917, svr__kernel=linear, svr__C=87861.83672792182 \n",
      "[CV]  svr__gamma=0.19244802492060917, svr__kernel=linear, svr__C=87861.83672792182, total=   7.6s\n",
      "[CV] svr__gamma=0.19244802492060917, svr__kernel=linear, svr__C=87861.83672792182 \n",
      "[CV]  svr__gamma=0.19244802492060917, svr__kernel=linear, svr__C=87861.83672792182, total=   8.2s\n",
      "[CV] svr__gamma=1.079706511009551, svr__kernel=linear, svr__C=54.74786576328267 \n",
      "[CV]  svr__gamma=1.079706511009551, svr__kernel=linear, svr__C=54.74786576328267, total=   4.0s\n",
      "[CV] svr__gamma=1.079706511009551, svr__kernel=linear, svr__C=54.74786576328267 \n",
      "[CV]  svr__gamma=1.079706511009551, svr__kernel=linear, svr__C=54.74786576328267, total=   4.1s\n",
      "[CV] svr__gamma=1.079706511009551, svr__kernel=linear, svr__C=54.74786576328267 \n",
      "[CV]  svr__gamma=1.079706511009551, svr__kernel=linear, svr__C=54.74786576328267, total=   4.2s\n",
      "[CV] svr__gamma=1.079706511009551, svr__kernel=linear, svr__C=54.74786576328267 \n",
      "[CV]  svr__gamma=1.079706511009551, svr__kernel=linear, svr__C=54.74786576328267, total=   4.2s\n",
      "[CV] svr__gamma=1.079706511009551, svr__kernel=linear, svr__C=54.74786576328267 \n",
      "[CV]  svr__gamma=1.079706511009551, svr__kernel=linear, svr__C=54.74786576328267, total=   4.3s\n",
      "[CV] svr__gamma=0.8219171023587242, svr__kernel=linear, svr__C=30.52354320731699 \n",
      "[CV]  svr__gamma=0.8219171023587242, svr__kernel=linear, svr__C=30.52354320731699, total=   4.2s\n",
      "[CV] svr__gamma=0.8219171023587242, svr__kernel=linear, svr__C=30.52354320731699 \n",
      "[CV]  svr__gamma=0.8219171023587242, svr__kernel=linear, svr__C=30.52354320731699, total=   4.3s\n",
      "[CV] svr__gamma=0.8219171023587242, svr__kernel=linear, svr__C=30.52354320731699 \n",
      "[CV]  svr__gamma=0.8219171023587242, svr__kernel=linear, svr__C=30.52354320731699, total=   4.3s\n",
      "[CV] svr__gamma=0.8219171023587242, svr__kernel=linear, svr__C=30.52354320731699 \n",
      "[CV]  svr__gamma=0.8219171023587242, svr__kernel=linear, svr__C=30.52354320731699, total=   4.2s\n",
      "[CV] svr__gamma=0.8219171023587242, svr__kernel=linear, svr__C=30.52354320731699 \n",
      "[CV]  svr__gamma=0.8219171023587242, svr__kernel=linear, svr__C=30.52354320731699, total=   4.1s\n",
      "[CV] svr__gamma=1.6469890721215905, svr__kernel=rbf, svr__C=383.8550947513057 \n",
      "[CV]  svr__gamma=1.6469890721215905, svr__kernel=rbf, svr__C=383.8550947513057, total=   6.5s\n",
      "[CV] svr__gamma=1.6469890721215905, svr__kernel=rbf, svr__C=383.8550947513057 \n",
      "[CV]  svr__gamma=1.6469890721215905, svr__kernel=rbf, svr__C=383.8550947513057, total=   6.7s\n",
      "[CV] svr__gamma=1.6469890721215905, svr__kernel=rbf, svr__C=383.8550947513057 \n",
      "[CV]  svr__gamma=1.6469890721215905, svr__kernel=rbf, svr__C=383.8550947513057, total=   6.6s\n",
      "[CV] svr__gamma=1.6469890721215905, svr__kernel=rbf, svr__C=383.8550947513057 \n",
      "[CV]  svr__gamma=1.6469890721215905, svr__kernel=rbf, svr__C=383.8550947513057, total=   6.7s\n",
      "[CV] svr__gamma=1.6469890721215905, svr__kernel=rbf, svr__C=383.8550947513057 \n",
      "[CV]  svr__gamma=1.6469890721215905, svr__kernel=rbf, svr__C=383.8550947513057, total=   6.5s\n",
      "[CV] svr__gamma=0.1734176086928444, svr__kernel=linear, svr__C=425.1701160476722 \n",
      "[CV]  svr__gamma=0.1734176086928444, svr__kernel=linear, svr__C=425.1701160476722, total=   4.3s\n",
      "[CV] svr__gamma=0.1734176086928444, svr__kernel=linear, svr__C=425.1701160476722 \n",
      "[CV]  svr__gamma=0.1734176086928444, svr__kernel=linear, svr__C=425.1701160476722, total=   4.5s\n",
      "[CV] svr__gamma=0.1734176086928444, svr__kernel=linear, svr__C=425.1701160476722 \n",
      "[CV]  svr__gamma=0.1734176086928444, svr__kernel=linear, svr__C=425.1701160476722, total=   4.0s\n",
      "[CV] svr__gamma=0.1734176086928444, svr__kernel=linear, svr__C=425.1701160476722 \n",
      "[CV]  svr__gamma=0.1734176086928444, svr__kernel=linear, svr__C=425.1701160476722, total=   4.2s\n",
      "[CV] svr__gamma=0.1734176086928444, svr__kernel=linear, svr__C=425.1701160476722 \n",
      "[CV]  svr__gamma=0.1734176086928444, svr__kernel=linear, svr__C=425.1701160476722, total=   4.0s\n",
      "[CV] svr__gamma=0.003125778536848717, svr__kernel=rbf, svr__C=2662.1612911765374 \n",
      "[CV]  svr__gamma=0.003125778536848717, svr__kernel=rbf, svr__C=2662.1612911765374, total=   7.2s\n",
      "[CV] svr__gamma=0.003125778536848717, svr__kernel=rbf, svr__C=2662.1612911765374 \n",
      "[CV]  svr__gamma=0.003125778536848717, svr__kernel=rbf, svr__C=2662.1612911765374, total=   7.1s\n",
      "[CV] svr__gamma=0.003125778536848717, svr__kernel=rbf, svr__C=2662.1612911765374 \n",
      "[CV]  svr__gamma=0.003125778536848717, svr__kernel=rbf, svr__C=2662.1612911765374, total=   7.1s\n",
      "[CV] svr__gamma=0.003125778536848717, svr__kernel=rbf, svr__C=2662.1612911765374 \n",
      "[CV]  svr__gamma=0.003125778536848717, svr__kernel=rbf, svr__C=2662.1612911765374, total=   7.0s\n",
      "[CV] svr__gamma=0.003125778536848717, svr__kernel=rbf, svr__C=2662.1612911765374 \n",
      "[CV]  svr__gamma=0.003125778536848717, svr__kernel=rbf, svr__C=2662.1612911765374, total=   6.8s\n",
      "[CV] svr__gamma=1.4217798141474085, svr__kernel=linear, svr__C=17187.905875564295 \n",
      "[CV]  svr__gamma=1.4217798141474085, svr__kernel=linear, svr__C=17187.905875564295, total=   5.0s\n",
      "[CV] svr__gamma=1.4217798141474085, svr__kernel=linear, svr__C=17187.905875564295 \n",
      "[CV]  svr__gamma=1.4217798141474085, svr__kernel=linear, svr__C=17187.905875564295, total=   5.1s\n",
      "[CV] svr__gamma=1.4217798141474085, svr__kernel=linear, svr__C=17187.905875564295 \n",
      "[CV]  svr__gamma=1.4217798141474085, svr__kernel=linear, svr__C=17187.905875564295, total=   5.1s\n",
      "[CV] svr__gamma=1.4217798141474085, svr__kernel=linear, svr__C=17187.905875564295 \n",
      "[CV]  svr__gamma=1.4217798141474085, svr__kernel=linear, svr__C=17187.905875564295, total=   4.9s\n",
      "[CV] svr__gamma=1.4217798141474085, svr__kernel=linear, svr__C=17187.905875564295 \n",
      "[CV]  svr__gamma=1.4217798141474085, svr__kernel=linear, svr__C=17187.905875564295, total=   5.4s\n",
      "[CV] svr__gamma=2.1050646680508454, svr__kernel=linear, svr__C=192806.27128891705 \n",
      "[CV]  svr__gamma=2.1050646680508454, svr__kernel=linear, svr__C=192806.27128891705, total=  11.7s\n",
      "[CV] svr__gamma=2.1050646680508454, svr__kernel=linear, svr__C=192806.27128891705 \n",
      "[CV]  svr__gamma=2.1050646680508454, svr__kernel=linear, svr__C=192806.27128891705, total=  11.0s\n",
      "[CV] svr__gamma=2.1050646680508454, svr__kernel=linear, svr__C=192806.27128891705 \n",
      "[CV]  svr__gamma=2.1050646680508454, svr__kernel=linear, svr__C=192806.27128891705, total=  11.3s\n",
      "[CV] svr__gamma=2.1050646680508454, svr__kernel=linear, svr__C=192806.27128891705 \n",
      "[CV]  svr__gamma=2.1050646680508454, svr__kernel=linear, svr__C=192806.27128891705, total=  10.9s\n",
      "[CV] svr__gamma=2.1050646680508454, svr__kernel=linear, svr__C=192806.27128891705 \n",
      "[CV]  svr__gamma=2.1050646680508454, svr__kernel=linear, svr__C=192806.27128891705, total=  12.0s\n",
      "[CV] svr__gamma=1.5235096053112678, svr__kernel=rbf, svr__C=12027.523054088713 \n",
      "[CV]  svr__gamma=1.5235096053112678, svr__kernel=rbf, svr__C=12027.523054088713, total=   6.5s\n",
      "[CV] svr__gamma=1.5235096053112678, svr__kernel=rbf, svr__C=12027.523054088713 \n",
      "[CV]  svr__gamma=1.5235096053112678, svr__kernel=rbf, svr__C=12027.523054088713, total=   6.5s\n",
      "[CV] svr__gamma=1.5235096053112678, svr__kernel=rbf, svr__C=12027.523054088713 \n",
      "[CV]  svr__gamma=1.5235096053112678, svr__kernel=rbf, svr__C=12027.523054088713, total=   6.6s\n",
      "[CV] svr__gamma=1.5235096053112678, svr__kernel=rbf, svr__C=12027.523054088713 \n",
      "[CV]  svr__gamma=1.5235096053112678, svr__kernel=rbf, svr__C=12027.523054088713, total=   6.6s\n",
      "[CV] svr__gamma=1.5235096053112678, svr__kernel=rbf, svr__C=12027.523054088713 \n",
      "[CV]  svr__gamma=1.5235096053112678, svr__kernel=rbf, svr__C=12027.523054088713, total=   6.4s\n",
      "[CV] svr__gamma=3.898990582979487, svr__kernel=rbf, svr__C=10974.283458687525 \n",
      "[CV]  svr__gamma=3.898990582979487, svr__kernel=rbf, svr__C=10974.283458687525, total=   6.8s\n",
      "[CV] svr__gamma=3.898990582979487, svr__kernel=rbf, svr__C=10974.283458687525 \n",
      "[CV]  svr__gamma=3.898990582979487, svr__kernel=rbf, svr__C=10974.283458687525, total=   6.9s\n",
      "[CV] svr__gamma=3.898990582979487, svr__kernel=rbf, svr__C=10974.283458687525 \n",
      "[CV]  svr__gamma=3.898990582979487, svr__kernel=rbf, svr__C=10974.283458687525, total=   7.0s\n",
      "[CV] svr__gamma=3.898990582979487, svr__kernel=rbf, svr__C=10974.283458687525 \n"
     ]
    },
    {
     "name": "stdout",
     "output_type": "stream",
     "text": [
      "[CV]  svr__gamma=3.898990582979487, svr__kernel=rbf, svr__C=10974.283458687525, total=   6.9s\n",
      "[CV] svr__gamma=3.898990582979487, svr__kernel=rbf, svr__C=10974.283458687525 \n",
      "[CV]  svr__gamma=3.898990582979487, svr__kernel=rbf, svr__C=10974.283458687525, total=   6.8s\n",
      "[CV] svr__gamma=2.1717484182350115, svr__kernel=rbf, svr__C=504.5626949008123 \n",
      "[CV]  svr__gamma=2.1717484182350115, svr__kernel=rbf, svr__C=504.5626949008123, total=   6.7s\n",
      "[CV] svr__gamma=2.1717484182350115, svr__kernel=rbf, svr__C=504.5626949008123 \n",
      "[CV]  svr__gamma=2.1717484182350115, svr__kernel=rbf, svr__C=504.5626949008123, total=   6.7s\n",
      "[CV] svr__gamma=2.1717484182350115, svr__kernel=rbf, svr__C=504.5626949008123 \n",
      "[CV]  svr__gamma=2.1717484182350115, svr__kernel=rbf, svr__C=504.5626949008123, total=   6.6s\n",
      "[CV] svr__gamma=2.1717484182350115, svr__kernel=rbf, svr__C=504.5626949008123 \n",
      "[CV]  svr__gamma=2.1717484182350115, svr__kernel=rbf, svr__C=504.5626949008123, total=   6.7s\n",
      "[CV] svr__gamma=2.1717484182350115, svr__kernel=rbf, svr__C=504.5626949008123 \n",
      "[CV]  svr__gamma=2.1717484182350115, svr__kernel=rbf, svr__C=504.5626949008123, total=   6.6s\n",
      "[CV] svr__gamma=0.2744672718461669, svr__kernel=rbf, svr__C=45.0254984233414 \n",
      "[CV]  svr__gamma=0.2744672718461669, svr__kernel=rbf, svr__C=45.0254984233414, total=   7.1s\n",
      "[CV] svr__gamma=0.2744672718461669, svr__kernel=rbf, svr__C=45.0254984233414 \n",
      "[CV]  svr__gamma=0.2744672718461669, svr__kernel=rbf, svr__C=45.0254984233414, total=   7.0s\n",
      "[CV] svr__gamma=0.2744672718461669, svr__kernel=rbf, svr__C=45.0254984233414 \n",
      "[CV]  svr__gamma=0.2744672718461669, svr__kernel=rbf, svr__C=45.0254984233414, total=   7.2s\n",
      "[CV] svr__gamma=0.2744672718461669, svr__kernel=rbf, svr__C=45.0254984233414 \n",
      "[CV]  svr__gamma=0.2744672718461669, svr__kernel=rbf, svr__C=45.0254984233414, total=   7.1s\n",
      "[CV] svr__gamma=0.2744672718461669, svr__kernel=rbf, svr__C=45.0254984233414 \n",
      "[CV]  svr__gamma=0.2744672718461669, svr__kernel=rbf, svr__C=45.0254984233414, total=   6.9s\n",
      "[CV] svr__gamma=1.0131561984919635, svr__kernel=rbf, svr__C=8346.202027413046 \n",
      "[CV]  svr__gamma=1.0131561984919635, svr__kernel=rbf, svr__C=8346.202027413046, total=   6.7s\n",
      "[CV] svr__gamma=1.0131561984919635, svr__kernel=rbf, svr__C=8346.202027413046 \n",
      "[CV]  svr__gamma=1.0131561984919635, svr__kernel=rbf, svr__C=8346.202027413046, total=   6.6s\n",
      "[CV] svr__gamma=1.0131561984919635, svr__kernel=rbf, svr__C=8346.202027413046 \n",
      "[CV]  svr__gamma=1.0131561984919635, svr__kernel=rbf, svr__C=8346.202027413046, total=   6.5s\n",
      "[CV] svr__gamma=1.0131561984919635, svr__kernel=rbf, svr__C=8346.202027413046 \n",
      "[CV]  svr__gamma=1.0131561984919635, svr__kernel=rbf, svr__C=8346.202027413046, total=   6.4s\n",
      "[CV] svr__gamma=1.0131561984919635, svr__kernel=rbf, svr__C=8346.202027413046 \n",
      "[CV]  svr__gamma=1.0131561984919635, svr__kernel=rbf, svr__C=8346.202027413046, total=   6.6s\n"
     ]
    },
    {
     "name": "stderr",
     "output_type": "stream",
     "text": [
      "[Parallel(n_jobs=1)]: Done 300 out of 300 | elapsed: 41.7min finished\n"
     ]
    },
    {
     "data": {
      "text/plain": [
       "RandomizedSearchCV(cv=5, error_score='raise',\n",
       "          estimator=Pipeline(memory=None,\n",
       "     steps=[('prepare', FeatureUnion(n_jobs=1,\n",
       "       transformer_list=[('num_pipe', Pipeline(memory=None,\n",
       "     steps=[('selector', DataFrameSelector(column_names=['longitude', 'latitude', 'housing_median_age', 'total_rooms', 'total_bedrooms', 'population', 'households', 'median_income'])), ('imputer', I... epsilon=0.1, gamma='auto',\n",
       "  kernel='rbf', max_iter=-1, shrinking=True, tol=0.001, verbose=False))]),\n",
       "          fit_params=None, iid=True, n_iter=60, n_jobs=1,\n",
       "          param_distributions={'svr__gamma': <scipy.stats._distn_infrastructure.rv_frozen object at 0x000001D2CDF8DA20>, 'svr__kernel': ['linear', 'rbf'], 'svr__C': <scipy.stats._distn_infrastructure.rv_frozen object at 0x000001D2CDF8DEF0>},\n",
       "          pre_dispatch='2*n_jobs', random_state=None, refit=True,\n",
       "          return_train_score='warn', scoring='neg_mean_squared_error',\n",
       "          verbose=2)"
      ]
     },
     "execution_count": 177,
     "metadata": {},
     "output_type": "execute_result"
    }
   ],
   "source": [
    "rand_grid.fit(housing, housing_labels)"
   ]
  },
  {
   "cell_type": "code",
   "execution_count": 178,
   "metadata": {},
   "outputs": [
    {
     "data": {
      "text/plain": [
       "56062.63312685442"
      ]
     },
     "execution_count": 178,
     "metadata": {},
     "output_type": "execute_result"
    }
   ],
   "source": [
    "np.sqrt(-rand_grid.best_score_)"
   ]
  },
  {
   "cell_type": "code",
   "execution_count": 179,
   "metadata": {},
   "outputs": [
    {
     "data": {
      "text/plain": [
       "{'svr__C': 77175.71468030468,\n",
       " 'svr__gamma': 4.288269105212363,\n",
       " 'svr__kernel': 'rbf'}"
      ]
     },
     "execution_count": 179,
     "metadata": {},
     "output_type": "execute_result"
    }
   ],
   "source": [
    "rand_grid.best_params_"
   ]
  },
  {
   "cell_type": "code",
   "execution_count": null,
   "metadata": {},
   "outputs": [],
   "source": []
  }
 ],
 "metadata": {
  "kernelspec": {
   "display_name": "Python [conda env:deep_learning]",
   "language": "python",
   "name": "conda-env-deep_learning-py"
  },
  "language_info": {
   "codemirror_mode": {
    "name": "ipython",
    "version": 3
   },
   "file_extension": ".py",
   "mimetype": "text/x-python",
   "name": "python",
   "nbconvert_exporter": "python",
   "pygments_lexer": "ipython3",
   "version": "3.5.5"
  }
 },
 "nbformat": 4,
 "nbformat_minor": 2
}
